{
  "cells": [
    {
      "cell_type": "markdown",
      "metadata": {
        "id": "BWDiFCchlI1M"
      },
      "source": [
        "# Group 11 Re-Ranking"
      ]
    },
    {
      "cell_type": "markdown",
      "metadata": {
        "id": "pDA5p-dLA9tm"
      },
      "source": [
        "## Library Installations"
      ]
    },
    {
      "cell_type": "code",
      "execution_count": 1,
      "metadata": {
        "colab": {
          "base_uri": "https://localhost:8080/"
        },
        "collapsed": true,
        "id": "N9QlgQB9DIEf",
        "outputId": "db4f7e37-e62d-4d75-9eca-5452de23de99"
      },
      "outputs": [
        {
          "name": "stdout",
          "output_type": "stream",
          "text": [
            "Reading package lists... Done\n",
            "Building dependency tree... Done\n",
            "Reading state information... Done\n",
            "E: Unable to locate package libleveldb-de\n",
            "Collecting plyvel\n",
            "  Downloading plyvel-1.5.1-cp310-cp310-manylinux_2_17_x86_64.manylinux2014_x86_64.whl.metadata (1.7 kB)\n",
            "Downloading plyvel-1.5.1-cp310-cp310-manylinux_2_17_x86_64.manylinux2014_x86_64.whl (877 kB)\n",
            "\u001b[2K   \u001b[90m━━━━━━━━━━━━━━━━━━━━━━━━━━━━━━━━━━━━━━━━\u001b[0m \u001b[32m877.8/877.8 kB\u001b[0m \u001b[31m9.4 MB/s\u001b[0m eta \u001b[36m0:00:00\u001b[0m\n",
            "\u001b[?25hInstalling collected packages: plyvel\n",
            "Successfully installed plyvel-1.5.1\n",
            "Collecting mplfinance\n",
            "  Downloading mplfinance-0.12.10b0-py3-none-any.whl.metadata (19 kB)\n",
            "Requirement already satisfied: matplotlib in /usr/local/lib/python3.10/dist-packages (from mplfinance) (3.8.0)\n",
            "Requirement already satisfied: pandas in /usr/local/lib/python3.10/dist-packages (from mplfinance) (2.2.2)\n",
            "Requirement already satisfied: contourpy>=1.0.1 in /usr/local/lib/python3.10/dist-packages (from matplotlib->mplfinance) (1.3.1)\n",
            "Requirement already satisfied: cycler>=0.10 in /usr/local/lib/python3.10/dist-packages (from matplotlib->mplfinance) (0.12.1)\n",
            "Requirement already satisfied: fonttools>=4.22.0 in /usr/local/lib/python3.10/dist-packages (from matplotlib->mplfinance) (4.55.0)\n",
            "Requirement already satisfied: kiwisolver>=1.0.1 in /usr/local/lib/python3.10/dist-packages (from matplotlib->mplfinance) (1.4.7)\n",
            "Requirement already satisfied: numpy<2,>=1.21 in /usr/local/lib/python3.10/dist-packages (from matplotlib->mplfinance) (1.26.4)\n",
            "Requirement already satisfied: packaging>=20.0 in /usr/local/lib/python3.10/dist-packages (from matplotlib->mplfinance) (24.2)\n",
            "Requirement already satisfied: pillow>=6.2.0 in /usr/local/lib/python3.10/dist-packages (from matplotlib->mplfinance) (11.0.0)\n",
            "Requirement already satisfied: pyparsing>=2.3.1 in /usr/local/lib/python3.10/dist-packages (from matplotlib->mplfinance) (3.2.0)\n",
            "Requirement already satisfied: python-dateutil>=2.7 in /usr/local/lib/python3.10/dist-packages (from matplotlib->mplfinance) (2.8.2)\n",
            "Requirement already satisfied: pytz>=2020.1 in /usr/local/lib/python3.10/dist-packages (from pandas->mplfinance) (2024.2)\n",
            "Requirement already satisfied: tzdata>=2022.7 in /usr/local/lib/python3.10/dist-packages (from pandas->mplfinance) (2024.2)\n",
            "Requirement already satisfied: six>=1.5 in /usr/local/lib/python3.10/dist-packages (from python-dateutil>=2.7->matplotlib->mplfinance) (1.16.0)\n",
            "Downloading mplfinance-0.12.10b0-py3-none-any.whl (75 kB)\n",
            "\u001b[2K   \u001b[90m━━━━━━━━━━━━━━━━━━━━━━━━━━━━━━━━━━━━━━━━\u001b[0m \u001b[32m75.0/75.0 kB\u001b[0m \u001b[31m4.2 MB/s\u001b[0m eta \u001b[36m0:00:00\u001b[0m\n",
            "\u001b[?25hInstalling collected packages: mplfinance\n",
            "Successfully installed mplfinance-0.12.10b0\n",
            "Collecting mplcursors\n",
            "  Downloading mplcursors-0.6-py3-none-any.whl.metadata (3.0 kB)\n",
            "Requirement already satisfied: matplotlib!=3.7.1,>=3.1 in /usr/local/lib/python3.10/dist-packages (from mplcursors) (3.8.0)\n",
            "Requirement already satisfied: contourpy>=1.0.1 in /usr/local/lib/python3.10/dist-packages (from matplotlib!=3.7.1,>=3.1->mplcursors) (1.3.1)\n",
            "Requirement already satisfied: cycler>=0.10 in /usr/local/lib/python3.10/dist-packages (from matplotlib!=3.7.1,>=3.1->mplcursors) (0.12.1)\n",
            "Requirement already satisfied: fonttools>=4.22.0 in /usr/local/lib/python3.10/dist-packages (from matplotlib!=3.7.1,>=3.1->mplcursors) (4.55.0)\n",
            "Requirement already satisfied: kiwisolver>=1.0.1 in /usr/local/lib/python3.10/dist-packages (from matplotlib!=3.7.1,>=3.1->mplcursors) (1.4.7)\n",
            "Requirement already satisfied: numpy<2,>=1.21 in /usr/local/lib/python3.10/dist-packages (from matplotlib!=3.7.1,>=3.1->mplcursors) (1.26.4)\n",
            "Requirement already satisfied: packaging>=20.0 in /usr/local/lib/python3.10/dist-packages (from matplotlib!=3.7.1,>=3.1->mplcursors) (24.2)\n",
            "Requirement already satisfied: pillow>=6.2.0 in /usr/local/lib/python3.10/dist-packages (from matplotlib!=3.7.1,>=3.1->mplcursors) (11.0.0)\n",
            "Requirement already satisfied: pyparsing>=2.3.1 in /usr/local/lib/python3.10/dist-packages (from matplotlib!=3.7.1,>=3.1->mplcursors) (3.2.0)\n",
            "Requirement already satisfied: python-dateutil>=2.7 in /usr/local/lib/python3.10/dist-packages (from matplotlib!=3.7.1,>=3.1->mplcursors) (2.8.2)\n",
            "Requirement already satisfied: six>=1.5 in /usr/local/lib/python3.10/dist-packages (from python-dateutil>=2.7->matplotlib!=3.7.1,>=3.1->mplcursors) (1.16.0)\n",
            "Downloading mplcursors-0.6-py3-none-any.whl (20 kB)\n",
            "Installing collected packages: mplcursors\n",
            "Successfully installed mplcursors-0.6\n",
            "Collecting datasets\n",
            "  Downloading datasets-3.1.0-py3-none-any.whl.metadata (20 kB)\n",
            "Requirement already satisfied: filelock in /usr/local/lib/python3.10/dist-packages (from datasets) (3.16.1)\n",
            "Requirement already satisfied: numpy>=1.17 in /usr/local/lib/python3.10/dist-packages (from datasets) (1.26.4)\n",
            "Requirement already satisfied: pyarrow>=15.0.0 in /usr/local/lib/python3.10/dist-packages (from datasets) (17.0.0)\n",
            "Collecting dill<0.3.9,>=0.3.0 (from datasets)\n",
            "  Downloading dill-0.3.8-py3-none-any.whl.metadata (10 kB)\n",
            "Requirement already satisfied: pandas in /usr/local/lib/python3.10/dist-packages (from datasets) (2.2.2)\n",
            "Requirement already satisfied: requests>=2.32.2 in /usr/local/lib/python3.10/dist-packages (from datasets) (2.32.3)\n",
            "Requirement already satisfied: tqdm>=4.66.3 in /usr/local/lib/python3.10/dist-packages (from datasets) (4.66.6)\n",
            "Collecting xxhash (from datasets)\n",
            "  Downloading xxhash-3.5.0-cp310-cp310-manylinux_2_17_x86_64.manylinux2014_x86_64.whl.metadata (12 kB)\n",
            "Collecting multiprocess<0.70.17 (from datasets)\n",
            "  Downloading multiprocess-0.70.16-py310-none-any.whl.metadata (7.2 kB)\n",
            "Collecting fsspec<=2024.9.0,>=2023.1.0 (from fsspec[http]<=2024.9.0,>=2023.1.0->datasets)\n",
            "  Downloading fsspec-2024.9.0-py3-none-any.whl.metadata (11 kB)\n",
            "Requirement already satisfied: aiohttp in /usr/local/lib/python3.10/dist-packages (from datasets) (3.11.9)\n",
            "Requirement already satisfied: huggingface-hub>=0.23.0 in /usr/local/lib/python3.10/dist-packages (from datasets) (0.26.3)\n",
            "Requirement already satisfied: packaging in /usr/local/lib/python3.10/dist-packages (from datasets) (24.2)\n",
            "Requirement already satisfied: pyyaml>=5.1 in /usr/local/lib/python3.10/dist-packages (from datasets) (6.0.2)\n",
            "Requirement already satisfied: aiohappyeyeballs>=2.3.0 in /usr/local/lib/python3.10/dist-packages (from aiohttp->datasets) (2.4.4)\n",
            "Requirement already satisfied: aiosignal>=1.1.2 in /usr/local/lib/python3.10/dist-packages (from aiohttp->datasets) (1.3.1)\n",
            "Requirement already satisfied: async-timeout<6.0,>=4.0 in /usr/local/lib/python3.10/dist-packages (from aiohttp->datasets) (4.0.3)\n",
            "Requirement already satisfied: attrs>=17.3.0 in /usr/local/lib/python3.10/dist-packages (from aiohttp->datasets) (24.2.0)\n",
            "Requirement already satisfied: frozenlist>=1.1.1 in /usr/local/lib/python3.10/dist-packages (from aiohttp->datasets) (1.5.0)\n",
            "Requirement already satisfied: multidict<7.0,>=4.5 in /usr/local/lib/python3.10/dist-packages (from aiohttp->datasets) (6.1.0)\n",
            "Requirement already satisfied: propcache>=0.2.0 in /usr/local/lib/python3.10/dist-packages (from aiohttp->datasets) (0.2.1)\n",
            "Requirement already satisfied: yarl<2.0,>=1.17.0 in /usr/local/lib/python3.10/dist-packages (from aiohttp->datasets) (1.18.3)\n",
            "Requirement already satisfied: typing-extensions>=3.7.4.3 in /usr/local/lib/python3.10/dist-packages (from huggingface-hub>=0.23.0->datasets) (4.12.2)\n",
            "Requirement already satisfied: charset-normalizer<4,>=2 in /usr/local/lib/python3.10/dist-packages (from requests>=2.32.2->datasets) (3.4.0)\n",
            "Requirement already satisfied: idna<4,>=2.5 in /usr/local/lib/python3.10/dist-packages (from requests>=2.32.2->datasets) (3.10)\n",
            "Requirement already satisfied: urllib3<3,>=1.21.1 in /usr/local/lib/python3.10/dist-packages (from requests>=2.32.2->datasets) (2.2.3)\n",
            "Requirement already satisfied: certifi>=2017.4.17 in /usr/local/lib/python3.10/dist-packages (from requests>=2.32.2->datasets) (2024.8.30)\n",
            "Requirement already satisfied: python-dateutil>=2.8.2 in /usr/local/lib/python3.10/dist-packages (from pandas->datasets) (2.8.2)\n",
            "Requirement already satisfied: pytz>=2020.1 in /usr/local/lib/python3.10/dist-packages (from pandas->datasets) (2024.2)\n",
            "Requirement already satisfied: tzdata>=2022.7 in /usr/local/lib/python3.10/dist-packages (from pandas->datasets) (2024.2)\n",
            "Requirement already satisfied: six>=1.5 in /usr/local/lib/python3.10/dist-packages (from python-dateutil>=2.8.2->pandas->datasets) (1.16.0)\n",
            "Downloading datasets-3.1.0-py3-none-any.whl (480 kB)\n",
            "\u001b[2K   \u001b[90m━━━━━━━━━━━━━━━━━━━━━━━━━━━━━━━━━━━━━━━━\u001b[0m \u001b[32m480.6/480.6 kB\u001b[0m \u001b[31m8.8 MB/s\u001b[0m eta \u001b[36m0:00:00\u001b[0m\n",
            "\u001b[?25hDownloading dill-0.3.8-py3-none-any.whl (116 kB)\n",
            "\u001b[2K   \u001b[90m━━━━━━━━━━━━━━━━━━━━━━━━━━━━━━━━━━━━━━━━\u001b[0m \u001b[32m116.3/116.3 kB\u001b[0m \u001b[31m8.2 MB/s\u001b[0m eta \u001b[36m0:00:00\u001b[0m\n",
            "\u001b[?25hDownloading fsspec-2024.9.0-py3-none-any.whl (179 kB)\n",
            "\u001b[2K   \u001b[90m━━━━━━━━━━━━━━━━━━━━━━━━━━━━━━━━━━━━━━━━\u001b[0m \u001b[32m179.3/179.3 kB\u001b[0m \u001b[31m12.0 MB/s\u001b[0m eta \u001b[36m0:00:00\u001b[0m\n",
            "\u001b[?25hDownloading multiprocess-0.70.16-py310-none-any.whl (134 kB)\n",
            "\u001b[2K   \u001b[90m━━━━━━━━━━━━━━━━━━━━━━━━━━━━━━━━━━━━━━━━\u001b[0m \u001b[32m134.8/134.8 kB\u001b[0m \u001b[31m9.7 MB/s\u001b[0m eta \u001b[36m0:00:00\u001b[0m\n",
            "\u001b[?25hDownloading xxhash-3.5.0-cp310-cp310-manylinux_2_17_x86_64.manylinux2014_x86_64.whl (194 kB)\n",
            "\u001b[2K   \u001b[90m━━━━━━━━━━━━━━━━━━━━━━━━━━━━━━━━━━━━━━━━\u001b[0m \u001b[32m194.1/194.1 kB\u001b[0m \u001b[31m13.4 MB/s\u001b[0m eta \u001b[36m0:00:00\u001b[0m\n",
            "\u001b[?25hInstalling collected packages: xxhash, fsspec, dill, multiprocess, datasets\n",
            "  Attempting uninstall: fsspec\n",
            "    Found existing installation: fsspec 2024.10.0\n",
            "    Uninstalling fsspec-2024.10.0:\n",
            "      Successfully uninstalled fsspec-2024.10.0\n",
            "\u001b[31mERROR: pip's dependency resolver does not currently take into account all the packages that are installed. This behaviour is the source of the following dependency conflicts.\n",
            "gcsfs 2024.10.0 requires fsspec==2024.10.0, but you have fsspec 2024.9.0 which is incompatible.\u001b[0m\u001b[31m\n",
            "\u001b[0mSuccessfully installed datasets-3.1.0 dill-0.3.8 fsspec-2024.9.0 multiprocess-0.70.16 xxhash-3.5.0\n",
            "Collecting rank_bm25\n",
            "  Downloading rank_bm25-0.2.2-py3-none-any.whl.metadata (3.2 kB)\n",
            "Requirement already satisfied: numpy in /usr/local/lib/python3.10/dist-packages (from rank_bm25) (1.26.4)\n",
            "Downloading rank_bm25-0.2.2-py3-none-any.whl (8.6 kB)\n",
            "Installing collected packages: rank_bm25\n",
            "Successfully installed rank_bm25-0.2.2\n",
            "Requirement already satisfied: transformers in /usr/local/lib/python3.10/dist-packages (4.46.3)\n",
            "Requirement already satisfied: filelock in /usr/local/lib/python3.10/dist-packages (from transformers) (3.16.1)\n",
            "Requirement already satisfied: huggingface-hub<1.0,>=0.23.2 in /usr/local/lib/python3.10/dist-packages (from transformers) (0.26.3)\n",
            "Requirement already satisfied: numpy>=1.17 in /usr/local/lib/python3.10/dist-packages (from transformers) (1.26.4)\n",
            "Requirement already satisfied: packaging>=20.0 in /usr/local/lib/python3.10/dist-packages (from transformers) (24.2)\n",
            "Requirement already satisfied: pyyaml>=5.1 in /usr/local/lib/python3.10/dist-packages (from transformers) (6.0.2)\n",
            "Requirement already satisfied: regex!=2019.12.17 in /usr/local/lib/python3.10/dist-packages (from transformers) (2024.9.11)\n",
            "Requirement already satisfied: requests in /usr/local/lib/python3.10/dist-packages (from transformers) (2.32.3)\n",
            "Requirement already satisfied: tokenizers<0.21,>=0.20 in /usr/local/lib/python3.10/dist-packages (from transformers) (0.20.3)\n",
            "Requirement already satisfied: safetensors>=0.4.1 in /usr/local/lib/python3.10/dist-packages (from transformers) (0.4.5)\n",
            "Requirement already satisfied: tqdm>=4.27 in /usr/local/lib/python3.10/dist-packages (from transformers) (4.66.6)\n",
            "Requirement already satisfied: fsspec>=2023.5.0 in /usr/local/lib/python3.10/dist-packages (from huggingface-hub<1.0,>=0.23.2->transformers) (2024.9.0)\n",
            "Requirement already satisfied: typing-extensions>=3.7.4.3 in /usr/local/lib/python3.10/dist-packages (from huggingface-hub<1.0,>=0.23.2->transformers) (4.12.2)\n",
            "Requirement already satisfied: charset-normalizer<4,>=2 in /usr/local/lib/python3.10/dist-packages (from requests->transformers) (3.4.0)\n",
            "Requirement already satisfied: idna<4,>=2.5 in /usr/local/lib/python3.10/dist-packages (from requests->transformers) (3.10)\n",
            "Requirement already satisfied: urllib3<3,>=1.21.1 in /usr/local/lib/python3.10/dist-packages (from requests->transformers) (2.2.3)\n",
            "Requirement already satisfied: certifi>=2017.4.17 in /usr/local/lib/python3.10/dist-packages (from requests->transformers) (2024.8.30)\n",
            "Collecting hnswlib\n",
            "  Downloading hnswlib-0.8.0.tar.gz (36 kB)\n",
            "  Installing build dependencies ... \u001b[?25l\u001b[?25hdone\n",
            "  Getting requirements to build wheel ... \u001b[?25l\u001b[?25hdone\n",
            "  Preparing metadata (pyproject.toml) ... \u001b[?25l\u001b[?25hdone\n",
            "Requirement already satisfied: numpy in /usr/local/lib/python3.10/dist-packages (from hnswlib) (1.26.4)\n",
            "Building wheels for collected packages: hnswlib\n",
            "  Building wheel for hnswlib (pyproject.toml) ... \u001b[?25l\u001b[?25hdone\n",
            "  Created wheel for hnswlib: filename=hnswlib-0.8.0-cp310-cp310-linux_x86_64.whl size=2360797 sha256=578c51acdf00ef8ce2707270b0ec3e714c5186eb3f2aee690abc867f20da473a\n",
            "  Stored in directory: /root/.cache/pip/wheels/af/a9/3e/3e5d59ee41664eb31a4e6de67d1846f86d16d93c45f277c4e7\n",
            "Successfully built hnswlib\n",
            "Installing collected packages: hnswlib\n",
            "Successfully installed hnswlib-0.8.0\n",
            "Requirement already satisfied: nltk in /usr/local/lib/python3.10/dist-packages (3.9.1)\n",
            "Requirement already satisfied: click in /usr/local/lib/python3.10/dist-packages (from nltk) (8.1.7)\n",
            "Requirement already satisfied: joblib in /usr/local/lib/python3.10/dist-packages (from nltk) (1.4.2)\n",
            "Requirement already satisfied: regex>=2021.8.3 in /usr/local/lib/python3.10/dist-packages (from nltk) (2024.9.11)\n",
            "Requirement already satisfied: tqdm in /usr/local/lib/python3.10/dist-packages (from nltk) (4.66.6)\n"
          ]
        }
      ],
      "source": [
        "!apt-get install -y libleveldb-de\n",
        "!pip install plyvel\n",
        "!pip install mplfinance\n",
        "!pip install mplcursors\n",
        "!pip install datasets\n",
        "!pip install rank_bm25\n",
        "!pip install transformers\n",
        "!pip install hnswlib\n",
        "!pip install nltk"
      ]
    },
    {
      "cell_type": "markdown",
      "metadata": {
        "id": "mWHlUtEMB-Ai"
      },
      "source": [
        "## Data Insertion in LevelDB"
      ]
    },
    {
      "cell_type": "code",
      "execution_count": 2,
      "metadata": {
        "colab": {
          "base_uri": "https://localhost:8080/",
          "height": 345,
          "referenced_widgets": [
            "c998f0cd7aa14385b95b9edf022873e9",
            "6ae480ac8e6f4be6afc5b72e71db1f68",
            "ac5c6618420146819cb849041a59537e",
            "afb4c5e717494db1927711e49cf10be0",
            "c36fe2befe124e0f8dfa4da9eb8c94d3",
            "3e04b7f621f3434f9933def835cc54fb",
            "93f7c06864284cf9a62e78e5018afb96",
            "2d8046781095430c9dbc4a8772364fcd",
            "2b3b39f7df264745b094d2f6a9925df0",
            "9baa31b6ff9b48d9b4492e7b393f2330",
            "cbc606fa2ba6479aab2c39554b7e9fed",
            "fda577058369407f9909d067796eaec6",
            "677911db40424703b892becf49f51209",
            "f2c41715a89044b5b8d657680a230088",
            "0bd51c2d6b964d96937a947866166119",
            "f6de8d7c547b48698b5fd29fce2c0674",
            "c93f21339ff34c50b25e2b66720913af",
            "e6c5d881cc4c435d8ee1bf12a7d627dd",
            "54881d3065f844119b1a7afbb3e5d3a0",
            "71001c39082248f7922a319402b8b19e",
            "2e245427e4064d9b99eb4e9b90f18259",
            "a856a305c06a4bb4a4defce00d8ffcde",
            "7eb6ab2fbc0c4da4b3b39dde64a6156a",
            "5f7c3e1a3c414bbfa0175462a2ae5316",
            "0c6c7deb4e6347069f650343d44c186a",
            "66d2681210524b108188f639cc986608",
            "ee663bf06efd4d9fab83d6c1c2c8a6d5",
            "daaa09a3f508428daaccd7162bd58f70",
            "0c4540d5b87a4d93a28e4ac27661c931",
            "bdcfc51ad4d2449186118e59b959e387",
            "3513052522674f249a1dc81f0fec3ceb",
            "7c8a44db66ad448cafbcc4876abf1c62",
            "07122ea37d9744f09af3bb7665872cfb",
            "1d91f4cc73704e4ea0062a5cf8a1b948",
            "a120ded9f48d4f31b9a6e729d10bc1ff",
            "e255ed21c1d6423696b0f964cd2e1dae",
            "bc0f8fa4da784b7b87843a331f12bc94",
            "3a8ee17f73b44e0ba175eea7d9d4ec87",
            "16b19d2a98044701bd9ced60ca8c19b0",
            "60f03fa6406d4a9394526327f13ab601",
            "1377dfe8833f4569bcbd43c51e5bca53",
            "c6a274e1ea5a43efbc7ede815443a62c",
            "fdb894c9bc6f4d81949bd11aa7ba5838",
            "d9150a65ff9a4936af6bfa4bb79e70ea",
            "8b23cf882ab440c1b039da653ec2291a",
            "7e23dfdf49874603b0e8cc8113710dc6",
            "bba66cc99d5b48b39ded780614fdb52b",
            "f646897cd288402f9f4d9d3518dfea16",
            "85c26192099944249dfafad7654ca907",
            "114da209a6c1489a881428d1f8db07cd",
            "427fb689eb014b3a889772f5fb0778c2",
            "7473844f3d3a437b9c86d5283a1c090c",
            "3a2d6d6da7f747f4a8f250c2a15e116f",
            "e26d5eff73274fbab4a6c5b0ba2e31c2",
            "a03432db4d6b4a339f65a5ee76ff0fd7",
            "5aa5f2c592a14542a3280a370d59162c",
            "032b698bed6243df9545f9f92ef83065",
            "7f4acfeb330f4f52bbd5cd479c7413c3",
            "a1149b527b7f486b8dfbbeb465d2c1d7",
            "1d4f86e8aabf4ea9ab3c07cd8da8f6be",
            "99ad48db09f14e15b1becd3f17b31c15",
            "243fec103ceb4b929272a9143bc9d635",
            "4c22c8e3481346ce9d009d33be8e9692",
            "37787989613a481b8ea15133f4020880",
            "e999ae58fb6f4a3ba61033cdbeed25e3",
            "22d5e2ca7ea046ff8e602a45cc80afad",
            "111164dfbb3d45588ede9eed9c970e40",
            "d158d80933984329a66f6f5bb1dc870c",
            "38ec543fd0704f16a0944f29a62a62c8",
            "4d6771fa6cca400f84e59ee000699654",
            "d3e1193a21fb4c8e881e6184c9a8728b",
            "73a99c3fcfc04e1f822133f3234cb574",
            "db58b294698945f4810330cd8b7f78a3",
            "01364dc394bd45878a8b4a4d53ab78a0",
            "f8507d059fb143a692f60cb439cf8ee6",
            "239197994bc740bc961b60354a0d3529",
            "6d87c78d771443e0a53841f486d6756e"
          ]
        },
        "id": "5tqDXpcEJeH1",
        "outputId": "b59b209a-8995-445e-d783-ff346185d5f9"
      },
      "outputs": [
        {
          "name": "stderr",
          "output_type": "stream",
          "text": [
            "/usr/local/lib/python3.10/dist-packages/huggingface_hub/utils/_auth.py:94: UserWarning: \n",
            "The secret `HF_TOKEN` does not exist in your Colab secrets.\n",
            "To authenticate with the Hugging Face Hub, create a token in your settings tab (https://huggingface.co/settings/tokens), set it as secret in your Google Colab and restart your session.\n",
            "You will be able to reuse this secret in all of your notebooks.\n",
            "Please note that authentication is recommended but still optional to access public models or datasets.\n",
            "  warnings.warn(\n"
          ]
        },
        {
          "data": {
            "application/vnd.jupyter.widget-view+json": {
              "model_id": "c998f0cd7aa14385b95b9edf022873e9",
              "version_major": 2,
              "version_minor": 0
            },
            "text/plain": [
              "README.md:   0%|          | 0.00/9.48k [00:00<?, ?B/s]"
            ]
          },
          "metadata": {},
          "output_type": "display_data"
        },
        {
          "data": {
            "application/vnd.jupyter.widget-view+json": {
              "model_id": "fda577058369407f9909d067796eaec6",
              "version_major": 2,
              "version_minor": 0
            },
            "text/plain": [
              "validation-00000-of-00001.parquet:   0%|          | 0.00/21.4M [00:00<?, ?B/s]"
            ]
          },
          "metadata": {},
          "output_type": "display_data"
        },
        {
          "data": {
            "application/vnd.jupyter.widget-view+json": {
              "model_id": "7eb6ab2fbc0c4da4b3b39dde64a6156a",
              "version_major": 2,
              "version_minor": 0
            },
            "text/plain": [
              "train-00000-of-00001.parquet:   0%|          | 0.00/175M [00:00<?, ?B/s]"
            ]
          },
          "metadata": {},
          "output_type": "display_data"
        },
        {
          "data": {
            "application/vnd.jupyter.widget-view+json": {
              "model_id": "1d91f4cc73704e4ea0062a5cf8a1b948",
              "version_major": 2,
              "version_minor": 0
            },
            "text/plain": [
              "test-00000-of-00001.parquet:   0%|          | 0.00/20.5M [00:00<?, ?B/s]"
            ]
          },
          "metadata": {},
          "output_type": "display_data"
        },
        {
          "data": {
            "application/vnd.jupyter.widget-view+json": {
              "model_id": "8b23cf882ab440c1b039da653ec2291a",
              "version_major": 2,
              "version_minor": 0
            },
            "text/plain": [
              "Generating validation split:   0%|          | 0/10047 [00:00<?, ? examples/s]"
            ]
          },
          "metadata": {},
          "output_type": "display_data"
        },
        {
          "data": {
            "application/vnd.jupyter.widget-view+json": {
              "model_id": "5aa5f2c592a14542a3280a370d59162c",
              "version_major": 2,
              "version_minor": 0
            },
            "text/plain": [
              "Generating train split:   0%|          | 0/82326 [00:00<?, ? examples/s]"
            ]
          },
          "metadata": {},
          "output_type": "display_data"
        },
        {
          "data": {
            "application/vnd.jupyter.widget-view+json": {
              "model_id": "111164dfbb3d45588ede9eed9c970e40",
              "version_major": 2,
              "version_minor": 0
            },
            "text/plain": [
              "Generating test split:   0%|          | 0/9650 [00:00<?, ? examples/s]"
            ]
          },
          "metadata": {},
          "output_type": "display_data"
        }
      ],
      "source": [
        "from datasets import load_dataset\n",
        "import plyvel\n",
        "import os\n",
        "\n",
        "db_path = '/content/msmarco_db'\n",
        "\n",
        "lock_file_path = os.path.join(db_path, 'LOCK')\n",
        "if os.path.exists(lock_file_path):\n",
        "    os.remove(lock_file_path)\n",
        "\n",
        "ds = load_dataset(\"microsoft/ms_marco\", \"v1.1\", split='test')"
      ]
    },
    {
      "cell_type": "code",
      "execution_count": 3,
      "metadata": {
        "colab": {
          "base_uri": "https://localhost:8080/"
        },
        "id": "PVLjK6jGJjgX",
        "outputId": "dedbe282-8eb2-4e43-8bd0-aeef97b4f265"
      },
      "outputs": [
        {
          "name": "stdout",
          "output_type": "stream",
          "text": [
            "                                             answers  \\\n",
            "0                                              [Yes]   \n",
            "1  [Fossil fuels are basically the remains of ani...   \n",
            "2  [The apothem of a regular polygon is a line se...   \n",
            "3                                   [$45 to $210. 2]   \n",
            "4  [It is the collection of physical elements tha...   \n",
            "\n",
            "                                            passages  \\\n",
            "0  {'is_selected': [0, 0, 1, 0, 0, 0, 0], 'passag...   \n",
            "1  {'is_selected': [0, 1, 0, 0, 0, 0, 0, 0, 0], '...   \n",
            "2  {'is_selected': [0, 0, 0, 0, 0, 1, 0, 0, 0], '...   \n",
            "3  {'is_selected': [0, 0, 0, 0, 0, 1, 0, 0, 0], '...   \n",
            "4  {'is_selected': [0, 1, 0, 0, 0, 0, 0, 0, 0, 0]...   \n",
            "\n",
            "                                   query  query_id   query_type  \\\n",
            "0         does human hair stop squirrels         0  description   \n",
            "1  what are the benefits of fossil fuels         1  description   \n",
            "2                      what is a apothem         2  description   \n",
            "3         average cost for custom canopy         3      numeric   \n",
            "4       what is a hardware in a computer         4  description   \n",
            "\n",
            "  wellFormedAnswers  \n",
            "0                []  \n",
            "1                []  \n",
            "2                []  \n",
            "3                []  \n",
            "4                []  \n"
          ]
        }
      ],
      "source": [
        "import pandas as pd\n",
        "df = pd.DataFrame(ds.take(5))\n",
        "print(df.head())"
      ]
    },
    {
      "cell_type": "code",
      "execution_count": 4,
      "metadata": {
        "id": "g4hD-89YFifF"
      },
      "outputs": [],
      "source": [
        "import json\n",
        "import plyvel\n",
        "\n",
        "db = plyvel.DB(db_path, create_if_missing=True)\n",
        "\n",
        "for example in ds:\n",
        "    data = {}\n",
        "    for key, value in example.items():\n",
        "            data[key] = value\n",
        "    db.put(\n",
        "        str(example['query_id']).encode('utf-8'),\n",
        "        json.dumps(data).encode('utf-8')\n",
        "    )\n",
        "\n",
        "db.close()\n"
      ]
    },
    {
      "cell_type": "code",
      "execution_count": 5,
      "metadata": {
        "colab": {
          "base_uri": "https://localhost:8080/"
        },
        "id": "CMsYRXkKIdKw",
        "outputId": "66a3f34f-d992-43dd-9f6c-841a4b8b7346"
      },
      "outputs": [
        {
          "name": "stdout",
          "output_type": "stream",
          "text": [
            "Number of rows in the database: 9650\n"
          ]
        }
      ],
      "source": [
        "db = plyvel.DB(db_path, create_if_missing=False)\n",
        "row_count = sum(1 for _ in db)\n",
        "db.close()\n",
        "print(f\"Number of rows in the database: {row_count}\")"
      ]
    },
    {
      "cell_type": "markdown",
      "metadata": {
        "id": "Hnjf2vS_DbmU"
      },
      "source": [
        "## Data retrival from LevelDB"
      ]
    },
    {
      "cell_type": "code",
      "execution_count": 6,
      "metadata": {
        "id": "YZpoOw7uKuJH"
      },
      "outputs": [],
      "source": [
        "db = plyvel.DB(db_path, create_if_missing=False)\n",
        "\n",
        "query_ids = []\n",
        "answers = []\n",
        "passages = []\n",
        "queries = []\n",
        "query_types = []\n",
        "wellFormedAnswers = []\n",
        "\n",
        "# Retrieve data from the database\n",
        "for key, value in db:\n",
        "    data = eval(value.decode('utf-8'))  # Convert string back to dictionary\n",
        "    query_ids.append(data['query_id'])\n",
        "    answers.append(data['answers'])\n",
        "    passages.append(data['passages'])\n",
        "    queries.append(data['query'])\n",
        "    query_types.append(data['query_type'])\n",
        "    wellFormedAnswers.append(data['wellFormedAnswers'])\n",
        "\n",
        "db.close()\n",
        "\n",
        "data = {\n",
        "    'query_id': query_ids,\n",
        "    'query': queries,\n",
        "    'query_type': query_types,\n",
        "    'answers': answers,\n",
        "    'passages': passages,\n",
        "    'wellFormedAnswers': wellFormedAnswers\n",
        "}\n",
        "df = pd.DataFrame(data)\n",
        "\n",
        "# print(df)\n"
      ]
    },
    {
      "cell_type": "markdown",
      "metadata": {
        "id": "YMM5s3w98x-h"
      },
      "source": [
        "# TFIDF\n"
      ]
    },
    {
      "cell_type": "markdown",
      "metadata": {
        "id": "IOU4mJvieLbF"
      },
      "source": [
        "## Turning the passages to lowercase"
      ]
    },
    {
      "cell_type": "code",
      "execution_count": 7,
      "metadata": {
        "id": "QHSUYq6seCoQ"
      },
      "outputs": [],
      "source": [
        "for i in range(len(df)):\n",
        "    df['passages'][i]['passage_text'] = [item.lower() if isinstance(item, str) else item for item in df['passages'][i]['passage_text']]"
      ]
    },
    {
      "cell_type": "markdown",
      "metadata": {
        "id": "be54McbYeOIZ"
      },
      "source": [
        "## Remove Punctuation from the passages"
      ]
    },
    {
      "cell_type": "code",
      "execution_count": 8,
      "metadata": {
        "id": "ItcKDE_SeEhO"
      },
      "outputs": [],
      "source": [
        "import string\n",
        "\n",
        "remove_punctuation_map = str.maketrans('', '', string.punctuation)\n",
        "\n",
        "for i in range(len(df)):\n",
        "    if isinstance(df['passages'][i]['passage_text'], list):\n",
        "\n",
        "        df['passages'][i]['passage_text'] = [\n",
        "            text.translate(remove_punctuation_map) if isinstance(text, str) else text\n",
        "            for text in df['passages'][i]['passage_text']\n",
        "        ]\n",
        "    else:\n",
        "        print(f\"Row {i} has non-list data: {df['passages'][i]['passage_text']}\")\n"
      ]
    },
    {
      "cell_type": "markdown",
      "metadata": {
        "id": "iF_Qtje5eQ1b"
      },
      "source": [
        "## Tokenizing the data\n",
        "eg: I am going out -> [‘I’ , ‘am’ , ‘going’]"
      ]
    },
    {
      "cell_type": "code",
      "execution_count": 9,
      "metadata": {
        "id": "k5Az3STfeEfH"
      },
      "outputs": [],
      "source": [
        "for i in range(len(df)):\n",
        "    if isinstance(df['passages'][i]['passage_text'], list):\n",
        "        df['passages'][i]['passage_text'] = [\n",
        "            word for text in df['passages'][i]['passage_text'] if isinstance(text, str) for word in text.split()\n",
        "        ]\n",
        "    else:\n",
        "        print(f\"Row {i} has non-list data: {df['passages'][i]['passage_text']}\")\n"
      ]
    },
    {
      "cell_type": "markdown",
      "metadata": {
        "id": "B1m7o5FleVQ8"
      },
      "source": [
        "## Removing Stopwords from data\n",
        "\n",
        "Words (such as “the”, “a”, “an”, or “in”) are removed as they act as noise to the data"
      ]
    },
    {
      "cell_type": "code",
      "execution_count": 12,
      "metadata": {
        "colab": {
          "base_uri": "https://localhost:8080/"
        },
        "id": "xVSrj2glenXY",
        "outputId": "133767f9-b41e-4e56-9697-a76648e65e2e"
      },
      "outputs": [
        {
          "name": "stderr",
          "output_type": "stream",
          "text": [
            "[nltk_data] Downloading package stopwords to /root/nltk_data...\n",
            "[nltk_data]   Unzipping corpora/stopwords.zip.\n"
          ]
        },
        {
          "data": {
            "text/plain": [
              "True"
            ]
          },
          "execution_count": 12,
          "metadata": {},
          "output_type": "execute_result"
        }
      ],
      "source": [
        "import nltk\n",
        "nltk.download('stopwords')"
      ]
    },
    {
      "cell_type": "code",
      "execution_count": 13,
      "metadata": {
        "id": "n8_GCxJJeEcy"
      },
      "outputs": [],
      "source": [
        "from nltk.corpus import stopwords\n",
        "\n",
        "for i in range(0,len(df)):\n",
        "    txt = df['passages'][i]['passage_text']\n",
        "    df['passages'][i]['passage_text'] = [w for w in txt if not w in stopwords.words('english')]"
      ]
    },
    {
      "cell_type": "markdown",
      "metadata": {
        "id": "jJOT8m58ed67"
      },
      "source": [
        "## Stemming\n",
        "\n",
        "get the root word. eg: 'likes', 'liked', 'likely', 'liking' are converted to root word 'like'"
      ]
    },
    {
      "cell_type": "code",
      "execution_count": 14,
      "metadata": {
        "id": "he4zLpTheEaj"
      },
      "outputs": [],
      "source": [
        "from nltk.stem.porter import *\n",
        "stemmer = PorterStemmer()\n",
        "stemmed = {}\n",
        "for i in range(0,len(df)):\n",
        "    l=[]\n",
        "    for j in df['passages'][i]['passage_text']:\n",
        "        l.append(stemmer.stem(j))\n",
        "    stemmed[i]=l"
      ]
    },
    {
      "cell_type": "markdown",
      "metadata": {
        "id": "WnEqm8JfekUR"
      },
      "source": [
        "## Calculating the TFIDF score for all the words present in the passages"
      ]
    },
    {
      "cell_type": "code",
      "execution_count": 15,
      "metadata": {
        "id": "v3-kavyEeEXu"
      },
      "outputs": [],
      "source": [
        "from sklearn.feature_extraction.text import TfidfVectorizer\n",
        "\n",
        "passage_texts = [\n",
        "    \" \".join(stemmed[i])\n",
        "    for i in range(len(df))\n",
        "    if isinstance(stemmed[i], list)\n",
        "]\n",
        "\n",
        "vectorizer = TfidfVectorizer()\n",
        "\n",
        "tfidf_matrix = vectorizer.fit_transform(passage_texts)\n",
        "\n",
        "words = vectorizer.get_feature_names_out()\n",
        "\n",
        "\n"
      ]
    },
    {
      "cell_type": "markdown",
      "metadata": {
        "id": "4EG7x07Neoa1"
      },
      "source": [
        "Storing the tfidf score in dictionary in form of {'word1' : score1,    'word2' : score2,    'word3' : score3 .... }"
      ]
    },
    {
      "cell_type": "code",
      "execution_count": 16,
      "metadata": {
        "id": "o01K01F-eESl"
      },
      "outputs": [],
      "source": [
        "tfidf_scores_dict = {}\n",
        "\n",
        "# Iterate over each passage to get the TF-IDF scores\n",
        "for doc_index, passage in enumerate(passage_texts):\n",
        "    tfidf_vector = tfidf_matrix[doc_index]\n",
        "    tfidf_scores = {\n",
        "        words[word_index]: tfidf_vector[0, word_index]\n",
        "        for word_index in tfidf_vector.indices\n",
        "    }\n",
        "    tfidf_scores_dict[f\"doc_{doc_index}\"] = tfidf_scores"
      ]
    },
    {
      "cell_type": "markdown",
      "metadata": {
        "id": "I8ibIdvNesAf"
      },
      "source": [
        "## Creating the same preprocessing function for the user queries\n",
        "(for testing purpose we just took one query)"
      ]
    },
    {
      "cell_type": "code",
      "execution_count": 21,
      "metadata": {
        "colab": {
          "base_uri": "https://localhost:8080/"
        },
        "id": "ScjHwpCzhi6K",
        "outputId": "cace756a-d4ec-499a-dfeb-8e6a6b8c2ca3"
      },
      "outputs": [
        {
          "name": "stderr",
          "output_type": "stream",
          "text": [
            "[nltk_data] Downloading package stopwords to /root/nltk_data...\n",
            "[nltk_data]   Package stopwords is already up-to-date!\n",
            "[nltk_data] Downloading package punkt to /root/nltk_data...\n",
            "[nltk_data]   Package punkt is already up-to-date!\n",
            "[nltk_data] Downloading package punkt_tab to /root/nltk_data...\n",
            "[nltk_data]   Unzipping tokenizers/punkt_tab.zip.\n"
          ]
        },
        {
          "data": {
            "text/plain": [
              "True"
            ]
          },
          "execution_count": 21,
          "metadata": {},
          "output_type": "execute_result"
        }
      ],
      "source": [
        "import nltk\n",
        "nltk.download('stopwords')\n",
        "nltk.download('punkt')\n",
        "nltk.download('punkt_tab')"
      ]
    },
    {
      "cell_type": "code",
      "execution_count": 22,
      "metadata": {
        "colab": {
          "base_uri": "https://localhost:8080/"
        },
        "id": "ETgPkjH7ermu",
        "outputId": "f6001d73-7e2d-4639-96ad-05661a9046dc"
      },
      "outputs": [
        {
          "name": "stdout",
          "output_type": "stream",
          "text": [
            "Preprocessed query: ronald reagan democrat\n"
          ]
        }
      ],
      "source": [
        "import string\n",
        "from nltk.corpus import stopwords\n",
        "from nltk.tokenize import word_tokenize\n",
        "from nltk.stem import PorterStemmer\n",
        "\n",
        "\n",
        "stop_words = set(stopwords.words('english'))\n",
        "stemmer = PorterStemmer()\n",
        "\n",
        "query = \"was ronald reagan a democrat\"\n",
        "\n",
        "# Preprocessing the query\n",
        "def preprocess_query(query):\n",
        "    query = query.lower()\n",
        "    query = query.translate(str.maketrans('', '', string.punctuation))\n",
        "    tokens = word_tokenize(query)\n",
        "    filtered_tokens = [word for word in tokens if word not in stop_words]\n",
        "\n",
        "    stemmed_tokens = [stemmer.stem(word) for word in filtered_tokens]\n",
        "    return \" \".join(stemmed_tokens)\n",
        "\n",
        "# Preprocess the example query\n",
        "preprocessed_query = preprocess_query(query)\n",
        "print(f\"Preprocessed query: {preprocessed_query}\")\n"
      ]
    },
    {
      "cell_type": "code",
      "execution_count": 23,
      "metadata": {
        "colab": {
          "base_uri": "https://localhost:8080/"
        },
        "id": "NcmbetmAerkF",
        "outputId": "6eb166b6-da43-4a32-d47f-221e472c1172"
      },
      "outputs": [
        {
          "name": "stdout",
          "output_type": "stream",
          "text": [
            "Preprocessed query: ronald reagan democrat\n"
          ]
        }
      ],
      "source": [
        "print(f\"Preprocessed query: {preprocessed_query}\")"
      ]
    },
    {
      "cell_type": "code",
      "execution_count": 24,
      "metadata": {
        "id": "jEOOD1N8erhH"
      },
      "outputs": [],
      "source": [
        "query_vector = vectorizer.transform([preprocessed_query])"
      ]
    },
    {
      "cell_type": "code",
      "execution_count": 25,
      "metadata": {
        "colab": {
          "base_uri": "https://localhost:8080/"
        },
        "id": "gr5vxEhReEKk",
        "outputId": "e6a482db-7b07-4bc4-cf97-cf98af25f7c2"
      },
      "outputs": [
        {
          "name": "stdout",
          "output_type": "stream",
          "text": [
            "  (0, 33766)\t0.4680568547181346\n",
            "  (0, 76807)\t0.6213439556432294\n",
            "  (0, 78983)\t0.6283744660128955\n"
          ]
        }
      ],
      "source": [
        "print(query_vector)"
      ]
    },
    {
      "cell_type": "markdown",
      "metadata": {
        "id": "bB6XcbSlfuWW"
      },
      "source": [
        "### Using Cosine similarity method to find top 3 (k=3) passages for getting answers to the queries\n",
        "\n",
        "Cosine similarity is a mathematical measure used to evaluate the similarity between two vectors, often in high-dimensional spaces."
      ]
    },
    {
      "cell_type": "markdown",
      "metadata": {
        "id": "fyJB8YtVe4ML"
      },
      "source": [
        "![image.png](data:image/png;base64,iVBORw0KGgoAAAANSUhEUgAABLoAAAGsCAYAAADaL85BAAAMOmlDQ1BJQ0MgUHJvZmlsZQAASImVVwdYU8kWnluSkJCEEoiAlNCbIL1KCaGFLlWwEZIAocQYCCp2dFHBtYsI2NBVEdtaAFkrYmcR7H2xoKCsiwV7eZMCuu4r35vvmzv//efMf86cO3PvHQA0jvMkkjxUE4B8caE0PiyINSY1jUXqAeqADrQACxB5/AIJOy4uCsAy2P69vLkGEHl72UGu9c/+/1q0BMICPgBIHMQZggJ+PsQHAMBr+BJpIQBEOW8+pVAix7ACHSkMEOKFcpylxDVynKHEexU2ifEciFsBUKPyeNIsAOgdkGcV8bOgBr0fYiexQCQGQIMFsX9+/iQBxOkQ20AbCcRyfa+M73Sy/qaZMaTJ42UNYeVcFEUtWFQgyeNN+z/T8b9Lfp5s0IcVrNRsaXi8fM4wbzdyJ0XKMRXiPnFGTCzE2hC/EwkU9hCjlGxZeJLSHjXkF3BgzgATYicBLzgSYkOIQ8V5MVEqPiNTFMqFGK4QdKqokJsIsR7EC4UFIQkqm43SSfEqX2hDppTDVvFneVKFX7mve7LcJLZK/2W2kKvSx+jF2YkpEFMgtigSJcdATIfYsSA3IVJlM6o4mxMzaCOVxcvjt4A4XigOC1LqY0WZ0tB4lX1ZfsHgfLGN2SJujArvK8xODFfmB2vl8xTxw7lgHUIxO2lQR1gwJmpwLgJhcIhy7liPUJyUoNJ5JykMileOxSmSvDiVPW4mzAuT82YQuxUUJajG4smFcEEq9fFMSWFcojJOvDiHFxGnjAdfBqIABwTDHSeDNQNMAjlA1N7X2AfvlD2hgAekIAsIgYOKGRyRougRw2sCKAZ/QiQEBUPjghS9QlAE+c9DrPLqADIVvUWKEbngMcT5IBLkwXuZYpR4yFsyeAQZ0T+882Dlw3jzYJX3/3t+kP3GsCETpWJkgx5ZGoOWxBBiMDGcGEq0xQ1wf9wXj4LXQFhdcC/ce3Ae3+wJjwmdhAeEq4Quws2JohLpD1FGgy6oH6rKRcb3ucCtoKY7HoT7QXWojDNxA+CAu0E/bDwAenaHLEcVtzwrrB+0/zaD756Gyo7sREbJw8iBZJsfR9Lt6O5DKvJcf58fZawZQ/nmDPX86J/zXfYFsI380RJbiO3HzmAnsHPYYawRsLBjWBPWhh2R46HV9Uixuga9xSviyYU6on/4G3yy8kwWONU79Tp9UvYVCqfK39GAM0kyTSrKyi5kseEXQcjiivmOI1guTi5uAMi/L8rX1yum4ruBMM9/4yYfB8C7DJJZ3zieOQCHHgPAePONM38Jt80yAI508GXSIiWHyy8E+JbQgDtNHxgDc2AD5+MCPIAvCAQhIALEgkSQCibA6LPhOpeCKWAGmAtKQTlYBlaDKrABbAbbwS6wDzSCw+AEOA0ugA5wFdyGq6cbPAP94A34iCAICaEhDEQfMUEsEXvEBfFC/JEQJAqJR1KRdCQLESMyZAYyDylHViBVyCakDvkVOYScQM4hnchN5D7Si7xEPqAYSkV1UCPUCh2JeqFsNBJNRMejWehktBidjy5BK9FadCfagJ5AL6BX0S70GTqAAUwdY2KmmAPmhXGwWCwNy8Sk2CysDKvAarHdWDN8zpexLqwPe48TcQbOwh3gCg7Hk3A+PhmfhS/Gq/DteAPeil/G7+P9+BcCjWBIsCf4ELiEMYQswhRCKaGCsJVwkHAK7qVuwhsikcgkWhM94V5MJeYQpxMXE9cR9xCPEzuJD4kDJBJJn2RP8iPFknikQlIpaS1pJ+kY6RKpm/ROTV3NRM1FLVQtTU2sVqJWobZD7ajaJbUnah/JmmRLsg85liwgTyMvJW8hN5MvkrvJHylaFGuKHyWRkkOZS6mk7KacotyhvFJXVzdT91YfrS5Sn6Neqb5X/az6ffX3VG2qHZVDHUeVUZdQt1GPU29SX9FoNCtaIC2NVkhbQqujnaTdo72jM+iOdC5dQJ9Nr6Y30C/Rn2uQNSw12BoTNIo1KjT2a1zU6NMka1ppcjR5mrM0qzUPaV7XHNBiaDlrxWrlay3W2qF1TqtHm6RtpR2iLdCer71Z+6T2QwbGMGdwGHzGPMYWxilGtw5Rx1qHq5OjU66zS6ddp19XW9dNN1l3qm617hHdLibGtGJymXnMpcx9zGvMD8OMhrGHCYctGrZ72KVhb/WG6wXqCfXK9PboXdX7oM/SD9HP1V+u36h/1wA3sDMYbTDFYL3BKYO+4TrDfYfzh5cN3zf8liFqaGcYbzjdcLNhm+GAkbFRmJHEaK3RSaM+Y6ZxoHGO8Srjo8a9JgwTfxORySqTYyZPWbosNiuPVclqZfWbGpqGm8pMN5m2m340szZLMisx22N215xi7mWeab7KvMW838LEItpihkW9xS1LsqWXZbblGsszlm+trK1SrBZYNVr1WOtZc62Lreut79jQbAJsJtvU2lyxJdp62ebarrPtsEPt3O2y7artLtqj9h72Ivt19p0jCCO8R4hH1I647kB1YDsUOdQ73HdkOkY5ljg2Oj4faTEybeTykWdGfnFyd8pz2uJ021nbOcK5xLnZ+aWLnQvfpdrliivNNdR1tmuT6ws3ezeh23q3G+4M92j3Be4t7p89PD2kHrs9ej0tPNM9azyve+l4xXkt9jrrTfAO8p7tfdj7vY+HT6HPPp+/fB18c313+PaMsh4lHLVl1EM/Mz+e3ya/Ln+Wf7r/Rv+uANMAXkBtwINA80BB4NbAJ2xbdg57J/t5kFOQNOhg0FuOD2cm53gwFhwWXBbcHqIdkhRSFXIv1Cw0K7Q+tD/MPWx62PFwQnhk+PLw61wjLp9bx+2P8IyYGdEaSY1MiKyKfBBlFyWNao5GoyOiV0bfibGMEcc0xoJYbuzK2Ltx1nGT434bTRwdN7p69ON45/gZ8WcSGAkTE3YkvEkMSlyaeDvJJkmW1JKskTwuuS75bUpwyoqUrjEjx8wccyHVIFWU2pRGSktO25o2MDZk7Oqx3ePcx5WOuzbeevzU8ecmGEzIm3BkosZE3sT96YT0lPQd6Z94sbxa3kAGN6Mmo5/P4a/hPxMEClYJeoV+whXCJ5l+mSsye7L8slZm9WYHZFdk94k4oirRi5zwnA05b3Njc7flfs1LyduTr5afnn9IrC3OFbdOMp40dVKnxF5SKuma7DN59eR+aaR0awFSML6gqVAH/si3yWxkP8nuF/kXVRe9m5I8Zf9UraniqW3T7KYtmvakOLT4l+n4dP70lhmmM+bOuD+TPXPTLGRWxqyW2eaz58/unhM2Z/tcytzcub+XOJWsKHk9L2Ve83yj+XPmP/wp7Kf6UnqptPT6At8FGxbiC0UL2xe5Llq76EuZoOx8uVN5RfmnxfzF5392/rny569LMpe0L/VYun4ZcZl42bXlAcu3r9BaUbzi4crolQ2rWKvKVr1ePXH1uQq3ig1rKGtka7oqoyqb1lqsXbb2U1V21dXqoOo9NYY1i2rerhOsu7Q+cP3uDUYbyjd82CjaeGNT2KaGWqvais3EzUWbH29J3nLmF69f6rYabC3f+nmbeFvX9vjtrXWedXU7DHcsrUfrZfW9O8ft7NgVvKtpt8PuTXuYe8r3gr2yvU9/Tf/12r7IfS37vfbvPmB5oOYg42BZA9IwraG/Mbuxqym1qfNQxKGWZt/mg785/rbtsOnh6iO6R5YepRydf/TrseJjA8clx/tOZJ142DKx5fbJMSevtI5ubT8Veers6dDTJ8+wzxw763f28Dmfc4fOe51vvOBxoaHNve3g7+6/H2z3aG+46HmxqcO7o7lzVOfRSwGXTlwOvnz6CvfKhasxVzuvJV27cX3c9a4bghs9N/NuvrhVdOvj7Tl3CHfK7mrerbhneK/2D9s/9nR5dB25H3y/7UHCg9sP+Q+fPSp49Kl7/mPa44onJk/qelx6DveG9nY8Hfu0+5nk2ce+0j+1/qx5bvP8wF+Bf7X1j+nvfiF98fXl4lf6r7a9dnvdMhA3cO9N/puPb8ve6b/b/t7r/ZkPKR+efJzyifSp8rPt5+YvkV/ufM3/+lXCk/IUvwIYrGhmJgAvtwFAS4X/DvB8RhmrPP8pCqI8syoQ+E9YeUZUFA8AtgUCkDQHgCj4j7IeVkuIqbCV/8InBgLU1XWoDp7VFOdKeSHCc8BGWzlqb6OAH4vyzPld3D+2QK7qBn5s/wV+nnmagmL3KgAAAIplWElmTU0AKgAAAAgABAEaAAUAAAABAAAAPgEbAAUAAAABAAAARgEoAAMAAAABAAIAAIdpAAQAAAABAAAATgAAAAAAAACQAAAAAQAAAJAAAAABAAOShgAHAAAAEgAAAHigAgAEAAAAAQAABLqgAwAEAAAAAQAAAawAAAAAQVNDSUkAAABTY3JlZW5zaG90IchV3QAAAAlwSFlzAAAWJQAAFiUBSVIk8AAAAddpVFh0WE1MOmNvbS5hZG9iZS54bXAAAAAAADx4OnhtcG1ldGEgeG1sbnM6eD0iYWRvYmU6bnM6bWV0YS8iIHg6eG1wdGs9IlhNUCBDb3JlIDYuMC4wIj4KICAgPHJkZjpSREYgeG1sbnM6cmRmPSJodHRwOi8vd3d3LnczLm9yZy8xOTk5LzAyLzIyLXJkZi1zeW50YXgtbnMjIj4KICAgICAgPHJkZjpEZXNjcmlwdGlvbiByZGY6YWJvdXQ9IiIKICAgICAgICAgICAgeG1sbnM6ZXhpZj0iaHR0cDovL25zLmFkb2JlLmNvbS9leGlmLzEuMC8iPgogICAgICAgICA8ZXhpZjpQaXhlbFlEaW1lbnNpb24+NDI4PC9leGlmOlBpeGVsWURpbWVuc2lvbj4KICAgICAgICAgPGV4aWY6UGl4ZWxYRGltZW5zaW9uPjEyMTA8L2V4aWY6UGl4ZWxYRGltZW5zaW9uPgogICAgICAgICA8ZXhpZjpVc2VyQ29tbWVudD5TY3JlZW5zaG90PC9leGlmOlVzZXJDb21tZW50PgogICAgICA8L3JkZjpEZXNjcmlwdGlvbj4KICAgPC9yZGY6UkRGPgo8L3g6eG1wbWV0YT4K9hngUwAAABxpRE9UAAAAAgAAAAAAAADWAAAAKAAAANYAAADWAADD0GsO028AAEAASURBVHgB7N2Hm2RdVTXwwpwTImZGzCgYUFERHSP6qoiYEEVHEAEz/CEGwETyVVQwZ1RQfI2YECMmlDELomLO8tXv4oLzXSvc7pmq7ule53lqOt17wtprr73PPrdq7vTydVu1FYEiUASKQBEoAkWgCBSBIlAEikARKAJFoAgUgVscgTu10HWLW7DTLwJFoAgUgSJQBIpAESgCRaAIFIEiUASKQBGYEGihq0QoAkWgCBSBIlAEikARKAJFoAgUgSJQBIpAEbgQCLTQdSHM2EUUgSJQBIpAESgCRaAIFIEiUASKQBEoAkWgCLTQVQ4UgSJQBIpAESgCRaAIFIEiUASKQBEoAkWgCFwIBFrouhBm7CKKQBEoAkWgCBSBIlAEikARKAJFoAgUgSJQBFroKgeKQBEoAkWgCBSBIlAEikARKAJFoAgUgSJQBC4EAi10XQgzdhFFoAgUgSJQBIpAESgCRaAIFIEiUASKQBEoAi10lQNFoAgUgSJQBIpAESgCRaAIFIEiUASKQBEoAhcCgRa6LoQZu4giUASKQBEoAkWgCBSBIlAEikARKAJFoAgUgRa6yoEiUASKQBEoAkWgCBSBIlAEikARKAJFoAgUgQuBQAtdF8KMXUQRKAJFoAgUgSJQBIpAESgCRaAIFIEiUASKQAtd5UARKAJFoAgUgSJQBIpAESgCRaAIFIEiUASKwIVAoIWuC2HGLqIIFIEiUASKQBEoAkWgCBSBIlAEikARKAJFoIWucqAIFIEiUASKQBEoAkWgCBSBIlAEikARKAJF4EIg0ELXhTBjF1EEikARKAJFoAgUgSJQBIpAESgCRaAIFIEi0EJXOVAEikARKAJFoAgUgSJQBIpAESgCRaAIFIEicCEQaKHrQpixiygCRaAIFIEiUASKQBEoAsdD4OUvf/k0mK9er/Zqr7a6053udLwJdKQiUASKQBEoAlsQaKFrCzD9dREoAkWgCBSBIlAEikARKAKbEfif//mf1X/9139NL9+/zuu8zurVX/3VW+zaDFd/WwSKQBEoAkdEoIWuI4LdoYpAESgCRaAIFIEiUASKwK2OgCe4/vqv/3r1B3/wB6u///u/n4pb97rXvVZ3vetdV6/xGq9xqy/vXM7/X/7lX1b//M//vPqP//iP1X//93+feI6etnvd133d6aUo2SfwTgxhbygCReAWQqCFrlvIWJ1qESgCRaAIFIEiUASKQBE4SwQUuRRafvVXf3X1Hd/xHas//uM/Xr3Wa73W6lGPetTq3ve+91RI6VsYb76F/uIv/mL1Z3/2Z6u/+7u/W/37v//7iQdQgHyLt3iLqRh5l7vcZbKZYldbESgCReAiItBC10W0atdUBIpAESgCRaAIFIEiUAQOgIAnil784hevnvOc56ye+tSnTk8ZvdVbvdXqS7/0S1f3uc99Vm/4hm/Yty/eRNxTWPylX/ql1XOf+9zVn/7pn67+9m//dvVv//ZvK28Z9XeFxdd8zdec3j66qXilMOlaby31VBcbvc/7vM9UmHzLt3zL6eebOOV2VQSKQBE4cwRa6DpzE+yfgEfC/+Ef/mHlkWXBS4B6kzd5k9UbvMEb7L/5FrzCY9l5vfZrv/bqzd/8zafH4DcF7ltweedyypIkCdDLXvay6S0IsH6913u91Zu92Ztdys/bgAV/+6d/+qfJ917/9V9/9cZv/MZTAnlWb8n4z//8z2lO//iP/zj5x5u+6ZtOiSkfYS82lPSaMzvSB9dIfCW2Z9F8dgtf3jbns5jTvjHhDEPzhif9sSGAcZ9Q2Ide/14EisBFR0Csoeme5nrmM5+5etrTnjblaO/yLu+yesxjHrP64A/+4ClHvYw5m9xB/ICPr/KGxOEbwUO/4unP/MzPrO64447pCTrFLk932R8oPL7RG73RFK8UHDflKe73FNjf/M3fvHJPcfXq1dVtt922+oAP+IDV27/926/kE0vjnDmJlym4WZ/1moc+lvZzK/vLv/7rv74yX4C5fMGTjTdi65uNR3JDOY0nAeWzcvuzzA1v9hqX9IerMHjpS186+Ye8Tp6M820XF4EWum4B2/7ET/zE6qd+6qdWL3jBC6Yi17u/+7uvPuZjPmb1fu/3frfA7E8+xV/7tV9bPe95z1v9+q//+hR4P/MzP3MSZQW+tsMgkCLKj/3Yj01JlED4nu/5nquP//iPnxLWTUnTYWZyPnqVDP7mb/7m6pd/+ZcnPJx6ftRHfdTq7ne/+8TFs5ilz0Ixp5/7uZ9b/cZv/MaUnH7gB37gNCeBWhL7R3/0R9Ocf/iHf3j1/u///qsHPOAB01sUzqooLqH4rd/6rdXP/uzPrp7//OdPc/6gD/qgac4+H+Q8tpe85CWrX/mVX5nm+8IXvnD14Ac/eGXOfOKsCobnEafOqQgUgcuJgKKKt9A94xnPmJ7okq/Z3L/jO77j6su+7MtW97vf/aa3x52nzf6xLOWATN7gyatf+IVfWH3ER3zEFPe8XVAMOW1TrPByiKVYocDy27/926sf+qEfmvIBT9d5kk6R8UM/9EOnvcJ8LPe7Tx7hqbAf//Efn65jt4c+9KGr+973vqu3fdu33Vgkm/flZwdB4uX3fu/3rsRK61M487osRRT7MvmC/YoHEOQLb/M2bzMdFG/C7Cx+l9yQn8oN5bMPfOADJx9V7LkMTVEWV+0vvdVaoU/+bB995cqVywDBpV3j1kKXjS8x/ZM/+ZPV7/3e7y0GyInO3e52t8nhBb62G0eAU37P93zPFDwFEicvij8f+ZEfeeOd34QeBHYnRL/zO78zfSUoJ2kKWO/6ru+6cgolUNjIK+7ZHPv9Yx/72JXHqm8kSTjJfC7jtQo7TgW/9Vu/deKaEzkJ07Vr11Y+x0HScpmaZBD/nv3sZ6++7/u+b/VhH/Zhk8+9x3u8x1Q4OgssnNyak0Tl53/+51ef93mft7r//e8/FST5kM2HxFfyevvtt0+FuUc84hFT4sqvzqLZDJmzZNxJND593Md93DRnTwyexwZnGP70T//0lLzSH3PmE5et4Hse7dM5FYEicLYI/OVf/uUUazzJpaDzV3/1V1OOYMOo0CVeyucu48GAJ7nEj2c961mrH/3RH1192qd92hT3FJDEkJvRFKzs0RTUnvzkJ0+HMnLwT/7kT1597Md+7FRo2hZfFafs6eQ2T3nKU6anWxyEPeQhD5nyCQdkSw+VPbEmXn7913/9VDyzvgc96EGrT/mUT5mekrkM9sf/7Fc8zeWJRoXD81RAwhW5oXnKDfnnIx/5yNXbvd3bTXuum8HJ896HfaknIOV1j3vc46Y8Xv7sANvDI20XF4GthS6bXo7x/d///ZOQLoXgYQ972FQptiH0CGvbjSNw3gtdNrOq5E94whOmgEtUT9IUsR7+8IdPJ19446QpgaOFrpMgefprJT8K209/+tOn0zm+e5kLXYq3nqKUrCrSOKFUXD7LQpcgfcf6LQs/8iM/svrFX/zFW6LQJQmGo7e3KM610HV6H+2dRaAIFIHzgIACiw2j/cHv//7vT0/2KGp465tCl3hpE30ZCh1zexyj0GXT7i1Y2bT7Xy/97vM///OnQtc973nPrW/H8jldPg7lJ3/yJ1df+ZVfubp+/fr0nwoofiiSKVItLdJYq/+E4IlPfOJU6JI3ur+Frha65n5x1j+30HXWFji78XcWurzlxJNET3rSk6ZHZpdMk9ASOW97aqFrCWL7rznvha48+ac4Jeh5TFYTUAVjTwUqmkqC3uEd3mH6vILxPdF44lHre9zjHtMjvzbELXTt58XNvCKf3SBp9fY3T2M6kXXS4XTvsr0FAR5//ud/PnFXIuhRdE+retx520npzbTHpr4klebEx7xNgW08PWtOnjQ6j090OfHNnD0FkDnf+c53nuack2nr8XZMPPN5Ju/0Tu80fdbFJhwO/bvz+ESXJM0Bwu/+7u+u4Oh7WirOth0PgdjhRS960Ss3dne9612nE/yzenvw8VZ/cUay0fcUkrdw0XOFATrap8Z329iT33K6PKFLr+m7z+oSfxxaftEXfdH0bgNv87+MT8Aeo9AlP/FRBvLkr/7qr56+l0fD3hMqiozbnsKXl3uQIYUuWqY/Obgnl+3flj55xubWK7/3RJm8Uez2RJMi52X4jK4+0fUqzcAtn9cmT8EL7b3e672m/PlVV53Ndy10nQ3u52HUxYUuAc1nqng009dtJzVEktASu6WnAucBiPM8h/Ne6PI0EFHzxIkASlA0QVAw9jkF3sPvc258doPH28dAKjgqJNj84oy3OrXQdZ4Z2bmdRwTOY6FrH04KXZ6ekyjTOcm52OF02dezaOex0GUj4u203raqIOjnD/mQD5k+g+0sMLqsY0rk8dWTFN/5nd/5ymIjvsqN2m4NBOQqOchlN28vcxBXG+62n02sgxY65DOJFEccUnz7t3/79NlRioWPfvSjpz3Au73bu7XQdaC3Lor1ClQ+U9U7KRx8OPTyP16yicOibXs0GqYolSKZg2gFKZ/764kun8vaov1uPxj/2kLXq9DASwfl9MHeTz6nJvDe7/3er7rojL5roeuMgD8Hwy4udBG+d37nd54+aM+TDdtOvpxuKlg4JdsmtOdg3bfUFM57oYuA2HgpeAmiNq+a0z+nfd7+9Q3f8A1TEP3ET/zE6akOgThNEdUTXkTRCaDP8mmhK+j0axFYhsCtWuhSJJcsfu3Xfu30eRE+g9AH+IozZ9HOY6HLRsaTFN/0Td80fS6LeOxA6VM/9VPPAqJLO6Y45zDHEy1f93VfN/2HD97ija8+bLrt1kDAk8ve/u0zKR2yPepRj5oO4HweZdtmBOR1cPP5UzaxiiOK7Ta2tNsTcg4qv+ALvmD10R/90dPb/PtE12E+o0uurdDoYwy+8Ru/cdpveboXj33Atv3Xtqep5Al/+Id/OBXJ2E3x0tNg+czPe93rXlvf9riZGZf7ty10vcL+9AG3HCDIU8RJtQAf+XEe/uO0Frour58uLnT5MGNVWR/M62vflng80pz3Qtc2JBS6nJzaFHzVV33V9PSBjZnPOSKA21oLXduQ6e+LwHYEbsVCl+RDQuTtyj4vxBMVnvpUxGmh61W2VujyNlAHBjboDgqcvn/6p3/6qy7qdwdHgB3w1Uc64CuuepoLX1voOjj8N20A/3GO//Tm9vUHM+dJGG+1a6FrM8QOMB1I+N/l/Ocsnn7zNnQa7fNZ5XcOCBxY+hxGTwf5n922vX1u8ygX47dwOvSH0YsFz3nOc6ZCl89J81ZF75j47M/+7OmtYgqMmwpd9MtHjXjbYj4s37srfGzIZ33WZ01FMjp2GQuUp2VfC12vQC6FLgVYeQqOeiszTvoPDs66tdB11hY4u/Fb6Do77BeP3EJX/9fFxWTphZcWgRa6bo7pz+sTXS103Rz73kgvLXTdCHrn594Wuk5mC08QeXJLcVBhxf/u5y1u3rXhoyZ8TpTPsvR0/md8xmdM/3ufJx0v4/+8foxCV/7jIP+ro48Ged/3fd+puPgJn/AJOw+IFOm95dH/knjH+j+28bZTxXq29L+4+9xHNmxbjkALXa/AqoWu5ZzplcdF4CiFLqdBknSB8IUvfOH0+LPPufDEj+bUx0mQUyKnat7b78R6fhrkQ3g9Ou3RSN87ffM5Lj5I1KmSD8DzIaPE+r73ve/Uh881cXrhfejG9LYY9/je79xjg6g52XBCde9733t64kgQt+nxX/H6XBT3SHTzmVLmqa+3fuu3nk5PcoLigzldr39Pvnmk2P8e6L8XHpvkwePe5ufJJ3h4FFzQsv4kCfsKXSrVMPa/HxoTRgKYoOZv5mUt8IKNJ6qurD8nazz1gZu1eprKPJwQwdWHSro/axvnv+/7m/FEF3v4X3xgZX1s8dKXvnSymc+Kg5NHrdkBvpveLhv+SW7xT8KmP7/HMbiEd3DRx2mDPbEPlubqEXF2CMfM2dORTjvDnXHO3p5kfebKjh4rx2H9us4Hw7ONe53CeatAeBJ7uDaJqfH1Yw5+p3nbsSdnPJmJm3mbsbflhLt+BwuPHJszHrnf/+6Dr57IwyUfWC+xcx8uv+xlL5u4gvfsgUP8xBzHdWaufMrnRVivV9br7/rwVmh9GMuYm/pIX9u+wp7+6P8FL3jB5Bt+tiY+AA+n03wUrrQIFjSGDT1BA2tvCWC7/Nfb7MTfJDr8Q8Lovpe85CWTrsCDXlgHnGAJU3h6Sy8u0p9cp1+fcRJu4OV4smrO5hStu7r+n63Mmw/AZUmhCzfM0fgSXphYh741dqKD+oW7OYxvU+cz0WG48Bt6pT9Y4Bv8rNdGh/28zcUpH+w9/UJ/4Gj9z3ve8yZO+Zt1wYae4jgsrIsGsM3zn//8ice4gLf62dTYlf55+sBc+Y/PLcFDc9vn2/NC15d/+ZdPa8FN2sEH9Bn9MF86qX/fm/MmveSDsBAb9KM//HCttVozLdOHnzVagoM+NNt9vlqbdXgSxccJaE7h8ZOP+gwd2svHxRM2nMdSa+CzNBXvcMlbuOafq0k74IgfeKw/Y6U/ehVdxiVaYA7WxMZ4YE144u2WI5+nia//cQ8OWh/+wCV6yefNSx/5HMfc56sNn/FxUT/sbBzzhRWOR/dwG2fYCYdct8lOY//j9/6nOTzGW33jI1uZl9yFn1gfHfC76Blb+B0NgdvIP2vlA/iAq/zDh/eyQzA2B9cZn59ZGztYS67Bxevr/Cr8hCdt1fCRntNjvmTtTtqtfen6jS9HMQcclkfhHs5u6sPY5up/XLV+OFkXHmh4zy4wwm+ctS6+SwPwP3psvtt8ipbxK3aWF9JSnKBzGqyNSdd9hbE50Sp4GR/WYiHdw3F+Q1/oFz8ztoZfYhWt4j++t7bEZhjjAVzY2s/z2Mx3zRVfjcuO8KQ5uM+Oxr/Pfe4zzcH8YR+7wgm21q3xD3YVW3w15iZ7TBef8h9zMgdPKZk736QXOOBvckZvgaMV7KoI5mlTXIbfaZs14oQYCZus3fjWyFbWnPzaWKO+4Bdu8Vf3y+v5DF7CU790PJyjp2KvPuE6xzGxE8fcqw99mQ87sTXO8n1jygt8hpbPf7u2fspNvzh2ow3GePSUpzxl9exnP3uaiydKH/SgB02cNc7Y2EgcMVdazofhYs60kB3FcL580vnpm194Iptv4Z+8gU3GJi80Zz56fe13fMe9mvhjznyQ/5z2yVixCE9pM9sYj23YzVppCh2Q2/BRfu1v8DSn6BDtTMzAJ/Z0H/0S0+acXlroohWwojn4QU+TR+CaeGQs+HnRdtrAZvDCU5pEx8xr5CdfMWfXmo9rrJHew9cafQ6qj4S5ff0UK9985CMfOdncmtLYxFj0ca6nxqTN+mVfNpN7atbCJ8RH+HsZU0zkE/JAzX34Jh6Ea2zEdnSVhhgbLmxjPPkLnloTH2XLce36dS2twHF9mAusYe5a8c69NAM3FHrlJve///2np7Fx4iQNTvo2DlvizziedbOlOGDN1pFYnXHYTKzCB3Oybjb0e3OOtvNNMdD9/MgaxQ9c1zd85Z9t2xE4aKEL+bw4qyDFAb2SlCKzJkAgAucWjDghB+UcxAixNY4q2P7gD/7g5ISIz2k+/MM/fHqEV8A1FjHgxESTwH/FV3zFJO5IIhhIIoiZ/pyGcBDz5FA2Cw94wAMmYSMQgoJ+be7dj4iEDrkU0wQYc06Sa54+mNOHr7sX2X0ulesE0bFJ0Di3t0AQKM7uPfYPfvCDJwHSp7av0MXhrAG21uMrxzNfDmltHEcgE0w4N4w4kjVqNgsS96/5mq+ZHNaaPumTPmnaOGwSlummPf+YFwE87VsX4U5MJQnmRxCyOQt3iDT720iwB8wiKOEfW+MfG1ojITQ3gQO/BFZ8wzv2x4PTJIwECuZEyzhsKliwjb9puK7/2267bUpy2cPv2In9Jbw48dznPndaKyE0V816XEv0iJ918wEibh0Rf7ySdEg+bKLMgR/grnGszRwkpLgpsdavcZ7+9KdPb02QFMDC4+wCkvv063F5/sS3IsDW7MOZYZzkwj1X1kUdXPN5HeYokKdZi/kQbfMzV3hZb2xrI+A+tuXn9EG/sW/62vbVGHBnf8HIyTNcFaIEJfbX4GHDAU9+ap6woA8SSZ+B4X8jevjDHz75kGCp6RO+Egfj4KmvcPB7PsimSWBojw0JbK3ZXBR3kvBIJPAZZuaDGzDwe8063OdDsL3tQAHGhoJfs5+EIRppTtbyiEc8YvKhJDPWhQvRCf4Ej2ggHtEEtnfCK7nTP8zxS/JiDkmYcACHrAHvjW/OEkMJvuSCv333d3/36pnPfOZUtHZ6zK/N4Qd+4AcmX7GBYhNaQ1/FA2syLr+GB12VDCh6GPOBD3zg/0l62DxzhIF+2Vk8uLrenNEHa9zVUuiyIWYfGEqE+KVijPXDC94aX5DQ4DmNp6vmnsZ3cN1mSwKIh3DCdXOFK/vwZYUafUhg9MHm+c85+F7GhROMcFdzrycp2Fbc4Ydij/+FS6yK78EHHuKozyeiqZLVL/7iL57imHu0XIf/T3va06bNNVvCQlLFRridzZOYY1y/i15ZE//FIzEXJ/hv+Bxc2Ci4+DriwtfoHQ0Qk+Bi7PSBD2ziM0HMxefM8C+44VcSXrYynriHSz5Ty1qD37ToHf/AQ0y3caXtNrv4ai5zvn7u537ulJjzEdx3LXzxfvRndrB2+HpShi1cRyf4R+aW6/DZemDsf7emEzjiZ+tlA7oDD3kQO5g3rvAjHMEtGNBS9nF/4saO5U9xCe/hjLs+YJhd9aX/ecM/OPmgbJrobVViHhtaTzZT4oZ5x//1Y05sSHvwhv/7ORzOWHxK7KHDYgd/hbXfjY1eeOuM+M4H6bnr8Ax29CB2oQ/ilrV5y42f4cPvcI0GiFU2dO6PBsCZP+IqjRdL+Ety2GDMxnSfLXFbfGU769e3Rm/FZpw3PxzCD75hrQpddAOfaQ3/fshDHjLFYz9vsseIx0m/z9rlocZlS35I96xfnvbEJz5x4oX5srN4iZ9847QNR66vYyjdwyXxxdrjy7SEn3ib5NW1tvve74I1LeSD8j5zFDPYVUEDl8U+OQ0/cY8cUF9iX/Q3sYJ9jYvX7KBPtjQ/f3Md++Mae8BBMZTd6PK1dW6Q+Z0Wj9ynb1yUq5uHXM+6PM1FY/nK2PhfDt9oIn2Q/9ECtjJfm/7gNt6773uY6Ntb1fBXLLFvgLWGo/DFYbGU7/iebc1Lg51Chvnz95MWHfRDC+Rd9JEO0CjzyhjG4YvWzMb8kyaam+v4JC3CMT9bV2Izu8lz6DeOiGmwCl70C8/Eabn0Yx7zmClG0hSN3umPneiP6+iH+Zo3/mi4Sz+MYw9K//n7t3zLt0zzshZ5jPjFrzK+e/WP72I6jXYNn5AD0hlrgUnytk2FLv3zL3Ojp2wlptLTzNGY8lJ5Cu3HN7znT3xMvsA/aEb8wjpoumY+8kKcs+/CDz7Fj9hN/KKF9gDGYiN2Mya/9BK3Ehv1aRyxWA5q3uzhqz5GG7KdGMjnv+u7vmvSZ/mzOZ2UczARQ+Ap78Eb+LMDHOXQdBxOxsAhfmlN5osTYjRf4MNsAwN80Adc4CPX8hln7GnN1sh/n/rUp078wRPzFyvatiNw0EIXgxMS/wODYEUIOTuSIHCCiOsYVyLDuJyAEBFMv+NIGjKk0MXYxJmwEFcCwin1w4l9IKZEA6nHQpcNCaFCUn9DLE5pnnEqziAxQkyOy/EEFy/XaUjH4TitoG7O2QAfu9DFYazfBhg+5glbSRqHMmfVX05GTAkUB+QgHFBidB4LXQRAI3Icn0DgBzuxGw5IJoiK5OuhD33oFCgEcS28UhSAC/7BheCxrfuScOuHDdldwCUwxlna4IzX5iyQKea63zhJPowtqRVMnIpI5M1b0GIziZd7cQ6PcUwCYD0CBTvjOD6yJX4TOoGbXV0DI0IvaEiyjGV8CTBfMo5ATlTdZ602fLDAk6WFLn05lck8+SI/hYO+BXHJmISRCPMRa04S7r4kgj7vRkBKgSSnRIIHXrM9v1UAhoexljT3sa9AZF2+N74+6IZGB+DhZ8mMTSY/hgW9YYslhS7BWhC2Acc7PNXYTGINiyTBNggwsjaJjfHwWZLmWrpiQ2ijRYv8rOGOhOJGCl34I0F/xjOeMQVZWsiO5ssm9FlCil8SDBsxQRYH8ZmdzCEJE96x8ZX15tC6cMnvaI++Xc/vJBbzQpeCkr7w2Vfcx3mY8D9z4jMw0DcbSoTMTZHrcz7ncybejn6Kf7ROQm8j4G829TaOdER/7t/VxkKXhAl/zUXSaW3WqA9xgx1hakzXiT2KKOOGUwLkXjokFvI1f+eXvjdnGNFgnNWHuGLN5s8P8ILd+LZkB078ydo0/VkfLtsU8n9c9L9w+T1bavqXACow2pxaK+4rELFznpIbr3vyk588zSX+gS90hi1oDB/hLzgiucNXXMrGg19LJOO/NFGTnNIAXPK5PyMu1mcMa4YvnzI/m0a4WK/Gr8QByT0M+SA9hbnraIm18DUJvH7EPJ9tZlMlFixtxjEffM3a8R5f2TLFEoUOPi0GSP7ZwlPJOMgnks+wg/6cLruWXdnBdeyafMJ1tMFTM4or1pUDO+sxF75lg8H+9JGN2AKGwZlGyXnEHFjKsVwbTd6Fg/v0bUNrTeypsIuneDb3KdqJG+xiDMU/+sd3zMff6Bi9sYbEObrBD9gcN9lKrsInYDKOw6a0Cnf4CA6K4eyBP/xKvKNBOCkGwcM9bIh7Yq6/wQQvfY8zfAvfxdTEZhthXNcHWxuL77hGHDFf/fpZbGZHWkAzolHsnUIX/bAm83U9bIxt7vSGXYxJF71g4TrXwMG8+Jh18i28Y/cl9txl6/nf4IT7bEZHfM6qr2wFc3N70pOeNGk4v6ODNuuKoXz6tO2O9Vvr5G34bY3J2+ArrtJeePo9XxYTfA9r+JgLbbH30Jc4wk/5Ex+0BtyQt+EBDYe9edt74K08R6Nn4q9DduvFb3rHF12nP/3yYdz1vfHlHOL4tZtY6LJ2evC4xz1uKkbgAe6aD5uEa8EdduYvF6Q/cHBwKKeiEbh82oKkfqML9Bc3x0IXDGg03BwS8AXcxmO64X78Mmf+pqgt9zlJo4n60H9ikXnQKP7MNjCSY7H31XUBSO6LR/zH2z/pL0zxh5+ZJ83j1ziGT+IoDXGv+coltH2FLmPTXuM49Mczc6IfbAZ/ONADHKN38nLco2vHKnTBEX+NJ4eATzTHOvFODDVPfKE5Ygg+WZO5wpBWwBPW1mafox+NrooDOKAPsSDxH0Y4IRbgs78nDvgKr8QC/SQWGCfxWI6F5+znGuNo5q4P48GYVrOnQu9pCl32FMaSH9IPvIkt+QMcYcHfFFdpE17jDX/ERbmg3EDua734Sn80eJonm8gJ4AxL84ZvC10TTIv/WVzoYgCirjpJpOYBDEE5BvF0HYMilwTfJueOdaBhNAYVbHxNEOE4/uZa9/g9QjulQlaBRBsLXQITMjO+F0ITN/OQrBMziaJEaix0IZ7+cr0+EEpyZTPBSYgQ4rqOY1i7+wR180RgTmnehI+zOFGRZHC+Yxe6rJEYSwoku9YGX+uXlBFaSaEXMYK/xEDwtUm1XgGJ6OtDkJZ8CTzExZoiKouZtb4QXhz+NE90CVheBMEciKmXeQnmxI3IEFSJK87hi40OodTYSpD1NAn+2RzpS5CXoBJS1wjQkheBDWZOy1PoXJo04q1gK3nXn3nzBaJu046b+pL4GAfvJLZ4Zi1sqOAjaF5fJ3Dm6d5sAPiWewmd9RrL9/xRsYtIGkNfnjyQ/OO0ACNo4iY/YVvcxQPzI/Zw0T97LS10CcySCD7CR4m58QV/AUWgZD/+eGW9GQymfMnGk5D7u+TZeuAgEOgrm1hrxGdFC7aysaILroPlPk6aI18VSBWrYGAzkA2B+wUlL99L+mx4zBEWSwpdOKhvPKM7fAtPrZlGCoI2NtaJE9HRbKjgT1vYDQ6u5ctwhRkf1JdGpwTFGyl04ZZ1Sf7xUBJCz5P045S5Cqa+t0HFMWszd/M0Bzoh2PodHtnQ8Rlrt+7YBmddv6nQBQ9rgr/EwWkkXHCJPpkXO/NJ44yJgacFPGFH6/A6DbeckkkgzA+f+If+gmOu3fbVuq3Py6mm+VgX3dGHPvFarHCtJIvf+ruNq40NHvBxPKKrkiLXsC39YXf9WJc5w4j9cd29uK4YYTwxCI6SblrmWn07sJCkaTRcosW36Q8scQ+HaCL/0mAOb/oAHzGMv8FTDFNQ0MybbYyn0CXR8uJ/5ow7/kY3jUmXjUNv2BBPxHM6wIfpgqII/4IR3+QzwQXf2AjW1i8HkBDiKlzoPI2Hi400XcQx8cW9fNBYdBNvaCvOJsGmd3IG/mXuNiv6suYlWgITeISv5v1t3/Zt03z5qLnDUV84qZk7zrqOHSS75h2+ihnmrHjkWrZgB/OCNZ/UjAkDT0fRab7GDrgBQzqqcI0D7qGPYg690/Rr/XhjPFqKz3gKI7q9r7Gn2AFna1ecurrOsRwospU+NfkGu9HcHPqIY54spGl4YK3+Lk6xFZuZMx2kHXiOOwpqbIVPTrXh4u/8xVwyBv/ze+PglrX72TxcJ8azC26ZJ1+iEbCQmxjXpg1n5E1wpDnsyA9gbK60ni/LmRKb2Ty5Li6yk7nTBRt+BR/6GIz5P03he/wTH+DIl83buHgNb3H0m7/5mydt9H24b47WY23X13rOvjSFTcPBffZc8nc481Naau2a+eIoDTAHPOBT8T+c5gvWLR9jh9M2hQscsj7aJlZZOxvKH2CNizSNDT3tYmwYmlsKXfzDdfyBDsKJXnlpidHWqE85vUJyOOkauRTeyo/Ylw/jkxee8EvxgH3pEV9zj985kLl2EwtdbI67/tdX2iruWEviZWKveafFf/kf29FYtsRN8xdPTtPwQzzZ9kQXP8APhS5fxSt5AjvAzP2Kw76yIS0wtyWN1vAB+zb2FSPkjHwzWkA7jOM6cZStje3vYjhbioUpuOMYXYWHfRMb4qF+4aoISjdxjE5o2wpddJF/0A85lZzLHI1PQ+QAsHed9dM641m/v+nf/I5V6OK7bMFW7GaeNAkeGjvjnRwF7zy1RwvkDLCErVilGCY3gLl9Fn/CM409aBRd4Nd8SgEQxsayjxFPc4DALnJ4BX9YwssDDfRSH3Cj7/ZOrqHBfIEe6s/1GlzZ0Pz5KD3lu/ZGpyl0safYgSP8D2/wly1pE05ak1hDr2iTnANvzNk1DgfMmU/ak5iHvvCMdomDXvBN/p09rdgIa2vwN37Tth2BxYUuXTAAQgsiczElnkj8JV/yJVOAFwgIPhG5Y11kkFgI9oxJ9JNU6JeDIKLTP6RnTITnIByJMTVOYfPBEYmLOUjsCIOgKmlN0oU8caSx0MXJiJwEjZgInJIX/Tnh5gSCgvslyRIgRHOt30sYvTdeskIUJFaSTsHMxgU2xy50ESBOzKk0cyUU1qARUMmgU19JNwEV5Lz1yeYEJprEUHIjgFiH+309bZMknrbQRSQIibmYo00CO0gqMyf4S06ciEsobAwll67TYCK44JTkIG9fItz60fRvjjZBNuME3HW4ROjxfUmDr4RQEQIvcdeGhIDBMf5iPC8/W4cXMTPu4x//+CngEk3rcL95xo7ug6m1SN4IpaTNKZjTY+sSzCXR1qJwg5sCg8CdObCxoGFsfXul76WFLptbPs6PbMokWRIK/egbnjbb1iXgeaLBegQetrIGiRobmaegqaAy2td9Ah1/048gIAG11vG6bfYxDptIgnBJQVrhxlxplWa+eM+34cE34ARnegNnSTx7bnrrIv6xAw7xO/NTWMn89C+50Y//Ctx1MPBECc3ie7RTy2ZcYYEdPb2CywK/JrBJoG+k0CXAw97mACcESOOHGwIwrbZxljzAjF3otiANJ3MI/wR3HJMA4i0M05c50yTXbyp04QvsBXV66n/uolv8OP6nD/3hFKzpP14pmDzsYQ+b5p+CgGvNT/HFJlicwE0ctcmJzV23q0nyjKNIQT9snnDXGm3W2VYLd9iXxtiU+dsXfuEXTokWfxTbFPE8jSPB4a8KPhIx11qbfnBVvMR1mJnrtXWchAUNsi6cwDXjiaVio740/XhJVvHIab+DDXy8ut5IW4MGa/blD+KUJExf5oXjntbQj7HoK67dvn6bFaz5qLiBO2ImvWJbGOOHr6P9xR06QZ/pgVhpzvqBi6QTLpLFK2usUghLjmG+/qZwxyeiOU44Ewv4E9z8HT9oNv+zGcFr69OSOHrKT5KqaGYzTg/YIRo7XbzlH3ZiQ30pfPgAbvbBf3xNUg0D9jQ3vIcTO/AlCXriLTvYNOAzvzRXdrDBVtgxR7ZgB5tEeiknoUPyI/6Dn3QF1+kJbJPXuFcLT9kKR3GVn4tz5k4Dcu2Wpb+yH5pgPLazYaXrfCK+JbbgqgIN3aXhxjAWbcVPmFi3zQBeiXX83t81muA6PnjHOneU1LsfP2DMBuEVHfK75JU0DY5Zj7V7+Tnc9DNO0RzzhLO8Ffbm4dq85KW4y4bsDlu5iDXhjT41fVrr9bW2wkcuaTPrOtfbfOkzhS5/hxP+iGeKtzjoGk3uih80EY/ESPHAZmkcE95eieNL85VpkD3/WA8/FQvkx9Yhn7my9tXRX+ibzTib0k684FueBk5s2zPUxj/TORikYI1jGRdHxGe8T7Hd06s0iD1dx17iQPyDdrEHX/Q9rOBNzxQU+AWt4g8003X0RON/2XvIe+gLDff30R7RTf3gFy2Xf9FyvoufN9qsm4bhLt2w77BPwSOakPmM4+ATLitA2JOZJw2xDvbSx2kaX9xV6DJXcUZ+THPoBRuJObEl/rInH2ITfrWkyQnoAI2g6/rgZ7AW73AvY+hP/17wye/5lmKDHAIn5DgKKHjhWrjhGNuzJ14nD4zmbSt0yVfd7+/iHFuxDy2DgTgQDs7nZ47Ri2MVuuSXOGI/Yp72ybgePolpbG2PYK+OP+IwDtFgeMmbFYvlKdYuP6QDdEOzJi+24nNiAW7ABi70DS7G11zHRvCXy+sbh8RSY/Jx+Q59tkeQg/qbODjGdRyjZ7jPz/mP+Z+20GUs+kSbcA4XYks4iANyrDvW3BQrUxeh43IaxU/5A/+gNQ4x5Jiw0fRhzjiuX6/YASb+5ppwOX+bbu4//weBxYUuoO5qnJp4eX+yxAXJEFPiLlgJ6oKMhMTGSUEqiQ3n4BSIocAhYOpPUsFJiIL+JAkJNpJaCQ2RFoAFHQHKdTG6RFtyNxa6FAUQimAhqDkorEl8JB9EibM7QZKYS6o5KYdFMBtvSa4ES4BVZJO8Jvk0/rELXQSIw8ORo5h7xJrNOLhkGb4CsOAkGVDokmhZWzDbZeOT/s18iJRxJWw2IDZSxCHJ/qY+JbaSZIU5hUgJno0tYYpQuk8SodovyBFn9rcZtemwRgkYUZZ84YrPl8EXyca4Xva3cbt9vaHDWXzCOQW2CO6mefodThAjc5VQ2VxKmG06JEE5Vd92v98Tb2u2icBHCb1APV+vawmcJEXQVYAhmoI0/glM/i4I2aDqyxo8TeCaJJ18efRnWLiPvZYWulyvYGRcvjdiChM+DxNCT/QFJ76vwC2oOfVRkMNdwQYP+ftoX2OwjWAo0RQcYJMEmq/tanjvPpoCD76PfzaS5pGgog9z1sILWAhC/HxJocuGQHAVsHB1XIcNHU1jF2sXjCWlrmcjQUyTRMBN0MZZSUROzPz9ZhS66Cz+WC+fSIDWv4ZPfElyZQNO++ilpJ8v0nGayj8lM07q+Iu5OkGbt12FLuObB53GZ59VaKNp04cr2WToExf4qKSUhtk0SIokCbnONebP1hIZ63CNjUYOQObz2/RzCl34Sw9wTvLErvAaeeN+iZZkxmct2aDTIHjgs2TOnHGd5oo7+oFVuKYPGkI7cB2+uOApGHzit3BiOyfnKXSJowqmY3ON5N/TP3TFZhsGxjVv/Ypb4py/02F+JH4YyyaBXVKgY2c+8OhHP3ryU7Hi+tqf+ZX/fY3t4GtN9HdsNJg9FKHYwzqMQRtTvIELbaIB+shhUfqBi/HgoqDFf3yOlbXrz89+j4v8zO+tF3/G5NBmFu/hp9hjja6ljTQ+Pphxt33Ff2um1fiKq2xtPIl3mrXTLm8RZQu5BC2WG+EuW7ADHOUy+mULdoCH4ixem6c4Jj6Io2InW/ATNqLXuAcHuQqeshFdmTe5C30R5yTq4qR5e805Pb83P5sLTWcPfHbAJ+6IBRo9t244m7PNIx+lETBxsMFW5mtTKbaLteabzad+YCxG8EGHc8bhV/zGhtmazUH8x202wB+2HPvR16Yml8RJWJi7Iom4LXcaG9vQAPZmH1og3uEpzEbccBXH4CNm+NnGBsfYny3Nl9bJNa2ZrsJHTBgbHOmBWOAe19pQihm0LLFvjOXz+Yz9neZ7uRuNYHO6JmbRe5vfcd1sIed1He2kOWxCS1y7xB6b5kfHcBzXrZltx3FpCCzl4zTTAQMu8xv+zJcUumxs8cjf8FAOKC9LX+xEF+kcX+XHDpcUm2mauKLY4QUT/ct77B/meSw/1pfPM1OExmFFKFjcjEIXe4snck3rMh5dwSO5AqyzrhHTaDEu03Ta414xSl5OM9lqX7479ul7/Vrvtie6aLLigjmzl2KGGMCP+UNaeGzum+af68avcjTcY2N44x1NpwNX/rcYu68v8ZIW2W+y5Vw/xA06ATN6IxeisziAl9q2Qpc9mJyVHshZ6LK9ovXzI+sfc4BxbfmeTh2r0CVfFq99xSNaGJ0xH7aGl/xKLmu/Lz/kC/zJPa7BeXxwrTWnmJo1sbW/sZ1YQOv5HH/DZVo34iLvFePxSAz0OdbiHA7BF/7sTyvkQ/YS9HTkkjH5OY3CF8V7uu9wjy7Ya52kyWvllzCy98Gbcc60izaJ/7SHNvEzvOF3OOcw0nxwwTz4MLyTi8QnzGtcy0nm2WtfgcDiQhcjIqDNjq/z4MWpGVxCIulAeCfiChwCDiITCEFdYrRJgCTwggMSIj/nQRDBXVJLNFPo4iQ2HRJkm2iEI9Rj08e80CXJRiiBLEGKA9hESboFAvcgPodx4psCmr4lWUk6nY5I9hQlCLgklHgdu9CVNQvInIhQwd+6/EysOaa1OQWKAMFN8VEyNjpp+rvRrzdS6JJ0CC6SCUmoguI8CbWu6+tNkNMSm02Bh9AJ2jCwoVEE0xQ2JDn6ma/VPHGFWEoAbF4ENEET13c1GJsHXG38cFCgvbZObCTyEa1dfeA0MSTYku0k3XxtUyOAhB/PfBWc8j/Dma/Ez4sQww8mAj8fFND5KkEdfRB34LC00MX3JEmCE96PfZmzhFBxR3ByIm5zyi7mIXjD2VhsoXDFx2zw5k3CL2AICJJua/EUgCC7zzbWk2KVZAHP+aqClyApeaYr+jGPcQ3jvfsKXTbyeGBDo//56aigRlNsWmw2BVaBjRaOzSYJbjbQNjc2R7TPtdrNKHTpB3/Ym0bg7qgV/IYvCNBsxy70XLLCv+iJtfBP65aYKHSYq6Rm3m5Wocuc4cNHbEbMny/bKEu2xCM2M56kEldsLPIE0dy+83mOP6fQZSOBe/yRHSRGmzgnwWI3sQ63xQ1cZ1/z5d+4zk/M17zwd96SHDnhVJBwaCS+8TWNbksgdxW62AdObMPH+Dn+sBGMJIbsar7sLsbCTTJP98QxugVHmykbfcU6xRVY0g++aNNnHnxG33jivnnjF7jkHtyCi8SYbtn8wIW/0BG4bNI8m2x2gAvuPfaxj52SRhjyJ31ZrzU5zLAOWI8tfOfLEl0Y8UNJc/RwvH7b9/DlH/sKXQqTcBXDJPPsgK/WTuPZgh0Uuvgg7NiCHYzhBFie5Pd4aLNEyxRZ5ET4LOaJbw7m4CZXEbfEHH+ft/g2HZJniQ1sSn+X+gctY0s+aBwYKpjlkIKtxGT24IOKI/zAvOVOfsdPcJlm0BYb1HmDHduylYK7Awrx2zjm4PACf/Qjj6G74seo4fM+x5+XFrpSUMB186UF2/xX/3SKz8glcFUTm62fH6fQhRPyTzHDmthibHyTr9pQwhsWNIj/0Fl9pfizJMcY+973vTXgIFvxXTbFV9yy9jnG1oSj+EnDbOZsRK3NPHH/tI0fwQIfvMzLiz8rsKSQAmu+Dx98MmYKXcklFZxolVxw3CsYQw4lP+YbNq00iT/ZBxhX/sDn7XGS31nbJuzpQ8bk/4qj125CoYtdzFWeqdhAD+mDoiI/Nq99ja1ozu3rAi97yX9gYt9Gf0Zc9vXl72yzq9BlXwVX+S2/wAv5FxvRLPFETGWvOa/2jc9mdIBG2JMpJMgN5bl8Y2kL38MzX8Mx2oxjYinMaRmszD/5qhhvDq6RI+XD6O0F+RAu2B/QOntg3EqRbN8cj1noylz4lvUnN4zPBR/5DF3gJwpKDmXsg9nQNfsKXTicmC7XhZN+4DPPnc3JHoD+qSfIO/AVj+imB1RotLiJy/SZTs/3ivoxLk0VNxSZ6Ci/OU2hS394E0zm2uSwB2/oonnDyCEX3uC5XD6HQTREzoi/cho+zS/gu0lfjN12MgQWF7oIBxLaaPrKEGMTCBlFEPE34ieRk9QgmOTOCbWKtg3nJlFz2iehRQDJjECCuJIlAiz5T6HLiaSNh+Av8TM/DjM2AUcAHJ/oErwkTZwhmw2EtbkhRhJAAcQ8OYCxbc4zX30qsgk2gsV5KXRZg8Ce4G89xMTPvvqbJMTvNdid50KXwHHHOrm3ORA4JFgEYGzExebGxlZAILSSdoFfUq8Pj4cSFfgITMQwtkxf+GlDRkzdZ/OuyIXrrt/VzEGyLbHHCdV5go03/GA+1qa+iLeTCideNmj5PJO5j433ElHJgySCr7ClICzI2/gJ/ATWJkhCLZF2ui7hTlFpTC4EN2tZWujiw3xEwGGjeVNkE+T1Zy42lIKKxNHv2YY+mLsEy1rn/qtP8xI0bEwFPAUXyYK3y+xLytxrcyURUTy/vt6A6ce9knFPdgk8vpdsjUEFFimS7St00QF2ZjfBF1fHBgsBWXDFMThIyAW3seER/6RXrjcvmzsBULtZhS64KM7gBh6ZE43wgheN8zc/OxCgg/NCFx2GC65LLul7Dg7GNd2sQpc+JVz83BMe5o0PCjCeCKH/eMKHbP7pgtgAY3Ze4oeZNxtYn1igSGujiueSJz4zb+zGxpI21/NhBSo6RMNsdhSe6QzuJbGf94Nz1iCBdy2fZnv3KEQYZ1+hi87pxyGMsRWp2E8By9w9JeIpa/HaPNlMjOCnuGtzajw8sLmDBewk97DkI/xZkZ1fiSnx303YmI9r2EpBiS6ymRgr4YSLZDG4SO7mzd/hYv3Wxh76cY+50zs+yAZ8MCf6Yz/mgfeeurM5kvAq0Mgv6MimAuZ4f77HQf6xr9BlPDZU7HctO+Cogj8dhhU72PzRIJph84PbfI9eKuBao9/RefNXxGMLcYo+iW/4wpYwUfDZVOQyfzjavIiX+E1zYcB/aS9O7GtswAe9jZJdxVQFBLEHN/DLRtrmg37gnTmJF3TGeukgPPDBZneTjsPOXOkHPPgyn6I3Ns8KSfJF82ZzH2+hn6V+bg02R3gjF8IDGjbfILGdOCt2sIex+MyuvEDOaf1sJu/SN9+BFd2Cj0NVGy18EI/ZeWzWT6NdK1bKD9jLPeKtIihc+R4MrXvp2sdxNn2P4/yKfsCHzXEKPzf5iXnSCT6Ko+ZHL23ubqTQFQ7om81pe2KVOdEoHOP3uLut0EXH2UIMs0mG17gO49AVhQq+gXfsoT/5nL+xF60a8zv+vAlzOYbihpeN7s0qdMlRzYVWe/GhK+u9ybV1EU3OuuSpFHFRIcLhMP2mUw5fYIOHm2L4Jo7kdzQFV8QlOYs9lQ09f9Xw35hyPXkurOFmn8hnxWb7SXkr/diEZ8aaf4UzHRCP6A79o410YFMuOb/fz9FpWmaeOOarn82d1uOYn/GMBi0tdNF4MY7/4oE9hYMO3NqkeZvmR6eO9URX8ICr9dJX+bnvvfgbv4ODFxvStdMUuvQLG/ELvvQ0hc85DjQF7/GMxnhQxeGdhzTsJeQ6Dn1oI32WN+PYvOEe26bQRY9PW+jSl3nRJrmE8cUpc4QfTfR9cBsLXbSHxuAEbaLxeGg+9IW2izXw5U8n8Yn5mvvzKxBYXOgSsCTCTlN9nRcdRkAlYQglSVDo4vCSO4m7jTZR29Tc4+RMIiSxQFb3eGTdeGOhS5InoNoISKY2ncoSqXmhyyZZoUtyaU1pHI+gECUBQALImbwQLg2JjU24ncrlKRFzkGwS2GM+0cVBOD+HI0xexFqCKAHmUETCV8JNrCQFAiRsz+sTXewggAm+Cl2Cw1y8BFmcEWTZWROwBVnrlczbfMJBEJ0nOLHp+BWPcFXioBgxJkTjdfneOHhmDgK55NPGG2/0taThkhMSwYPIKdzykV1jS3KszyaayLKlE1dcZXsckKjiquQQTwQTQYDfeKLJV/yFTZI9CZT5wAoGCodOMYm6dRJmhRj323TZRM9Po62ZwBvbxtKTdZJGgZ7fKQZIAm0gXGeTZ63msa1JtOkIm8AWPrsKgfqxZkm7QGTDiSP8gw8YS2C0uYGJJFHRWmDhH3zG/M1zV6HLhv329WbAPWxgffNNizVKWFLogoPH1xUKxyaJ4Mc4a64SQMmbxFG70UIXG+OYTQPO+IobOAwna45W+L1ALRndVOjin9aN62wLu1FPs66bWejSJ3/HpxSh6C48cYid2UPySxvMy/zN7SSNDfiWzZFNgZhnDOvbxFH6Ait2s5GnHxJiOhQfVXTGYRtTfeDLtuZvfFXcc/qN65Id/NhX6NKnDZFkDk6KOvqAEx+zIdAHnVCIE1fhpnABJ0kkf5Co2fTpy8/WI+5r+lV8UWBiX2uiddsKLO7hu5L7q+uCCE5L7uALF9rCfktwEV/hQnvgwrfMw5MvbKCoQIP1N2/47+kgRQj6SS8VzWCwVKuXFroyts0fW7ADnpgfrbEOb1+jMXIYWoxf7OAeOYq3WMGevRwAukahh93kIdZNi9lIYsxGNo7bWjbK8ha6xl4w4Cf79Dd96gNfHBzwDXqiOGpOMLTxUBCgLfRZ3w4VxW5+5ekkmxt9iDF+vwR7scjL+mi4XI1GiU3ipTGW9JN1LC100ZLEKbmrsdhp10Za3/wexuEkvvK5FLpoJ78RM8RSXJ43WmzzBFO+Aj+xi93ELtxwb2J5Yte8n5P8LGbiFh3Li3+wlbZp0yX/TCHK/OQUYjSsFMd2YbVpbjhGv2mVnP/6ei8AR/mrgjlcNN/TKRiZF65teqJLHiSXVOTywplxTtaszxyyW7+CZ3J68dFBprxozO+2FTvdH92/mYUu+yrrpXX01/eehLG5x/9xn7IJV7/jd/iUQhftdaArb7bJnhd6t/WT3+8rdNFLdrKnovnyDpotltnY24fgLy4bn28t9WP5KD1XsMYPsUu+SsvEm12NzTN3T7mlwIVj5gbrFDPgrH97xJMWuvAghVb34ihf2sad+ZyPWejiuzQVHuzke7aDEx/wlT3Zz4t+yS1OU+iSx9E09QF2TCwY/XKOhZ/lCMbkh2KeeoH9NvvIXxyiyelxYN7Y07g3UujSB63gR7ScNsEp2oQ3mmvoovgobx8LXWIev6Nt+awv/IOpv4kF/EH+72VddHST9s7X2J83I3CUQhfyEjFBHTkZbVNDwvNS6LKxcSplk8eh0wQxyel5KHRJUjkeZ0l1WBDjRIKFBEXSkY0SoXYtkec87HGeC11O2BS6bDQldvPCBuHFGRuBXYUuOCjGSAr2BXJCSnQlDe7x8642Frqcuipe2PwvKZKl35td6LJRliwSXQJqcyEZkLgK2hJ2OdfCAABAAElEQVQ9m3EnjYKvoEBEifOxCl1JBOHLz3B0V4JjftYlMRLIcGFfMhN8+YOXQAIPRRo6w48FbvaW6Ck+SRjhAYuLVOjiAzCQ9CvISjolB9buiQa40gqJJpz5nkSEbitOwIduw4uvpdCVjXLuDeb5erMLXRIKSZiNtk2ot6LTagUt86KDnri1Lm//kigsPT3NnFPokhCl0GXjxm826cFY6FLExSGcNi88D9fNhS7g7q6EzkYWtyU7dMj1dH5pocu1EmS2VtSge57akVzbkNpkK8heWz8JILGyofSWHf5nM6+YYE0Kd/RSEUPRJQXtFLrYwTytyaZllz9akzWLOzY2sDU/BSDcg+8SXOAPF4Us14tp57nQZX42DopatMeTWgpdbMEO7OGUn5+xBTvQJok8zD1RqTBEu9lBwcTv5SG4eexCFx+RuNMGvOZvNhc2mQotCgoKpPjg4E+MYV/6PRa66IjClb+5dl9zeCAP85LjKHTRc3plfGNt2txs6/c8FLr4dgpd2/ISvizPseGkLbhBm/meWM6X+Cx9DgY3siESI2zOFFI8aSE24CK92NYUjfFB0dqBEu2lfQ4oN+Vt2/rJ7+UtNonm4GkNdqYd9Iffwy05OS4qJPCtQxe6PLE/5nfb8pVDFboUBOS7ni6Tp8GEHijWy4n4wr5mc45DniblR5q3jSsAyglv9hNd+rff4O84jCt4LIbQRfooPuMY+9FGnFnSUuiSy+CBAxT5AFw2xemxT36FY7BQxFR08DOOiVE45iXn4QdyC7HKAxAneaKLRlqreCfXVvA4STHvWIUuNsIHfuzQHR7iESwcsPA7GoXz4o6isBgm77rRQpfclP1pzT7+ySMSB3yFq0KXPNP94quYggPzxuY3WuiyL6C7cmgFZ1oJu1Gb8EYswhvcNMd5ocvczEd/eAxTezT6CXsaaO+rqOegW04mL78RbZ/jcZl+Pkihi/FsomzgJcsCNRI6eRAofL/JYDaWEiUijCQcy6PdDM3piDThQDLXcsBDPdElUEssCVuCKmKctNDFcfNWtvkTHDAiLhJZRBcMJG3eCmDjKJHXbOg8Hadg4XcSG8FJv5zEhoHTCSIKL4IfJ5EcEhFOl1MVH6jIiazpoha6cAIHBRgnBgKpzRF7EiRiua3hJbzg7L5d1+rDODiREz+bWXaR4C+5Xx82C5JEwdQ8cV6AYbttDf+dnKd45UkBdpdkEkTiS0jxw4mDTcb19emD5MLG1omEwo6nTiQXNinWcoxCl40p2wiogqW3E/PlbQXwYMAWMPWyqd5nm9yXr3wAHjaX1u+roghMJIr809Mi2XhdpEIXTkvk6IjPmlC0oTGe0rFeyRdcJYg0hG1sMugIPp+XQheOOnm0DlxVVKKHCm6SVnOW5Cgc0Eg6t6sAE26MX1PoUsyjuTZstEMxdtNb6yRZfIuOS1LEDL7lsX6Joyc74KloIRGXyO/ybRqE266hQ+avcL200MX3JWCSJm/jNG9zkqTCTuIFM36HF+YufvibMRUgaIcNlc2PTRDdzGbc/TjkyaPRf/FnW7MmuiSOu85mHb5wsUE3Blx2bdb04eWa4CJxPc+FLkmxjTo7iPXeKkHb2QKOYrEnovgZW7ADbGBEl9lCQYxms5cNAa3CBfqkMIZ/fBnfxYBtCTG/VsA0F/rLN/CCb/P7pXpqbE9ViVnmJj9LnoRzinoOe7zMP7ouDnnikp/gsyTe20xxbF/DMzb31UbZ5oZu8w3x0kYAL/BjSVta6MJP8VlsppXGklft4rqYIvc1T7lvnjKUC5qzzQ/cbIj2FbqshS964REMxS65nr7EMP4u36A3OLNvk78LH/3Lsz3FBmt8xbfExE33mg+ddPjAp9nBfXQTx/j8SZo58Gn5DT7RTesyD/oEe32K5fxCLHD9IQpdCnxsmLcuys+urg9+PHFpDpv4Zl4442l7+xVPTF1bHyooFoi7p23sb50KgHyPXvI7+yo4s9e2lnzQ/soTrebmSTh5n5jkSSg2PqmtYGMf47B501sXMx/jK6JGD3FG3GE/mgBHWuHBAjxeokfybjogxtKjvHXRmmjprmbesLR3sr+ydkUbcQ6u4Zh4b4402VhyoZMUuswNB9jLgZBDjW2Hgpvmm0KXr3TX4R3+0cJRr+W27OAAwLso8MILnnzG3lK8yAGldXhi0VzYXBzCWftD/OXDYg3O2lPgbTBN3GYjh2inKXThHi7an7GXWMD+fHxXw5MxFoihcj42Yjf6zEc36TMNxTk28e4KOu6ADUb0ZUmTI3lYhD3FBnFH/oI39D28wS9z4muu21ToMp45sY16h6Ivv3CfeMOeYrb4nAduYoMlc+01r0LgIIUuSQxn8YQLQjEYRyGokh/kGIWMALqHmBAFJyd+VjQgDIImAwvst0Khi1hYg4TGposYIKvNT5IQwk+cXaOwJ7ngxCcpdAkINjQKf5JHYid5IoYSXgk1MeQsnEjy4pFlAYIoXORCF04RUm8FgTUsPNXgrYFssilBeZVbLP8uJ1WCi8SMfQm2sfY9pZRR8N5mGLfZRcImwWLL+TytxZgKXMZkV76BNzavNlC5J1+N4z6bHMm3gCZZEtj5lhd8jlXoUgywZokxW8DKk55Op8c5B58b+Wrd2rzfFCj5qUBJo2CejYd5XaRCFx2wKcIZCZvCDbtLmiRCaUmYvCVA0mQTesxCl6RHwdFBw6YNsMRAbJBAKLb42cGJ01KnjH5HF+mfWCNhO2lLoYuf6NMpof4VY+ebCfy6vk6eFDG8xVXC4jNPYKYIZwPIr3GdvylWSIwkWXNO7ponn0+hy+aPzWBkLP2MfZmTxNWc6L17JWI4DTtch5EDFYUC6xWrJVcSUPrlWhhLdq0fjpJrzdtQXC92ud9blGxGbbaWNDaDiycxFCsVJX2kAFw2ad6uPiWGNiwKRNaVooIEfd6Me7PfuoiruMYWm4oBEl4+pbjkxFYij+PwNV+4yg38XuwQy8UtvgoLtsBD+ZQNrWKL+8V0OuqJPUUPa6OjfNrGJXnGiEE2mWIiDokXEmiHHSN/xns2fY9PiuaSfYU2MRXX+SEO0Rcbe58vaCMVn/HUhQM99+CyvEiRDIbbinObxtcH/sFJLmMTYaMEw3Hzt+ne/C6FLj4r9smZ+LeYPTYb4cRm/Rsrh4hzzPgde/MLOhv78h++LzafpNCV2GU+41hsjfcp+PmKf2xvM72pGD+uadP3xtKvooMXbonHcna5+yY+pR+FKXbngzjhevNQ6DpNcUcujPM21LSJbWg5LuGJZr4woEUKFYqLhyh04bVcUiyUJ9BAfOVrCgBzrF2r8CwXNH+HLzSaP5wGi2Dsq6fW8FHOIi7ZnLO5udhk0+Jtbcx3FAZhzFdor6Kdw2F+usvOm/rGdzzfVegKj0cO6wtONvX2PzScbsFKwZ4+7puLfJYOiK/yST5AS8U6Gjkfb5w/TfaEFt9mJ09gpwg15kN0FsdcK3acpNCFG/J0RUX5tlhqfTScti/RKnohRvJxhU5P7/EtcWPEh7aLA66VA0UPlhS67B/ouTnSQ3FYfqB4Tg8zz+Qg+OPzrNnIWrYVusQs9zvEsvbYg86IBTisPmB8+qhQqb+TxAJaiwPiGf7KRfQhvxobDsp95PTyDoVrepJ3bS0tdNEjXMA5Y8s3xE99WYdmLHkg3tABhx7zQtc2n4CxHIyf00D8lBuJk+IsbW07OQIHKXQhMgFUbRXwJSZEDZk4oASbECVxlqwgvgRJcs1hEccpPRJJyDibEwMEO+9PdBE260BUCZ0EWBBGVusmUJyOw7gOqQULvz9JoUtyp9ChYqzQJcheWT+2SQwFY+MSFyLIKY0lWHMmSelFLXRJsIml5Id44w28iSDMFJOSMJ3cZf7/O3Ad7rCV5BmTDYiTwgke72sKnhIiQUZgdRIjmDntxvsECP2wnYDnRN7JuaAsGeNTAtR47fxePklE+ZCNFw7gCbwktccqdAkCEhtvcfF9NoqSiPmc92G37+9so837ZTeccLrDdjbekg++40SINl2kQpfAKrmVrAm+TnAFeQXG6DCc6LB12zy4TgFDsiSBPMZbFyVPkh7Jt43wvFmHlyRCEiAB1BwimLeYo5jEfxyU2FyetKXQ5WCANtNtJ39X10XBMYE2DzySZItJ5iTZktTA1cbGW4zMCdfd663icJe0zDm5a55JMm0ojCeJ1o8kUtyY6xnes7fNp6IJ37cRcuJIk/g9naEXbI7/NIU/KDDSFbHFmmmZJC4bKfHZ9bTVJpetbETF6VF/tq0HbnBR+IEL/tEAxVdJ6klwOetCF+2FJQzox7wlPrADfGksjNiMHWw0cTWFTxyyAcBtNpUzsQN7ePLLz2yhXzzlowo+NlQ20zaseD8/0Ya5TaX+HcTBTRGD5vLxJXbL2oyNT9YjZrEXP7OpkWsokth8s6d5hDeKr/4mbuGmfnALjyXwuS7jbPvqKT45JS3zlT7xfzjqw3z2NYUufuRJbAVaeRdbzAukNprskXUayzj8e85TmDh4lP9ZI5vis9gsprCnceVit+95oivaYh1sM67J37yFWyw3fxs3b2eFAa2ioSdt9MXm3ybWeuUueKFf/e3ix1josunET7l7Do3yRN/SOckNcBSn7Q3EZPqgHzgEG9eZL402h0MUusQiduNncmdaygflknImBaaxsYuClAI0fZPXi51880YKXdYsjzUHfoeXYon9lLcN859tNnIvrihgilPyP/bGd4UXRQiab53b+hjXOH6P87sKXdE/dtP/2Nwr/6ONfAJ2iitimpiwTw9oKQ7wN/tMPhb/pIHz8caxFclwTJFLzq7IQl/ZM/mQueMfjtnL0Vk+tvSJLppIq/DT4QItxCfvGvB1n1+Zr1irsCkus7mir1xE7Iifs69Y4Br+5yvtzdNKYgd7y4+sl/bQ/TzRBWe6RU8VsPga/6XLirnhhL2scRzawZu+iX3bCl3yCrwUC+y7jKMv86U1DuLkM7hpLfC/us433LPLdqMdYYI7ageetsIffdDnzNv18iHxJ0/oyskcWDjAxBk+vaTxbbyhkWKYYr4+aFP4ijfyG7yBNx0bC1345RrNHPPyM2zEUOtyvwK7NbEnPz3Nwa1+L3s7SKELqAwpqCMUkSAmiCAxlGBzoDwmq/JL8DgoZ3SdpDkV3ivrwoHmb7dCocvmy1oIgsBoPdbsdDbBWkHDKZgXnIg8wp+k0JUnuoibyjjxsJkiUAIX0ebgRJ3jERYO6ndOMcdCl6BBKCSiCgDsIzBLXkfBmAyx8B99Enrz84iqJNyGQEFmniCMXQooBEIiSoxO+hldCjeE8/r6SQvJhkKGJIG4e5qQqBGMnDQLuLDzwtucCLHbkrUTJ3YkuKr3BFWCK5hJJgSaBCW2YHtB0By8HYjtFbsEDwLnWkUufFGU4yeE3/wUjF3DnxTHJKK4RQQVNq2FGAtIxhU03G8d/sYeMBEYbLYFNPezNXs5EbIG9jf+IT6M3jg2WhIciYq5GStFSAmB9bKFAA0fGFsHvHZxZ+QRHguitEUf8LAufesPHrCQiMBLcsT/rqz1hg3ojQ2nTY6kYX7iJwmRPN6+Thz0yZ9sEOanSQqTfJyPSsglpxImScLYkkgc4sPoYUwDFCcUsfgCvOksHpo/HYYDLtNtxQybHXM9VKGLHazbBhw+EkuaQyf4kL/zU5zgM3xSs2mns5IOGksn3EvDPEGB0zlUGDFe8j0MxBmFLpsKGEic+CQ/wSGNL0sQcchmU/GCtkiEPR3C95yU0l1cd60CFZ/TJ3+1JpsAmswv8NQarRcO+tD8nf87/TaWfiWk3haDqzaXcOIjSdT5ujXQJXMwP7rvKQD+lkIiu8PTJoguwM0a+ZokkC3wI5ttGgRzfsEGkm5ap0/xzdzxzZz5r7nyZVqmX3+XzHkLAN9RyDE3uNBnuFjLHBfXuNffg8uxC100BV8lzJ5M4ju4ByPcwFdzZAe2jdaES/QC3taiYKJACDuYaylG2XDYKPg9O4gjCia0SZ8aDOFvo2cjzp768lJ0o3caXqWAjQs2pvCj7Xxs6ZN4U2f/+w974pR10XA2tGZjwgQvbcStM7zBB/rnQEhsh4X10yFFA9zAYy04mzsOOZRhd33xc5oqVtFu/JdT2OBYC8xgZDyxVh/mgadsow/aDQsbUD5ps4J7ntoyHv7BPZsO9hBXjcXv6Kb58DVj0QIY03mx2RMGrhtjs3X5u3Hxno1SDDLW2MQmPJGPmT9cwykcMy/+bTPEDsbxgqf1LGkw9jIWu9i4OXzFQZsrekfHNuVB5oADsan8yqaMbWHN9opBig9wCg/owr6mL/3IA2kxLslvcADW7ENLxWfai3988hCFLjrN5sYRE/iatYiJ/C2HKfDANXoER/HTV1p5mkKX/rzgGxvxdTmir7jmIQDzwHtaM2/ulYvKgUaszFGcsn+Qk4sJfPY0DXd2FbpoPz7Bhu3lbnzL937nXsW75L1yd1oKczjvatZHB/ga7uEAP+ED8jDxRj/G4kN5iauusy8QS/FMLqZIPGLBdvjH9ooV8iK529JCF22gVYrx9oL0gz3YjNbQI1hYJxv7G5+nBWKJ31uf8e2haJ14zG502xpoGS3QtxxKzoZ38lVx3vWu4zM4sKnQBSN8oqd0jhaLIebJd/1d7mEu+ra3pd/0i3an0EV3jAMnT0zZ07CxOCM30A+e5oWX/Jwe0kXj8XPjm7PrNRyjr+zHJ+hA9tH4Q8sV/OUT7tUHe4oDORRiSzEKPvzHtThir3ySQlf2s2whftEmfMMbY5kfbaLb9tq0GQ5joYtd8UI+7qu10PbMlT1pIFvZf9AP81Q7Ye/4FEzwBM9xum07AgcrdBmSEW0ykZCjchSOIHAmaLuOgxMpfyMODMpRJXYSkyQ/HPVWKHRJGjhTPpeDSFizdXBgCQJsCIWEkwMSOA59kkKXZALpFRKf8IQnTMkKHI0DR33DlHNIABOIfbUZHwtdbEOQnUSaG6GT/BEy9y9JUNhybIQpwnDMQpcCKdHFKwIuqRRMgzkRlMAlwYc9G5ir4Il3kpgkxeOatn3PxhIImz+BU+CxOZEopejoXhtE4mxsfzcX3CBuSaTYU+JhjvAn7Gwq6Ao0AgOREyidyEkO+BNeWYuAJYgTfYm7wh0bukcSTuQJqZNAj4lL1vCSvY5R6GIb87ReibX1wtp8rdd8rRd3XScJYhe/FzAlCUsamwhICoK4bUMqQdC3/viOhNTfYX11nTBKYiQaEg96c1EKXUlmnNrhqA3DlfWmWZCnBTDBLcEXR+kB7CUDChCHLHThHV7SHpgbl/bwD42vsL15psCRjR6NZWP2ik/lUXlrPI1updCFmwpdKfqkf/GJr9F5vo6fvh+TSwk9n3Od/vBIfxJrSVF8X4LCNjRZrNQXX8BHCS3f1CRQ4gP7KS5IsuiKZFbiyH/Nj1Z4aYp+NoGKge6jM+bucywU7uiHZmw6SSM9YUUnzF/fijHsPza+Q1u9RYLOmIs52zzpl+bAnl1pLt/jy/yLrvJDuEh0aQD/hw9c9EETs0kxN0mqRFhM07cCgj60Yxe6zNu6zNlptKTWZgVfzVkzRzaIX/kdDGwQ+J44wxbs4HTfuvWhsQNfEM/ptHjOBmxhI5AxXIvzbAXD29cxju/CmQ3YGT/whs5lo4Zf+tEn38cZPD1Nw2v+anMkKdcPfZWUszXtmDeabJ6Kqp56MT96a7OgKMIfYOw6OgQPHBKr5Dt8hU+7hi/hDQ7iCRwVZ4xLz3CUT/EDP9vIso0+zB0mOXxwL3/DP/pjAyHWuC+xObHK5s9cxSrXucZcYWtzwwZ8KxsUvGVvbWmhy5oVCGAEA7GRBrK/teM9nsDfeDZSMKcXfG9fgzt88Ac+YiD/16/47OkKfmYd8JoXHWgA/rET7bOxUySHkcYODobghGPBYAnX+AfbKA7wGTyWjyoumgv72PzL2XDh+vpAk08eotAl14AHraKlCqNwtw5rpFX4AE95nb/BQv4GW5twT05eO+ETXWzsFRtZs7xPAcF6jSdPTVHHHOeNbcyJTfCSnuCGfYennh124VR8an7/kp/3Fbrw08Ea/PAFnsbHJ74pT6Zf+GQ+Yiges+uS2A0jepI4Yp20V+Gbf4rd1syHvHCdn+M2e9ItxUPxU0xWJElcVKTAQ/OgoQoWtG1poUtMZCe5lBipKO2ARGzFaevlz3yDzrsOd/DKOO7Haz6ZIpS10DDxgF/RHhjDEZ7srS8xW+F7SaHL3gHP5Anikz4UidxrLBiyHy6LY/SQ5riGT46FLuuVR8o3FMNooqeRxH15Cn03b7yjiWwnj2ADnKCnOH1lnZsqALEv7tNXNjCuIrwDfpzHKYeDagzigP7YD8/Yk2+6R/FNkQvW1mpeOAJH66T7SxoO6cfBknm7zwMDeIND5kObcAVvsq8cC11ilfU4dIapPaL4Y738ANb2Jfzc2j3Fp6gNO/kGP4YXXsAWXnSobTsCBy10IRijEn+OniDAQAjMKTQEJ7aCInJKliQriOhvCdwcmqBJknxvM+BEwiOYnCjJRJaLJAjufyZCTg7qUXknBvofTzEQ0qkA4VMZV7lHImLBMdMkIMb21IskhFMhef4rYusQYLJZymkAZyRa/o7Q7rNOcxCICBUH9DSCAObvnFITKIhkHJW4KFAgOHwlT3esN3sCIfG2TvgaiwNJkggNJzEWXDjNWOjyN/axcbRGQiExlFwK6kuCTjDKV+s9y0IXfsFHsGJTgUswIUbEHb7WlZeEm7ATPpgJIkvXTaDgmuDolAmOfm+sJCKwFMAEM8mbDQneJqARMcE6gcu95sEPJBXmjuvsSiCzceQjxsI93LQZNh9NH9YBD/cbX7JBHHEJB/VvDscodOGltdABgVNAFKAEasHC+szHnK0LdpIXc6UPguSSxvZ0hw/yaz7B5vpmB3j46ncCJzzZw/jmx88vSqELB+CBl7DAU0mfZMV6cUwRyc/8gI7wmSRkhyp0sSPe0gk8oGPmaA54aW4SVhtzSSHuargq8bHJpmkSC7ZznZd5L/XdqcPhn2i3jbQN4NV14i0Bo5F8mk7jjjnQWpjhp+SZpvNNeKa5R2JDh3DRWm2CcJ0v4Dge+upnyROuK+aMhQ04OUDRh4MjfcDDPVfWiaF1i2vxDwkvHxM/JILsi+M+68kYiX80QV+ScE+MSbQk4zZDNgX6HJu1m4u4w3/Zy/okgfrkT9aTNfFf8YyuivFZU+YHF7aHC6zgAr8RF32wqVgLF0Ukzfpw1RNzEvRDf0ZX1u6gQJFTIVRBAl/ZQsHKJiUb4PAAPriUAym28MSLBBZmiQ/sAFcFR7jIS2ysxGIJdWxm7ebCdtfXCTE7yA9sMvQBOz6vsRU98zPsFXDCU7Y6bcN9XFHwE2+Mgy/X1pt6thrzpoxhvuISbWVz8Y7dcRhW8OO30X55Cj7rl38nLuiP7a03xWZ+a43R+Pg/3zUfBT7fi7e4J8bKq+AMQzaEjzH5n+Kl+chjE6vkWK6lncYy78RO66dX5pvYLEcNj815aaGLxmQzBCOYmYv+NWN58QNj2DTLWfAj654u3PCPOMDP8tSuvmFnkw0X64G1gikew47/jk28tlmUM8KGFrOFOWvmRTdoo+/lkTQHvnRhVzM3xTNPT/EvOZs1yZtxBAb8h519bx3mc8hCV4pGOMvP+JsWzpqH7xUF6JfrzYk2OozkE7hn3ksav5K7sAl8xRq/4zfJ62KXFHPm/Wb/5aAAV4wtv6Wf8kYxi2bts8e83/FnukJ3aQBNZG9aRdc02iiH4mNitPHgZMzsAdkRd3HN3MTPkzR7q+grvHEZXsaiq/xPs348FqdpoHgldthP0gIcxjHXuc/9XmyrT4cb9oMnKXQZFxfktvIpsRsmbGjd9IMewcP3xr66zjdolXFpPJ+0LvkI3tEe8Tmcwzc/8zN/Nw49sD8Uc/0dF3BH7nf7+lDE3/PWRWPih3vND8dxzvxojq+0jrbQSFjrix3FkbHQZb3WShf4r/26/rNWugpD9vZ7vu5a49qr8/XEAuvj915sGK2jJfIIv4MPW5s7jsFJHzTOuo0LX+tgS4UvdmbzK+uc6aSFLrpMm2iOmIf7fABvjBEbGgs+1ubasdAFa7mkvZacwBrwzfWan11DKx1ciH20Ex5iJc4qeLOD+gcb43TbdgS2Fro4F2EiUhJlpAT2tbVg+4r4SxsiMCwyE2+GkowhqKYvjmrzzxEIOMFE0LGZj0RD8FMJJdQq1x4fRBIBemxZA8dOsuBkELkRyJrSOAfy69+1yEUMzEnik2be5kEwVHQ5nwRUMJNwJGHlEMSC49mI6Z8gc1oOZmOtmGTtKrsSIIKoyCVR1i9iayrVBMO8/E4SIgkj1hrRhC9hkfRxRH0ZSzFFwuIl8BpLgio4Emy/51BE3xxU4q1RkZEDmSMR1tdJW+zOXjakbAV7OI0J+7zfCBauCMw2XAQ2eOR64m2t+Ckh0OL47GDeGh64Djb6hiPuCbTWxQb6hwW7KKYQrgTIqZMF/0R0BTLBgvhK/tjCXI3FrkQetuyo4JRx3C8pyf1EEG/YQyPa5mmO4Y/fhffEEeY4TFz5GV4YW4OJQI8Txuc/1qm513UeJcY1QUIyJGGBD6wScPmTfuDFPyRw82Yd/MTm2Tr4KJ/id/ERfQqKOQl3nfv4jiZoCBiCmjkreODq6Lfzccefref6elOCR3QsCblraAvs2ACWdEeC5ffsBEfzV3R0eiO4evrC+Oak6U9wVlhkQ08SWR8bjY1v8T2nMNYrKEnqrGlseMLe8DU2+7CTxEAToP1ewmVexjMvczJv6/V39jdnYyjq41zmjA/4pQ/FLvNhezaRtNigwUMfArk5sDMe0GQb1XEMGuSEbRxjXBOtcT0NdDpPc+iqOYcHrs/a6apx8cB66ATNoNtihGQiDU88hUAfzRe/FORssDZtsnPfvq8w0p8NDW7SZNzws8SFfvBV/DQn+LCDuCWRmmula73wxWaAb+pDwmqNmvjFF3EdF/kVvMf16oPW0xSck2wqhLA93jn8wOf4Iw7DHz6SKnP1d77If92n8UN2pVl4Y55wnyf008XDP+aOP3SO74p1NEKSqdHr5A24jo/sHh0PLjYRYg9c9AUXc9fgYt5wwUsaYG58V7P5o/3wwBk+IR4bZ96sU4wXBySJuCu20LckmfN7tv0MV74KL3mNsemwueGLWCfGhuOuZ3sFOdf6m5wBZ9khsYod4I/X/NM8cZoP8LFN84x22+B4iXHiXeKGe8QZNqA94s8mnm5b67bfi6HGkFPYhLEZG7OB9cVGm+63waGLcgO+RpP8Didggfd8WAxic3Nm09G3XOsePmrN7GrjIc/S8EwcUxzlU9bPx4K16xSO3Ud38BZWch8aJcfyczZUuC7vdD0tYP/EKhyCqXHogbzJvYnNwUAcoCF443o+xhfhNbb4FlzZVCw3P/yAAW1wn80srcCNUSvGvubfsxnsPTFFG6wBh+ZN0UHs4SdyorFZgxgkV7D52tVgzifMkx3nmMzvZVfzoQXWTpf4Ab7BVD7OPvqyZvHCtXQNV2ihMWgRbulDDiA39GKr+KWxjYe71iSXdF/8Exf4J8xhT5tot3yCDtMu99M5PiYOiKMwcR2uODT31D3+GntJ07dczLx9f9qGu/IROXeKr+xqTck7T9u3+/AUJp7m4xtwwBm81PgIHGikGMHnxn0fW9Ik2i5us2f8c+pgwT/w91KsEhPxRTzhr2ymPzpgL4GDfBOf3UMn+TIu+2pubG0e5oT7vte3J57cq5CHY8mdrQ/P2Ipf2iPzzVH/jAUL/n/H+jAPX3Encc61+IM75mhsHI6NkrfJo/B0zNtca150B8544+fkEXI/OMjDxGja4x7xByeTT2cf6X62wmF4mIP1mhu74qM1aOIyv6M/ySesiS67Rl/6YXfrkc/KSeEDK83frI8Gs4FYQJNgZmw+IxZYE2zYEfZjLMBDeLK9PqKXrrF+OQFbWq8YIWbpQ/wVs/S5pJkTbYKBmGM839Nm6zfW1XWhkm7gDV7BAEb8Ao7mZM1s6e/sQnPkJ7gqh4CredG5MQ+U7xnPAY3v5Rmug03bdgS2Fro4hs2HgEgMkJQzSqIRz89LGwNyGBs1BuYEyJLgqi8kYVBG1r+fRyIbS4CWMEoUfS+RkQRzAgSZX69/13EAY1qT5ILwW8u4BvPjAOboWoHOy5zGoJg+4cI5sxk3h1GkXYf8+nOt/o2vJQEjvuYgWUd09xAM4q/fiBxR04d5WSdnsg5YafrVv+uMZ1yYa0TMOF7Eg3O4Hr6E1e+NRSjMwd/Nwxiw9fc5rlPHC/6J3dlLv/qDPZyMv63hCDv7CiucY4PgkfuIjrWOST1cIoKZd/CBjX7hGHz0pV/9w9N68c/PuT/jLfmqX5wzlsDhe3iaqwZr6zdHGEvcxnEECX4neTBXP4c3uGJe5pi5mnvuN4aXsd1vfLzI2LhjPJwwPmz1p+VePoBrxnIdPI3h79ZhTvxJP+bBP3w/b1mH4O4evOZPo4/o03XBK+s1jma+5sFXMxb8/G5JYwucxyNrwhXjafq2LjYIlvDwe8297ABLfm7uguQ4vr5xyRrZgD+ZazCdOlr/Eyz4gO+jK0kwcp11sxd8jW0+fIatND4Kq/g5vwj+xodnsDQn64L7OGf961sf+GE+7rNu8/Fyn3XjgjnAHg/47JIxsp5xzvDHSRhZvzkFa9dl7bTCuNbKBsakGbD3PZulwV9BQIKk4OiJJh98Sj/Z9bQNRtaPNzSRtsMBP2HG5pr5mxN8rIluWNemBjf805816iNrZDt94Q3+wN9rvl790gJ9sK8+zNX97jPPaIpr4WcMthZj9O/vOMFnR/xdG67D1dhs5fpda8IfmMDG/ewY/2UrvgoXvMJVfY02HHHBD2vSp/kEF3MJLvoYcbH+4OE+PrFrznAzjjXqyxrNccQCdvsaXI1HG6zb9+ZrbuzAb32ffl1vnnzb9/4WTXSflwYPc9MvXH1vjjRgbrPM0T1ebOCFt3BJ3IC3e9kAT2nwNpumzyVf2YitcYt/+zmY4tpo53l/5gYzvmDONMnvrAMWmTNb6pP9N805/mDN7KpP+Gr6YNv4Ez+Fe7B2b+4zD2txD76yHx1hv1wPU/M0TjAO141jfsYwnq/jvVm/+9k1uSPb0hbzGhssR3z4hd/BR3M9m5onfOZ+NfY1/96c9c1utEG/XvMWHPTv+7FZA96zO47uarjAJ/SDe8Fz1z3WOeqKMcwRpvqzbn2xV2IZfwpXjMG+o0+IYcln4peZg76NBxP4wNecrTvXmhNuuc66xVqarsX+/IvtzZfNcCXx6yQ20rc4iGd047QteMHKvPiTNcFniR32jQsTXEoODje28dL4DBxwhS3YZPQZtoQZnzEv9jzNvMwjmBsLZubFrvpjn8QQOITP5mde7oF1/MA8XIdPvue31uh3OKQvc9eyPvdbvxjEp903tuhH4j/ujONFo6NXo41yb7hubdbMvuaUl3XgjZ/Tj7W7Fqeslfb42zw3ZBvjuN918TnzsF7xg131Yw2a3yefiN2sSV+4ry/9+NnfxTG53Kh5GZdPGRfW+jBn95h/sImGBPvg63p4xo58NNi6H++tmQ9G+/Shv/SZvvZ9HbEM14zFFmwOI+P52XpgACO/h5dmzWzpfuv1c9aLQ64zL77h53DJGuHPhr7Xp+vYu207AlsLXdtv6V+KQBEoAkWgCJwdAjYckghvN3dK6ed8rqOkSHLQVgSKQBEoAkWgCBSBIlAEisDlRKCFrstp9666CBSBInDLIpDTdx8m7a1LHtv3RJfHw3OyeMsurhMvAkWgCBSBIlAEikARKAJF4IYQaKHrhuDrzUWgCBSBInBsBK6vP3vN51z4TEFvGfB5E5s+S+bY8+p4RaAIFIEiUASKQBEoAkWgCJw9Ai10nb0NOoMiUASKQBHYgoDPLvC5Hj6TwFsU/eyDuvOh0D6fwP9W6z9JyeeZbemqvy4CRaAIFIEiUASKQBEoAkXgEiDQQtclMHKXWASKQBG4VRFQ4PLhst6i6MOCfWCq/+HIZ3P536T8r2r+JyQfcjr/kNJbdc2ddxEoAkWgCBSBIlAEikARKAKnR6CFrtNj1zuLQBEoAkXgwAj4X2n8Lz/+G3lPcil6+R99/O8zPoDef+l+z3ve85X/k9KBp9Pui0ARKAJFoAgUgSJQBIpAETjnCLTQdc4N1OkVgSJQBC4zAgpdL37xi1ePf/zjV8961rOmItc97nGP1f3ud7/VbbfdNhW5PMnlv3NuKwJFoAgUgSJQBIpAESgCRaAItNBVDhSBIlAEisC5RcDncil2ebvii170oumzuu5yl7us7na3u63ufve7r+585zu3yHVurdeJFYEiUASKQBEoAkWgCBSB4yPQQtfxMe+IRaAIFIEiUASKQBEoAkWgCBSBIlAEikARKAIHQKCFrgOA2i6LQBEoAkWgCBSBIlAEikARKAJFoAgUgSJQBI6PQAtdx8e8IxaBIlAEikARKAJFoAgUgSJQBIpAESgCRaAIHACBFroOAGq7LAJFoAgUgSJQBIpAESgCRaAIFIEiUASKQBE4PgItdB0f845YBIpAESgCRaAIFIEiUASKQBEoAkWgCBSBInAABFroOgCo7bIIFIEiUASKQBEoAkWgCBSBIlAEikARKAJF4PgItNB1fMw7YhEoAkWgCBSBIlAEikARKAJFoAgUgSJQBIrAARBooesAoLbLIlAEikARKAJFoAgUgSJQBIpAESgCRaAIFIHjI9BC1/Ex74hFoAgUgSJQBIpAESgCRaAIFIEiUASKQBEoAgdAoIWuA4DaLotAESgCRaAIFIEiUASKQBEoAkWgCBSBIlAEjo9AC13Hx7wjFoEiUASKQBEoAkWgCBSBIlAEikARKAJFoAgcAIEWug4AarssAkWgCBSBIlAEikARKAJFoAgUgSJQBIpAETg+Ai10HR/zjlgEikARKAJFoAgUgSJQBIpAESgCRaAIFIEicAAEWug6AKjtsggUgSJQBIpAESgCRaAIFIEiUASKQBEoAkXg+Ai00HV8zDtiESgCRaAIFIEiUASKQBEoAkWgCBSBIlAEisABEGih6wCgtssiUASKQBEoAkWgCBSBIlAEikARKAJFoAgUgeMj0ELX8THviEWgCBSBIlAEikARKAJFoAgUgSJQBIpAESgCB0Cgha4DgNoui0ARKAJFoAgUgSJQBIpAESgCRaAIFIEiUASOj0ALXcfHvCMWgSJQBIpAESgCRaAIFIEiUASKQBEoAkWgCBwAgRa6DgBquywCRaAIFIEiUASKQBEoAkWgCBSBIlAEikAROD4CLXQdH/OOWASKQBEoAkWgCBSBIlAEikARKAJFoAgUgSJwAARa6DoAqO2yCBSBIlAEikARKAJFoAgUgSJQBIpAESgCReD4CLTQdXzMO2IRKAJFoAgUgSJQBIpAESgCRaAIFIEiUASKwAEQaKHrAKC2yyJQBIpAESgCRaAIFIEiUASKQBEoAkWgCBSB4yPQQtfxMe+IRaAIFIEiUASKQBEoAkWgCBSBIlAEikARKAIHQKCFrgOA2i6LQBEoAkWgCBSBIlAEikARKAJFoAgUgSJQBI6PQAtdx8e8IxaBIlAEikARKAJFoAgUgSJQBIpAESgCRaAIHACBFroOAGq7LAJFoAgUgSJQBIpAESgCRaAIFIEiUASKQBE4PgItdB0f845YBIpAESgCRaAIFIEiUASKQBEoAkWgCBSBInAABFroOgCo7bIIFIEiUASKQBEoAkWgCBSBIlAEikARKAJF4PgItNB1fMw7YhEoAkWgCBSBIlAEikARKAJFoAgUgSJQBIrAARBooesAoLbLIlAEikARKAJFoAgUgSJQBIpAESgCRaAIFIHjI9BC1/Ex74hFoAgUgSJQBIpAESgCRaAIFIEiUASKQBEoAgdAoIWuA4DaLotAESgCRaAIFIEiUASKQBEoAkWgCBSBIlAEjo9AC13Hx7wjFoEiUASKQBEoAkWgCBSBIlAEikARKAJFoAgcAIEWug4AarssAkWgCBSBIlAEikARKAJFoAgUgSJQBIpAETg+Ai10HR/zjlgEikARKAJFoAgUgSJQBP4fe/fhZ3dR7398rNRQogJSJKAgUoIUaQlIJ3RBqgakWWjq9Q+4f4IVfqBcpAiKokgRkKImIkVKBKRICQkdRJqAXFGvvzzn3onH5WzI5mR3z+6+5/E4nC3fMvOa+R52XvnMZ0IgBEIgBEIgBEJgGAhEdA0D1FwyBEIgBEIgBEIgBEIgBEJg4hL461//Wl555ZXy+OOPlzfeeKOsssoq5X3ve1+ZPHnymILyj3/8o/z9738vr732Wm3HP//5z57q/7a3va284x3vKMstt1x597vfXd71rncVP0sJgRAIgaVJIKJradLMtUIgBEIgBEIgBEIgBEIgBCY8geeee6489NBD5eKLLy4vvfRSmTp1atlxxx3LVlttNabEzn//939XYffoo4+WF154ofzP//xP6UV2kVzLLrtsWXPNNct73/veMmnSpCq+JvyACYAQCIGlSiCia6nizMVCIARCIARCIARCIARCIAQmOoE777yz/OY3vymXX355Ib0+8IEPlIMPPrjst99+Ve6IZhoLhaQTlXb11VeXBx54oPztb3/rqdqit975zneWlVdeuUa5vec97ykbbrhh2WijjYqvl19++Z6un5NDIARCAIGIroyDEAiBEAiBEAiBEAiBEAiBEFgKBEQ7We535ZVXlksvvbTccsst5dlnn61RTEcddVSZOXNmWXfddctKK620FO42/Jcg6R588MFy9tlnl9tvv72Krtdff714WZKprYpILcsQV1xxxboksVvNsHGOZZ0ixcg+UV277rpr2XPPPcumm25a3v/+99efZzljN4L5WQiEwOISiOhaXFI5LgRCIARCIARCIARCIARCIAQWQaDl5rrwwgvLRRddVKOh5OoigmbMmFEOPPDAMm3atLL22msv4ir98yvtefXVV8u8efPKiy++WJcu3nrrrTVajQB7/vnna2XlH1tvvfVqG0VnidrqlFWWPMr1df/99xfRbnPmzKkCcJlllimrrbZaWX/99Sub7bffvn49ViLe+qenUpMQCIFOAhFdnTTydQiEQAiEQAiEQAiEQAiEQAgsIQEySD6r733vezU/lyTubbnflltuWXbaaadyyCGHlI033rjKoCW8zaiedsUVV9S23XbbbeXJJ5+sdbE0c/PNNy+f+9znyrbbblsIrG6i67777itEmWi3u+66qya5F+klEmz//fcve+21V9lll11qxNvb3/72UW1nbh4CITB2CUR0jd2+S81DIARCIARCIARCIARCIAT6iMBjjz1WbrrppnLJJZeUa6+9tiZub8nbLcvbZJNNykknnVS22267ssIKK/ybDOqjZiyyKksiulwQh7/85S/lqaeeqkshr7/++jJ//vy6nFEE1wYbbFB23333csIJJyxcwrjIiuSXIRACITAIgYiuQcDkxyEQAiEQAiEQAiEQAiEQAiGwOARIHPmqfv/731fJNXv27LpEr/Ncidbl5zr55JPLzjvvXHcetMRvrJUlFV3aiZHdG88999zy85//vPKSr8vSTsnoRbydeuqpdfmihPUpIRACIbAkBCK6loRazgmBEAiBEAiBEAiBEAiBEAiB/yMgB5UE7TfeeGM588wz6w6FzzzzTBU7ftcKmXP88cfXJXpTp06tS/za78bKey+iSxtffvnlcsEFF9SdHCW4F+VlmeOyyy5bdthhh/KlL32pLu2UuyslBEIgBJaEQETXklDLOSEQAiEQAiEQAiEQAiEQAiHwfwTk4Xr66aeL5Xinn356XY5nF8I//vGPNQ9V251w0qRJdZdBienlpPJ9Zy6rsQC0F9El8k0es/PPP79GdP3ud7+rglA+LiymT59evvzlL9dljJMnTx4LOFLHEAiBPiQQ0dWHnZIqhUAIhEAIhEAIhEAIhEAIjB0CopIkV7/mmmtqIno7EH7wgx8s99xzT3niiSdqFJPILknaN9xww7LHHnvUyC67FYpkGkulF9H1xhtv1N0Wzz777JrD7KGHHip2diQFp0yZUhPRy9G1zjrr1BxmY4lL6hoCIdA/BCK6+qcvUpMQCIEQCIEQCIEQCIEQCIExSOCll14ql112WfnFL35Rk9GL1rJ7oIT0lucROqK+RC6ttNJK5eMf/3jNRUWGWc44lkovosuyxXnz5pVvfetbZdasWTVfl2g3+cvwsuviAQccUFZZZZXKaixxSV1DIAT6h0BEV//0RWoSAiEQAiEQAiEQAiEQAiEwxghIpv7kk0+Wc845p9xxxx3F94ccckjdQfCGG24ov/rVr6oAa7moJKDfcssty8yZM8u2225bNtpoozHV4m6ia+211y6bbrppOe6448rHPvaxYhfFziWZmJCBItyIP0wefvjhKv8+8IEP1Jxcu+22Wz1XxNtYi3IbUx2YyobABCAQ0TUBOjlNDIEQCIEQCIEQCIEQCIEQGB4Cf/rTn2ryeVFKjz/+eJU2Bx10UN1B0C6Mdhe0y6BoppaYXiTX7rvvXvbdd996HCnUKYaGp6ZL56rdRNcaa6xR82oRfJttttmbRJe2Y2M3Si/SSyTXCiusUHbcccey55571kT0dqW0A2NKCIRACPRCIKKrF3o5NwRCIARCIARCIARCIARCYEITuO+++8rNN99cdxIEguQibzbZZJOaj8pyRjsxEj2vvPJKZfXe97635uo68sgj6/GW7on0Ggulm+gSgbXiiisWkV0rr7xyXXbYKe4s2xTR9txzz5Xnn3++ijBSa9q0aTWKyw6Uq6++er1G53ljgUfqGAIh0H8EIrr6r09SoxAIgRAIgRAIgRAIgRAIgT4nYAdBUUmW4UlC/+tf/7qsueaa5fOf/3yNavL166+/XnN2nXXWWQsT02sWMSQP1dFHH10+/elPl9VWW22pJl8XOSbxO7kkLxiJ5p5LQ6Z1E13LLbdczT1mGeKqq65ao9MGCiu81OfVV1+tEV1yk1m6KbqN9JKAHgeiLFFdfT74U70Q6HMCEV193kGpXgiEQAiEQAiEQAiEQAiEQP8R+Pvf/17zcV100UXlxz/+cZU3W2yxRU0yT9pMmjSpLlW8++67y49+9KMiX5edGRUSiMw5/PDDy6c+9anykY98pIjyWhqFUBJB9eKLL5bHHnusyi11WVoRU91E11prrVWXbJJ28o/ZRXGg6CLfRLWJgPvpT39a7r333qKuJJndJw888MC6jFOuLz9LCYEQCIElJRDRtaTkcl4IhEAIhEAIhEAIhEAIhMCEJfDaa68V+bnk37r00kuLaKaddtqpRmiJViJ7lEcffbRGdZE71113XZVfBI9ip8F99tmn5utaf/313ySH6kFD/M9f//rXmjNMfrBbb721yqTJkycXyd433njjGknWS8RUN9Gl7Ztvvnn53Oc+V6O0lllmmTe1RZvJtyeeeKJGwMnVJTG9+lq6KbfX9OnTix0rW2TYEJuew0MgBEKgEojoykAIgRAIgRAIgRAIgRAIgRAIgSESILkeeuihKrquvfbasuuuu1aZRCi1iCRy54UXXijz588vF154YY1kstyxJaW346Lle5YwfvSjH63RVwMjoYZYrZoH7Oqrr65J8L3b8VA01ymnnFL22muvMmXKlIUSbqjXdvySiq52L2LrzjvvrLKLJJSzCyftFhF3wgknlG222abmMGvn5D0EQiAEhkIgomsotHJsCIRACIRACIRACIRACITAhCdAzDz88MPl+uuvL1dddVW54447ylZbbVWXIBJJcmE5Ro4uCdhFdd1///1l7ty59ed+p4i02nDDDcuJJ55Yo5l830u0lWtKeN8puogloutLX/pS2WOPPWq0VIs2c/xQS6+iy5JPSxgl6T/99NPLk08+WWWcemAnym2//far4lB+sV7F31Dbl+NDIATGPoGIrrHfh2lBCIRACIRACIRACIRACITACBEgqSR6t+xOlJZ3ubAsPZRna4UVVqhyRtQW0fXyyy+XP/7xj1VAScbeGdFFOK2xxho1imn33XcvH/7wh+uOhL00xT1vu+22uhOkBPnuJ8n7oYceWnc4lA+rF5nWq+hSH1Fus2bNKl//+tfLvHnzaoJ6bVY3ObqOOOKI8slPfrIKQ7IrJQRCIASGQiCiayi0cmwIhEAIhEAIhEAIhEAIhMCEJkDUyDVlt8XTTjut5pwil1ZaaaW6s2FnBBIp5ngvCeJFV8nt5WvFsXYZlJdqxowZdemjfFW9FIJNVNfTTz9dHnzwwSqL7PBod0O5w0iuzjoO9V69ii71I//k6PrqV79aHnnkkfLnP/+5VkNE2wYbbFAT9JNd7373u3uSckNtW44PgRAYHwQiusZHP6YVIRACIRACIRACIRACIRACI0BAzqsHHnig5pg655xzarSUXFsSqJNdgxWSSz6q3/zmN1XuEF6kj3xe8nPtueeeb0pkP9i13urnxJroMUKO2JIcXt2Io15Lr6JL3US4/fKXv6wRXaLhiEKFiBPVduSRR5bDDjssoqvXzsr5ITBBCUR0TdCOT7NDIARCIARCIARCIARCIASGRkCElmgp0Vw///nPa2L2vffeu0oZuw5aIjhYIZ5IHXmpnP/UU08V+ark87JkTzL7U089tayzzjpl0qRJg11m1H/eq+iy7NNyRQn8zzjjjPLMM89UDhoml9jUqVPrMsuDDjqoJs3P0sVR7/JUIATGHIGIrjHXZalwCIRACIRACIRACIRACITAaBAgpkQj/eAHPyg33HBDTS4v8sgyu/e///1lxRVXHLRazrVT4wUXXFCuu+66MmfOnLqU0TLCZZddtkybNq0mpd9kk03KmmuuOeh1RvsXvYguEWyvvvpqTUR/zTXX1ET+ljG25PwS8x9wwAFFvrLtttuuLrHsZZnlaLPK/UMgBEaHQETX6HDPXUMgBEIgBEIgBEIgBEIgBPqcADFjWZ1lh0QVSWPHQLLqnnvuqSJG0vQDDzywLg0kuixF7JQzriEnl+sQXXZqFNElGXtbsuf4jTfeuBx88ME1YbzleyKZLDWU3F7U12hENrW6i0bTBkJKJBbZdeedd9ZoLF1IzBF0Rx11VNlyyy0XLpF0vqWezm3LKTGw4+Jvf/vbuhMltpZXWrb4sY99rC5bFB237rrr9vnoSPVCIAT6lUBEV7/2TOoVAiEQAiEQAiEQAiEQAiEwqgQss3vyySfLc889VxOoS/A+d+7cmp/LzoFrr7122WmnncoOO+xQJHy3dNHPiKlWiBzJ1l3H0sWHH3647tQoRxWB1ArR86EPfahGdhE+JJfk7ISPpYzybI10IanIvUcffbTm+yKubrnllppn7KGHHqo5x9TJbpNTpkwp++yzT5GvTPtJMYILM7nCXMtyTQxcT74ybBxHDmIokos0tJRzNNo70nxzvxAIgeEhENE1PFxz1RAIgRAIgRAIgRAIgRAIgTFOgOSxRPHuu++ugouwIWjILpKGiJKEnuSxq6Gk8jvuuGNditiabmkeuSMJPUn00ksvVfnjGkRQK8SOHRiJLXm6iC6RXXZjXGuttapIa8eO1Lu6PvHEEzUfmR0cRbU1YUf0tYg0ooroI+pIrxZ95niSr0WE+do1Sa93vetd9VjtxU5uLlFhRNnAqLiRam/uEwIhMD4IRHSNj35MK0IgBEIgBEaRgH+Nbss7TFr8Ye97P7ccxR/8bQmKP+w7t3YXLWA5h5+11yg2JbdeBAH9qW/1mXf91op+1rft5edtTPjaBLZN/Hw/not2Y9PecfPSflEeGHUu6xrPLNK2sU+A2Prxj39clxr+7ne/q89/t1YRUd7h1AAAQABJREFUM1tssUXZbbfdaiJ1yw1bEQ32hz/8oVx88cXlyiuvbD9e5Hv7TNlmm23K5z73uSJ3lSinkS7ykdlh8qyzziq33XbbwuWLvdRD2/AS/bbBBhvUSK7tt9++rLHGGjXHWT4feqGbc0MgBBCI6Mo4CIEQCIEQCIEeCJjA+1d9OUcs47Akxb/S+xd8QsS/yPsXev/Cvdlmm9XJij/mJR4mA37/+9/Xc0UFSGTczwmIe8A05k9t0mr+/Pm1zx555JHy7LPPVuFFUOpPkRdeJm4maibIdhYjxUxW9fF4L9oqcsMuap4JER8iODwLnoMpC6Je5CEiuyaK+BvvfT7e22fsyslF+HimOwV3Z9tJ3FVXXbXuGigaq9vSRVFdlu4tTvEZ4tWWM47m0kW7TPr/mki2Jq4Xpw2DHaNd7XNTTjMCTzt9jvpsSAmBEAiBXglEdPVKMOeHQAiEQAhMOALtD30TeBN5kyBCw7IOkxgTfH/Im+gsv/zy9V+oTVLkbTEBsszFEg8S7Oqrr65LWCTetWSDKOm30tqrrXKttB2yyDsTFO/juYjS02YTvfvvv7/ce++9NWeNpTfYtEg80QlE5ZQFMocYw8t4ELlwyCGH1KVHjZPJMiFElpn8uoYJnyU8K620Uh0b7dh+eW9CV3SKMa6e5B1xa5wTV44hBER+EL+WPFmmpL1Erl3U9t577zqh7RQB/dLGVg/t89JWzzJJp50m4773SgmBEAiBEAiBEOhPAhFd/dkvqVUIhEAIhEAfE2jRPaSHfCt2j7rvvvtq5A7Jsemmm9Y8Leutt17dLUsOE9LD5J/4IAfkWzFx/uEPf1hFwMyZM6sE+MhHPtJ3LW/ttUPWz372s3LXXXfV5Ss777xz8ZKPZjxP/IkafW2XNVKTlLI8SS4egqdJK/1reVLLPyO6iQQkMD/96U9Xwdk6l+QiuH7+85+X733ve/U6liYdffTRdfwQKv1UCD3RHHaKmz17dpm1YLc445y42m+//aqgE4nx2muv1ajGCy+8sI53bRQRY+nm+uuvXxNVH3fccbW9/Sq6tFUuJW3UVv0td9C+++5bLK9KNFo/jczUJQRCIARCIATeTCCi681M8pMQCIEQCIEQGJQAqSHSw5LDW2+9tb6IDUsuCA2ywoRe1BZZIWrLRN/SDxFfIr9ERZEGXhIci+T57Gc/W3fa6kfRRdiQdVdddVU555xzqsggAyzHO+CAA8onP/nJGr023paiEXz6m+C76aabqvTQp2SHXDySJ+tfx4lkEvEll80999xTxZj+1p+OP+qoo/5NdFkCNWfOnHL55ZdXgeY6xs4XvvCFKo9I0n4qOJB8F110UbFTHCbqSHQdf/zxdeyTfsa65+OOO+6o0s9STwJQZBdexot8Q47txyVK+tJ4/+lPf1ouu+yy+nwb6xJsH3PMMVV2qXs3SUfyeaa13zX0p8jNlBAIgRAIgRAIgZElENE1srxztxAIgRAIgTFMwISXsBK9Jamwyb7lWVtttVWNbDrooIPq8kRL1boVssCEf9aCSBGRPNdee20VKSbEJv/Tpk2rYqTbuaP5M0v3tPuSSy4p/+///b86kSe17IylzSQOUdNt8j+a9e713tpteeJ3v/vdcv3111cGu+++eznxxBNrpB652VmMD0vdfv3rX1cpeOmlly4cGwNFl+NEC5GHZJeIOOLohBNOqBFy/SY8CSx5ybAQ7SRyjfQT1XbqqafWd0sZO4s2OseYEfVIAO+///59LboIKm0VvWe8E5eeW5F5JKQlqJYhd5N08pI53ueDiL2DDz649mknk3wdAiEQAiEQAiEw/AQiuoafce4QAiEQAiEwDgiQGCbAN954YxUZ1113Xc3TZNJr8msJn4m8nbYsdepWXEPUh63ZLQEUHWNyLHdRP4uutnTRMk31FoVGAu26665lp512qoKO+BpvyxflYJNv6vTTT6/9TkTNmDGjfOpTn6pSr1s/Exwin+ReO/fcc6vo2Hrrrd8U0WUciHYyjkhTclTU0JFHHlmjo/ot75kxIFLphhtuqKJWVFdbukheyS02UP6Ibnr00UcrP6LQMf0uujyj2iqCj7DUzrZ00RLNRS1d9FyL5vMSAXnEEUfUPu32WZCfhUAIhEAIhEAIDB+BiK7hY5srh0AIhEAIjCMCJq4m7t///vdrJJaE5BLLm/geeuihhcwQ1fRWy/eaNJLryJb1lj+KDOpn0aUbCQD5lrTbRJ7003bRaDiMx0JyiUg67bTTyu2331522GGHunTNUs3BiugfyxiJHaKLCMVoYESXyKFXX3215jsT4Ud0yds2ffr0Kj6NpX4rngFj4M477yw333xzjT4kuyzZ7bZEr23UgB+hR3SRRf28dLExF3lp6al2ilRs7dSGwYSuseJ4O696XuRlswNnSgiEQAiEQAiEwMgSiOgaWd65WwiEQAiEwBglIIm85Vrf+c536pIzS9r22GOPIom85Vtkz2AT4IFNNgk2iSa5JCKX46vfRZc2iOIicdpug3IVETIDI3kGtnesfk92EHv6XAJ+SfeJmkWJLm0lM+WlkuNJ5JbdGAeKrhY5hKUoMGMHx5b/aXHH0kiybZJWnUkvCebbq1t021gWXcY6mdv6RjsJ6UWNdWNEn2s38RfRNZKjM/cKgRAIgRAIgX8RiOj6F4t8FQIhEAIhEAJdCZjgi2IRhSXvEuElUkcOHom411xzzbLyyit3PXewHz777LM18sOyOBLNbnsipPotN9Ng9Z8IP7cEkej69re/XcXVxhtvXJOp6yvSY1FRV3ZplMvK0j3RWgNF10TgN5ZF11D6RxQf8Wepoyg+Ukzi/YiuoVDMsSEQAiEQAiGw9AhEdC09lrlSCIRACITAOCRAcpnIXnPNNXXZIuH18ssv12VYhx12WDnuuOOqyFhUpEc3LCJ9LI372te+VpfHyfO17bbbDiq6RACphyVv7V3Uj6WSomksr/J6q0gg57bzvWufc9o1fO3nvm9tatFHjlW8+5ky8L5+116Oaeeqp+u5frtHq4vr+Jlrue9bLf90vOLarS24tHq167ifa7n2khQ5l0jNM888s0bxidLZd9996w6Zq6++epWb6tvt+s4luyzzVE/LW9dee+1ajU4+vlbae6t7Y9Da6N2rtdE9W5+18xsDxzjfy/U6GbTrDWTvWu1VKzTgP45v9271cIh6DMZ5qKKr1a2Ncff0M/dobWnt8X230uo2sK6NVzuvsXKNxtwx7XzvA7/WTsc6rhX3EeFGVttg4owzzqjRnR/72MdqvjV51xTntDq081sd2/ftmu3d/RW/V+9WH+f5WTuv1dUxXu3n7Tp5D4EQCIEQCIGJRiCia6L1eNobAiEQAiEwJAKWL7UdB//rv/6rTmgJATl7yKmWmLxNoBf34pYAWrJoR7q5c+fWJOd2b+wW0WUi28SYJY/z5s2ruzeKKiJfPvCBD9QIEpNqk3H1G1jaJFlCcUvy7BYpYkneMQn011hjjZpMf8UVVyyizUSpbbbZZnXSLFrl6aefrnVQb+eY3Lv/lClT6u6L7mkCbqmX39txDzv19v373ve+mqtq1VVXrZNx11MPdVDcVzJ/95WIvXMiP7Atvm+CS8QUHri8+OKLdWmlPEqu9eEPf7juDGg54JIUoobA+Na3vlWTy5MjInVIDEn4LVlVVxFbA5njIJk9KYq9Pmr10O/tJU8Xlu6lzXayxMCOhk2i6A9j0HHa6NqEi+WyoszaWMIBd/e0AyLm6jt58uR6b/VofYm9fFt+pv7qJ0eYjRE6ZUkbN6SsfnQv7VIPfaDfpk6dWu81MMJtqKJLG41POa70K1nofuqjXust2AxAzitLQbVvoNDBy/Hqhpnxp73qro14GX/OM160w7U9N9pvPBuvzsXa167la22Vi8yx2uka7qcf1dWukjaqsBOra2Fi44KWv06UF1YEqXHgvvrJPVzP915KY96WCquzc7XNOdrjmfVSr1ZXXIwbY7Fda0nGfc4JgRAIgRAIgbFOIKJrrPdg6h8CIRACITCsBEgFUsYOiZaw+Z44kJj8wAMPLJ/4xCfeNOFenAqRJibhV155Zb3+5ptvvnDC3c434SVCCIP5C3boM/FvEokQMHk2gTfhJUcIHjLAZNqkvU12Tchdh1RyDS8TeNf17hraZDLtWBP9LbbYouaj8r17yTlF+pjYN4nlHMst99xzzzpZNzE3CRfJJF9Rkz2OJ50+/vGP1+OaIHAstoSDtpqoS9xOKJiwWx46sDgXO7tVYkLutHq5HxmgHeo2ZYGEI3rICdfCZChF/6gbwWm3SfcjEcgtSeP1mTq3a3u3hNUL04Hip91bnclNsgUbfYMxAbLXXntVSaLuJIb+/t3vflellGO81IvoIbm22267Kj/0JZ5+7xyM1AFPL4LIz/3ePR3rnVxyrDobO9iTSk0INd76U7+2Ongne4w7zwDGxmFnWVzRZdxok2WiIuhIOEJHX/qdsaFP1Ql7bSEyjXNtbMJLO5xH4t5xxx21bb43np2rbW2JMcmHgfFM6BLXrouHtjaW2qkeniX52eRp005c1Pm+++4rc+bMqRtU4ONe6oWlZ8g4VghprPzMmCEq1ZMkcx11d01tbcUx2ufZEQ1oLDrHxggtZ5gx4uV819ZGvxsoXts18x4CIRACIRACE4FARNdE6OW0MQRCIARCYIkJtIkz0fXd7363TipFaYjW2Hvvvctuu+22RNc2ofUysTaZb2JERJbSfm/iL2m9/GAm5SbaJr7qYIJLFIkkIWH8/ogjjig777xzjdAy4VVEtoiS+dGPflQn8H4uIoko8TVBRHpYemWpnUky4SIXlboRMnabJABIMtcjjUzmyT7HkTom7Cbidti75JJL6sTctdXTssz999+/Ch5ih5QjLcgh92ySg5Rx72nTplXx0CRGbciC/6iPdoqg+cEPflCvTSw4R1QaISFXEvlA7Jn8WzYoUkrE0lAK8aDuV199dV26eu2111ZOBAQphYGvSRgig2QQySMyj5gg27oVUT/6TBuIDjyICn167LHHVommb7TV77F0zgMPPFAZuyd+2kTQGAOONS6MH2PqhhtuqNLIuDJmjjzyyHLTTTfV/iHJsHI/4wt7Mo2U2Wabbco+++xTdxE1DrTfteWm037HE2b62nW0+ZRTTqnRbb7vLIsrushWcuv888+vfaduouZs9qA9op4IJYLHrob61PhoEVNN6hBSBOjs2bPLD3/4w/q1a6s/yaRvjEf9SuY5Flf38zs5tbRLf7tfk1DGtrbZMMJGBL52HKn105/+tI53feBe+lKdyTDju8lV40FfyetHqLmmnTmNAePf+ermuTfmXUMfb7nllrWd3tXX58B5551XJbVILseTd9p3+OGH12ONR+enhEAIhEAIhMBEJRDRNVF7Pu0OgRAIgRBYLAImryI1iC4TTBNLE1DSRiQTqTQcxYTZ5J+wMCE2MSYmdtlllxrNYlkaCdHqZ8J+yy231MgaImDXXXetk18TbdEpIlzOOeecKmVIJ5FAJtxElwkzoWcS7TgyS/TVMcccU5smqsXPSaz5C4Sa6C5ijOgy8ZenzHXIGseSIcQJgULOiGAiFtTLhFw7RFoRAYTAI488UiUGmULikCfEjKg5122Raa5PLhA2uBBaxExrj+s5Vh41LAgLk37iSTSOdxzb9Ran3/Q3SUicXXHFFVX2ESCdxTUJJSLNy/hokWna2QRcO8f52owNeejaRIeoIzIFe1JE/5JFjmnstcu52qX/MMUWVzJFXYhIUkoyfJFj7q+/jQWSRp2cg5cxdvfdd1eZZiz52Wc+85kqDgmUJrsc0+SP+hBO+oaQ+4//+I/KtkVLtXYurugSXeWadiAlALWFxDKuiFBiSj215/LLL69ccCZ125gih4wPkg8r40+/kbSu7RquSw5qPwlJMP34xz+ugk903oknnli/dr4+ci7euOhfQo9MwtD1RFi5tuuQqsY7KS1iy7NhvOGpEKGYW+7q2cVV/3tWtA1bdRadqP8c53xj21jwzLiffiCS1cs9CTpjzZhzvP4wBpr8a30x2Dthp33qYVwZ78NVCGljFP+BY2W47pnrhkAIhEAITEwCEV0Ts9/T6hAIgRAIgcUkYLJuIisaSsSJMmXBsrImukiJpV1MNk14RaZY2mhiK2rKPU3sTbRbcSwh8stf/rJGsZg8m8SffPLJC5fWmcQSQyLSTOg/+9nP1ol4m4S7lok7MWDi7lruM3PmzDppJp8UcstkWM4qokMuIhEqTXS14xyrTupONpEuolWayJHQ3YSXPFBINiLtG9/4Rr0+EUWeaK8Jcbsu+acvzjrrrCoGfH/qqafW40QjmeArZMfvf//7ctppp9U2+RlJ4b7YDTXaRVuIKO3ARr+QKn7uHTuvzkI4iJoj2LbeeusqmQYKNn1H1hE8opV83ym6Oq+nrSKpvv71r9foKm20XNA9RNURIuRGi4AjLdX3sssuq6ITa/nkMCVOiBeF6DA+JFEnMIlEY6clz295xRwrMko0Hdn01a9+tbZZHXoVXYQSDq5rHBgn+uqLX/xi/VodsCEERVBpGxZ2shRRSXYOZKu+xopxf/bZZ9dxpd+NfQwae8tSsbB80e+8ux+pRFzZLMJ1cMWlia421tynjUv1NzaJWgJ8cXZdVA9jB3sRip4r4klfiWjTr53j1efR/AWymXg3xklJy4eJsG4M1G9RBUfXa1yNaXUajkLKEa677757FXPDcY9cMwRCIARCIAQQiOjKOAiBEAiBEAiBRRAYadFlkmnibBJLrIngECVlkt0EUVsO1artHMcRMKKOTJRN5kkAk2DRIrNmzaq5ploUlgmnyIo2OXYNS6OIMseKfCFQOqNDiC7RWd/85jcXS3QRLZZDEl4t+oewIwdFcrWoExKMTJCYXzvU/8tf/nLN/SQaybnqJ7JOxA8x5ByijWTTzoGRX6Jyzj333Lo0jZw76aST6vWc0ylvGsNFvbs3IUR2kQKipFwTC+/kEAHUWQg6kT0HHHBArR+B0i2KheC54IILquggPAYTXZbvEYLECynhe31L9oj+IV+b5FIPwogQwkrdREBZFmlZIsGJl2K5H9Ek/5xIOZFMhI+NFkQKdUpVoksdOkWXMdSr6CJb3JdENFZxs3TRclRjvYlOfar/L7744joWiCDLh431NpZqo/7vP0SVKDAyy9g2lk444YR6vGv6mfu5B1FqzJNsfkd0+R3enkVlOESX6xpfJLO6WqYqIlE0o6g2/WC8tvYR4C1yDDdRbcSaYzr733UXp+h/0tSYFiGmLl7DUUSyiaozFkUkpoRACIRACITAcBGI6BousrluCIRACITAuCBAEoh4kfPH0j+TQLKEdDIRt5Swl9IZCWSi6vqEign96aefXiWKiBPRLSb1lnK1iX/nfUkXS59Er5igy+kjSbjIHJNYkS1nnnlmndRb4uTVEoiTTl7uT2Q432RUJJJ7NRlGuLmPyKvFieiSf4joIt/IFbmiTNxJjM5Juck2iUW2iGyydPJLX/pSOeigg2qkimgknFyvRSmprzY4xvUGFtdwXyKJ9CE4HCuaqVPeDDzvrb4n2DAiJtrSOMKEdGjSwPfkge9JPREshJeom4F9p18uvPDCuuRNNM1gootoa6LLEk/LTY0/nMgDgqazkCHaLsJIne3mefzxxy/Me9X6lLwi64wbx+sH8tCS1M7IL9cWvdYputR3aYguS/Wa7NRvIhKxMj71uzpi2ZYHimYig8haEXNt59PO9vvaOPYcfec736n1JrKa7NMPro0jieQlcqpxIbqwELk23KJLXUlk40nU5TXXXFOXORJ5n//85+uz054Bsk8/EZ1kkeXTPo+WtDSxha9X+35Jr7eo88jVJs4b50Ud/1a/87lm2WtKCCwNAj535Dkc+A9JS+PauUYIhMDIE4joGnnmuWMIhEAIhMAYIkBYiDaxrMiE2WSfWCAZiCeT0V6KSb4Jd5tsm2gSa6Jb3M8k34T/C1/4Qs275Y/wbpNEkUYm/6JXyCLRK4cddlgVJ2Qd2WMpn7aQTCbJoljk9rGDnXtYbmdJIQngPgOjRHoRXcSFaCLcRDd1FhPstxJdpIo+IK/kJyJ2LK+0bE3dBxbiCQftJgBFvpBN5IgJzZIWfaUu+k29O9/JCu1QR5KF8DJWCEMRZd0k25KILtdXDzxFU2kP8ddZOkWX+pKCor8sqeuUjMYbWSCqjEjEa6RFlzo06WS8exaMQS/CSYSfPHNEF7lhKS8ppO9Fc1li69iBpVN0EVoYWE5IPGLQKXV838llpEUX0Sd6lJj8yU9+UkWWqC5Lcz2foqGwscSR6CPtjH8Cc6DkHMhhcb7HH4/hLI1xJ+de7ke4E7QpIbA0CNjg4j//8z+rZF4a18s1QiAERpdARNfo8s/dQyAEQiAE+pyACTKBIaJLRJQJsAir6dOnV3FCnrQJ3FCbQkBYqmeCS0xZsmXSKrG8yTyx49omtSI7RI+JiOgmukTCEGSW/5EnJJXoKYKFtLLkiSCxPI34MbF1LbLLJNq9ySiTanm8LHEU1dVZehFdLYE/yWCpVWd5K9ElEoRQEu1i2ZwIG3UWtaaurj2wiIAimrTbS3+J/PIv9qLiFqe0SCLv+oEc7CZUmqghRSUWF+1m+SdZSdpYAkhYEDMDmS6p6FJ/UYVf+cpX6pJI/d1ZOkWX+mk7ydMtpxyBJKqM6JJMfaRFV6u3KCWCUtSS8ey5M9YxF22lTz0r2BK7QxFdxg8Gor9s1PBWZaRFF4HuOZALUF41Y9wzKCdY24FU240tCfQt19UOz23LdfdWbRpvv7dJh+cnJQSWBgGbe4gQbfkLl8Y1c40QCIHRIxDRNXrsc+cQCIEQCIExQMAE1ARc7hwRVibg5IWoJMu77A5oIt5NPr1V80xsRdKIUiFtRPyITjKBs3yJ1DHBXxzRRQpYgiZ/lvMVS/WILgJL/eTfki/LZJo0MPkn29qLzLEMquX3Ioe01c+V0RJdTXJY2ogJEWIHO+JCfqq3Wrql/iLVnGMS43qLU+RKE01EYOHnPgOF0sDrYErWWF4oab9oOhLTjn4SxxNtnSWi6383QjAG2+6DNjAQnSj6UJ8ZvyahotZIR6LLEtqxJLpaxJSx2F6d46B9rW2efc+pZ4/k8jkjKb3PCSLS8+1nIkpJbMf1Wlo0V3vv9Xrdzl9Uu7sdn5+FQAiEQAiEwJISiOhaUnI5LwRCIARCYEIQMEE1CZfY25Iiy+Yso7IkTf4reY9ECJlwDqW4puVKkoVbOrbzgiVlliGJ+BEJZLIrsoNEW1zRZSJMdLVIIjsiEl3qStCIUhG9QxKQVtrREqyLkBExQuiI6vIv2yKAiKG2LG40RZfIOssyiS6Ra3JDWTZKxg2UR936QRv00WARcd3OkWSePLRMziTd/VZfffVuhy78mfGiriLyRKCRi+5r6SnRZXloZ4no+l+BSmoZ86IZ5QFrOeIISsw9Y238iq4kwsaS6CI/CVPj0LPoZUwNLDYGwMCSPOOPXLWzovx2ojE9vz43RHNZhtspogdea3G+J7a8CFqv9v3inDvUYzx7JLPPtG5tH+r1cnwIhEAIhEAIDEYgomswMvl5CIRACIRACHQQsBSs7YpmWZFJm2WLlnmZjA4171NbhiXfDuFkh0NRK5YuWp4k6boJvYknqUNYWa5kmVK36DHL9EyS5eEiTyyzE/VBsLRz3NME2+5/Jt4m0iLUCDJRUoSOiTTRYImhBO4izCyPUkZLdLWli6Lffvazn9U8UmScRNyW74nqGqwMnLh3YzfYuQSkfhdFI7LvmGOOqcvJ3uoa7ilhOIkp55XSRBeZ2VkmsugiPHCVS4tIvuqqq2qOM4yMdePX2GubBxirduckgTwjRJf+F1WJOXlsrDf505mji8QZzaWL6u3ZEqFG3Hl1G0dkszxvbQdSbZJbjdA1pnzf8nP5vOi14CJi1VgnvYna4SqWSetPbfc5lBICIRACIRACw0Ugomu4yOa6IRACIRAC44qACaioE8vn5DKyJE2Ejqguy4rk0xlKIZpMfEVtidA4+uij6zVIHRP0loxeFIulb5KOL2rXRRNV+b4sr5SEXURMizgjtOSpcozJsUmzCbNlYC0PFQkmWo14sVOiKCk5vlp+IG0bLdFFXqgvyWVZm2gpQhB3OZck7R4sQsR5ZIpCLAwlmqSJLkvF8CGrcNFHb1VICWKO6HLfU045pbIcmDh/IosufSbKidSV/87zoK9b0vypU6fWCKC2NK+b6LK5gXHqebQU2LgneTHvJ9ElEnHOnDl1eTKRR1a1dnWOJc+jJZznnXdesYxRG8g8GxoQ7NrXdvAcqlzvvE/72tJcn2uWShqzbYll+/3SfJebTzvkGhSplxICIRACIRACw0Ugomu4yOa6IRACIRAC44qASTTpJPeSiTkpJDrBTm6WCIouEXlCpCyqtKWQJq2iUkz0JVafMWPGwigPYsr1SStL50SrfPnLX665s0RDiCYbWEyISRP5t0xcLWuSa8ukWLSWiBJLouzUZjdG1+isKyGkTiJrzjnnnDJlypQaUUMitciR0RRdGJBGJv/f//73q6AjF0Wdif4ZLFcReWKpoyi29773vXUZ5+IuMyW6cJP8W9TdZz/72TpRJxsGK+qpj3EkK0TJWXYnGb1JvoiezjKRRRdWuJJAX//616uoEh2JlXGHc6fA9CwYwzZpsKGCZ440IYD1sUhEEhdjS+T6SXRdfPHFNTJQ9KH8fqRPN9GFieeM0LWU00v0orGORYtKI3oXdxx3jreBX4vmIvFJchGh7u81HEV/2jiC5FP/lBAIgRAIgRAYLgIRXcNFNtcNgRAIgRAYdwQ6ZZBlaYSUCBR5uky2TUjl4Ok2gQXDBFLEBrklKskE38Tc5FXuppYLi1SzfIkoMbEnrkQTEVekU2d+H9ckVogxuyqKynAPMmvnBXm/iDiyRn4fko4csIOjiWbn8iHXcZ8bb7yx5vkiuo444oiaJN/k1O8lvJffS5J11/NzCe8t3xTlNFCctaT6IrEcK+/XYLsukhItGk302Re/+MV6bYnIMVbwFq1mWRcJRWbgIuKFLOyMtFJfkVxkoqg53ETSEA2k1+KUJrrOOuusKqwskSNWMNXWbkvPjBE5ushQObqIBNErlp7abEC0kaJ+Sqfo0o9kmp0RiRBiw8uxov6IHEJIPyvaLdJPHrXOvvQ7fW4syGvmfGNMzjVRiJ3yyLFkYNt18bbbbivHHntslZzq69qtDsYV2WvcfvWrX63jzphXB0wa13Z8i1o8/fTTawJ1EssY0EZjHStRWvrnG9/4RmUqYs711LfdWx2x0SbPjSWOpIxjRBziRYBavisazDWIXM+Q5cYYeKYcrw/lt2oM2rt7tIKXdhqTX/va1+p9/U4f2gWR0Hb9dq4+tsQVF2OYyFGnmTNn1h03nUuWWgJLduI6WESXY22CIAeZ5+bcc8+t44ksVf999tmntsEz0W38OX+iFv1mjBpXPht8Drc+8jtjyO+8e347P6/6ndmi2qbu2jWUtrmez0cvHLDqHE+NVfs9nv1etAkDY0B71Ln1v7q3Nnn384G/7/f2pX4hEAJDIxDRNTReOToEQiAEQmACE/CHtKU+onRE7JhEEy8bbrhhFUIkDmFlQm/S0PlHNmzy4ZA4ZBJhJJLC0itRVsRTm0z4Q5zUIR1M6i0lJKhICqJAcvkW1WVJHQHlOPm+RHm0ZYcm0/LiEASzZ88u559/fhU+ljS6Z6unurlny0NGepiMEx4iSdSNKFAnUTWWb6qb88k3E3oCh2jSZpMjsofoai+yBx8v1271dyyJQyqIJBOpQ1gQWNpKkBELrq0OpAzZoT0klgTxIrqIBdFujSH5MH9Bgn1ygfAhCLbffvs3CTFtH6x0ii7CkdSRFNy1LEHslmeJICFhLAXD0W6aZIy2kHYmldpsMqY9xpB+u+uuu2o1JB4nP40jbTZhM25c13g544wz6nhwsBxl5Is+JkJc20TP8frctUW/6dvNN9+8ShpjqPWTn6uHdqoD6aYeBKf6WjpIIOorx+lTddA28krBRB20s41hY0DbRGuRp0TTrAUiSkSPyEXjSp/qK/1kfNtEwfJDUXdEmHqSk54jvMjhxkr0keeQtNSnjjUWREKReerkWcWAkNUPmGhPE8Cu6/6eF/X1apN/x2qnMUmqEmaOFz0ob1jboKGNYVy0k5gigS0pxJtQ1o/OJbqw9bwb/55hP+9WsJMvCxf97fkmBj23+ly0m7qrc8r/EjA+fRaK+vTZ6pnz2dHGuj4lVdtLH5DJY6EY/61t/t+jbVMW/ENEG7va3trlndAXNThY8dy7pqW0xrbnCCui2ueNzxDj35j2/wTX8/+LgTJssOuPxs89uxj5zPfM++wglfV/E5o+jxonz5P/p7Z/XBqNOueeIRACw0sgomt4+ebqIRACIRAC45CAyBoTDpN3kTsiV0TUiLgwKZA8nnjwM5ODNrEgK4guE3CTZPLHRN3xJr2dE9cmsAg1ETyuQawQLXJ2ubY/7kkif7yLACHd/HHvmsQPaaA00XXugugQMoJIMREyuWnXMbk2sbcETNu0xcRaO0wSLX808SFFTMDJHEs35ckimkgv35t8mVAQYqSVlwk+GWPyT4iY/JuomWyRE6SF62MpMT7hIUJOO8gRfExcTO611zHypImgIUy0w7GWrLXoL8fJdUQS6C9yalGRWN2GaRNdovcIM/zVQ/3JFLKC4FMvkykM3U+bLQPF3dJRfEysW8QTYUjm6TcTc9LO5Fz/E4GEjOuTac5RD+PGOSSTcxQsRXVpN/YYE0Ime65nkuraxgnehJDxYdypL0Fj7DrWcY53rvGhX90fey/3bi9SidRR3JsUM570VZOwxofxoo3GCx4EkD4ge5xnHKu331na5139Wz1xaPLOxNs1Tc6NT+PG9fSHSbhny9gTcac/tMk4aWPfWDNOXNvE3gRYXZ3v6/ac6j/naasdM/EmVz2fJJ3nSjtJS9fzc6LBGJZXTxSfunpuLGnG0LW1zTjEiog2bjuf9wrz//7jWTd+9YnE+9ri84L8VX996Zop/yLg2TMGRK16PuTu088tX5vPU59vXsZ5E+T/usKSf+X50ude7uMzyNg2Ho3FXktrm887kbtkrme/tc1z3Nk2EYvaN1hpMtz/V4wx4xorz6TnrYkz/0/xObvzgshgnzPa0sadNruO9vr/gzHbS/EseHkWjXX1GEwEd7uP+/vs8PlA7vv/gQ1ePIdNSPt/Uut/nx1y+/n/YUoIhMD4JBDRNT77Na0KgRAIgRAYRgL+wDf5MBk2CTUZIJlM6hX/SmwCbSLtaxMHf4QTL/54NzEnHEz6OyOhOqvsD3eTc9KI6DCJJlBIEtcgqBxjkmFSTDSZrPjXfpEKLbrGMSb7bemiuhA2zjOpMGF3H5M0USQmaWQB0eF6JjLON+E2SSBGTCi132RE+8gYEyuTLxFAJmNyhTm3vUyQXFu9Tf5JANE8JibzF8gVIgcj18WXCBA5Y0JikiUKyKTFZMsxuBNoRCCJ0NrjGJMwxzmfsBMFYxKHyWByoZN9+xp3k2JSR/20kYTTPnXVJhFvBJN2kS8Yqpu+x9AkkbDx+zZJFNEnyky0GxlkqZr6K+qvzSRlW4ZnQqrvTdSw198KntirA3liPJFAl1xySZVYJsCurZjsGWv6m0zTb6SO6CiS0XGOVw/H+b13YkU9RHtptzo0eei6OOsr4914IfVwFsVlotzGi2trPw7aSHrKI2cySghgpt6zFshjdcFUpKQ26jNjRTuNbyLD82Zcqq9jCUV1dW3Rd5b96ivnuZ4x0RhoF27qatkx3p4FzwaJZ6KMiecV79Y32klgaCeGn/jEJ2r7Xdsz5PnwWaBfjUnPgnth5JnUP8YD0djGAobdiufW+CY3RN34/sQTT6zX0MahjONu1x9vPzO+9FVbImpzD59H+sznZfsc0y+4EukET69F3+sbn68iDklRz5hxTYgaZ70Wn3ckqefDZ4e2+VxrbdN2n1OeZS+fU8T+YKX9/8uSYZ+fOPh/knFprHoOjH2fzf7xwf8PPF9NCLuu8Y6pzy//7/CMYLGkRR+5dxP2Prv9/2Vxx7k+0P8+F0Qui3oUfYmReitNfOt/zzwZ6j0lBEJgfBKI6Bqf/ZpWhUAIhEAIjAABEwzCwyTDxNgkR2SHybU/oE1I/ZHd/lg3wTDxEfUlYoec8rv2+25VNoFwPZN6EoNw8TMTgzaxcL7JlaWKZIAJtom0nzvGOfMXyCQTcRMUskG9TQ5MBLybtJhQ+d6kx/VMOrTRpIeYIXF8P7C4jygnES7ON6GwtHGwgg3R534mSgRREzKd52gD0UEUiTLqjJAwqWmiBhdSQ1vJDPVxLAFCAGmPfjCRGkohFQkYUW7aTVypp75wb/2ifq6rro5pEz4sCBH9gaM6tWKsiE7SH9oxsGiD65qsESuEEelGGnUr2kleTlkQ6UOMmuwNVoxJfeUexoC+xb9b0SayST3UV7+qg34bWPSpMePaxpfx4trGVbdiUi1SjIwg1XAl8zxL2JrkEmb6zdeK6xsLWBBu+h1z99M3niuc8SUd9IWxPbB4dvBVVxGS7q8PPRvaSOipQ7e+Ma7U3bnqjlErOBovZIrrKH6vDTh6GQ+ekcUpWIiG06fqK8LSNYY6jhfnXmP9GONAf4kMJDotASYWse4UXUSQ54kIIrt6LZ4FzxEJRRzpK5/rRFeL8F0a9yC6fvKTn9RxrW2u7f8l2qbtPpNa20RM+seBwUoTXaLfOkWX58vYIrr8v4zoshmCCDHtMY7beHdP493vfY75LOz2rA1Wh4E/99y6tv7SLi//jyTQfX4Sxp2foQPPd2+MfPaR3IR4E12eWcUz6dnU/z6vLLn3nhICITA+CUR0jc9+TatCIARCIARGmIDJgz/+RXmZ4Iu6MQkiX0zE/Qu1CRApYTKxqD/aB6u6P+ZNxt3HyzVcy/XJAJOebsXERf0Ux3mpGxHQpIVJhus0UdTtOv34M3y1De/WTky0wwSnTcyWpO4msCZzru96ZJLJnnsSa35HIppg6w/8yBmSy7vvUxafQOtLcszYxF3/6U+ix7g15h3nWXCc7/Wzsb8kz9Ti127xj/SMqn+rnzFj/GjHwNLa4uedbfBzokvuPe0THWTyTnymvJmA5280RBe54vPeklW7gapH6ysbdYiuMi57GZs+o/tNdBFbZNhpp51Woz19Hhrzxr7P4Sa9tNu4Nv7b8/vm3vtXMn3neubJZ5FkhCShTMK5xmAcI7q6Uc3PQmBiE4jomtj9n9aHQAiEQAgsJQKdk3TSxR/87Y99f7j7I90f7ya9gwmpt6qKe7T7NHHlWm0CsahJgPOUNvFQN9dodfRz9fQaa6WzLdqJiZe2DMZkcdpo0tVkpet1ijOTOpNaMqMJNv3Q+rlN7BbnPjnmXwT0X3t2fN3Gq77UB634XXsGeu3nds2l9W48tjHpmq3unfX3c+PG+GkRbC3xv+P8XFSkJcAiEiXOHko0mOtPpDJaokt0oQhAEV02yTB2RSNNWRBdKZeWKDzRSD4PlrT0o+jSTrJLHjtRbD4PRX2KKhMJ5h8AFILauBZhZvmu7zufA8+xZwVH17J0WAoAzwypK6rLMmE5t+Q5dH634hqJ6OpGJj8LgYlLIKJr4vZ9Wh4CIRACIRACIRACITBKBMgAS3dN8ElUS48ti7R8y7JZGyDIzyaHksm+n/ciTEapmSNy25EWXU20WgpHcknqbkmcoo/ILaLLq/XpkoLoR9HVrS2En5xexqwxrRizpN9XvvKVGqHlexKrlSa6LEXG74c//GEVvKLziGxiS+49eRblCRMR7R8UBpaIroFE8n0IhEBEV8ZACIRACIRACIRACIRACIwwAfmNvERuESNyocmvJP+XhNlyH0lEb/mW3R5b5OYIV3NM3G6kRRexIq+cXHBnnnlmzeNn2brSohCJGXmi5NOyGcaSlvEsujAhu7TRUnAbQdjMwfgX1WjMi+wy/m3GQJqRZQNLRNdAIvk+BEIgoitjIARCIARCIARCIARCIARGmIDk5XZVJEvsskloWaIoF5xdLi2BJkgkVZdoP2VwAiMtuizVs8TOcsUzzjijbtShvzqLXUVF4u2///51E4HOSKbO497q6/Euulr75USUIN8GDJLkE4mkoaguLE855ZS6/LGbNIzoahTzHgIh0AhEdDUSeQ+BEAiBEAiBEAiBEAiBESIgmuvqq6+uk3py6+CDD67CS/6jWbNm1aTmlr61XedGqFpj8jYjLbpILVFHNgs455xzqpQBTnSSlyKnmkTqJ5xwQpWV8jMuSc7AiSK6MCUOiS7LHy1fbAVHEV1267Vb68AS0TWQSL4PgRCI6MoYCIEQCIEQCIEQCIEQCIERJjB//vyavPvKK6+s0UHydBFeIlbkddpwww0XJuDutmPjCFe3r283kqKLyHrxxReLfrPMTkQegWWZ3QsvvFA3qQDLEjvJ1AkaS+/07ZJEdU0U0SW5PfFLdHkX4aVgZvnnySefXDdmsHvxwBLRNZBIvg+BEIjoyhgIgRAIgRAIgRAIgRAIgREmQGDYse7Xv/51zcUlOf2qq65a8xDtuOOOC3dZXJIooBFuyqjfbiRFl37TVyK5bBhgtz/9RlTadVCfKnYXtOPgscceW5Opb7bZZnXX3aHCmgiiq4mqn/zkJzVvHXlIfGFoF0v560466aS6YQOmA0s7//bbby/nnXdemTZtWs2PRjbqF2Xu3LnF5gGS3k+ePLnMnDmzvg+8Vr4PgRAYHwQiusZHP6YVIRACIRACIRACIRACY4iAyKC//e1vddkbUeNr0St27Zs0aVJ9X5IIoDGEYKlVdSRF1/PPP193FTzttNPKY489Vj784Q/Xlz773ve+V+69996FyxeJFnm69t5777LvvvvWTQeG2uiJILr0H0F41lln1Si5hx9+uCao9yzYnAHDY445piam77bzaETXUEdVjg+B8U8gomv893FaGAIhEAIhEAIhEAIhEALjlsBIiq4//OEP5ZZbbikXXHBBIVjsrmizADm4JKa/+eaba34pvxNN5Hd77LFHFTWikRw3lDKWRRf5t+6665ZTTz217LTTTnU5pyitVuSjs7viQw89VKPh5K2755576tJQGzRMWbDLovNEdNmowe6k3SIcI7oa0byHQAg0AhFdjUTeQyAEQiAEQiAEQiAEQiAExhyBkRJdovBsFNA2EZBLzW6AEqSTLd/+9rfLL37xizJv3ryFEXqW3u2yyy5V9khQb5njUMpYFl3E1FprrVWOP/74unOi7ztFlwT0IuR++ctflmuvvbY88cQTNTeXfGd2G5XbzG6kZKFIrm6SC8uIrqGMqBwbAhODQETXxOjntDIEQiAEQiAEQiAEQiAExiWBkRBdlpa6z8UXX1wuvfTS8tJLL9Xk6JLN20DA7+0WSNgQNyKViBmChrQ5+uija1L1DTbYYEh9MJZFF2G1/PLLF20WoWVThU5ZJaJL+55++unyzDPPFN/bZdQuixLQ4yaqS06tRS3jjega0pDKwSEwIQhEdE2Ibk4jQyAEQiAEQiAEQiAEQmB8EhgJ0fXqq6/WPFKSnV9++eXF7n8777xzTWouSuuNN94okqHbNfDCCy+sSeoJGMUOmjNmzKgvy/DInk7hs6heGcuii5yyfFPk2yqrrFJ3puxstwg5pUlE8hBLkmujjTaqgoxEJMmc73qd5zduEV2NRN5DIAQagYiuRiLvIRACIRACIRACIRACIRACY47ASIguEUd27fvBD35QZs+eXaXVXnvtVXbbbbcatUTWPP744zWiS6J6ydVJKmX11Vcvm2yySTnyyCPLgQceWCObFhWh1NkBY1l0taWLEslvu+22NcdW59JF7SS7XnjhhfLoo4+Wyy67rObo0ma5zN7znvdUmTh9+vSFOboGnu8aEV0opIRACHQSiOjqpJGvQyAEQiAEQiAEQiAEQiAExhSB4RZdZMyDDz5Yrrvuuror4Ny5c2tyeZLLroCWJ/7jH/+oSehvuOGGmqvL8c8++2zluMIKK9QleZYvHnHEEXUp3nLLLbdYjMey6LLrpKWHX/nKV2qeMt93E3yvvPJKZSW/2awFOdAwfO211ypXfLfffvuaq+tDH/pQ3XlxILiIroFE8n0IhEBEV8ZACIRACIRACIRACIRACITAmCUwnKKL5CKx7rjjjnL++eeX+++/v+aSOvnkk8uOO+5Yl9qRN46TY+rOO+8s3//+98utt95aHnjggcpUFJJjjjrqqPqSvN5SvMUpE0F04SAiTlQXmfitb31rYc4uv7OM8ZBDDqmybOutt37T8sWILpRSQiAEOglEdHXSyNchEAIhEAIhEAIhEAIhEAJjisBwii6S68UXX6yRRmeccUb505/+VJfV7brrrmX99devX4NF1NhB8JFHHil33313TbBuSZ7ScnKJANtvv/2qsBHptDhlooiuxlk0l6WfDz/8cOWO0RprrFET/x988MHlgAMOqJFenZFhEV2LM5JyTAhMLAIRXROrv9PaEAiBEAiBEAiBEAiBEBhXBIZTdBFNDz30ULnmmmvKd77znSq0Jk2aVNZdd92y8sorV46iuYguebnIrpdffrnuuuhcv2tFni7J6D/1qU+VzTbb7E27ELbjOt8niujCyU6Vt9xySyEU5UN76qmnKgq811xzzRoNZ/mnnRwtF20loquRyHsIhEAjENHVSOQ9BEIgBEIgBEIgBEIgBEJgzBEYTtElf9SvfvWrupuiZOmisyRZl2Prne9850JWTXZZvig6yS6Nf/nLX+rXTXbZPdAOjJY9Tps2rS5f7JZcfeFFF3wxkUSXtlry+e1vf7vcdddd5bHHHqsosJaY/jOf+Uw57rjjilxfktW3EtHVSOQ9BEKgEYjoaiTyHgIhEAIhEAIhEAIhEAIhMOYIDJfoEqUlofxFF11UE6SL7JIcvUVjLUpS2YHR8jt5utoSRnJGZNIJJ5xQLH0kvd71rnctkvdEEV1kFTF48803l9NPP73cd999NU8XOCK4SEKi69hjjy0ivCK6Fjls8ssQmPAEIrom/BAIgBAIgRAIgRAIgRAIgRAYuwSGS3SJypJzS84oS+nsnvjpT3+6HHrooWXZZZf9t4iugfQkrxcJdvHFF9cE9u33ktDLNTVjxozy8Y9/vEaGtd91e58ooqvl6Jo9e3b5xje+Ubn/+c9/rkhE0HUuXdQPWbrYbbTkZyEQAo1ARFcjkfcQCIEQCIEQCIEQCIEQCIExR2C4RJeoLEvozjzzzBqVtf3225d99tmnCirJ0C1jHKzMnz+/zJkzp5x11lnl9ttvL2+88UbN10XSbLfddmWvvfYqhx12WM3z1ZlYfeD1Joro0od2rLz++uvLhRdeWPOdiahTSC7MPvGJT1T+lox2RtNl6eLAUZPvQyAEIroyBkIgBEIgBEIgBEIgBEIgBMYsgaUhusgS+bVci2CRV+vee++tS+kuueSSusRQJNa2225bNt100xrRZdlhp6RyTruG3RktdZTA/re//W2R68s9RCJJZL/TTjuVmTNnltVXX70uzSNvXE+kWKdA60fRpZ0isBor7SLzZs2aVZP2W7KpiMRaZ511ykknnVSmT59ec2sRVM4n/nB2HV+L3rrxxhsXvl577bUqs4hBSfz333//eo0tttjiTeM0outNSPKDEJjwBCK6JvwQCIAQCIEQCIEQCIEQCIEQGLsEloboIpTIKFFcL774YpUwBNVNN91UhRUhRbZ88IMfrPKGwJk8eXJdetjEFOHy0ksv1WvYffGJJ54oV1xxRY1UIr5IHceSWR/5yEfK3nvvXaZMmVJllwTr8lCJXupMct+PoqvJvEcffbSyIqrk1LJcEzPtVrRztdVWq0s9P/rRj1ahR3Th8Nxzz9VzLQ+Vw0wuNPnMnnzyyX+TghtttFGVgocffngVhJZ+DiwRXQOJ5PsQCIGIroyBEAiBEAiBEAiBEAiBEAiBMUtgaYgugoqgsXRu7ty5Ncpo3rx5xUu0EcEisojcIqN23333KqvsBtiilAgg0Uwimwgz1/vDH/5QnnrqqboLIyGjkF1tB0bn+5rwmjp1arE80i6DrfSj6MKbyLv22mtr+0RfPfPMM1VSafPLL79cq0/YiciSvP/9739/jWbT9iamnOdaZBfGBKPfrbzyymWttdaqYgvzzTffvGy11VY1CX2nBGyM2vVElZ133nl1R8tPfvKTNYKMbFP0qTxrlkfqQ9F03lNCIATGJ4GIrvHZr2lVCIRACIRACIRACIRACEwIAktDdBE199xzT93x77bbbqsRXd3gES1El+V4dk4kZPzMcjxSSkTT2WefXZc9tsimbtfp/BmxtfXWW9e8XUcccUQVOu33/Si6iCki75vf/GaRPL4JqlbnJX23rJP4W2+99aqsstxRBF2TiYNdN6JrMDL5eQhMXAIRXRO379PyEAiBEAiBEAiBEAiBEBjzBJaG6Hr99dersLn//vuLZYbkSbciemv55ZcvltSJUhKx1JYutiV5Dz74YF3CKGJpcQpRRuaQZuuvv37N1dXO60fRJXKN7LJckSBsifZbnZf0Xb6zZZZZpub2slTUa9KkSfVnjXG3a0d0daOSn4XAxCYQ0TWx+z+tD4EQCIEQCIEQCIEQCIExTWBpiK5+BdCPoqvfWEV09VuPpD4hMPoEIrpGvw9SgxAIgRAIgRAIgRAIgRAIgSUkENF1T7n77rtr/qm99tqr7LvvvoOSFHVGnl166aXlV7/6VZkxY0axk6Hk+nZ9tBOiZYlz5sypOyhannnggQfWqKrOHSYHvcEo/CKiaxSg55Yh0OcEIrr6vINSvRAIgRAIgRAIgRAIgRAIgcEJRHRFdEmAn2T0gz8j+U0ITDQCEV0TrcfT3hAIgRAIgRAIgRAIgRAYRwQiuiK6IrrG0QOdpoTAUiAQ0bUUIOYSIRACIRACIRACIRACIRACo0MgoiuiK6JrdJ693DUE+pVARFe/9kzqFQIhEAIhEAIhEAIhEAIh8JYEIroiuiK63vIxyQEhMKEIRHRNqO5OY0MgBEIgBEIgBEIgBEJgfBGI6IroiugaX890WhMCvRKI6OqVYM4PgRAIgRAIgRAIgRAIgRAYNQJNdF1yySU1IfnMmTPrToKTJk0qb3/728vrr79e7r333nLffffV1x577FF22223UavvUG5sh8Q///nPdZfEm266qRx11FFlq622Kq1t2q5d2nf//feXXXbZpWjfYKXtunj55ZeX2bNnF7s02nVxrbXWKu985zvrrotPPPFEueuuu8ovfvGLsvPOO5f99tuv7siIZT8Wuy5idMcdd5QLLrig7LDDDuWggw6qjJZZZpla5blz5y7s/8mTJ5dDDz20rLLKKv3YnNQpBEJgKRCI6FoKEHOJEAiBEAiBEAiBEAiBEAiB0SFABr3yyivliiuuKHfeeWc5/PDDy9SpU8sKK6xQ3va2txUyiAR6+OGHy/z588u0adOqDBmd2g7trq1tV111Vbn11ltr2z760Y/WthFPft/Ztu22265Mnz590JsQXW+88UZxvd/85jdlzz33rKxWX331Krr+/ve/lyeffLKKsxtvvLGycsw73vGOynLQC4/iL4gu/U/O/ehHPyrbbLNN2X///Sujd7/73bVm8+bNKw888EDt/1VXXbXsvffeZaWVVhrFWufWIRACw0kgoms46ebaIRACIRACIRACIRACIRACw0qAvPnb3/5WHn/88fL888+X9ddfv5AZIpSILr9/6aWXatTPq6++Wkid1VZbbVjrtLQu3tomyuq5556rbROR1Nk2y/ZENJE92qV9g5V//vOfhRjC6tlnn62RXK633HLLVcNdrUQAAAN4SURBVFZ+95e//KXy8nvXEu2FY78WbdL/L7zwQiG03ve+95V11lnn36LQsMFJ/4vyWnvttevv+7VNqVcIhEBvBCK6euOXs0MgBEIgBEIgBEIgBEIgBEIgBEIgBEIgBPqEQERXn3REqhECIRACIRACIRACIRACIRACIRACIRACIdAbgYiu3vjl7BAIgRAIgRAIgRAIgRAIgRAIgRAIgRAIgT4hENHVJx2RaoRACIRACIRACIRACIRACIRACIRACIRACPRGIKKrN345OwRCIARCIARCIARCIARCIARCIARCIARCoE8IRHT1SUekGiEQAiEQAiEQAiEQAiEQAiEQAiEQAiEQAr0RiOjqjV/ODoEQCIEQCIEQCIEQCIEQCIEQCIEQCIEQ6BMCEV190hGpRgiEQAiEQAiEQAiEQAiEQAiEQAiEQAiEQG8EIrp645ezQyAEQiAEQiAEQiAEQiAEQiAEQiAEQiAE+oRARFefdESqEQIhEAIhEAIhEAIhEAIhEAIhEAIhEAIh0BuBiK7e+OXsEAiBEAiBEAiBEAiBEAiBEAiBEAiBEAiBPiEQ0dUnHZFqhEAIhEAIhEAIhEAIhEAIhEAIhEAIhEAI9EYgoqs3fjk7BEIgBEIgBEIgBEIgBEIgBEIgBEIgBEKgTwhEdPVJR6QaIRACIRACIRACIRACIRACIRACIRACIRACvRGI6OqNX84OgRAIgRAIgRAIgRAIgRAIgRAIgRAIgRDoEwIRXX3SEalGCIRACIRACIRACIRACIRACIRACIRACIRAbwQiunrjl7NDIARCIARCIARCIARCIARCIARCIARCIAT6hEBEV590RKoRAiEQAiEQAiEQAiEQAiEQAiEQAiEQAiHQG4GIrt745ewQCIEQCIEQCIEQCIEQCIEQCIEQCIEQCIE+IRDR1ScdkWqEQAiEQAiEQAiEQAiEQAiEQAiEQAiEQAj0RiCiqzd+OTsEQiAEQiAEQiAEQiAEQiAEQiAEQiAEQqBPCER09UlHpBohEAIhEAIhEAIhEAIhEAIhEAIhEAIhEAK9EYjo6o1fzg6BEAiBEAiBEAiBEAiBEAiBEAiBEAiBEOgTAhFdfdIRqUYIhEAIhEAIhEAIhEAIhEAIhEAIhEAIhEBvBCK6euOXs0MgBEIgBEIgBEIgBEIgBEIgBEIgBEIgBPqEwP8HAAD//+4CSxUAAEAASURBVOzdZ5RsVbU24G1GMefMMWMWxICJYMAsYsKAIoqAoIJ/7h03/Lvjhu+OoWLOHBOKCoqKWTkGzDlgQj2KYsSc49fPGk7Hdt+q7qruqj7V3e8ao071qdp7rbneOdfcc757rl0X+OtS69KCQBAIAkEgCASBIBAEgkAQCAJBIAgEgSAQBILABkfgAiG6NrgGI34QCAJBIAgEgSAQBIJAEAgCQSAIBIEgEASCQEMgRFcMIQgEgSAQBIJAEAgCQSAIBIEgEASCQBAIAkFgUyAQomtTqDGTCAJBIAgEgSAQBIJAEAgCQSAIBIEgEASCQBAI0RUbCAJBIAgEgSAQBIJAEAgCQSAIBIEgEASCQBDYFAiE6NoUaswkgkAQCAJBIAgEgSAQBIJAEAgCQSAIBIEgEARCdMUGgkAQCAJBIAgEgSAQBIJAEAgCQSAIBIEgEAQ2BQIhujaFGjOJIBAEgkAQCAJBIAgEgSAQBIJAEAgCQSAIBIEQXbGBIBAEgkAQCAJBIAgEgSAQBIJAEAgCQSAIBIFNgUCIrk2hxkwiCASBIBAEgkAQCAJBIAgEgSAQBIJAEAgCQSBEV2wgCASBIBAEgkAQCAJBIAgEgSAQBIJAEAgCQWBTIBCia1OoMZMIAkEgCASBIBAEgkAQCAJBIAgEgSAQBIJAEAjRFRsIAkEgCASBIBAEgkAQCAJBIAgEgSAQBIJAENgUCITo2hRqzCSCQBAIAkEgCASBIBAEgkAQCAJBIAgEgSAQBEJ0xQaCQBAIAkEgCASBIBAEgkAQCAJBIAgEgSAQBDYFAiG6NoUaM4kgEASCQBAIAkEgCASBIBAEgkAQCAJBIAgEgRBdsYEgEASCQBAIAkEgCASBIBAEgkAQCAJBIAgEgU2BQIiuTaHGTCIIBIEgEASCQBAIAkEgCASBIBAEgkAQCAJBIERXbCAIBIEgEASCQBAIAkEgCASBIBAEgkAQCAJBYFMgEKJrU6gxkwgCQSAIBIEgEASCQBAIAkEgCASBIBAEgkAQCNEVGwgCQSAIBIEgEASCQBAIAkEgCASBIBAEgkAQ2BQIhOjaFGrMJIJAEAgCQSAIBIEgEASCQBAIAkEgCASBIBAEQnTFBoJAEAgCQSAIBIFdisBf//rXzutPf/pTd4ELXKC70IUu1N79nRYEgkAQCAJBIAgEgSAQBKZBIETXNGjl2CAQBIJAEAgCQWDmCPzlL39pJNdvfvObRnLttttu7f2CF7zgzMdKh0EgCASBIBAEgkAQCAKbG4EQXXPSr2D9nHPO6b7+9a+391vd6lbdTW5yk+6KV7xid7GLXWxOo86+2z//+c/dL37xi7+/3HFfS3N33vwvdalLdZe73OW6i1zkIi2ZWUufOTcIBIEgEAQ2LgKuK+eee2735S9/ufvIRz7SXfOa1+z222+/7spXvnK7VmzcmS2m5K7rv/3tb7uf//zn3fnnn78qIS984Qu3a7nruOu5/6f6blVQ5qQgEASCQBAIAkFgDgiE6JoDqO5M//CHP+ze+c53dh/84Ae7j370o929733v7qCDDupufvObd5e//OU3TED4u9/9rvvWt77VffOb3+y+8Y1vdOa2lubu/MUvfvHuCle4QnfVq161u8xlLtNd+tKXbq+6g7+W/nNuEAgCQSAIbBwEqpLrrLPO6t7znvd0p59+erfXXnt1Rx11VHf961+/u8pVrrJxJrNBJP3973/fYhTXdOQiHSAb+9d31+rlqumK6HIdpyOEl2s50gvhFdJrgxhDxAwCQSAIBIEgsEkRCNE1B8Wq5lLJ9ZKXvKT78Ic/3IiiW97ylt2d7nSn7iEPeUgL3gWJG6G54/uhD32oe//739+9973v7f74xz+uSWzBr+BZJZfKLokM8s/d++tc5zp/D5LXNEhODgJBIAgEgQ2BANLlV7/6Vfeyl72sO+OMM7qvfOUr3R3veMfuyCOP7G584xt317jGNTbEPDaSkKq0P//5z7dru+s6HfzhD39o76q9tN13371z88n1ekhaIcUcryrMtfxKV7pSt88++3S3v/3tu3333be76EUvmkrtjWQQkTUIBIEgEASCwCZEIETXHJR63nnndZ/+9Ke7F7zgBe1dUOmup+2L7lLvvfferZJpGDzOQZQ1d/nrX/+6O/vss7vPfe5z3Wc+85m/b3f44he/2P3oRz9qgbFBkFbXuta1WlJy9atffeSdYMH0L3/5y0YCqnjztyTmBje4QXeHO9yhu81tbtPd+ta37i5xiUu04HnNwqeDLY2AZAwx+/3vf79jr8hlVQfXu9712vuWBmcNk4crvwDX7373u933vve9Vgly2ctetttzzz3b9myVHWlBYBIE2JEbQ9u3b28VXW6u3OUud+ke/ehHt8qubdu2TdLNpjvGQ/n5L9dfa8yacr3kv9ba3IxTpa1v13XXY1tH+UlV3Egu8YqxEFnDyq7yAT/5yU9aRZh3N60QlPe61706OrPtNC0IBIEgEASCQBAIArsKgRBdc0D+s5/9bPe+972v3aH2nC5BoST7ute9bvekJz2pu/Od79wCwWHwOAdRZtKl7Qz1Qk599atf7Z7xjGe0LZk//elP2/xsRbzPfe7TtmceeOCBI4mqn/3sZ+15Za9+9avbneTaCunur60Pd7/73btjjjmmu9rVrpbnssxEc1u7EzaLZLYWn/nMZzYC9WY3u1n38Ic/vLvFLW6xtcFZw+xVfEiKP/CBD7Tt2WeeeWZLyD2DUBXObW9725b0rmGInLpFEHBtdL20ZfHNb35zuzHkM9XPD33oQxtx4kbIVmyqpfivE088sfkwpNM973nP5r9mcZOMf4S1d9VdqraRjYhGz0h7whOe0K7pbjz5BcxhI9sPfvCDdkOP7sQGKvDucY97NLLLDb1ZyDkcN/8PAkEgCASBIBAEgsAkCITomgSlCY8RMEoCbb9461vf2u3YsaNVPThdwIfAOeSQQxqh4471qOBxwqF22WGCWc/0eNrTnta2ZRbR5SH797vf/Vogfte73rVtXRgKqaLrxz/+cSPI3vWud7VnsbizrHlulwT5YQ97WKvsmnVyI6B3hxy55lkw7pAj3kY1BCR5PGtEldoee+zRtlWqBkJYJngfhdrifWY9StoQXexVwmab7KMe9ajOVuK06RGwhlTffOxjH2t+zvq3HlRzqejg11R1Xfva156+85yxpRBQrWR92jp3yimntOuKamjr1ha4gw8+uNt///0bebKlgPnbZOth8U9/+tM7ZLL1pVqK/5r1NYgO3vGOdzSy0fBuCBx++OHd3e52t3bNG3VTztZF12/k2Bvf+Mbua1/7WqtUd+5hhx3WzlXpPercrajPzDkIBIEgEASCQBBYXwRCdM0Q73pmxUknndSdeuqpjVRBDFXz4HUBvMqnQw89tJFBGy0IXAvRBQdkl2QGGagqDNkEN+2GN7xhhyS7733v2+7ozzKYlzwZx48D2FKKrLNd45KXvGTTg7GQlF6OFaDbKoJwu+lNb/r3bRwqz5BgqtDm2YqYc9ccuWD7iHG90iZDYKMRXVVd4XlF1on/20LERhehkce2JtU37373u1ti7Ll6tivZUmXLMjLfNm3P7NkKDSYICVs52Zt1ym9slGcw7iodwc21BDnClhAlrgX8HfLEw+j7P+Cyq+TcleOuB9FFD16ve93rGsnlmaKqs1WdP+hBD2rP21rpOqxCm/6Q365V1v9xxx3XPeABD2i+K2thV1pRxg4CQSAIBIEgsHURCNE1Q927O62U//nPf3532mmntUC+//B2JMW2pWdXILqOPvrodvcTobKR2lqJLoGw53m87W1v69yphpckUZMoq7Sxtcyd61HPBlktVkOi6zvf+U5LTG93u9u1cVXXmZtki3wqz8hGXt+p5rIVg+5udKMbtXNWSgBWK6vzkHLkUI2kasbzTtwpRwamTYbARiO6kKySfAmjXzplAxJ+NroIzVpARLzyla9shLFn9CGmJcTIOBVz/BkSeN5E8CLgwb7o7Etf+lL3qU99qukLEe6HNVS4pY1HAHbf/va3uze96U3tOW9s3XZYn7F9NxgOOOCAVtXluY1bsa0H0cV+xSiqst7whje0Z3apyHzwgx/cyC7bkVdqIbpWQijfB4EgEASCQBAIArsCgRBdM0QdeeJZF694xSvadgy/WCSIVKHhrqk7m+7217OobO+x5W8jtVkQXcikIro8iBg+mmoQ1VO2ZiCU5kl0nX/++S05l6QjroyFZDA/hGURXZJ5Mnpwr+TV9koJmMo8WxvnldCTxYO+2ZLKM8mHu+xbNelbzRrZaEQXIsnakHB6KDQila9Q2bIIDRlh3SDykXGILVUbqlP5to1WnbpWTNkXTDzbSIWq+dte5pd18yDu8ei6FrJzBKFKInaE0P3EJz7RntH1hS98oT0jSqWgreyLQvSOn9F8vlkPokvlqOuvKmc352zph/fjHve4ts17uS3IRZL5tUznerC9ClTkmB8S8KwuxPdGfETDfDSaXoNAEAgCQSAIBIH1RCBE1wzRFqB7zoWXIN7znQSrSBJJkSZ59QuDnn+BtJAYbaS2VqIL8SdZRnTZuqhqCqmjwUvVlMT5oIMOagHyrKqmKimtrYuqyCSjHrjr16Wqsk4Spjne30guAbxg3i9pmj8iTtWZHxewHXUeTfLhWUiq3pBuHs7sIf+ItrTJEKDDjfSMLmuDrl/0ohe1XzlFrHruHTJpERpfhnT1YH8PEPfA6vvf//7tuYOLIN96yyDRR3R5EDdCWtWnitRHPvKRbfvWesuzUcbjV/2giSo41wE/DMGnnn766e3HDT7+8Y+3ra8IF5+7Xm7Fth5El+uM67E1bfuhMT2X68lPfnKrPl/uRpxtzK6Hz33uc9ujGlzLPTAfOe9GlV9RntX1eyvqP3MOAkEgCASBIBAE1oZAiK614dfOllAL+pAoL3/5yxt54+6+QN0dUnf7fa9iQ1NB5CG7klhBvDueGyUgXCvRJZCW5MBEQo+IqO2BCCcVViqXJD+zxGQU0WWb0VFHHdWqCVRmjRoPIaaq6yMf+Ui3Y+nHBTxEn5z05xewkF3zuGMNZw/O9xB148PENrEQXW0JTfTPRiW6XvjCFzYiCXGCSFoUogshjfhFviK62D7ZHvjAB06kj812UBFdtt/x+5e//OWbbwjRNV7TfL1rAIJL1aJqLv6Uf1MV5EdcPvShD7UbCD5/zGMe037gYCNdI8fPfrpv1oPoQly7EadK07VNlTKS6thjj21k46jnAyIqvepHKRCUqvFUq6vCU9Foi71HEaQFgSAQBIJAEAgCQWBXIbBuRJekQKLkhTwQ8AqWbHmxxU/Ju2dYVWXNrgJkNePWlh7B+3Oe85x2N79+ZtvDdm0LQFbUs6g8qFmS+NjHPrY9eF2wv1Ee2DqO6PIAWw+RV4ml8mi4pY+ukX1w+OhHP9oeQCxBZAd0Lkn0i20SG3eFh1t/bLEQ+NevvAnI2QzbmaStlujSd1XaeAj38573vLZFif6OPPLIVpVHhj5JVgmwu+V0zj6MDwPHSdrK5s3D/2vbF4xs61HZc84557RKMnNW/Yc4RQBq5g5zOE9iOzV/d+9hXtgZm06ty3oAuv71az1KXvxta2e/mRN9kNWckDL6Jb++jOc8FW/6KHxgUD7AO2z72JQ/gAuMlvMHfZxhrS+facb20tjbiSee2OY8/NVFMps3XMimisq869zWwd/+ISd9epHdvBw/KgnXF3kcVy+y6UNzjjGcD1sywNJ21de+9rWNDNY/QtV60uABZ/5ilHztoDH/FFZk72NVNsn+zFvfktv+tmGy1XZez1FS3fiVr3yl/bIi8lUFiPP7Nln23BenMCGD58/RtbG8RunZ8V6eCwYbfRYGzi2bKh2al5f/w9n35qFvWJpf/7yhbMYqXZGxb0/GLnn1xf6NZR4eps6X+dwWY35QJYxz6Istk6EwMU6dbzxrhrx92yA3XGqd1rkls2ONDxe25Hjz05f1DAPylr0Y35i+hyedmh9Z4KQPY5mDY/U3j0Y21wDPdbLV37Zca1I1r4oiN0B2LN1QMBdb4Gyhs1WcPEMMppEPHuZfvs7f5u5Va9Hc2T8b6zc4wYsf1o9rFWytKVjyg+V3yFg2vdJ1vfRBJnrxf408fXtRbeVZjfP41cWdO3e2yjpELT/pxyWQ124AjfIzsCArLOqXV8U41gs98geIb/qblw31dZO/g0AQCAJBIAgEgSAwDoF1I7oEhO7gfuYzn2lbwCSWgkdBowonz+jwsO3lngkxbhK7+nMJh+1tb3nLW7qXvvSlLfHzfArVN6qXJIa2NUoSNUGs5AdR4u6nO5+Cyo3QBOV+sVClkV9oEvBKFuhRhZNA1935fiJeSRws6N9PmcNLdYikwBYo2x1sz7PdwWf98+HiAcXsp56F41jbHD20eJJGBolEf+viJBVd+jY/tuqutQRNku8zvyxFDoRTJWE+Z+sIC4mAc8yTjfiukmU2r2Jh3333bcloJVcweuc739lwgrN+JBeSMKSId33YIsV2rBfYr9QkY37t8pRTTmk6Q5jBTiIsifrc5z739weg67+el0aXe+yxx//5FT22TD4VGBKagw8+uCX95FftYzx2jfiUqNKn+dOBseDCBlQ8SvZ9J8GDJbk8Aw1G5leERn+OjmeLhTOsC2fH+RVAiSG/4vOXvOQlza6GRBeiQrLnWUESOIk3kppNDpvvP/nJT7bE0BwQs0gNBEHfXskmIVYtYd3b8urZfeRlR5r1D2Nrxq+UeQi3OagcJK/EkR7oFiaa+agC9Rw7xMCkjTzsD1bkNw7c2WnhLjGFN7tik8h4n2nwYZO2mtGZfsjne7IhdcyHTXmmEuxG+TNkgLmR4fWvf30js613umZjw1bkHPt0E4HfZBswJx98yI+EQwrb8mZufBL7YzewRUrTFdzYu/OGzVj0y8fQrbnaigU3zdjOVYG7/xL5SF+w+MAHPtAqL+lav3wX2diDdaEij49AIBSe1oC1SF52YR1ZA9a5BktEP1z4CMQ/G6vGlzn2rLPOarjwCWwJMQQHeLFremEv9AJfY/JdfKBqUbqAX8ltrXiQ/qgbDTX2Wt+N6xoAY/pRwVvYvP3tb++86JovYI+2lrumwLN87LQymCM82K1qMf6J/dO372BrPbER/oGN9X0OO1D1xNe5AeFB7WwByUj/1jg7cQ4/bv2wa7jz2f2+Snbj0gd/SY/IIvrQrB02y15d48QU/MI8iC6yI2ptvyULG2Czhx122D+Qi+T1Mn86dI414hEN7K6uZbDje+lv1Lxr/nkPAkEgCASBIBAEgsC8EVgXossdXAG44EiSIziSnFQCv23plwgllyoDkEMC9Er85w3AWvuXdJifsn8VP94FiQJ4gakkUeAuUTR3TQAoEHzoQx/a7n6q1jHnjdDGEV2SBUkCPdq2YH7VBMhwgoWAXnAtUZagSWYkBMgQ50pMRyU0kkHEmqBf34JxlS4C7EnaWoiu6l+SyIbpUqJrewcZkDGSRQmsZMVxdE1mhJD51Etyxe7hJZlh7+agEkQyZzsIG5KM1fmOVxkluYKZBBpmEi4J2iREl0SstkJKsCRisJbAk9dnjkHEmIcXIlDiI7lno5L4uktPj0iF7Uu/1uUc5AMM6BWJTUeSdVtZjIVIQAYgEmAj0TUeQkif9ONvfZmrtaOCbZ999mlJvOS/mr4krmSQuOqTbRXGxpYswkrShfiQ/JuvxNFzfxA6Gn3xRyq+kA0qCulEwjZsvqf/HUsVJxLcQw45pFWcGKf8VREmMEViSAYl2DAxz7Jta4KMqif4P/NB/qmqoIsiuviFPtEFZ4nlpEQXeST1/K/+2ZSkvbDyDnMvNsmWzZ/eJdpskvxsHmGH3GHTRXSRj57px/rn02A+iuiiY6SBxN5zfdiemxsIW3qht35ybK3ABQnplx75CiQC3Kvi09xgzQ7Mkaz60YynmYM1xoaH1xd6gBEiHTb0JeEnp/PZdDX/txaQk/RprfZJI/q1RqwbfxuXvqwBZI6+EHAwtL77JHjZBlmsPWvBGoCpMfkK9qvVMciJ7UvrD47INVjyFUXi0A1SrvQBd/PjB+jPfMzfOeQyFlLJeiXvLBuZ2Rifwb9ZM8YgX137XD8931J1nOORc3wsshxJWHqdRi44mit/40cD2EgRSubuJRaBv+sPXcGAr7UeNL7eNQvWdM7v8lH8iqo013++QT/sle+wftiJv2t+JTe/5zjXMzbAfn1mLZpj2REbpztyW3PWvW2F/Fd/nVS/07ybN/0j0FSQksUY7Izs1ln5Kv0WVsg9+LFh+rTuEbL8tPWJ2OuvmWlkyrFBIAgEgSAQBIJAEJglAutCdAluzzzzzFZNIiEVxGqCJwFbJV0SHgRGJSOznOi8+pIkmBMCRtAqST3mmGNa8ibokxBJxFWUILzMuZo7/cg9pf6S3bUGr9XvPN/HEV19PdLncC4VKAuu6V8yKHCXDLiTrvpH0DwumZGE7mqiSwKJvKhtHiryVO4hBAT3sEGoVLImUaJXSYOkDRkimZBIIzRU1EiCEKMIAvYiYUJESKAQOaoEHScJk8hKfmEksUUoShirUmQ5vUukiuhir/qTqElckBvkk3giFyT51is56MuPA3j4vuOMp/WJLiSB7yRIkmSkBX2Ss5IeY0m0X/ziF7dk0TwRWeYkuTIOWRAWiCfJlPUhsZMM99eHBEviCme6MA7iByHgOIkimSSQ+rImJfLmTBfzJLrIpupBUowUIwOZEC0SQXrTyIeU4etU0MC1f0PA99YDLCWRGvtwrD5KD+2LZf4xb4kyogqBYG3CCg5siU2ya/pkk2Rgk3yxX06T8CNe2ALb9c4mJf+IF/o2hyJbzJHcdDBsfIC+kDzsQH90x1/SMTvuJ9fsns2qovRih/e6170aHgglfe1YIh3NjUzwQdbwKzCiC8QOm+Kn6f+JT3xis7kiyvgiGPHNJ598ctOXz9iyfmCksU26ZOd0guhAotCT/mFMJrpmt743N/pCVsCx1pa5I3usM7YPQ+91DB9TlX3mpCrLdUK//Cr5zB3RddJJJzWSxFjWHF/Kp7IP/sfn9Ev2evYbv2HdwYpO2CucyAwjNx0Q77NstS5UbJUujQMbNmj98zl0aQsjcoqOTjjhhEYWsqnyJdPIxc/wpX7J1HOojId8QnrC2/zZEBIXEY/o8kgBPr2qOvtEl+PYBftmn3xOkeKu8/w/30Vv/LoKObbUb/rjv/guenYtdOPCmrSO2GP5Lv7LHOiSzOKjWRBd8GZDfBS7cE1iJxWLsRutruNwqmadul6wNfJYE3yGc+r4OjbvQSAIBIEgEASCQBDYVQisC9HlbrxAUyWHO5njmgRC8CtAFPhvhCZJkJh4dpNAUXAuEHUXWtCKYBD4ek4XDATHki7NHCX7nkMi8RBAzipQFMhKiOBNBrIIliUz/WRyWozHEV36NgeJ0rCiq8YgD1kE1ZIPiZ6kW9AsAZFcSJolCUPyBlECX8kE+WEnESnioMYY916B/Wq2LlafdK0iAKmpoueII45oCah5S0Z2LhFIr3rVq9rdfzpGUEhiyQn3IsOQCeZhCw9yVAIrOTV31VkwrooRBCkd6kdSpRKJjcBHnxKuSRLAPtFl3NKXZFdyjrTQHx0ZX4KFoJYESuwkbLaXStwlNEV0kY99S9Qk447Tl6SfnBIkSSuSUl8SXeNJ/uib/o3rOEQAu1A9QU+IBAmU9WT+jpOcwc+Dq/UJcwmgLZb6lbyyD9UV5DIHGEvkyQ7DeRFd5oCQNSZSSeJsLdAZfOi2Kp3IRyf8hXlJ9v0fKYcI0I/PVZfAVbOGERiOVS20UqNH/bFJGLBJsqjAYJOwYjvGZWNssiqNEHO2cbJJ2+L4LcfQD52Tz7plE3wdzNmktcsmx/kY9oW8QtIgiNgRoov9I2r680IEIpCQQkg4zw1ynHHZAf2aG93CxtyQBSrg4GwsRJTqE7aHbCErW2FPGltyPtJU0k9f7LLIWhhpVV3GrunMePpHgCFn+Hb6slZU6bFb9l+EE0xgZs7GYhvGsP74zLIBNk8mciOGYQUTONsWqj//7xNdjoc7fdEtHMhXfgE5o1rK/Pgp1cbGRVCwWcQKX+x4/fi8qgjb5Nf4jzHMF6mDwGFDMKIDfog/4Z/ZKBnFC3Dl2xFdyBTzrvlMI475siMYwB6Bxw/wUdZRrVnbSG2LpzdVuuzMGtCK6GL3ZETmWs/0x+fUNcg4/KYtjs6hC/aGqDRHY5GH3+K/di75LjZijbuGsGvHsQH+n93yJezT9Q9esyK6jGFNm/Ozn/3sZnPsiv82J3YwqjmPX2GX1gQ7Izs82B0fN27tj+ovnwWBIBAEgkAQCAJBYF4IrAvR9R//8R8teBW8STbGNcG1YO7f//3fWyA+7rhF+lyiJnBFZAnwBMmVIApiJSQSCUGy59IIbiWWmuBdkvOkJz2pBcUCZufMogmoqwpBsivxQyoI0iWkq0kayCXIlbANn9ElQRDQSxAE7v2EteYj0RawS3gkNIJsCb8mmUZC2JYkGZGIw3NWeMyC6CI7/anI2LGUOLvzX0mKJAeRyw7o191u1ScqBCQv/XnAgU4kn6oMYIf4UbEiUXZ8JROz+tVFMklO9Ad/Mvh1OK+qpis9SeDN1RwRuP4vCVPBhryT3CD8JGGqASRMcLBNS6LUn2sl7qplkIPwU8GoQozOVWr0m7Ekwyp0HC/hP/roo1uiLwGDi7FtfbP2fCZpVvnVT+71aQ1IYBELr3nNa9o851XRZWxzNZaKFGSd9WwrpIR4EuKeTpCpVXmDZJHYmt9qmoopJDybZJ9V7cNHDW0S7myyiOBKYNkk+a1FeDqGDSHEVLJ4Ntu0v7qIVEEYIIfgBSP6kywjPjTrlR3QGyyRbJ6Jx87YTJHefrnV33yPmySIub79IVkRYuyYzKoWrUuYGoMNeW4dIk21mio2PowPKlJyHPYw49+RmqpzJPnIkeGvLhqHbvk8Y1kDyDLPnzJnpEu/Od51kn9E8iG8kHOPf/zjm70jIfpEV90wePKTn9z6K+Kl+kQWuvaoInLNecpTnvJ/jkPCGNeLbdD3rBpCxJo99dRT2xrhS/jFqoQyjvERrXyOa6V1wP6f+tSntjXgb2ThtM3YiECxB5/m+sfv9G3Ed8gk25f5FzbCJsuXWUdskK3x8Xw1X8eHWSclVxHGiCPVaXTM1tzIcj3kHxB+7IX/4ruQ9NYY8k1f1eBhmyT/hfiGjXU4K6KLfVkXfjHRvOmdjxKLuPnGJvsYlVzsDlHJP5sj20Kaunbb0okoRganBYEgEASCQBAIAkFgVyOwLkTXP/3TP7UtFoIkAdW4JmCUKPzv//5vC+rGHbdIn0sMJTCCV3fCkR/ubApitUoefC9xERhKTDRkk6BfZZAkDckxqwQDqYGAM55kF7buMNcWNEnZatpaiC7BOxuQcEjeJH0CeEm4IB/hAgNklwoGieZqCbnh3OjB2JXIS4BtGVElInGRiIwK7Pv9SL4kxhIxJIwEhpzuaEvcPWTfFiiJJjuQxNLvsF+ySDQk1xJkCYcEX2WLJMO8+8SURE2iK8mXyK+m9fuDOXJNgoWkGOJMTxJzVRCSLBV4knqJtARVsiwJK6LLd494xCNaZZo59xt7QVZJ7BAXEigkAzJYRcVQv8Y2XzJ6dgxMVaDAmf3CilySTkms78hk3CExag5FKCI6VM3Q9TwquowNYzbtZX1JYlXhsOuVSBOYzZrokpRLRtmk9c8mySSpHtok3OFZW6rozGe1rZD8CPtZEF1wQh7ACZGlorGqaOBmXKQa8gFJ52/kBBtj/2xGVaK5IYLMDWnk2oEg77eqQNm+tJWUP9Q38oEftAb1wzbIxDbpyxqUrCN8lmuTEl38DkJfFY+thsYpgsM1o09wGI+M+q5KND9mgoTgF8nGp+izntFFb7ZY2paJPCqysGTnZxATSCR981sIX6RP3w58V63/eX22mnd98u9wRrap3IU/fVa1nH75RDdQXBf4RIQQHRx//PGNTIXZEKdJ5Cm/Dy/rCzb8Tr+xL/6GHZCVrSMVVVKyraoy5XP4MNt6+WJ+p+9zjGGNOM5NDBjyW2yT7L4zR0S4myV8V90U44+H137kLnnIBRfXRsfzX2vVD3vn15HN1liRtJ6JJn7h40c1eDqX/xfPqG4mi5to1o617Hq4VvlGjZ3PgkAQCAJBIAgEgSAwDQLrQnT9y7/8SwvwBeQC+HFNACoR/e///u/2Pu64RfjcPATOkhcBn+RbMuJZS4L4Kv0X/AqkJZ3uzkre3EGuhhRRzWCLg8B6EsKlzl3uXeAuwfVCwkgO9e+OrWQIybOathaiq8YTLEuoJWoSAphotfVJVYVkAkEwq7vDlfCshehCsriz/4pXvKJVRSHJJDKqP8zDlhVVI+5qI4UksciVcQ0ByX7oRyIsqUNoqWxExFUF1qyJrp1LFSVkVo3jGWOSklGJiaQMQSvJUjVjGxFCls2SDdElYZMMwkLFgWqIfmPrEqqnP/3pLXlVVWRMSeKoMZ0rkUIGS6JUgTiH7UryVN3QoQeUS1ol90guCfSwWaNwleAb3/GqD+ZBdLEvRChSAoHTJ2/GJY1DeWdNdCGCrDE2iShgk2yzTzAMZUDkwhw5goxik/QlEUYMzYLoMk86No6th/pmO7as850IJvbG7lQ8kn3/pWd4eZFfQ+CrRiEnMoX/ZANDksexfLC+VBUhvtj94Ycf3tYYn/yMZzyjyWDt6cfWxUka+9K3NbJcRReCgz0j9awX9owoMRaCY1RjT84ht4obNqTCCEmE8DBuEV3Wn8pgFZd8jv/3m/VnnkgNBKZrbG0x52NdC9gEMmZItvT7mfZvc4C3LYPWrHVIl6p/XOv7ctIh2+JzPOdKlajrgeozZDwCc0hQTSMPOdivmywqnflXL9dm+rHVkA93fYN1+XaYFNHlBgf8fMdW+NB+q/nyAbazIqoQuMgjczEee3WdQOLzXcguPnOU3ZKNrOzTWnbdpv9ZEF1wUNnLdt3MQJTyyUhQ8xpVkV1zhSW/Ku551rOe1W4+0I0qN9WQromztKMaN+9BIAgEgSAQBIJAEJgGgXUhuv7rv/6rJTTu0iK7xjWl/u7YI8bcFVzkZh6CYndDJRACUgmDqgJBYlWq+FzShiSRCEvwJHrVEDkSF0Giyq5hdU0dN+37kOgiE7JA4qCiY7i9ZdL+Z0F0GUvCUNsyVGVoRbgguWyDkJCxiVk0SYjkcC1El4QHYYnIUKFgKxVMEZySTlUTkjV3xCU3MF4uOUMqmLsXPOgGkSRhl+TMi+hii5JNCYnKjnENMaBa0fYyspLPfN29RzghurYvVcqwWSQKO0ZU9Jux2GL9qiEi2NjLrW9rSyKl+gU5ICmHi4oBz8BR5SXxs94QMex5FHlD532ii5zzIrrYFvuAB/KSrAgiW7GNO0mbNdHleWjIJDYJIzaJCJF0j2vskD3SOxunVwQjQoR8syC6kBpeyACEJdxUKZFPwo1cQCjTMTzZKN9onRUxREa2wYcg5Pjb5ZJryTliBfGsMkyVDTKFDSMSEGhIB/oiyyRtUqILwUFGhAKbtgYQFsYaR4LCh+2Sz1ZR/7dmaitpEV1IFX0ge90goKchgcxnI81gCbeqoEU6IdyQsvV8pT75NAkGyx0Dc37MuGwRmQSzcT7RnJBO5m2+jiuii89Zzm6Xk8N3dIDccYOFD6GPesHHdZmsfLa1MoroMg/2TybVpWQaNnJ7xpgbTKqekLNuELA74yDTyn/xXUg8Ns3mh408bBRJby1YG7MiutgDoope+He2iJRT6Ti8WTGUi19FGrIl8Y9rg/+L3WyttL5WqoYc9pn/B4EgEASCQBAIAkFg1gisC9Fly0JVhqhOGdckwBJpRMekyca4vub9uXkgIlSdCBYlFxIOxIwgr5INAaAgWgAvcPUS0EsCNASUCh53Qm0TQhQsVwU06bzIJ9BWLeVdso2IUBWAFFht0jArokuypdJEJYQ73P3meTu2t0nAJG6zaGslupwvQZIcqFBQqaQ6zp19OmffyC7EThFdEphxSZ05SRAQChIGxJEESrJhzuxlXkQXwtnde2vNVqhxjd2UfEgv8kmMydcnulQj+A4hJXnuN3ggLRBd5iRRR1wsVzVjzfSJLlusEF3OtZ1Loqjqw1qRRErMRq2ZIrociyyYN9ElcUY8ILo8p0nFDrJ20rU2a6JLso3oooM+0bWcTSIj6BwJpUqVXiXXyNdZEV1lH4i0HUtVPsZCsPB/iEgVXnwqUtoxbM4zk/itIg2dg3BmD+xFFYqbBsuRXcZgq0gKftCNB9sZEV1sl325UTGKwCiZ+++TEl38f5/oMg7y0PbF5YiuIuLYLlvmvxERzusTXaqHEV0q4kb5S3qz9qxDFVP8CkITwQhP56uY8vw91+A+zv35Tvs3MoWfQKSYP4yNNYpMQxAhovgZZJDrl2uoqicVeIjIUVVPK8nkesXPIrhUzvo/7KyB/g0pWMPGmMiucUSXm1bWBL85yk7MQ5WitWdcRJfnjNFzEV1IKxWJiC7bUeFNlmGjM35w1kSX2MM6JydZ3LxhjyrLXROGPnwol/PZtDmq6HIthxvbccMOyR+ia4ha/h8EgkAQCAJBIAisNwLrQnQhNGzBkHQJZN1dlSQI3t2JF3QKuAV9CB/JhuBvUZtgVhCL8JDUChQlgpLtUXdmax4CRBVeSBJkg34EiIJCiZetJxK9UQF09THpO3yNJwi1hUKSIIEUxC+XDK7U/6yILkkWu7ANcEh0IQgEzEifWWBhTmxNgrOaii7nIiht9XC3XhImcVEV4k44bBFdKrokEHSoOkXFUSXmo3D1vBdJoGSDnlTPSIwQOMabF9GF+EA2qeiSnIxrtjwhHCRlElWJGfkQe2Srii7zH0d0SXaREYgutmONVwXJuHFVdEl6Vb8gMyTxiC5VflXRheySkFVFV20V7vdJb9YbMmWSrYuSN2SBJHa4LUm//FbpC0GiAshWH7aATOhXdKna2dUVXWRVbcomty09M1AFohsIyxEGO5e2tdI5m0SM0CufzCatn1lUdJWO4MU2PHyfT0TiqApRdaZ6BjGBFIEj3btWVAKNHFYN5nri4fSIcfawnP/l9xAKjjMftskfsE3bwoyB7Jn0JsukRBe7sb5VdLkxoooHptbgKIIWPkX82OrGds3bdZGM3vtEl2slct2WNvMa16wHNs4e3ABhw65jyBtkoWsQHSCkEGauTatpZIcN3brum7t5kp0/r2rnft/OIQcfSx/WuTXlmojoUs02jhTs99P/mwzGRsjwAXTtOo3UQ457N0/xB5/uONdK/58H0QV7JJ61xX8h6flDN7pGEV2uAX2ia1ZbFxForj22BbMBpKdqQHY5SezFVsQvrnnPfOYzm4xIZtcTpLhr91pijL4O83cQCAJBIAgEgSAQBFaLwLoQXe6WCq4FmwJ3d+klNoJ1Qbq7tSofJNHeBbSj7vqudpKzPE9AjkASIErCJYP+7y6mO+4C+nEJggATQYA48EBagbzmeOSIIBHJ4479uD4mnQs5vZAGxpEowXS5RHCSvmdFdElQ4SARV3HTbwJliatqqVEVCv1jJ/17LUQXDMmrikTFji1UklTbNGwnkbj5DmEnOZeQIK2QC+MIW7rxjC7JumoDtuEclVZsSHI8L6JLYqOiCsbu4I+yNXghIiXnVTVDPjqxPlV7TUJ0SRwRZqpmJLJwY+eeUzRqXPpkY45FdLEPRIckCvFZz/DxfCY4kclcRiX4El3jSyyNLxkrQsC7hvSTVEuuHSuplvBbg8NGLvrSn+2YKk+L6OIDyMw+PH+nnsOkSmLSBN06VWU0q19dtK6Qr2wSOQkrBJ7EelRjk3Rljqq5EEHOYSOwtg5mSXTBExEh4aYDZAbiFbHpxwvYmP+zOXbDXspm6MBNBv7XfJDO1iI5l2sScD4QsUD3RXS5CUDvKluW21bb73tSosvaRqTUM7rMBXHLNtx4GNWsP/ZU8jnOtcEa4F9WQ3QZh52SxzUZmey6bJ3zXXBxDWPXyF7Xi8J7lIzjPmPHSB1kjvXrZoD1BFf6GdUn2yMPW0Xs8Y18oPVlTbKJSddRyUUG69TD4dmtmw58iefBIXtVWpozrNmatYt85c/nQXQhrvyICUKN/7K2kOWI3VE3RMjPJ/Fd1rLKVr5zrc/oEnvROZLKu3H8si29u7bxk8s169a6Q3QhbtkUAlPVJbumqxBdyyGY74JAEAgCQSAIBIH1QGBdiC4TEUwhCySqEmeVFgJigS9CQIAtgB+VsK4HEJOOIaiTJCA2PJ9CgE5+d54FeILEUYG8/iWKSAbJ53Oe85zWj4RFEyhKvm15klhKMhYxWBTk0qHtNMg+yQkMbNOz5VClgq1Go+5Qm2cRTioKJEESOcmIhoxznmoYd/8lRuOS8nbCFP/UuMajN0mUiisJDXLVuEO9mRc7lYwj5VQbkJt+zJW+K1H1rKAdS0Su4F9CRo+qQyTfQz2SxXrQ3/alyhV/w09SJwlTUeCzIrokvCpdYKsaajWt35/1p6oFzsguCV+/ykICT8+qMTyAWYIGK79EZk7ks5YnIbrgLJn2y2H0rPLKmPCTbA7tBObmi2hhH6omYYnogvfOpYojZLktr+REMCMH2Qr9lQ71Y22pXLAVD84wlnD3H0aPgHAMooue4SuZRHr0+9OXY5FvbAFJovqliC46YSuIQQS4sST4xkLWTrJ9sU90mT9fgkyVDLOhmtuk+ndDgaxsEh5wtG0P2dWfm/58z0aMK+E3V/oxP/giBBAksyS6zFfFCl3SKX2qKLEeTz755CYP/OhMAt5vCBF69WK75Bx1XP+c/t/my3dZt/Wri649MEKumXtVj/XP6/89JLroi41K+Om81r15uma4ucF+rAHHGUtl0ZDkIJvrDP0h9NiT66Mtj64R5JyG6NIfnzO0ocKAzhEW7N/atoWUj2OzNYf+vFf6m05dI/g365cvR1YiE4frvd+X81RHI7oQMDCjf76C/xt306DfR/9vpDE7QRSZP7tStWRd9rFgB7BmB3wP/z0PoovOjGM9snm+y00d8rjO9dc33VhrfBPfBRc3w5CjMOkf25/zJH/zx9bbs5/97La11NpWgay6DCHOBsY1/lx1r2rR2kKuSg62qmGtX32sRb5xY+fzIBAEgkAQCAJBIAhMg8C6EV0VbEsOvPxfExAJOiUV3lcTWE8z4bUei6xy19cdWXdEBZ+CeHdDJS3LBXiSF8mkrUHOlVgIsjWEH/LBnVXBuO04i1jVtlaiCwbmLEFVyYH4c9dak1jBAaGCREAWTEIQtJNX+GdaoqvsFSkkYVOlg9wQ1HvYLgJCMlw6kjwgwRCY5qNqA6HjDjfb7tuFhMfxyFLJla1SjkdouGvvWDgX0QUj5IREREXCalqf6EJQmZ+ESbItMekn2+QztmRGZc22JSIXAUQ+25rIZ8vTJESXta6CwBZVSbvzzMO4yF367jfHI8RU60jGbJGRhEm8kQcIGN9bPxIu5IaKDyRgH2fzkyhba16wNg8khnlXRRdyylwlw5JzZDv56K7fn+M8b8gzaRC8MJDYFdElgWfbntPGVhCBxrOekXCTEPh9ogu2xucLEBz69/9pGv8CKwktgpCNSawReUNfC3c2qXKETSIVkAuwgJX5SnJnSXSZC3+qmohtSObZhAo9aw4hZGuqNTG0E/NB0KjWQU4gQ5Ch7JSskzT6sr6RDtau9U1f8FFlgwBYrsHMWkFcIAfph+z8lzVdvoEtOpYNIkJVzfFtxkJs8yn9xlfBxRqwRdM8+RHkizXg2mBctmZcuqIjdj3KzoxtrgjBoQ0Zy5qEgSoda1WlkfU0CdnXl9vf5mpduj6yFf8vcoleltPNKKLLOqQP6x9mkzbjGp8dVTWnGzD8J5Kx36x/pD7fze9uW1q38yC6jGmNeYQD/8V3IdTFDuyldEN2L3ov3+UagBBz3Vkr0cUnqCxTOepabAsnW7SGXAf6Nz36OPmbbq1T125Vd/Cin9JRn+Adnpv/B4EgEASCQBAIAkFgPRFYN6JrPSc1q7EEm5IEwZy7w5ILCa/kqLYgqJCQXEkKBavuzCJnhneunSeolHxLlD2gX7ImkdccL8iUiEpqigSQbLkT7i7zSonCrObd76fmT244IEwk/BIsW+78H06SUtu1VH/ARJIniZJgSZDNXyLvb+dLqtxt1ydcBfmqn5CGkixJuTvLFXTDCV4IADggDxw/TBL7svf/HhJdyCiYqjZA3pBXxYr5kJW+bd2SLEmAfU4n5ihBQTyRuYhZ85DEIDkkKBJGMkpkPQicDo3BBiTmsEOGICPo27YkclQFG1n0J/nSn7EkaY7VJKESPwSAv1dq5C/iDO5whZ9KEUmyZIfd0o95O0YiIwmWIEqwJIgqu7RJiS62oSJMcrTjbxVv5oi80B9yuObsOFuI2IZKG5/DxHYyBIJ5OgZm25eqHNgCeVUR2GqlL3aowZi9eKmKUCFifVaVVRFdCAX6Zc+qT9gF/bJD+lalwz7NV4KoLzZhXGRdEV3WqbnyDQg6JASbRZyxA/KbjzXOFhF2bEFSLTmEK7tme2SBlaRSIswn6N/86ZstTVLdQud0ySbJxCbJY350rxqRTSIYHMcmzRORbw3DHf6lc3M2d9Wc8NQXkhGRsdrGJxgXwcYn8hfmZ77s4/DDD2+26f/9RmZ2gEBlK9ahNWm90bM+fKZ/OnasRmY+w9zpy7zZJhIK+e57cza24+BMX+bOTtiX/pHDbIO8CGEP9oabcREX1hP/5Xgvn/N7ZGUbO5fs0lhsw8taZhvkJSvfYA3SGbvef2lbv/XPBqzdaYguxBof4hwysWtjlb0heJF15kJuRD5CmG2Uf+tj3/8bhs4rnNmPsWBCVjeC+A/v4/pzPtnoVMVTbd21Fs0ZyeXlRpDrJJlWkouM1hdZEL30TJfIUNVHRRYa05rl6xyrIQvnQXSZv+soO9u+5L/YFBsSP/DDfIHGxyG22IiX9WEufBZfMC3RVdc+OLuei11UYyGY6Y8v1qdtsUMd+d7L9ZBMbNJ6oSfXC2uFblyvkcPmM2x8mrXD9vllvtDjKvggNpgWBIJAEAgCQSAIBIF5IBCiaxlUBYgevCrYFNhJHAV8gmIJr6TcVi6JtuBY4CZpkUQhUfqtjhdwex6NgFHgKOHtt0qK9SXBlNgKDG3dQXasd2AoSUS4wECiJgg3B4Gyz+AjEJbUkFPgK4iVjBV+Re44FiEEC0mMwFviJWA2T2RhVQ0NCSzJGILQFhs4IF4E5rCfpFWwX1sXJewaYk7ip09JCFnNz/cSTnMTvFflnjvXEtdh4q0vc1NBoDrFc1gkY8gNCQoywzkCfgSG+RhTkmEuEjDf+0yTOJJDAm37mWRVP5I0/erP/yWmk1Q69Iku9ivpg7/x2By86ZBezJu9I9t8rqqHjHRU856U6DIXyRVsEVMe5u9cCSZbQQLCH87wk9QhDNiZJNe4CIyaIz06TiINZ5UYZLL+6MiagY+1BWcJvbGsOXNhL5I62Gn9/tg0rOlb0ib5RFBIwtn+ziV71581QUaVVkV0sWMNzmwHAcPWYGl+5kBX/IIxHYPEQKjRKdLDPJyPdEC8mBuSAzGlf3NjLzAj3ySNrGwScaY6xFzYr/mTy5h8WtkkmyBr/Qqb74tsngfRBQuEoLmqHoQzGRB81oStWkWE9ufrPPZpTvTGN7BlZAh7tj7833zZkn75mSJdaitkESzWqy2C9MLHFvGgH2Ox351L+qcnJJB3ZBe7RZAir+ib/iT9rgFsBZaONZ5+YG0NsF22QaeOoQvri490XUGqwpvN2GLsOsOvatYTuSet6EJs2AbM91gb5sYO/e36w78jl8m4/xKhBnt2ttK1xtzZV5G2fCc9WOeub4gbPppfd20wV3Zc/cKDrmECdxjzc6rBXCOsD+cisWEKI37LmuSrVmqw5GuKDEX0W0v8Dn/CxyJhrGXY+BvRQw/zILrYnzkjifkvNs8uycJG+C86oXdy07F58l3lL63LaYiuuuaaH9s0Z6Qym6VzMtE1X8sPlW4KWzomM//guoHkqrXEl7opBVPyO3d4vn7g61wEvve63rE1800LAkEgCASBIBAEgsA8EAjRtQyqgnDBoSTR1g6Bt2Bcoi0Y9ZI0ShokhAJyd/MFjhKkfpNIuZMruJTgCFwlaoLZfnOnWaItwJVISWgRDYLCupvdP37ef5uv5AUBAAeBsxcsJJCCYE1S2ZddwFtBsuDaOZXYwK2OFyBLPATZEjmJvfkXcVDzmzXRJaGSYEmcBPvkpW8vjQwSEAmaxBm5IOmsKphRAbpzJXsSVQmB7VDkpmNYOMfLeJJK/bKZbUsJYRE0lSg4Hk5V7YL8gDfSgb2pTLK9s6pXCqdx7+y4KrokLYgO9iWxk3hJRoxHV2RAGJg7IkYibhxj17ynIbrMBTbwho3qIsmwdWDMIlL0LclkA+xBVQ3bsBb6FZJkRALCVrIoedKv883HWrT+9GMOiBQkhr712Se64KU/lQbIPQmoCg94GJcdwFs/cKg50K9qwCHRhYSgJ/alP/Ih3ZxHNnYPX7Ig3mwXQmLA2/dkoSeJqAon82Q/5k8GpIeEeFKiy5pjk5JT9ugFL+OQFWZk0j+bRIKwSX/D0Pdlk3SFkJhlRRfbgBe5VPJU9cpjH/vYth3KXOlh2JxHfgk8UoSPMi+4k7nkNi+EEyLUelN9Yr1Z91r5JGRP2RMfrV/9s03zt2YRbio6Jff6YxcaTIxLX6pWkD/GZzv0pQqT/yALP0i/ZGUbKrfYXq0t8zJfZI41gExgs/xO4UAuNjEp0WUs5EaNZwxz8iKTeblmISwQS/weX75Ss6bZ9hlnnNF8CBtja65tSCO4lw9VIYjgYPO13mGBJENUws710Llsnq2Zo+urF325+cMeEKDWwkqNbsmBNDR/pChbI3fNm43D1/Vmx9L1jfzW4TyILnjAvuZojfOD/I2Ygs3wXXwDf+t6yGb5Lr7E/91omYbooh/+3fPh2LjxXbvhUmPWtY4911ovbB2vsTm4sUvXQZWTbIafoB9zG55bfYToKiTyHgSCQBAIAkEgCKwnAiG6lkFbcCf4loQhqpA+kphxTVLuDrYkVIDfbxIxd7kl5ALMSZrAUwLsDrvAspKhSc6d1TESDomfQBsOgt1ZNImFAHvbUtIpgUEiSOYE+qMCZskkckXC4ntJmWRHQjBJE7CTXVLsJ94F36qXhk3fZJBYSYLIhYyTDArmJ2mSCCSOpF0SY5yyGwmzxICt6NsLFsiGYSOvc93RV5UhKZSowQ0hIeHrJ8DD8/v/7xNdiB/bZSRRCDbE086lapWyS/JIzI0h0ZZ4waTfEAFsGQHqO8m/JNax45r5SG7NR/ItyZd0lU1JMGEOb+OyfViNapJY5BGCobYUwsbnklh2JTHUF32okDIvVSHm3ieK2Ia1zsZsXyIfMqL6MifySLLpoKqfkI1IDDolezXnkYWNSTLh5BzzNJaElt7IgFiQLCIWfO57a874dC45hRH7QNzROZsf+pcae9w73bJJaxn27IqMGlyMzya9JLBsbGiTdIcIsOWJXPRjHcJhLQ0u+kM0mDc/aysvogdOfWyH4zjXXNgSO6C7/g0Etll+hj3QIZsa2rP1CSP60gfShh70X6RVkSLmDK/qw7lkpi9r3vpiT3BFrJmHdcYu6ReOyBxj8UfmbBx2w//QLTIBGV2+p4+B4xzPHxsTAcaW2PWo9YJIgw8fbl58AfmM5VyknbHgY92Yr+9WarVm6M06tH6GTT/65+esFeR6EV2ILLrjf6zPIl+HfdT/9UNG1V1wmaTpk27YvWsw3SCaND69SBv6RDqxbzK7jrMRBMgLAABAAElEQVQVuJPR+uXrfM/XGR/pM6qp7KNbPpIPRU65dtC/xgboEGbIVeuxfLtj6LB8l3E8p42dWG/0pAp5Ev0Yi06M4ZpHntU2OLBnvse1wbWXTVtbK7U+fnAUy8CWr2FraUEgCASBIBAEgkAQmAcCIbpWQFVQKqAXlPt7uSYxFMR7HwaiEpNKZlbqp8bQh5cgs5KD+m693mv+MCD/LJu5CXThVZgNcavxJAZ9GQrnaQNlfUh+9LecHqaRrWSsd/2WvMbzd7/pu+Zc8+5/3/+7+oG9fr3qfHbhb6+V2iiiSzKnmmiUXQ7lG45BLi9Y+o4skyTI5IdJvfy/3/r2sFJ/JcOovshffRmDnJrPStb+uP7WHyyGOjO/srf+mD4rHQz7MqZjSzZ/95s+hxjX93Xu0E5L9pVspvrpv1efq5Gn+tGHV8lVuMzCN8FHv+QzhoS/dFjjj3vv66TO7x9LzrKFcX3W3Pr4+Kxav4+ar8+0OneU7bAPxxu/Wv/4spH6znuNVef1z+0fZzwvzbwcXzL1jyt8HOvv4bycU2PpZ5qmv7IHf49q5Pcate6cQy59rNTIWfOcRk7zLawKe2P1cfZ34VN4wERzTs3T3+ZhfMeNav2xHDfOR5Stee9jp1/necGt8B3KNWrs4Wf61b8+yL6WZvzSZck2DoP+OH38yAPXml//uPwdBIJAEAgCQSAIBIFZIhCia5Zopq8gsKAIjCK6PK/INrW0IBAEgkAQCAJBIAgEgSAQBIJAEAgCmwWBEF2bRZOZRxBYBoEQXcuAk6+CQBAIAkEgCASBIBAEgkAQCAJBYNMgEKJr06gyEwkC4xEI0TUem3wTBIJAEAgCQSAIBIEgEASCQBAIApsHgRBdm0eXmUkQGItAiK6x0OSLIBAEgkAQCAJBIAgEgSAQBIJAENhECITo2kTKzFSCwDgEQnSNQyafB4EgEASCQBAIAkEgCASBIBAEgsBmQiBE12bSZuYSBMYgEKJrDDD5OAgEgSAQBIJAEAgCQSAIBIEgEAQ2FQIhujaVOjOZIDAagV//+tfdueee25100knd+eef3+2zzz7dvvvu293ylrccfUI+DQJBIAgEgSAQBIJAEAgCQSAIBIEgsAERCNG1AZUWkYPAtAj8+c9/7n772982suuPf/xjd5nLXKa73OUu11360peetqscHwSCQBAIAkEgCASBIBAEgkAQCAJBYGERCNG1sKqJYEEgCASBIBAEgkAQCAJBIAgEgSAQBIJAEAgC0yAQomsatHJsEAgCQSAIBIEgEASCQBAIAkEgCASBIBAEgsDCIhCia2FVE8GCQBAIAkEgCASBIBAEgkAQCAJBIAgEgSAQBKZBIETXNGjl2CAQBIJAEAgCQSAIBIEgEASCQBAIAkEgCASBhUUgRNfCqiaCBYEgEASCQBAIAkEgCASBIBAEgkAQCAJBIAhMg0CIrmnQyrFBIAgEgSAQBIJAEAgCQSAIBIEgEASCQBAIAguLQIiuhVVNBAsCQSAIBIEgEASCQBAIAkEgCASBIBAEgkAQmAaBEF3ToJVjg0AQCAJBIAgEgSAQBIJAEAgCQSAIBIEgEAQWFoEQXQurmggWBIJAEAgCQSAIBIEgEASCQBAIAkEgCASBIDANAiG6pkErxwaBIBAEgkAQCAJBIAgEgSAQBIJAEAgCQSAILCwCIboWVjURLAgEgSAQBIJAEAgCQSAIBIEgEASCQBAIAkFgGgRCdE2DVo4NAkEgCASBIBAEgkAQCAJBIAgEgSAQBIJAEFhYBEJ0LaxqIlgQCAJBIAgEgSAQBIJAEAgCQSAIBIEgEASCwDQIhOiaBq0cGwSCQBAIAkEgCASBIBAEgkAQCAJBIAgEgSCwsAiE6FpY1USwIBAEgkAQCAJBIAgEgSAQBIJAEAgCQSAIBIFpEAjRNQ1aOTYIBIEgEASCQBAIAkEgCASBIBAEgkAQCAJBYGERCNG1sKqJYEEgCASBIBAEgkAQCAJBIAgEgSAQBIJAEAgC0yAQomsatHJsEAgCQSAIBIEgEASCQBAIAkEgCASBIBAEgsDCIhCia2FVE8GCQBAIAkEgCASBIBAEgkAQCAJBIAgEgSAQBKZBIETXNGjl2CAQBIJAEAgCQSAIBIEgEASCQBAIAkEgCASBhUUgRNfCqiaCBYEgEASCQBAIAkEgCASBIBAEgkAQCAJBIAhMg0CIrmnQyrFBIAgEgSAQBIJAEAgCQSAIBIEgEASCQBAIAguLQIiuhVVNBAsCQSAIBIEgEASCQBAIAkEgCASBIBAEgkAQmAaBEF3ToJVjg0AQCAJBIAgEgSAQBIJAEAgCQSAIBIEgEAQWFoEQXQurmggWBIJAEAgCQSAIBIEgEASCQBAIAkEgCASBIDANAiG6pkErxwaBIBAEgkAQCAJBIAgEgSAQBIJAEAgCQSAILCwCIboWVjURLAgEgSAQBIJAEAgCQSAIBIEgEASCQBAIAkFgGgRCdE2DVo4NAkEgCASBIBAEgkAQCAJBIAgEgSAQBIJAEFhYBEJ0LaxqIlgQCAJBIAgEgSAQBIJAEAgCQSAIBIEgEASCwDQIhOiaBq0cGwSCQBAIAkEgCASBIBAEgkAQCAJBIAgEgSCwsAiE6FpY1USwIBAEgkAQCAJBIAgEgSAQBIJAEAgCQSAIBIFpEAjRNQ1aOTYIBIEgEASCQBAIAkEgCASBIBAEgkAQCAJBYGERCNG1sKqJYEEgCASBIBAEgkAQCAJBIAgEgSAQBIJAEAgC0yAQomsatHJsEAgCQSAIBIEgEASCQBAIAkEgCASBIBAEgsDCIhCia2FVE8GCQBAIAkEgCASBIBAEgkAQCAJBIAgEgSAQBKZBIETXFGj95S9/6X7729923/nOd7oLXehC3VWucpVut9126y5ykYu0Xv74xz+273/84x93v//977trXvOa3e67795d8IIXnGKUXXco+cn+u9/9rsl8uctdrrv0pS/dBPrrX//amf95553X/fznP29zv9SlLtVd7GIX6y5wgQvsOqEzchAIAkEgCASBIBAEtggC4rGKybyLRzdKnLlFVJRpBoEgEASCwAIgEKJrCiUggr773e92p512WneJS1yiO/DAAxvhc5nLXKb1ggD63ve+133oQx9qhNHBBx/cXec61/k7ETbFULvkUPKfddZZ3Y9+9KMm8957793tueeeTZY///nP3R/+8IfujDPO6L7whS+0ud/oRjfqrnSlKyXA2iXayqBBIAgEgSAQBILAVkNAPPanP/2pE5O6AXnxi1+8u/CFL5ybjlvNEDLfIBAEgkAQWBaBEF3LwvOPXyJ6vvWtb3WvetWrGtF10EEHtaqtK1zhCu3An/70p63a6z3veU/3gx/8oHvkIx/Z3fCGN+wuetGL/mNHq/ifSjJj1wsBpW9VV6qqZtHI/973vrdVbblDeMc73rG75S1v2boWVJn/6173uu5Tn/pUd8973rO7+c1v3l396lcP0TUL8NNHEAgCQSAIBIEgEASWQQCxZVfBZz/72e4nP/lJq+YSq13jGteYSay5zND5KggEgSAQBILAhkIgRNcU6kL07Ny5s3v5y1/+d6Jrjz326K54xSu2XgQd5557bveud72r+/73v98ddthhrSJqrUSU0nRbCpFQ73//+7uPfOQj3X3uc59GNt34xjfuLnvZy87kTh75kXSCKG2//fbrVHVpRXSdcsop3Sc+8Yk29i1ucYvuWte6VoiuhlD+CQJBIAgEgSAQBILAfBBAcnksxkc/+tHu5JNPbjclL3nJS3bHHntsi9XsNMijJOaDfXoNAkEgCASBjYdAiK4pdLariC7VXN/85je7l73sZW1b5De+8Y1ur7326u5yl7t0tkde97rXbWXrU0xl5KEhukbCkg+DQBAIAkEgCASBILBLEUByuZn6zne+s3vxi1/cti5u27ate8pTntLd9ra37Tw3NUTXLlVRBg8CQSAIBIEFQiBE1xTK2FVEl22QytSf//znd5/85Ce7n/3sZ23LILLrqKOOaqTXLAKcEF1TGMMGO5Tt/upXv2qEqR8b8CMDV73qVVs14kYKjAX6v/zlLztkrzld+cpXbs+Js4U3bf4IqCjwDD8VpvyFH+RQ1Vo/yKHy03MKVYV6ZoznF1772tduP9ox7cOS9YXk91xEyV3p2nMBa7z5zzgjBIFdg8BvfvOb9sMv1tP555/feS4Tv321q12t+W3X/LStgwDf6/ESngH7tre9rXv961/ftip6VuoJJ5zQ7bvvvt3lL3/5EF1bxyQy0yAQBIJAEFgBgRBdKwDU/3pXEV0e/v7BD36w2759e/flL3+5PXzUdkiVXMcdd1x35zvfuSWT0yaS/bn5O0TXEJHN83+6Peecc7qTTjqpbau9yU1u0t3jHvfo7nSnO7WtpxuF7PrhD3/YffWrX+1e9KIXtaD/gAMOaJWNt771rTePshZ4JojGD3zgA+1HK2yfufvd7962aEu6+R9kqh+sOPXUUztbajzH79BDD23J+bTk1K9//eu2NUdfng1I1/vvv3/Td/0a7AJDFdGCwKoR8LgC5O7nP//5tp6sNevBevJ8TM9kqh+KWfUgOXFDIcD3fvvb325x4I4dO7qzzz67PZ/1+te/fnf88ce3a7mbAWuNAzcUKBE2CASBIBAEgsAyCIToWgac4VfrTXS5g+f1jne8o93B8/ws1Q2aYEZFzkMe8pCWbN7hDndY8/bFRSG6VOy4iy24P++88xoGHoovyPc8NL8wNE2TIKiK82wz/cJUNZw+VZzM4scCppFnVxyLIPrSl77UPfe5z20YmPv97ne/9uuZfnhgoxBdnn0nwD/xxBNbVZGk7253u1u7m70rcK0xq/pIYgrna17zmq3Sya+u+mUsFVDsz49JsD+J7KhGD+xblVTdoV8k+1QNyA+deeaZjfC6733v26pKEU98kl9uRUz5wQ6fISAf+9jHrupByUgzyf4rX/nK7hWveEVL8JGz9O25hGlBYBoErDmVoNag66iHd++zzz5tvU1Lwk4z7rTHijP4C5U7b3rTm1oFpXXnR2+QGp6NeZvb3Ka7wQ1uMG3XOX4DI8BuP/3pT7dnc3mvX8d2w9PWRY+yyI8DbWAFR/QgEASCQBCYOQIhuqaAdL2JLgmyANezuSSPKnIkktUke5JhD6Z/6EMf2u7urYWwWBSiC7klkHvmM5/ZtmrC4eEPf3gj9RA09fD/wmGld9uoPvOZzzSSx7stII973ONaJQpCYitsAREUq4TyQwpIr5ve9KaNIB1WdCFs4M3WERdIl0UiwhaV6ELKIFFPO+20RkrDVdWFakvfqcRkz2eddVYzV9v6vIYN5tY14vqYY47pPH9FZdSitEmIrre+9a3dG97whkZ0Scr5JtutpiUTQnQtitY3hxwIZpXRXtaha8ljHvOYtv12kYjTX/ziF62S6/TTT+9e8pKXdLe61a2arNaSih0+2XY1pMZWaAhK1UyuS/7mR6a92bWRcTJntstm3/e+93Wqub7+9a+3WND1wk2RJz/5yd3+S9WufhzI9TotCASBIBAEgkAQ6LoQXVNYwXoTXSqbkBIvfOELG9Hl2VxkqCbYu971rteIriOPPLJVJ63lFx4XmehCHKjkUIXkDqYAb5ImSHRnXBWKu+N+NVMguNWIrnq2lbvC/lZt4/lKSMM+OYpk9MMHX/ziFxsBKHj2/KvddtttErjnfswiEl2SEJUifhVVRRdSUaXl7W53u4axdaXKC9Hle4kJAgvJOmx04ZezVIIhyjxzZS1retj/Wv+/HNGl8kwyivBjR/WMLskX+5l0zZaMIboKibzPAgHXAv7jc5/7XPfa17622acqYT7OVm5rr+8LZzHmavogI7IYoYHceMQjHtG2mSOLd9999yY38nsrkD18qxtTnlHqRp/4x/XfDb6tQujwuW5wunnAHlyz+VeErWs5u3jiE5/YqrNV/G0VXFaztnJOEAgCQSAIbC0EQnRNoe/1JrokjAgHVTh+ZcedTBU3HlIraJdIuhNtO4/qDwmlxHi1bRGJLhVYmrm5s33EEUe0d0H+SkmJAJnOVNm4O45sqIf6bjWia1KbYG8f//jH27Y01QPwVjkgwVqEtmhEl0RMBYYfifBz73WHHSErebZGa9soogsh5texbD2SZA8bmy6CSAKDIFqkxGU5omvWZGiIrqF15P9rRQARi+x/4xvf2IgTa1e1sG1fRSKtdYy1nO+6Tj7bdT/1qU+1rbvHHnts94AHPKDdeOAbtlKra/hb3vKWtvXb3PnOBz/4wc1PbgUsPHbhK1/5SiM+XT9UCatStz3czU9bWo8++ujurne9a3fjG994oa4XW0E/mWMQCAJBIAgsLgIhuqbQzXoTXYiZd73rXd3b3/72dhfaM0UkmgJhCbakWGKt8uPwww/v9t5773a3c4op/cOhi0h0IV7qzrVnkinRV92lGmmlChGEoEDQ9g9kF8LAr7iZp+cGHXbYYa2qZitsXfwHRS/zH8+RUknggePIRc/+8L4o2+cWjeiSOKs08MwqW4xVGkjCbC2qajmJSlV0uRPvAe6Sktvf/vYjNVHrmr2uZOMjO5jjhyG65ghuup47Aogk1THWo+uqX65z08P2f78OWteauQsyZgA3smxLe+lLX9rIDderJzzhCd297nWvVtm5SKT3mCnM9GN4iLu2L/0Qj4pZz9RESj7ykY/cEkQXe/VjRIg+vlesIt6rrfCuLaqzVfSrePdIgq1Ghs7U4NJZEAgCQSAIbCoEQnRNoc71IrqQWMay5c5dO7+0I+Dz4FzbolR3CYDd7dTcxZM4C9ZtlxIMr1TtNGrai0h0mbsEhGza/e9///bra6piVnpId90JtU3Fsy1UyAgWJRKezRKi6/9aAZuTUCC64P7Upz514Ygu5KfqKA9s3pUPo5eE+KEDJBfcVB+qrvRMKpWVlTT3iS5VmmRGdnkO10ZrIbo2msYi7xAB2734DtsD/QqtChk3T6xH1TG7srnuI879qqx313hE10EHHdSIrkUjvueNlbiHvhB/7373u9s2eltNH/WoR216QsfcxT0f+9jH2rbFm93sZq2a3XVZ1bUfZFHZ5TojlnHt8eMfIbrmbZXpPwgEgSAQBDYKAutGdCFvVD8I5AQu/i9RFLjZkuc5NN4X+SK9XkQXnFQiueP87Gc/uwV3N7zhDVuwi6R5wQte0LbgqVjSbDHzC0yHL1V1+RW01W53mgXRJTAXoCHizINevZBSk5Jvql7qYfQ//elP21YFhBeSzzwFug972MPas4zGBf7s62tf+1ojbTzLwt8wtB3qE5/4RPfoRz96JNHFJmu7BDs1l7LVqrSpObHXcePTi3PL3vv9lM073wt54Ljqt7Aii/PIQdf0KqitteS8ks14+iqs/d1v1RdixjnGcKz15v/G8J2gGsnlXQWhJMu7bT11DhlqLZMbser7UQSrcfVPfnMxd/Mw9rA5tvolDz04V9O38dmDBBDRZRvqckRXzYuMXv5vDHo07z5ek9pmX2byWTO2Fnv2lnmpvLAGzbP6XCvRRWZ41DyM4zle+q8xSq7CsHwDOehraA+Od6yXfvUPe3PymaZv58FdH/py3LhfXSSXc9ml9e9459e5rdPeP+zBmDV2Xz/GJJdtn69+9avbVi66Hveri8atvpyn72rmoT8vdtfXTR3jfK/CeYhFzcX55jnE3rmlH+/GoiP91OeFrb7YX+llNde8kpWeqz+yGQP+xi08rZ0aj1yOH9UKA/L2daIfzZz1VevGu//3mz5gTy7nGcuYGrl853PYkJdcxuvPw/GOc7z51Pg+d4534/qcnHWcY8mozzqWjD7rN+fBB6Fv7apWdW1AUKteHYdPv49Rf+uX3GVDfdnJoF/ykG1oQ3We53Kq1vEroyq3NaTOAQcc0M5jM+Vrx8nZtw1/wwPe3odY1DzIXHKT0Rj6rzHMBWZ1jLnqW390UXMyRp1Tfde74wv7srH6zDE1Xq0LmPAjtpfyAa5LKroQkg960IPauMbu21J/rP7a05exvDTneZU9mfOwOdb45myeZVfszWfm4jzje9ffLJvrscpDvz7NVg855JB2vSPLjqWqa9dANmJcz4REhqr2GjWXWcqVvoJAEAgCQSAIbBQE1o3oEsB5zoAybEmhhFWw4xlTHqjuF4Vs9xn1gOZFAZO8O5ceZi44FtwILDxYun4FUNJ77rnntu2Gtli5y7bnnnu2YGqaOQhwYHXGGWe0bXfuONdWJ0n+9qUy/rPPPrvdzdOvwLDK122bssWPfNO2WRBd+hB8CcyQSyrM9tprr87dSIHiJK1PdMHiwAMPbNtNJL36t0XzqKOOagTfqHkKQAWoqmzoSsDrONsd9a0CR/IwqqKLjulOgOmuqeONKegVzOvHXVPVdR6KO+rXuiqgZgswQKyxG1tmfCfJYRdIOw8d//CHP9zWhHnByq+BGYsssPSsFuSCbXECWYG/fgXA1pGg2/Fs0fNLbF/Qr4DYS4MHwsWzacjh+VHGMQfVDcaoh/U7zpzZle8ruSKvue+/RDQiHj0gmB2y/4MPPri70pWu1ObW17EEo0hbeEgqbdkjZ7/BxTw8CF+fMENs8hvmYAyYId0E9she/Y4juiRmSE3z8vBpyaO+yAMrtgADz32r7R7jErS+nP2/9f/d7363/ZqnuZmXbTVsvnB3/FqJLnagWozfhI3++R622E9qYGh+fMQ73vGOZj8qVOiLjx0268L6UiGnf+fBvJJCfbMjvpkPUqVmbY0juuCqT9tfVVDStXGNL0GtVuvD2kLce76ZsemT3oxL18ZWhfm2t72tO+WUU5quRxFdZCIzn4kgt3b1zZ74HPar6tUz0awxsgx9kfOtEefD2S+UkkdSS5f8q7XA/lWT6tN8qznfenAuPGFmKxF7Lrms1fJF1qoqItc8Nt23l+pz3HvNFxlNF7YzuW5aU+bNLxiXLmFNb77fb7/9mh+ml+H8jWUOMLNmXKfJTWYYaOarL1jCkX5qe247YOkf87MW3KSx3uCGRLJmERW+8zn7haO5w8sWfXJ5HiAfqFLF8Sog+TvywortG9/NHZ/DvI7j1+Co4sWa1j/7Y099fMv+6No6sabo0zVF30ieaZs+2Qt5XTfMyfUKdr4jP7sjD7/r+mH9lg3x89agtePd/4usZivm61g69vw/vha2w8Y2+As6VLFmbPEAAh4uNd7wPMfDg97ZucppvoNO9MGWXMPMzfoyV7qGK9tybXB9Msaoa6Lx2BedsSvj8Mv+X/ZFB87lL9gM32o9wcTYrlN0SS5jGpv9sSXrDU4+gwHZnGNOxnO9sr75F804bM965mu2Lf04SJ+ochx5VZHpAw5IUDZofdERDMybT4IZHc2qGZ/92LLIptgKH+x6ZW786/Oe97zmp8jp+utaCLtxOp6VbOknCASBIBAEgsBGQWBdiC7BsqAD+SFQEuD4TEDmF90Ef5IQhIbAw2eLeLEmr3nMk+gSpCEZYCX4l+R5WK47mII/AfCb3/zmluAIwLS6E+o4d/0EQ6vZgmFciZMkQ5MYSWg0wZT5SziREIIqweXwDrhESxALI4mYh+gKBAVggtRJmj7MzR1LiZdAFjkkkUFSGVOlETwE8cNGTmQV/BAiCA2yaggPSdgookvALZhGPBnfPBABAkvBvn4Fy/qTcMBHoCvR7JMkCBCJAZzYuzFhqwnE2Ta56yVRk2xJRswVqSnoNxYZJGO22Lir7zt9SRiRXRIFMnqXhCIUHYMQE8zDTSOTB9k+7WlPawG0JNtx1huszPk1r3lN69falIy6240QIq9A27z1e+9737slmGyU7JKbcVscYYbooQcJkrUtKFf11G/mJLGR1MAeZs7VYAZjsiA+yEWHGlkQCpIsjZ4kCWwYWeFXqowrafB5JULmI1mUOKsQkOjAr6/H1uEy/9CxMZ773Oc2fA899NCWwLKJflsr0cUOJFw7/vbsNGvKM1kkuqVf45WNIo7gbe0gDth6reM6Tp8SKHZXZGAROxI+fcEKRmxEtUsRMuOILuvbmMhUD+ana+d6no5+qhmbPiSLfETpx/fGNH6tDe/kQ1rX+qDvSqbplNyIHX2xH3ph7/oyD834klREpMSWzdK1YzRYIN0kkNacakH2p39zchy8kSfWjT7IVvbCR9AR//T+97+/kRkICXJ5WXv8l7kjMGDDZiWv1lSf9GgCLfMPmcjmOuC5cM6lGz7JOqJTPtQcqlKKP4Gf8VxrzaVkL2LA+uNTYIiogSO/b+7GhKUX7PgZxC5CCdlQ12tYGZ/98Stk43vpC5lJJhi4fpDXembXL37xixvB5P9s1XFILDKYE+zMEUkkTkBqIC/oir9gA3wgvSOUECHmS0bXC/MfNjphW37NTv/HHXdcG3tawsKcXTf4ArIgZ8QJsIMXnOnLOx8Df7rnT8lm3ZAFgcL+9GHe+tXYLvxgzG/zM2yv1kB/XkV0sUFVYezamH6VT1wwPMfxdGvNul4ihdi44+mVryULe2AXvmcnzqsXbPlm51nvdOSzut7XcTCBEf9U5FOtT3OAj7WPZEME8ptsACb+pl+EoWuBObFL4z7wgQ9stiSONBfHsbUiDuvcWutly8gr9ktmdkLvRcjTHfy3L91UFIOZD5szN/Nge667fIpr9qyJLjbPJugFJmINY1kfbAkmfo3bWrOeyMDeXQ9rLfbtIn8HgSAQBIJAENiKCKwL0SWYFHi97nWvaxdvAYTgp4JAF2YvZI7nTAk8BDKL1gQYgpx5El0SJiSGBEbgK6CS1Eo0kVcCakShAAwBUoGiIE4S59k/AsW6uzkNhoKrRSS6JEXIA3N8/vOf394ReoJ+geqwCUBhhAzxjDPECrINlogngesooktALHAUQAoyJRiSET/ZrdE9QkjgL/C1/RH5JACtoJ4+JLa2SxrfeBI08guS2bnAVOKgP2PCXTCL/DFXibT+HdcnuiRFAuoitSQuxkVKIQIE90gqCbbgX4JZBMM4okuy6Ts2RybjeZfwWoNw867KQeIjyTUXJN6siC6YlY9QxQgTmNEtbDXECN1IsvxtnmSBGZsvoqsSFP1IEswDGSQJ06ckSQIu4aIbRJDE2lZY+oFnJURt4GX+oT+JGH8gSfPraOxlmCibDzIHcSvxpONpntHFDmZJdEn0EIFshh/xNx3ACN70zD8jSRDr/q9SlP2x07UQXcZBwlgf/JeEjQ6q0oWd0SEbtAZhh/RAQtO1ZK6ILn25ljgWScuGzAV5aR5s39pgM3TNztmU9YEspGvz0Vyf2IvkmJ+3LpAliAHyFgFkLVhXyDvJsT7ovogu2OxYIm7Mw1qFI1IJKS9JJwNyWH/0IDH1wxhsGfk1SXMeGRFd9Of/bJYsbI+eXCvIRXZzQi5Yt0i1ww8/vFVjITE0fSF6+CtbxOClP+uBXvQHf+sGjr43D7KzY36Y7M6hjyK6zJHtOl+llGQdpggG+PCF8DEuoss8yGy9sgkVY/4mG5KF//Y3O9i2REzTtznr07yNb11ba151Y4CcCBHf9xs/wlcj5bx7KD2dlr/vHzvubzbommwtIYr4HViQCVlDLjhbR0W+6AtRRe/8Kxvj09kum2fP1gX5NLghx/TDTtgwP9YnuduBf/uHTPrgn13rYMY30f0wLqB7uvVMMLZLN4hE1zb6ca61am4qxNg0fNizaxR9I5gRV/Ddf+mG1uMf//hGyBRpZG04zrMy9eEmBgIUWawv5I3muopshps5shF+HibWJ7sin7VtjVu7jtEP325twpEN+NVKtsr+9cUvww6GZGE7+tO//tgIEtix5lHXEetLpTNfaB3Tq+NcM8qOydD3JX9Tw5reXIfrRgCd8TfshE7ojA8posuc3awRO7uO1bpekwA5OQgEgSAQBILAJkBgXYguSYhgQbAqKBzXBC+CLJVJ25YC2UVrAoydS8ntPIkupIcADKEjOBY022InEBPYStwEb4Icd6IlHAJJTSIDwyOOOKIFbI4fBvfLYToLoot8AnRBmoRIECpZos9KKpeTwXfm5652VXQhBiThAj3z1q/kCaEnsBb8SZA0yRIbq58jF/QiCdlVkSnjiC6JnGREgiAYFgAbp4gLJEUlEAJ7SYpET+It6De2xABBKWGEgzkLjFVA6Euyy44QS+78S5AE9xLCSuSHRBd5/XKkxB2egnaJhiRBgO1cciHhJCTGggubcQwZ2ImEYVjRBVf243tBv+RAPxJjyaaH9ktEBPPmKLinB2t5FkQXnGEmaZcksh9JIMwkVZUEOUYiWFVyElN4IC3ooIgupAid6091jTUheZGYSP6tCYkBPcPeeqYPyRmimK7paJImGdEH/Ujq/CIoW68Er/roE130JIEvAqGOqXf6pFtyO07SMkuii67Nn51IHtkqu3RzgV35m64ly3CxlsgAQ4keYmK1RJdzjY0ctD4QF+Sha6SKsY1lHVkfEmK2aK3BkK77RJdkFJmias9NFLqFHV2zHbYqiefX6Im++Bb2wqfSNcJAM44f+dD4XOuMvUjI2R4ZEDJ8D/mOOeaY1o/kms7MAxkJVwSefmFmLdKlRJxdkYcNWz/kRpoh7dkvm5ikGZ9u2LhKTzriA2GIEKFHurLuyx/RmeMk6qp1HGv+9IxgsN7JDgPne+mLD7DeYa2vnUvrhW/mJ9i5Obpekx3e1nMRXfDmU/hHawt5aEx60tiD460fRAs9+c5xxkaOmReSgS0gXPgchAXiyniOcTxZXOv4cMfxJY6xDfLwJWKPPeir38yHXbnOkNUNEbZoLUzayjbEOPwO+0aWuQnhmscO2Ie5sZ3a2mo8ZKtKHPbKt5YPNleV09aH5vpFLmuDXtmnuSx3PeUr6WH7ElGjP3NzDUR29WMClXAwQ/bxBUhLx9GZG0b8pLXqGsXu2Km5wda82AVS0fXeGmLnrmPiEHav1bVODOg4Nshu6EY/5S/5frbI//PtbMF6YUN+HVP/jqVvvsB68oKHdQoftmld0T952QdbIou16ngyi62saesQ7vr1nCvXXjqDEduEHwLc2uGPfW9u+iXfcjpok5/yH37EnK1Fa9Lc+BBkp/mRy7xgYe2LachGJkTXIx7xiL+vrymHzuFBIAgEgSAQBDYdAutCdP3nf/5nq6yR+AsexjXBjSDm3/7t39rFfdxxu+pzycXOORNdyAgBp+1QAhoJAkJHgCnIIYMA1B1wyZ0g0v81wZoA7ClPeUoLfCRq/aB2JdxmQXStNMYk348iugTfEhwJhTvIAnl3OSWJ5l1JDFJAEIsQKzJEdRNCR5IkGR1HdAmy2ajAUZ+SveqX3HBGpEjKTj/99JbcSQjc/ZZ00Y0x9f+c5zynJd0CVPqTgFdQLLmU5El2BNEIGeeNI7rcBTcfpI95SNIlGwJt+hW4k0sy+6xnPavJjKRToSCZkJCQfRTRJUDuN4TAJATWpMfBRDIpkZIQCdz7WxclMdaUCkaYujMNU8fQQRGYMPOCFRLTu3n1iS7fS8wQDb73t0oGxIbkyvHVyIRwsYYcCyuEaiUwddxy75IkmBcp+KQnPanZqKS134xl7hJqSRg52YKka9gkbFXxxXYkXbMkuiR1Em72SX7JE6ytJXgPZR/KJwlbLdHFn7FzeBtfpZjEWsKP8KHr8lfWB3tF5kj6kEN9oousriXIJ2taBQwfgbBEmCFnqlkfdE1uNylUjFiz1rekWqMfx/iMn4F7f70iHSTP+iALXZNHtYV1WEQXedgnggjZbG7WYM3NvGBAXj6e3+DbVcxNSrDA0bqCjV+js374ejc4rB82XI2tsU8EFj9CTiSd4/gk2CAL+VXklb6OPvroRpJbM+ZWTV+VZCMtXKfYjzUGU8fTSRFd8ORLEcBwQGo4vtqQ6HItYxOIOH4Jtpq5IpSM6blEfDT98/2IByQQu9Ff6YE/4c/pwfiIFVj3m3Wl36c//elt7q61dOY1aaNLvpA9W89wNVdxDPspe9af8Vy3ah4IDMcjstgcG4EfffCXyCVtNb+6iHAzf9cD1T/G4leQOX25yIN8R5oY1/rhd9iQ6ygfwU75JUQKbPTVnxeyzLXMcfBEKrFnpBqduF4jqtgX/+HmCazppPx7m+iIf9gnTFb61UXjOJY/t06Rjtad565tWyIc2VW/sWMEn2vOjqUKTDJaP3RRhLtxty8RXaeddlo71jplS753HZtHK7LPPJCicDQPBGIfK/KqVrcG+XPrT/ygUn0lHz4PudNnEAgCQSAIBIFFRGBdiK5//ud/bgGDwEGAMa4JgiXw/+///b92cR933K76XMC9cykRmGdFlzt1iAbVWogNpIYEqO72V0AnWJboCLIl0ppEXnIgWBWQIjsqWZsEs0UmupAfEjP4SHzNX4Juu6t5VmIr6JNgIYZgpapJwC0Jk6Q6dxzRxT4F4vQMS3fP+8GlzxFGkigElcRJkoUkMb5zJQaSSvqTWJBPQC/Q7icHkkaEni2WkkwEiGqVUc/oKqJLpYDkWpJAz6Vb85RE6cO8yahyQoIkAEbWLSrRJbmlU7bs7jR7p2uYFZFXtgszCYzg3ho0J/p1PGzoTx/0Y004n258p0qpr0sJBfw9x0ayox9JM1tx7CRNgoTYQMhIphAIEut+Mq+fPtEleZHUOp5NDhu7k2SyaQmjvmZJdFkfElt2ItFTlchXIFCNXTY1lKv+vxaiy/qha+vQ+jCm5w3RNV83XB9IEuvj1FNP/buOrA/6piNJNTtg9zCyfhB21mWfoLY+zFulD0IC/o6la5U+GmJAwo5AkdQjLfryIFfYnXVvPSKDrEWVX44vgqUIJT5bdYXKKXquvtgwUlpfflHX9VAf5IZHHVd4j3p3DiytGQQF8lK1ifWOqFO50m8IX+ScdQFTW+ERjOzMvFXBIFaQzvwGuWFjXkN7ID9yR2WO7WGqXJEDyBGVSdZgEV2IE7ggrvhCeumTu/TieP7YjRvrmV+DLZugC62OQ2CbL9IR0WC+CDFz18jmBVvXBwSf9ePGD7IAGdhvMFQtxibgI/bgzxGmkzZVka7XyE3XJ/6L7MiQoS7pzXiOpws26zhkDL0hKOAxC6LL3PS/fYmocc0ztq2cdG/tWB+w4o/YrDjC2qYrJB07sK74OPrhi8QVKoSLHC6MjMUH0g1yjs3Utn7fWe/siy7EMbbXma/r6xCj6rPeJyW6zJUtsyPztQbYJFs2ztAnm7trAP9iPbNlRJE17ZrJvugCfmxJ/9YMfNjRPMgkMllbYgjEofUgxmFX1mK/uc7ZCspuXcfYHCISWWedDddt/9z8HQSCQBAIAkFgqyCwbkSXIEjgIGgd1wQjgs3/+Z//aUHzuON21eeCtp1zIrrgIqiTdLsj6e6nJEwCJFGqO4iOEZAK5iWNjpOEVVMV546yBFZgK6BdKZiscxed6LIFwV1m5ILAWTKJnDDPSiYFgO5gC04lz5IhpIHAVOWHoH4c0QUHwabkTEIicPYuyPWCu3eBO/wFn0gnYwisBaZ0JzkQrAqy6Y9ORgXGEmtJm+DcnCSD9GZOjjeWgLcSwdqaIEnoJ21klsiwBYG5pN5aUmkhESQn2Raxosv2EZhJtATsKmXoE2ajgvXaPqo6CmEAM8SHeZqj5EwVg+SfTmApueqTXPRMx45hE8aW2DsW4SUxmqSxJWQDIksiKGGVBPZJFv30iS46kEh6sedhM2drvV7+zw7Iya7YtvW92ofR28bENm1HYjcSNwQF8meSthaiy7kIAYm+9UN35oEElpwNm0QUEapyASFZ64O+kZgqVpBFdO7/MEVU0HXf55kn21C1hajiFxxnPUkQNcfUcezCq9Y+W0ECIYwQG+zFmpcUq25BHDiGjrwk2mwYYYP4LMKmxtEvcgnBgqxjM4cvba9jg0PZm3CDf/pEl/WOPOITEBGIIoRlv1lX9G48/pNfQm4if1w7XEdOPPHE5ick89aACrs+hv3+YEEvz3jGMxpRoq/axu0aX0SXaiF+iI7hQa7+OiwCq/ybefDV5uHaV/Mo3bAbdoBM4f9OOOGERiTWtbFkRMKVLlwvjz/++HatoPd+ozPyupbwnTAsP9A/btzf5GJP/IDrTlX8sOdxPsQ5bF+FE5KJryCfNWge5JkF0WUc+PJP7BEmCBzXBJV1KhbNnz9B8rB3nyNKEKCuGa6hdENedsXvuKEz6lpmLdIPnevX+kBKW3eIJLbieu16yb5GkfyjcJ6U6HKtZstsXLUkParkRWiXHQ37hzWy3zzJ5xqC5ORnrEnfW1/k54fJXkRhn7Ad9rua/9MVP4+4UkHm2kZuN2noZdjKF7EV69H1hz+r68K4OQ/7yf+DQBAIAkEgCGxmBNaF6LJ1UTAlGBI8jGsCRHe1//Vf/3VkEjjuvPX6fJ5EF1wEm0gP1Q7uvAu2BKcCywpcBHSCM2SGd2RJH1MJoyoCwaQtAgLWSYOyRSe6JAMCZ8mm5ETS5G5+bUMSjFZwLuCGgyobd6fpTvKzEtEliZR8SghVvkjoYO0l+KQjmOtPVY5gvoguuvFrcxID50ko3b2WCJf++raqH8fRuYSiEvkh0YUEE3DbqmOuko5hIiWxkTxbZxJNyYZEUOLqWMn1IhJdkj2kC8ILphIxSQrM+klx4cbm6QXRZY3ArIgu+EtyPIcMruY8Dnv9SS7Yk3d+R1+eN1TVgTXmuHcJkETXupGgT0J0IR0kYBIqScywIRfMmy179/9ZEl2qXCSkyFrJrmoXiW2fOB3K1P//Wogu87A+rF/6kZh5IDefNSQHjWmtOY5ND4ku6wmBaNuZNY0U89moJFxf1kf5WBUSSAm65l81NmDNqKhApLBHJDR98QfWKj0bx7HjiC7bMs2PTSIR2RIfXK3kUEnChyFuyaw/FShwGGX3db73PtGlMgiRhphSTYRYGxJUCABr35oxL7iTD9nHT6p0Q3QhH1SgSvir0q0/bv1tzbiWw56vQ/a53vBPMC6iyzHIGz6LHxrOC46OL6ILVohH8xhVEYXoRXpK8vXrl16RxX0ikYwqevl6FWD6Z+PW95BcoW/fr4XoYs+IJDjSH53zOYjXcY18bNY6tJ5KProjzyyIrhrbNYFPtIZUY/FRfJVrIn+JeHZjAMlH76qaCnuVxq6ntslZi/xF+aTqv97ZJH9rDTrOFj82YQw3MtiXvr3owo2MSdqkRBeyhw4QXWySHfOx5sSXjmr6tq5hwJbZvONrKyldbF+67tYz9xBdYirk7XCNjep/ms+MxRewJfEAu4D1uPjNGhSPeCcL3VrX/Ij1MCremEaeHBsEgkAQCAJBYDMgsC5El4BJpZJKAhfncU0AJDhBEGxbIhEWrc2T6ILLzqVqMc+ikEBLiAQs/7+9e423rarrPz5Lu+MlBAEhPeUtLYzyQqThESNExSRNgdSwqKzUbq9XD3rQox70oMxUlFKUEDKhIkvJSwmaSWUFVGZ5gROihVQoZJla/fd7xO84mP+11l7rrH32WXvt73i91r6sNeeYY3zGb4w1ft/5G2O6C11OLx6cRc6WCY6XyaVymWhKHCWTWAIMkYdYNhZF2oETfqy60OWOsHoSR9yp5iyaIJq8VwQC0YQTIUKFc8X5MvE2Ud9M6OJUc3Ld/SZ0mTybRNbkXptwzrQTJxtnolQJXRxiDkVF2bFje6JweiaJjSbZJuf2/JoldNWSHft1mGhz2Ca1KaeGI4gPLj/90z/dnNlVFro4fcpMYJDYLAGI8z/JmZgldOHPqfulX/ql1kc4Cex/UrRQb/6cAo6CaFLODEd1nqSfGtf03XmFLs4MQY3YZX+eedJWCl1sUz8gxhALRJMQfuYV95YRuoxV+gdhhfjC6WXP+sckx2wzoYstEDXVhfPpRok+uVkiKKiztvY9o06ivYiAxC0CKidYX9fnjan+Nz4aF4hfs4Qu9dO+RA99byy+6Zv6KIGloi+NYXs3IqMOROjSjkR9+/OMo5awIDjpX8QGkV1lf+pv/BHVQwQjoHPyiX+4TEvakc1j7zud7XOyjXXqVkKXY7SJchGvx6kXujxsQz2IZo4fi1LO1beNFYQg0ZoldI3HQmMKIdeYqjyEJALGOM+tELrYs/7EFkvoMu5ox2lJ29d3EZZEIWOefZiUdyuFLt9p+ryH2yiXeUHZve8xIhT29pFkF6L8sJWIeEQgUcX6lzGyn4tMqp/jjLdELjbJBnxXsz3ik6iw/hqT8ujfm1fo0jfVldBFmLMk2lzSnGGW0FViH6HLnEFUKAFcX9AWJXSxTdzYpjpuZTLGmGsYN9gGUVo/NpZN+g50beMnO9HXfKcY0/RBN4rctJgltG5l2ZNXCIRACIRACKwygW0RujgQJqk22PQlboJZwgwRgQhgYsiR92VtcjJvhMF2wj1YQpeJDkfEnUj7Llgaw0GYFulQdcbQRM2Lky8fEyMTO04T0cCdWhPoedKqC10VfcE55Mx4MhWxi9NZS5A4QviZVBOhODhsC59yLjhAJqwiBzg/OHO6OMzuqHqZoJtoihhzp9dxHAATSI4h58GEV1REL3S5fi90selZQpfJ+WYRXassdGEmAoDTyVEgKvZJnzER59QTE/Rr+44QOSTt1wtdlnttJnRxvCYtXdQPrt6I+uCAaxvtxnHZzP71F6Ky9tbOk0SXvk71t3appYuEE3bAQRk7uf3SxWWFLrw5pZaoEKd6h0b/55xZ/oK3v9WHrYuGlNgmEcB47HxCF6FiO4Qugl0vdBnrZwlds5YuaiPiAgdVfTmmhEqvzZL+rr7slp1wGkXRihpz8wBTy119znY4ka6nHXHTBusgdBFmCF0V0aW+xk03nDaL6CIG6mdEBWPvpIgu3ycidyzfniTqroLQReQkAukXRLZFly5WRJfvJEIIoYFQPksMMea5GaMfuv7BjOgiFhNDbBRPTDFGEyTNC9TZdyIxy7jrppBlcjWmuGnku9LNHyKXMXvad1n1uZrLEUr1MX20lgayLWPXpP3S6vzx73mFrj6ii/iqjoQutjxL6JonoktbEbr0F7Y8Ht/HZV70f9+R5gFsyfijbXxvibSdlohcxiIRxeY7yqcPiuLWhvPerJmWf94PgRAIgRAIgXUgsC1ClwkvIUeovskVR9XExBe8yRCnwiTTxISYQVDY6snEVjTWwRC6OKcmc7jYt0M0kckpMcAmxe5WT7urZ5K8b+OurD1WTEgJiJLj3U01MbVExcRyWh49l50idBE0CAbuthI2OCcVyYAjx9U+LyK6OKomurOELk6JCabIQ3e4JRN79kiYId64Gy4f7WUPDcsJTepdu4Qu5TJZ5ThyDggMorqIKJMcH7y1H6GLaGKi6o77eOniqgpdHDWOEiGAYILZWKDGVZSM5TE2kudocahK6DIWEMAJl/iJbuAwYjbJQeFQchTlZwyxB4voGYKmfkOEED3gXOOKfsRxIKhPS/oGIYMTJ/pm1rF9HgRPoqjlYOpFWGZv47beKqELby8CEaGLQ0O0qUQ4wIDjg4962LulF7pqKRPn0xj7whe+sIlDBLF5kjFHGSzRU3/tKBrJOIUhcY3zpR9wvty0qH3qCF2EfOfWEjr9VFuPo56UhT343pAXgaz6hzENY/1cW+vzbND77EG9Z4135Yy7JkeXUCY6T1vqe5zMctQd48WOlZmwSRhYF6ELw9qji3NszMTZksBpDPU7jjn2+i9m+qB9uLR/RXStutDFlvUXojkbMIYYe9RjnuS7oPbo0q8sh7XHoJtU4yizys85bmh5wIIl2MYcYx6B1lwIv62M6DK3MP7qd8ZNwpM+53q+V9x88B7B2T5r9T2nvOYj5hXK6Xjn6dOOmZbYjP7Hlvxt7BP1ag+sEhF9x21286Hyn1foMlaw5dqjix3XeGBcmpSw7oU4YqxzvIytPr9oY45xsIUuUaL6jOv4/hT1ZjzGelrSpvaFc5PIeMx2jH2ErnmimKflm/dDIARCIARCYJ0IbIvQBZi785ZNCM32MgkmHPky55ASZgg78zpch6IRDobQJSoLG5OVisIwCeQ8EqiILNMcDo4joYTz5bHrJnsldnG8RXEI4Tdx49xt5sDvFKFLHS35ENFFcCJqVN20EaHUprr4cVLxmyV0OVfdPYkOS7ZI5CLImLBX3hwjjrEnvZm8m/BzjEro4jQREAi6FVVmjy5RYSaifSJKiKYQ7cgJcReagGH5yKEWutiiu8X6oonzno2788SIPonkIFjgpQ9bpsU5HvdfzkdthM1WiU7u7JfQxanjcMmLOIil+mPWi90cRC9OF7Ym+BwRzDjZosD0B+XSjzjjyuWpixzYvh37eizzN+eWqEnw4dyK5hBZ1ItP8l9W6GJ3BF1CDN7qe+7G5uXGzVpm5DrGEsvqHCuCg32y5V7oIjYShkQvGXfYOBvWV/SjaWON/KVlhC7n6q/EUfa1dyPq1P5NoofGAqn+gZv+IdqKAM1m9A/jmbpVn2UPys0WiGraured/yv55J+cTCIX+9OeRAf59IIluyOsa2f8OaTrInT5zuAwsxdjpBsGxHmihLFzLDZjoR+7IaMPEgp8x4hsZWv65E4RuozXbIhgpz4EGPUgWM2b9DXjPfsUGVn7RYqOG/cl/dMY5Xh7q/mu8j1NtDb3IXrht5VCl3qIvtPfjOteRC03Fgm2+qQx24MVjJPKXOU23nipo+giNu9mBhFonuR7Gl9iGQFKdJ/rsi+s2NdmqRe6lMV8qMYNfbzKiitb9h2uf4rOFYHlWs4Z33xgx8Y/c1H9n5BOYKqIM993B1voMsapn/GL0Kqd2EHNO8Z9r2dlnCcyE+LwVUf264aT9hx/X/fn5u8QCIEQCIEQ2C0Etk3o8qVuYmdiZQJh0mey4cvchMVExIsgs6rpYAhdWJi0EEhEYdRGyQQSjuysyY5JEueE8+jpY6JdCDESYYWzZhJdE6dpdzaLt0mpiTABRjJRrCVPrqX+xCWTMg6nfbFM6EsIqnyW/Y0Hp9OddnzKua2li+zGi+OpvBxnZTbpFUHCcecUc6CrbLOELnm5pkkylu7oExNcl/NRCR+OsX3UOLzq7i54CV3K6m69iadlH+4qcyCUp3d8XI8TwLmqparaTpndlT3UQheenApOr2U1bHK8ebDoACIPZ5ddEV6ITSbqfRIxQMTj2NkrSBtaVlJCFwEBB9F0xIYzzzyzTdjZHsGikvEDM+1D+CBo+RxfbcU5dYzJP6Y+J7IRnwgjJv+b2X9da97fNsUmxOgTxi4iCVZj0WZZoYtdqQ8HDu/aSF3fFMlUSf/E0nF4azNt0gtdnCmCIseTaEhQ5ODhztY3G3+XEbq0n37NtpSPrbi2tjbWldOqPo4lkGpL/Zx4oq31D+3JkSuxW34iAjl6hE1tPRaWi9H4tzbUfvjq2xxFEU1E0rIX31UEQjZKMFCWdRC6CAY4i1Qj3msb/dFNFgx8f/Tjn3ELC/3Z+IcZuxfJqF87nq3uFKGLGG7c9d2pfWuJ5awlY2P7cZ6nflr+iIUxn1iCh+/u3qaJMa7nu97xRB9RRJa3E7x8V+G31UIXQU+ebs7YD1I/cT3jrb4i6tVYog/2iQik7/m+058cx2YsVe3r1Z/T/11jtihbgoz+RaBmX0Q19rJZPr3QZew3PimD6DJCWY1X7NKxoj/ZpmtpA/10z8aNmvGY7HjjsrYg5BH/PRhDW/iu1pbaQrmNp8YD49RWLl2Uv0hRZdaniKzKbF6lXrPY9EIXoc4c2rjo+1o7uvGSFAIhEAIhEAK7ncC2CV3rAHpZoYujYPJXd5I5Ge5CcuhMtkzQ7ClhssyZNUEzweRsjCMUnEe88dsdQc6aZT7EBMlETWSJSbcJkEkl55DzJk+flQhUbbMVQpe7pMpgkmwyxvHnTIt0mSXaVRn83kzoqmNN3k1QTUY5V/hynL1EqLirW2mW0KVc6m5TXs6AO9aWahBQahmtelmu/109MAAAQABJREFUo62IWZxDQhC2JXS5viUF7ti/7nWva21m0qw93cGu8nB49m1ERXCy5UdwsCcY55K4diiFLkIJx8RyQhNtzg3HRj3YqzvHnCQOMXHBsksio/pxXgiNlu1wJDiS6scWRI2wfRFdnIkSunDV3oRB7E3QCSCYccLwl1eJjLjLk6DFjjEroUtby4sQK8KCECfKhOMg2gz/WlKkL+s7Xv72OdFIv5nlYJQ9+Y0BIY9AKg+REuyGrfepF7o4YKJlOLhsdFrS5/XXiqohTnFM2ShnkTMuH/1LnYwp+h1b0i54W8KiPL3QRahia5ZccdDlW21nmSPbx6AcTMcqi3ZzHW1IXFYWTrB2nHfponbUPsYrDjdHTx9SDzamffTFGmeVTVvr2/pL9Q99Tts7jtBo7FQfzmi1tTHH/xxG/ZKd1ZjJfvFTT20oolCd9Gv1YXucRezV17WNNbjiqw3XRejChn2qO8EQh2JIiNE+WLMH/LAgiOlj2ku/Md76rvKdok13itBFdDKeiG5kB+yY0GCsmzcZ44wBxi/jubHdd3eNA8ZLNug4tm/cYtPsSeSgyGG8MZbw85moVPYvsTXiFHsdf2e3Azb5oZ/ox8ZE+RJ9zCeUx5gt+tmYNRZH3ChQXqI0Vm4sWNarvOYTxiHlkT/BRnSf+rIFInuNF7hYHkuoUrfevozv7EY/Y1+uyea8lMd8he1pI+XXTs6vpxnro65prPRil8YlN5skx7JjkWiupS3k53uaSElgMiayZUK6vi8/3wHawtxiK4Uu36F41Rygvm8rMpLtuEGn3uO21leNofKo7x6RaLg6lhBHdFZXY3+fB+7aQV/H1fe08VEbJoVACIRACITAuhKI0LVAy5qgmOi7+22CYPLZTxA548QQDoOJi83OOe0mqJLJnDwIAxwmzqkIC5Md/5t4icAw2TaRNOHhhJqYmnz1yab+yuJ8joWJpPdMZPrE0feSDyfW5JNzzNkb33HeCqGrJvMYuePPCRL15C6sidc8SR6zIroqD+IVR0UknONNAokNltKYuPaTuFlCl8myyS5nxd4pHFnMOeDEDxNxIoLJsQkjp9lk2cRavUroMonWvsQ3E1COMTtgAxxrbWBCakKvvPIx+dbu8idyYXUohS7OFWfBXXx2ylaIHBx/E2x2o87lLBBeOBbajFPBdjkp2sL5HCQ2yRHSHs4XYVhCl+Mwc2cde7Ys4YUbwcK15IMZB01/Ip7pExXtx0GQtKOoRvvLEH9d23FEJXXQryTl8ZmXerEZZdc/xg5GO2HCj3L8RR5qP9FGBCwc+uQanGHHsVd1w5RDMi2xC+zZsTKxX3ZFWOQo+9+1CER467t4awdOrfo5d7xHl+upLweWWCVCjB1iJD/H+9sx3tcX5FORDsaMAxW6OGra2linf6gPcb7aWntrX22orTHFQRmMbdU/SugynuLAXtkhxtpeW+PL4SbSOa7amiMtcoINqidO+imhzN57xFUMOII+Z59EQ2yVzRjgtS5CF3vQJrgREogaWBmrccRCn9UmxjJthoXvLsvC2DwbxEraKUIXWyyhg5ChfvbX8l1JAJg3yYedGgPlI7rGdwdmRCHfuWyQDfvu8F3v+wZX0UHECeOZfiUdDKGL/RtD9feLNoQbgofxQjmJbcQRY4xy9ontE1SMzc4lUOsfxlG2QTBR7noKp3HJ576/9Okaa33Ovlzbckn2hYs8jO9EMddiXxi52WcsNv75jsVY/3SueY5y+w7yvexz86R6GbOUw/eXcUF/J8YSu4wHWGOsTxuHcFAOtqzt6yYFXlspdGkDL9erl76kXnj4bjRfNAari7rVvLHahI0WS9+HxkTnizKV2Jt6ON+8xdgpX22Enf7N/oyNthrQjmNxs66V3yEQAiEQAiGwDgQidC3QihyCfUsIXSZzHASRFEQVDilHzSTQb5M0k7iaoHC2RNSY8HFm+2R52dUbkQyEAeKavORtMtQnd4pN3DkiHFYTUVFenL3+jp9zTMA4sRwZySR80aWL2yl0aQ/X4zRzck2IObAcYpN2wlMlfDHjjLjbK8qlf+qitjHxNfkkVGpnE1POrTvZJuPu9HNQOMaEAp8Rw0rowlM+xEfOBMdAfibwJs3K5KUttIPJqHZ1R9Zx5cgfSqGLeKP9Of3udnPQTLhNiGupTUUXsFeChHqyG/anDThyHBD2VmINR5CNeo9Nl9DleJyJBxwUx2kHzAhOeMlPnyhmuFvShulY6MKfSMOJ1U4iVThPbFv7qIu79f6WN8eGwMLWTfzr87KbWb/ZH0eKU0XA0p6iy7SfsldkGEemhC7iL3viWHJmpiXciMSYVzQdp5OjwrExhqgrJ0Y9tI+7+OqiXDiyfw53H9HlenjrD0QmfORpHNEWyizPYsVZFZ3CIeacOuZAha66tugW/cO1Oa7amuCkHl74aGvXVid1FXVV/aOELmXR1tqA8KkPifBiZxiwG3VRp2JEXHQzQb9lRxxatsGGjQ1sxXisDJxErz0bDjK79bfycvrXSehiD3jp6+xAu/iNI8b6hGPYNKZ4ELd8N5QYUWOtPulckUO4GjdrSeDY1uXpeOMxodL3FHtnr9p/nNg9YVYbGQ886ZWIoS/1Sb9no/KVv+VcIpcqT3XS7uyKuK6cbFtkk/FdfRdJvnOJXfX94bcxlN1h5uWabNB4jx1RwnjDvstGXVN51W8rI7pc28tYjQk25gwEJUIlEVtfUI4+OYewYmw2RrB9N0LUFaMqt3P1DXMXNmEM1F98B0jGKfaFi3zYF1vTz5zrJbEt3436ucgq46l8JeM54cqydedKzjNGWHZNGCPwuJZ82SAxy7WU13cT/tqE3fmbDRF9jG/Kzf70e2mrha4SqIhNIqZ9dyoXwYr9YKlfqcfeDRGP6KY+fVIn/NitNlEndmb8k/D3feZ7hZ0Zs910wYgAG6Grp5m/QyAEQiAEdgOBCF0LtLLJ2r4lhS4THs4uIYGzKYR9WjLpNxF119NEvE8mS5wzE0D5zJNMPE0eRQ2Z+HNmTcIrmfCbBC8jdHGOTETlw/kXaWMSySEpZ6iuN+23PNyttJSNI0vwq+iC8TnqbuJH8JJqaYUJbZ840ib6Jr+cYftwWTbCETPBlog88ql9eAgLJs4m9SaQ2oNzwJGyR5VEWLCkyuSy6mcirdycb9c0QSV2sB8T7HIICBjOsyyDI6+ttY1yKVPZm/IS30z+OflEjXIAWiHu/MEJ4YSzUdcn+nGqTN5NpgkKHAWOgPdN8EWZ9UnZTaA5Fa6rrs5Vbu1oIo6B/7HBn0B19Yboqt2JfBInwkTd8ewXUzw5MmxCHn3iWLiua2KLGWfANZSfYMMGTOBxdofa5/L3vnbok37GnuWnHdiieqgf28C3HB3OAKdTu4ydvT7P8d8cQWWo/YrYjja02b720b8kwg7Hkj1z9tTVubMSdhw+9eKoSJxgbUfQYfN4ur7EieekF1e8sVMn9qR+44R3iWc4sVH5KRub11aur+9qe+MHfmxaG6mL66mz+moXdmdcYg/OJyzpa+X0KoM8MGA3rksE5PCxd86rY6u/65/GS3atrZXDZ+WQys811aWcW2OiuriOZIzT1myoolvZZI19jjPesBPl0X+URX3UQR3xY/PGD0titQ3BzLjgffXhhOovuCgnMReXcuRbYTZ+KK9rcD6NdewEQ3bo7/HYVefVb+WVBy7Ee2OI+mhn9RwnfRQP0R/ssPrMOPJQnfUbfV89tI8xUd2Uqfohe5CHtsGnT8rFCVc3bUKEUi4RPuNUdsCejX/y2rPh7LOXSZEm2ocd6GfqbHxz/HgsJOCyUW2pToR141zlqYzq5QaDJeZslE1pL+NL2cW4vLP+12eMfequXdiittVnJeyIP5gbe32XsK/xeKNs+gJBSt+U2Brejj+QsrVMNn74XneDhv3KW571mmZz6qX9lUk/ZeOEON+n3pfwN87oI2wDS+Pr2O6d4ztIu+BD7NY+7KD6qO/EioplOzWGOlf5zSuUQ/mxIxQSdPDUduohP2O9/Gt8YffKW+Ou8VK7q7+xli33DIyd2sL3rj7PNl2DLWuHRZN+5XuA2OQmBLtwjXFSFt+Pvpv93SfjCruumwP9Z+O/jQO4GO/UVZ9ml8Y54yBbx64fl8d55P8QCIEQCIEQ2OkEInQt0IImZRyUA1266FImYcQtDqWJTk28JhWDs2lCb7I3nlyZOHnVRHHS+eP3TCblI08T0X5i59itELpqgmhiajJnEswRVJfx9cblq//loV7lxDvfazxxdjyeONSku46tvOp3TX5NgL2Ui/OBR5XLMSa38lP2ytPn2kAdcHN+OTDKhCe2lY9rate6lrrUJNsxJujK6XMTfxFBHD2CGaGLo+dzeSgPe8Gzyuz8SQ6P65RNKIPJuTI7Vl7KwMFTT+/PYuqaVX7nKrfj1b+3HW2Fhesqq/8lZcTMsX5XGylL5dEOvPOHa/RtVHbtfefIw/WrvdiG473npT598pmyVFspo7wqVTsUB/mP+1gdO+u3fDnghB3LJUUziEghKJcIoBzYK7PyzJOUh10pX5VL+atOxVM9JcewRWwlnzteO7DzaX1Huaqd/V354YO76xcj/0vF1G/X6+3fNV3by/Gu6/p1bstg44fjsKu8XNt7dV1t6lz1Yovyq7b2u8/Pecpd+VV/q2v5XfZY+eLrWpLz2a7zXcvffVnKhl3T517qpD9WPo6vusjHdXou7UJ3/qjrEYKqv1RfrTL1x0/6Wx7KYVxQLuVQJvUcJ2zK/tSt59gfK0/HqocXjlU+x7mO9qjz/d23g2P6usnL58rFhialReqBq/qqi3wxU+9xGdRR+fGRf7EtNvIgyluSZ6mmZcvEJGLcODpsUpmnvYeVa7uusvrf9SXtWuyqT01qa8erH9vwW2JHmE86vh0w5w9lUy59Sd7sWr41ZkzLpsrk3LILbVtJubDVX9VNft4bl7fsUB7yYl/FR17VR6tc2rXyqHO1nXOLDabVvv6u5Pi+LRzfX8uxyutabKg/t/JwvHZQXmXBSp+vMtVx8/xWHi/fAfj3ZenPVxbXwFH5+lT82VfVv/+8/xvLsht1q/6AuWtg5v1x3+nzyN8hEAIhEAIhsNMJROhaoAVNEvYtKXQtcLltP3QrhK5tL/QOviCRi0hiOY4omLPPPrsJXe4yT3MMd3B117LonFlLRyyR0Y4iL0XzeNKmKJtyrtey8qlUCOwwAvqraCAPDBEdI2qNMC1SR1TSWFzYYdVLcUMgBEIgBEIgBEIgBO4kEKFrAVOI0PXZtsG3MHh3wC3DsNQgdwUXMKI7D3V311JDDpdlPpbW2SBWRJAlFe66Ju0MApxny2ksRxYpom3t/2bJm7vz6R87ox1TyvUnIEJHXxXJ5W/LuuxZaXm8fnog0TrrTy01DIEQCIEQCIEQCIGdRyBC1wJtFqErQtcC5jL1UEIIJ8tm7zbSt6eMZQSELg8JsF9IIoGm4lu5DyxDsT+P6BB7JtkLxV5q9pqxRwqxKykEQuDQEjDu2ntM9KV+an+1M844Y//DXiJyHdr2ydVDIARCIARCIARCYCsJROhagGaErghds8yF4CG6x4bhlseIEKg9SwhZHCl7ZRC5bI5L6LJPjKc92aDY0kVRcrXHyaxr5bPVImBssP/K1Rt7ddko3ibuNi+2qXCErtVqq5RmdxIgdNlM3XJxEbT6qA277SFm/6WkEAiBEAiBEAiBEAiB9SEQoWuBtozQFaFrlrlUpJa9XzzdkGDlSVuemmfzV8KX/ZxEcIn68dsT0ThbngxGFLHHU5a6zaK8mp8RObW/zZJtNkzg9OJApz1Xs81Sqt1HwI0GL9/l9uOqcTnRXLvPFlLjEAiBEAiBEAiB9SYQoWuB9o3QFaFrlrkQOogcHkfuCXz1eHmCVz3hiBAioouzxcnas2dPW+JmPydLFhP9M4twPguBEAiBEAiBEAiBEAiBEAiBEAiB2QQidM3mc5dPS+h6/etf36J1TjvttLbPxxFHHNGO89TCm2++eXjHO94xeKKeDakf+tCH7pgn6NVTFz/2sY+1+nhynCfISR5nrf6XXXbZ0G9GbzPfRKw0RO2R4RjZ7JgNWCZjicztt9/e2DnKJvMeYX/88ce3zcr37t073O9+9xvufe97/18m+RkCIRACIRACIRACIRACIRACIRACIXDABCJ0LYCOiHHTTTcNl156aYu88eRBy9IOP/zwlsttt93WhK53v/vdw6233jqcddZZ7Ql6onl2QlJ+TwEk0inzSSed1PaMUvYSujxZjoBz+umnt32lLM2L0PWF1rVHF2ELQzzt2/S5z32uLWtzlCUyxC7ClsfZ4yfiK4+1/wLD/BUCIRACIRACIRACIRACIRACIRACB0ogQtcC5Ig99li66qqr2t47j3rUo5pYcdhhh7VcLEnz9LX3v//9TewQEXXMMcfsGCFI+T2VikBD6LJZr6V1EgFH/d/73vcON9xwQ4tGuv/979+ik7K/SUOUHyEQAiEQAiEQAiEQAiEQAiEQAiEQAoeYQISuBRqgnqpHEBLFJBLnbne7234hyx5NBCH7L/nbfkuid3ZKUmZlVwfilc20+/Krvz2oRLapu8/UPykEQiAEQiAEQiAEQiAEQiAEQiAEQiAEVoFAhK5VaIWUIQRCIARCIARCIARCIARCIARCIARCIARCYGkCEbqWRpgMQiAEQiAEQiAEQiAEQiAEQiAEQiAEQiAEVoFAhK5VaIWUIQRCIARCIARCIARCIARCIARCIARCIARCYGkCEbqWRpgMQiAEQiAEQiAEQiAEQiAEQiAEQiAEQiAEVoFAhK5VaIWUIQRCIARCIARCIARCIARCIARCIARCIARCYGkCEbqWRpgMQiAEQiAEQiAEQiAEQiAEQiAEQiAEQiAEVoFAhK5VaIWUIQRCIARCIARCIARCIARCIARCIARCIARCYGkCEbqWRpgMQiAEQiAEQiAEQiAEQiAEQiAEQiAEQiAEVoFAhK5VaIWUIQRCIARCIARCIARCIARCIARCIARCIARCYGkCEbqWRpgMQiAEQiAEQiAEQiAEQiAEQiAEQiAEQiAEVoFAhK5VaIWUIQRCIARCIARCIARCIARCIARCIARCIARCYGkCEbqWRpgMQiAEQiAEQiAEQiAEQiAEQiAEQiAEQiAEVoFAhK5VaIWUIQRCIARCIARCIARCIARCIARCIARCIARCYGkCEbqWRpgMQiAEQiAEQiAEQiAEQiAEQiAEQiAEQiAEVoFAhK5VaIWUIQRCIARCIARCIARCIARCIARCIARCIARCYGkCEbqWRpgMQiAEQiAEQiAEQiAEQiAEQiAEQiAEQiAEVoFAhK5VaIWUIQRCIARCIARCIARCIARCIARCIARCIARCYGkCEbqWRpgMQiAEQiAEQiAEQiAEQiAEQiAEQiAEQiAEVoFAhK5VaIWUIQRCIARCIARCIARCIARCIARCIARCIARCYGkCEbqWRpgMQiAEQiAEQiAEQiAEQiAEQiAEQiAEQiAEVoFAhK5VaIWUIQRCIARCIARCIARCIARCIARCIARCIARCYGkCEbqWRpgMQiAEQiAEQiAEQiAEQiAEQiAEQiAEQiAEVoFAhK5VaIWUIQRCIARCIARCIARCIARCIARCIARCIARCYGkCEbqWRpgMQiAEQiAEQiAEQiAEQiAEQiAEQiAEQiAEVoFAhK5VaIWUIQRCIARCIARCIARCIARCIARCIARCIARCYGkCEbqWRpgMQiAEQiAEQiAEQiAEQiAEQiAEQiAEQiAEVoFAhK5VaIWUIQRCIARCIARCIARCIARCIARCIARCIARCYGkCEbqWRpgMQiAEQiAEQiAEQiAEQiAEQiAEQiAEQiAEVoFAhK5VaIWUIQRCIARCIARCIARCIARCIARCIARCIARCYGkCEbqWRpgMQiAEQiAEQiAEQiAEQiAEQiAEQiAEQiAEVoFAhK5VaIWUIQRCIARCIARCIARCIARCIARCIARCIARCYGkCEbqWRpgMQiAEQiAEQiAEQiAEQiAEQiAEQiAEQiAEVoFAhK5VaIWUIQRCIARCIARCIARCIARCIARCIARCIARCYGkCEboWQPi///u/w2c+85nh1ltvHb74i794OPzww4cv/dIvHe5+97u3XD7/+c8P//Vf/zV86lOfGj73uc8NRx555PAVX/EVwxd90RctcJXtPVSdvP7lX/5l+Pd///fhq7/6q4ev+qqvavVSkv/5n/8ZPvvZz7bPPvnJT7Y63/ve9271396S5mohEAIhEAIhEAIhEAIhEAIhEAIhEAIhMJtAhK7ZfO7yKfHqn/7pn4a3vOUtTcB63OMeN9z3vvcd7nnPe7bjbr/99uGWW24Z3ve+9w3/+q//Ojz5yU8eHvCAB+wXwu6S2Yr889///d9NlHv7298+/P3f//2gTg9+8IOH+9znPk3MInJ94hOfGP7u7/5u+NM//dNh7969w7d+67e2OhH7kkIgBEIgBEIgBEIgBEIgBEIgBEIgBEJgVQhE6FqgJYg+//iP/zhceumlw1d+5VcOT3rSk4bjjjuuRTnJ5rbbbhtuvvnm4Z3vfGcTvM4555zhIQ95yP7oKJFTIqQ+/elPD6KjiEz+XyaJFvuyL/uy4bDDDhu+/Mu/vF1rkQgyUWjqdfnllw/XXnttq9M3fuM3Dve73/2a0CVCTZ3+8i//cnjHO94xPO1pTxtOPfXUdp0IXcu0XM4NgRDYrQSMuXfcccfwn//5ny0K+EA4GPd9D3mJLM54fCAUc04IhEAIhEAIhEAIhMA6EojQtUCrck727ds3XHzxxc25OO2001rE1hFHHNFy+bd/+7fhox/9aBOE/vmf/3l47nOfO3z91399E6IcQNQSFfbxj3+8RU9ZBun/ZdLd7na3wVLCo48+uglu97rXvYYv+ZIvGbw/j+NTyy3f+MY3Dn/1V381qNMjHvGI4Wu+5mv2C13q9Od//ufD2972tuHpT396E8M4Vq6RFAIhEAIhsBgB0b833nhji5Z108NNkElp2k0Lx1tmbnm8l++AGpPnGfcnXSvvhUAIhEAIhEAIhEAIhMC6EIjQtUBLLit0ieASzXXNNdcMl112WYsAc0d/mcQR4uDYC8wSymOOOWZ49KMf3QQ2yyaJUdOcJdeN0LUM/ZwbAiEQAosR8D3g5oHIX8vFRcz6HvD94maI8dq4XRG649wdIw+JqHWPe9yj3XD59m//9rbs3HfArDF/nF/+D4EQCIEQCIEQCIEQCIF1IxCha4EW3UqhSwSVpY7u7LujLxrMy516TooN7m12f+yxx+6P0OqL6jgileUvzrOZvKUsRx111PD4xz9+eOxjHzuceOKJg2gzjtC0FKFrGpn1eN/SUzZmzzgiK/sQ/WG5006K/BD9qJ/oM//xH//RltaKaGHz6+LUEy9EeOrL6qq91E0djQPabTPhej2sdr1rYcwldF111VXDP/zDPzShS3SXSF99Vd+0R6KoWjY+TjX26wv2T2Qrjj/99NOHk08+uY37bnyI7E0KgRAIgRAIgRAIgRAIgd1IIELXAq2+rNDFQXE33tMNCQ8cHiKVTd7f/e53D1dffXV7j8glOotgde655zZnx939PsmHU/TXf/3X7dy3vvWt7S5/nfvN3/zNzfE56aSThoc97GFTxYAIXT3V9fvbwxPsvcapFj1i6Smb8MCBneQIi3oRCfme97xnuOGGG4bnPOc5Tcy1ZLeeerrTW09UD5HLXnjGBO2ljeyX97znPa89BMITUXeSQLnT2+RglN/3gO8S47c2J2heccUVrY++//3vb9FZblQ84QlPaJG54zI43+sjH/nIcN1117WHo3zwgx9sYpcHoFgyTyRzoyQpBEIgBEIgBEIgBEIgBHYjgQhdC7T6skLXpEsRvP7wD/9w+IM/+IPh93//91tEB+dW9MZTn/rU4ad+6qdaVBYHt0+ELk6SzfEtgfnN3/zNFhlAOJMsW3zkIx85POMZz2gOkzv8k/bUWiWhi8OHxwc+8IG2fw0Bg8N2wgknDPYeG4t9PY9Jf4v8wcMTI0VMiIzBhQiI504SeibVb5739m3sKUccYlt/8zd/M3zf931fe5iABw5Y8rpTEnFLP7FPHPt48YtfPHznd35ns4+d3o4lgKuXhz68613vGrSberFTT3Z91rOe1fqz6MwIXTvFajcvp/HXuPfqV796ePOb39zETeP2d3/3dw+WInqYybT0sY99rPUF57IZ0YDOYSuejPt1X/d1007N+yEQAiEQAiEQAiEQAiGw1gQidC3QvKskdFWxOck2in/DG94wvPe9722Oks8IW8ShF7zgBcOzn/3sdrd/klC0SkKX6KO//du/HS666KIWpaAOp5xyShM1HvjABzbBr+o9z2/5Ebnkd+WVVzbx0Gb7xEP72IzFw3ny3GnHEExECxKIsBDtgenDH/7wuwhdhFMv9mS53KotkVtnocuSRWPLm970ptaP1dWSNdE5onIsZSPO3v/+9282uxuErhL/sFHfEunXZZlqjSNuVhDjX/ayl7Ux75Zbbhm+4zu+Y3j+858/1NNv69jxbwKZCMCXvOQlTSSzhNHDT0QCu8FBMEsKgRAIgRAIgRAIgRAIgd1IIELXAq2+ikKX4lu+KBrg7W9/e3tyovc4hiJ2zjvvvCZ0fe3Xfu3EvbpWVehSHxFdnDURCt/2bd/WxBl12yxxkjnIIpjkI+Lt+uuvb+LBbhO6LJP1BFDRHxxhgqGlcCIGCQjFyjFERlFw7AZ3YuCqpHUWuogdIhlFZXpV1KGINWK1fmAPJsKsv9dN7BnbGMHV/lOiVT0Jlr1+0zd9U+u/RL91Svqk/boIXSIWjcdPe9rThh/+4R+eukdX1T9CV5HI7xAIgRAIgRAIgRAIgRC4K4EIXXflMfO/VRW6ROoQud7ylrcMf/Znf9bqUM7w93//9w9nnXXW8NCHPrSJG+MKrrrQZfmNPaW+67u+q0UqzBNpROTiBP7xH//xcOGFFw4f/vCHW+QDoeDUU0/dVRFd4/Ye/0/osuTJ3kCWNxLG7A/3zGc+c+L+QOPzt+v/dRa67NV00003DRdffPHwW7/1W8MZZ5wxEGQtQ5v1IIntYr/d19F/RSK+733vG377t3+7iVxnnnnm/g35t7s8B/N6ok5tSH/++ee3iFzCpr4nErceGjHt+p/61KfaBvYvfelLB3s06rsi/570pCe1l4iwpBAIgRAIgRAIgRAIgRDYjQQidC3Q6qsqdIlcsjTP8rS/+Iu/aDWq5T4/+IM/OJx99tmDiC4CxjitqtClPpx8zp7lW/aW4uwSqzbbk8mTBkUw4XHBBRe0ZWEiYUSKWNazm5Yujtt7/D+hCy+iwute97oWCXfccccN55xzzvAN3/AN48MP2f/rLHSJXvrQhz40vP71r2/LF9m6ZYuimNYtgmkeAzIm2a/MvlPEPxuzE+zt12c8WKdkQ3n7sul7xnHRfN/zPd/T6rvZkxONcR5Y8MpXvnK4euNBJhKRywNM9F2RcEkhEAIhEAIhEAIhEAIhsBsJROhaoNVXTeiqaBxRXJY8+e3pWxJR66ijjmp7vXjS3hFHHDFxM/dVFbos4/FkQBFc9q2xfNEGzQQ7UQ+z0h133NH2LbNk0Sb/RC4b0XvfEsgIXV+gV0KXp/z96q/+avuAs+2phqsUEbLOQlc9gOGSSy5pS22J0095ylOaWEHs2G3JmGQZrf5LACJOW8pHgLV32TolIpexTjTlxz/+8bZkWPSq8c64NWk/NhFvJU57QqfziV4PetCDmkBKKDPeH3bYYeuEKnUJgRAIgRAIgRAIgRAIgbkJbJvQxaH26je9rlKazNerltzVZ6v0+1AKXZMiOziExJs/+qM/Gn7t135tIAbYnBjD2ufHskWbG09b8rdVQlffttrY9aZdc1qb9pvRW3b4xCc+sTl0NlPfu3dvc+I4vccee+y0LJqN3XrrrW0JmCglDqAIMEzsQ/WYxzxmqtA1roOLeK9ssqLk/F/vTSpI2bjfzu9T2bn36rhJrOozv12L09uXz99VNp9Xvn73qY7jHMurnGfn+N/79ogidL3mNa9p17LpuShAG9ZL4/I5R7712fia7YONH46p604rXx3b17fKXIxd31I2wsc8T110fp+fa3hPfrNYVVkW+T3tWvIYX6/+r/ydq/994hOfaEtH3/jGN7YlaKKXTj/99MZfv9+MnfyqHHhLmDnPNSel8fGOdU5/fB1TLOXjvarHPOWqcyoPv+u9ulafj/ITcSylFaUkyu1xj3tc22tQvyd0Oa9ssmV25w9l68tc//t40rXqvXEeyuBVTPo8HVvv+71Mkq+x200KDxRhC5asanv7s01K+H3mM59p4/zv/u7vDq997WvbZvaELQKZMVME3KS6Tcov74VACIRACIRACIRACITAOhLYNqHLnkn2SrIfiWUp9hchHInO2bNnT9sPyB3pVdoAe9zg2yV0ESMs0eH0vPCFL9z/5LW+PLXJuCguIoUnLtrrh/NlPy6Pl+f0eAqXSIhpTtlWCF0cNu1p2aSlNPYb4mydeOKJzTEVTTVP6oWua665pi3h4dCqGx7qQoB52MMetl+8GueLATt79atf3YQtNmWDdVEzxJJv+ZZv+f+ErnKIRVQQCy0huvnmm1udOJbK4PryevSjH92WBFlOOU7ysd+VfORhORoW7AZ/HCwpkg9nlQgncgUnzrw868mYzrX3mgg9G5HbW8wStxtvvLGJAEQ715Knzwl4+BAD2E8l7eI6bMQyKQ40Acu11NX1RZX4XdGAlofaG62iZ+RtnzR2pAzaw5PicHnCE57Qouxcs3eulY2ARqRkFw95yENau7l2bw/4Ota1iRvqTaj0HoFSZOIJJ5zQztF+V111VbOxF7/4xa0ulrP1S1nZs+uyQ22gjsrqOtjKT6QaVtrBe9P6RjGc9tu1jGvYGdfw1S8JNZJ6lt26Zr/0zjHKZW8lG65rI+ezO6xK1CE6KqdIROL1tKTvsPs/+ZM/aYKJ/iciUpuNEztVTszt7YeBvNm2MkrKR0T3EAfjNY64SqLMjNNsWVlFWWLYt387cOOHfNigPOSlnP7XHo734ANtYcySlzYjcOFhM3pMRKb6jF3ied/73rf1GUy0vWurk43d9Ytrr712/758+p5UY6rvGuX2Gi8NVCb8lfU973lPq5dr2Cxev9PGymtJ4N4N4V25x3bfLjbHD0KastlX8aKNp8LKWwSWJcP61KMe9ai75FL9xHhS5WPjOFniam8u7act8EoKgRAIgRAIgRAIgRAIgd1MYFuELg4TZ4EDQ5jh2BEeTPQ53JwYT3kTrWPCbsLfO6+r0kDKy9m2b4xIC0IUB9HddInjqp6Wk3C4nvvc5zZnqHfsx3XBwdITS+wsX+HgExAw4LhYdsg5H+fBWXQtQkKJA0RDjionl3By8sknN2dOftPSVghdnDDLC20cbV+d6667bnje857XnvbIYeegzpN6oUuEw/Of//zm2BJAOHjq8SM/8iNN1FHXSQKF9iHciHTghFruyBnkSOJENBkvXdSuHH/XJAi5nrJw7DmkkmsTHDi42oWjzOktthhw6rWJp2DiwEmXD4deWRzPoedsE0h8rj9wbvHSdrX5OMFCBJP2ZV/f+73f2/qMOigf+1I+9sIWlcvm5QQpbFxL0i6EmDe84Q3tWgQiEX6upZx1HU4zoUAqgalsToTJU5/61NZP1c8SO78dZ0kZp9yxvdBRAod2YBfsURldu+wBM9ckLhA2vYgb3tO28tcPiEQEDszYlvYcC12EDrasPxVX7Ul01LbKJk+iDqHUOKNM7HOSaNlATPmh3K6lbQkgGBJoMFFvnyuPa6oDcc/4xm7YkLo4ThtetCFyiF4k7hER1VH7qbc2NDYqqyfxVYTdpGIph3HVUj/8HI+3a/bt4lw2jQsbtb8T0Yrt2N/J9dRNmxDC1I39OJ6tFUc2SeghqBNCjzzyyFbmKpv6q4s6si1tQfBUNiJvJf1CX2JDyqv/2ZBflJvx1DjHvjFzrN/EP3uYiWDCSHkdp7zaQSQnG3B9bSGpM2GLSIWJMdITSIlm8lUv+ehb+p12YSceDKAP4SFPtmvMNy5rF+075lt1m/XbmEOU/53f+Z0WjYsTYVm7PeIRjxj2bIwRfVJ+/PV/ArgxTrnZr+8hbUDU3I1LXXtO+TsEQiAEQiAEQiAEQiAEENgWoascag6vqAMOCKeCE2KybnLOgbDZOGerHiW/ak20XUJXOZOcXU44MWXsTHF8ylnC0jEcdw4rp9Gdfc4o5358bs/VuZxuy6Y4ypwmjhYhxLk+48BzVC0b4+BpIw5mL/JstdDFWT3vvPOaMECosDk9J++HfuiHmkNMMKjr9/URbSTqh7PKISaMEUc47NOELss9fXbZZZe1czmZnFnns1EChPoTUQgl9sDB4eijj96/Wbi2KAaiQTijGIqq4Yw6T2SZ63CYOfvqxfG3+fgkocuyJnXRBsSAsgv5cv7lIXqFEKEfcXYte8OGAy/NErp8RhhUpmLkGmyOMFPRlcQPogZ7cuxWCF2EEPUyNnD2XZ+YQAhku5x2tknAEMFSwiNxgO2NhS7t5FhiyqWXXtoEM3wIm9rR+FL1xV/fIqyLeiQOzuojvX35W7mVg03+3u/93n4RVtldC3vHEIfUj/3In2C4d0PMEcGnDtpfn1M/EVPEC6KQz4ks+LMxv4lc1abj8vifHREJCVfyYANEGq/xGMBWCUIEdksD1Z+Q6pqEpKqb8ZrYhB2OIgcJmq5DWMPROQR1AiY7KY7ajrisL8hHH2Oj8tG/8MfId4EXAYp4pR76jvz91u8IUspICFI+L9fCxBhAFDNeqI/+om9gdvzxx7djXdcYJk9s1IeNqTPBy40ExyhzL3Rpo4o2049FORIh9WV9RD5V30ltMus9YwH7sGzR3nhEa3mpo/K7Rp/0Fy827brKRbBjK+qqPMqrrZNCIARCIARCIARCIARCYLcT2Bahi6MjWqkiF6ZB53RwmAgJHMZVS9sldHFWOJQcQlEDhECO2DhxzDiJHCaOMmYcOL85ZbV0iUDBiZrklMmDw7mM0MUBE7VHrCBkEiyILpYJcko5YPMkYgbRRjQFx9Wm3EQ7UU4iktjPKaec0pb2ECn6KKKqh31rLMfCBTsiksgV7xFpJkV0cZQ5wEQy5Se04kdkUDfOt0gTZSIsEQ+e8YxnNEdaJIsk4ox4oJycau+rv7zwF/nBmXUd4geBAyfvnbvxlLRJQhfHnbioLpx6zj0BgwjH2VVnzEWFKRsh5NnPfnZz3glj0iyhi9NM1CDgERRE0khEB5uhu5akDTng7JAQsBVCl75EeBCxhhnBwnXZDbvFT/2UzzUte8OMaEQI6IUufUNdHCM/Y43zMcC/Il2INtrJMaLCiAmiguZ9micW7AFT1xKFybb0U8IDgVgd8FL2ElDZDDGLPamf8c3yMuUWycVe2IX8CEOiEInW+BNW1JeQ4fe0hKd2FEEnMg4PYqxowYoOcy5BkMhiyaSya/d6Uh879Zm66S8+J2QRjOrmgzKrv/roj66jbPqZ6C52qSxYq49j9Gljkv7Ijkv4xYj9V9SWyD3lw41Ips+96U1vaqLrM5/5zMavxhP26EUsJIixXefoq8YMZcbP2GE8lSdRV98T+SWCSh/2feNYjJSHrRGYcTRuKZNjiEr6nT4waRyd1i7T3ldO5SCuG++Uk2DFZglvkwQrtmcswFxZ2TjbM6bpMzXOTLtm3g+BEAiBEAiBEAiBEAiB3UJgW4SuX/iFX2hRFhwkk/RpiaPOEfzZn/3ZlXriW5V3u4QuogiHznIxy+w4MBzIPnF6KmqEYyYygxNPCCAacN5ESNjvhSPEQZ3kPHGYlhW6+nIt8/ckoUsEDIdVlM6b3/zm5vgTAQhDnNOK6uKgc645qJx0EUnO5cRX5M00oYtAQHRhm9gTlDjRlbzvXPvpvOpVr2qOtHztm8XRlDj0rutaIl8su+Rwc0D7xKkXCXP++ec3QUJ7TYvokh/RRhsRgYkynG51LmdbmxNSRPJw5u0pROAQqSTNErrYRNkRUWGepy4SQbZC6CJQWOJLyMMMSyIdQaXfY4jwQewiAKkjQZcd90IXHjgSa7UDvkQMS4dLoKs2cF39pV6YioIjQrGnzZJISsKNa4kew/cFL3jB/v3CelEXW8cTLAk2hDpCmLITNCpCi9hFYPmN3/iNxuJAn7pIBBEd53qET4KsqEh1qyWxbAkr/USb+x8DghiO7FzdCEL604/+6I82m8ORvUjqxe5cB0c28RM/8ROtr7lWb+OEWBGIxETtS1zUx2YlZcJYVOaspy5iqxxXbyyJf/nLX94EImKbtieq9f3E9WoJvfqxYUK0MYLwSDSSn3ZQL3v8GXd9Lj9jaPW5WWWf9zNtro20lxtBogGJ99rLmDKJkb5gjCROXnjhhU0cZc/GQt8VykgkSwqBEAiBEAiBEAiBEAiB3U5gW4QuwtVFG3et3b3nTExL7pabrBPGOCqrllZJ6MIGSwKPyABOKyFGNAdHlGMqkoXYRfTgSIkOGSdO5SoLXcouqoRDTRjhAIuesTeUKBGCoMQBFFHFaeSke9okx5GgYHmZ1zShS/05wXgSUXDqBQt74xA0RMG87GUva46opVQcYCIchiLJCHGi60St/MAP/EArXy+YKScbEkEmAsUyK+KHJVSTIrrUlwjEeSVEcOLVncNdTjfRQiTLK17xiub0E+mUixDnmFUUukTiERcJO6LoRNfYm4jgQPzpI5fYMv7VtuxbnXqhC1MRWoQ6kUZEC46/qDTXInhU0ta1bM9ee4RD/LUjgXJWIjSwkxIFjWeEHecT6AllvZis7F6itUTdWabGVtgmQZJtSlsldKmb5Y+EGteyrO1Zz3pWG1NFC0lEQ5GEREPjhoglDyjQzwhlxDtPcMWUQEWcItj20ZPyIariSKjRLywptjQTR5FT6svG5UlII9QSMbVFz0he4zSv0KWM7EF9CYm+M0R++Q4x9lUfqfzZEWHIOImP9jS2KLtoLUJeL3QRqUXXWQ6uXluZLP9UDuyIuOyBLWovNjWJEVsy3hPljQ3GRP1HGxL/tZVI1BI1t7K8ySsEQiAEQiAEQiAEQiAEdhKBbRG6fuZnfqbdmedocC6mJXexOUO/+Iu/2O62TzvuUL3PseLEHezN6HHYLKKrZ0DsKEef48kB5yxKnCcOqIgZwtDYgXLcKgtdys2RszyJQygag3hEGOLQWqrJASRwcBo52Hj82I/9WHMeRWUQoTjC04SuYlksankQLtpcRBeBgMBhmR3RgPP/nOc8pznAPmcTrkEk47SK0vJ3L7LUdeQlWqsimggfk4QuDrzjLPX68R//8RZpRsTpk7YW1ULoInj5nGBUezMR1YiDyo0NgYhNEDEOVUSX6xIEiS3KxtYJCgQRn41tVH1FaeGFB+GoF7qIT5acvvSlL23HERqJgpPEcm1MKBNNY9kYgYC44NgSg3q+/d+EUKIUgfKXf/mXW3QWAYeoVgJkf3z97Ryi0q/8yq+0fkpUIi65trRVQpfyGQdEOLEHYo+IJNcidBN+fE7Mec1rXtP6CVFUHTBTDss6cXTTQb/z2Z47oxarPn4TXAiUIvJEXukLxhkcCc3ety+ettVW8t9MSKz8tdE8EV36nT6nnxDo7C9ItCKWTovOM1bgc8UVVzQO+stP/uRPtvYTNVtCFz6iQs/dWFZMkNzMNqrs8/zWTvqqKFwRiMYu/dVNCX3TUtBZSaSdKDpCIrFYlJyx0BN68Rc1mBQCIRACIRACIRACIRACu5nAtghdP//zP9+WiojiIB5MSxwhAsLP/dzPtaV30447VO+vqtBVQozlNpwf0U0cUUlUgsgOS+ksZxxHZpS4Q0ASXXQgm9FvVXtMWrpYQhfnjhN6wQUXNNHJnjmilggabEpkg+VY/hYRwUFVX5FZnNrNhC4OsCVXRBDXEXFBJPI/AYA4xX69x2knAHDuRVAQWrAXNeaaIsksHxSZNI4qwUpeJWIR56YJXSI2CA+iTSxhJU6NlyaxSeIFLgQGIqn8CEf+FnmzakIXBvgSfkSnEFQq8nASL8dbsogZAYUw0AtdbIP4RaAhYKk3oWOS2KGdMRPZoz21lWgyv4mms5K+grVyKLu2dq7oPiLytKS9iZEveclLmuBlLy/CBmFI2iqhS93Uy9I20W3GBSKpJZz6CxGRQFLLbIlZll0ScgjC6kbEwxEbfUd00HhjdGUm1rhxYa8p12Hv6kNYc319zk0BNkt01k/Gy6/lMynNK3QReUVmEa7Ykwg+y1C1u3FuWlI+duQ8DCy71Ja+f/T9WjJpbCGcsYt5Rbpp16z3tRFe+qo2Yq/GPeVmS270bBaRZbzRb4zZou/cPCJkinJli6I6k0IgBEIgBEIgBEIgBEJgNxPYFqHLnWuODyGFUzot1Z4pols4RquWVlXo4nBynuzbcvnllzcHkzMkiW7gPL3oRS9qIiJnsxcTdorQpY427WZLhA5JJI4ICDbFaRWFweEjQhHICESig0S5TRO6OInEIBFDIr44kIQHTjSnlENfjIhcjuNIitoidHGCCRmcVvtpERXti8bp50RPSvMKXRxuooRrELqIFmPxhk2KjuLw2g9JOvvss9vyRc7+KgpduO7bEEEIP5bRYUZgrQinScxmCV1EGRF/xCfL6UTpiCSaR1ghOll2OE9EFztgg4QuYhBRXkSUyB9tMy0Rn9RTfdkuGyUMiQSTtkrokpcyYmEcIP4ZBzx51PI7wqt+YoktAVekVi2xZSvqxuZwJBjjSFidJRq5JkGMKIQHjiIvCe76i3Hc9QmBkwQz54+TOswT0aWP2rvPpvmiywhdBH39TpmmpVreKTqQKEroMkaqbwldF20stTeO1BLp8RLkaXlv9j7bN14R2yoK09hGDCR+apNp40blbfyovdSM+caoErqU2d9JIRACIRACIRACIRACIbCbCWyL0GXJFAfKHWgOrsm+l0R0qZclV+5qc5pEGKxaWlWhq4QYGzdzMC3j4gxJHH4RG5bnEBQ4rjtR6BKNYkmiCCjOuggugijnkE2JROH02qOH0NNvKD9N6OL4cxJt5m5vL0utLCmyGTrH/IEPfGD7LULMEkROsGWQRI1autgLXQQEApioFsLNNMd+XYQubUIIEC1EDOntivCqnhxxbAktuBAmS+iy/E8UUe1P5Pe0NK/QJT/OvvYXTbRZEqmjfbX5WEQcn9sLXcQgwjyhiy1sJnQRkdSX0GWZo2WaB0PoUmaiGrHJUw8t6RP9ZrmkJXHs1zJWIrDxQOSf9wm+vdBFIDcOE6o2i2YiJmNYHI31xiEiqz4kakxbbCaYFe8DEbpERZXQpV/PErowIVZaCus4y4KnCV1V9q0Suoozcc5+fwRHYzSxTfmxJr7NSoRdojbGxjz9TpSpBweI6Nrq/cRmlSWfhUAIhEAIhEAIhEAIhMAqEtgWoUvEgjvQHAtRXSINLBNzJ5vwwumyKTAnWHSFO+vTRIJDCXFVhS7RFyI3RPXYd0h0Qy1dJBhalsOZI0hw5ntBokSyVV+6SFRRJ2KTZUf2pmEvnHFRVvWyIXM572VD04QujjenkUgmGszx9jUSoUPosseWqCDHEW6IB44jAjimIrqKPRGBiCGii2g7Zl22y/aJEPoDh5swN2mPrlWO6LLnFJGQiEKgIi70e2uJYuLEE7pw0VbEFr8logqxyLhgeS2BmzjINnv7LGbEW8zwck6/dNHyOWOK/AhdIsOIXYSozZK2VXZtv5nAoL7qpF1EdBm3iHfKPWu5GBurPcSIUOzjYOzRVXXFQ38Q1UV81R/0E7btf+1RT2Ql0rFxdSMWEZHVjY0XR2LurKS9RCHVS3/S54jG9ouyd5QoI/1pnjSv0KVPihSuJz9ayuyJlcSiadF8RFZRkpYZWz7oWGOjfqu/jiO6tlrowplIpcy//uu/3iLn2BGRShSqck/a16+4Ecos09SOItIsbVYH7SgPy4BX8SZRlT+/QyAEQiAEQiAEQiAEQmA7CGyL0KUiojssKzLJt3SE80c4Ek3ACSIcmKSb9K9qWlWhi2PLwSfCcGKxJiJKezaWwhC4OICWaXFGeyFhJwld6iRKhNjxqle9qjnuokjsf8SB5eBx6jmMhLESXqYJXY7ZtxEN5ulnL3/5y1s0RO0z1D+1zXVr423HuWZFdIlYsXm9aDrX4SwTWSwJ44COo1jwtqTLsQQTe/RMe+rioRC6OOKibwhvBNJiWH1SHxYRpB8T+IgE9rfSj3sHXTsROi655JImTOJK3CF0Oc5yS20oH4xE4omOYp/apZJ2xd9SNsxE8mmLXujCX8SXtvFbdIvoGNfr7aDyPNDfRAZ9jeBp2Zl6EOnsiUZUU4++b7mO8lsOK2qQjVhuZ8ktGzHeSVu5dFF+hG/l1E72sBKtZIwl3opaVH57T+knhChRTeqmzXwu0oj4Z7zQJs7HcVw315qUPLShIi8JiPqC8Z1gNk8eJXQRgzAjuCmvsYydVTIe6yMEY+I3wdV+ZERHQt34WmwbG2Uj7BNjRT8Rs5RNHQ+20MWWCYHKYDk1YQvfczf2FFRPbTEud9WXLYlqJdAR+n2PEr2cf/LJJzfBfJElopVvfodACIRACIRACIRACITAuhHYNqGLk8Eh9eJgcGY4V5wLzi2BwKR/LAysEvBVFLo4P5z7a665pi0RsyQGa+9LHGrigqVSliGNhYudJHSpE0eROMSBJ6QQ+IgHnFtLwSyR46D3zuI0oQsLeYiOILqICKk9lyxlqySSjHN55ZVXDvbuwRFXEV0EBGUSPeM6hDMChugKTvQ4uoIAIbrHnl4EAeKCJzSuSkSX/qnuxAnijSinnqXIKQ46OyMw2vtNpBaBuiKiyiY59NhyyC0xFfnEFvV3Qrf91hwj+gh3PAkv/WbcbNmxxBkRi0QjAlMvdBlHiF8+t/cRMYNwRoASRbRVY0rZX4lWotqMCURkUVqezFcM2I7jlV/ZCRtEOuKn5Z5ExFruuNVCl2uySXvGWd4mYS5SlsjKBglH+opxVz9QVv1IxC2O+hXRxXGEzGlPEG2Zj34Yj+Sjr4gSq6i3U045pbVdb0+jU9u/JXQRtD3kwXI89qivEbAqOY49EruI/PhrB9FqlmurV38ttq08ltJa8ic/4pgoUOI1OzrYQhfb1CbEdXZRUYFnnnlme3LieHyuuvqtvrYB0GdEsoku9P2p3xi72JS+MyuPPr/8HQIhEAIhEAIhEAIhEALrSmDbhK51ALis0MWZ5EwRTixfKyeeA3z1xpIhDhtnhvPCYeEYcvBEMXBUJY6S8/2uvwknxB9iDCFA4sASWUS2EBiIP300RDto44fryWeZpYvqpUwcXA4y8cZSIEIP8bJ3/uu6k35zQkXucJDVh4Ag6oRwhEkl9bVkhyOPHSGD8HTeeee165aAUMdPE7rkSZgiYL3yla9sYpklXhxrEV0cfdFxHEobfBNRLHtSrxK61FP9lUMEisgSzrUIixNOOKE506JjSkjQPsQ1eakHVkSuQyl0sQG8Rc/gIVlOKVIEW23IniwzJpQQ6IhdxFX1xIwoxmbV3Wbb6kbgIgpZrieiS1sSuuRH7GbzonEsSSQ6YOqa2GOmv+EvL5Fkysi+OPK90OV/x2FPgFOuejImAZSIIT9l0+ccS9SRvwiYPRuRQsSzXhRpECb80H8JfOxAe6tjbWbvmvocVq6jj6u7chN+8FE/op46Ok7aaqGLrXnhQCxybe2Gu/Kps6W17FMfqHqzA/aJo8guoo/2Fb2Io72kRGjJu9rG2OH/iqLSFlXvijryuXrrV/qm/a5cVx7awRJE7UNAVkaMLU/FV79UXtF5bIwQ6jx5EO6IdmyMcEs00uwAAAwvSURBVFXCDwHP9VzLuFllEkWoHxsn2RRxaO/G0lPRZtpG/bda6FJ3tiBv5RYFSeAlfBoHjMsEepxFB44TFkRLY6O+aZxRX+eya/U0xquD8X081rq+ehubjTU+J4ixA6yTQiAEQiAEQiAEQiAEQmAdCUToWqBVOSqcjYsvvrg5ZgQkd+Q5DRIH395DnHcRJpbREEIqoqR3WjhynLxaimIJF4eUU8Qx46BxXkTCEBiILhInUt5+O5dz55ocGU6NxHG1/Iwjy6ElmMmPMz9OHLBlhS71Ug6REoQGdSHciJTgbM7rUM0rdOGsHUSe2GuHw8sRtheQvznNfZomdGkXednrxrI3TIkPxBiOO+4cf04xwQJ30UWELht5i6Swt5xUZT///POb+IErx96rokUIGpxU+SkncVBUkHwOldCl7OyG82+pG4HDcigiANtlNyJl2JNlmmwTC/sLiarT9t7XF0SCETCIBcQgbDnXHHWRNuywhC7vyYeYgRk22sMxHHHMtAdhy+bh/sbMOUSyXujivMvPNeV3wQUXtOsSZVyXUKpsys7W2Q7hR4QPuyE0uPak/oHPOBFm9D28iBZsgsigrQl2RCzHsB08Xc91Re7hSpzAtdJWC12Vr+vqi6KdCKvGBdFZxhTL5CbtvUUExFHbWnZqPFIfHPdsCIIi0rQ5gYmd+M1+CKMEMRxdR/0J90QzgjS2bMh1CTrqr03ZBzthY5Yda3fHamdCqGWU2DmXgEX0UkaiIoHRuKjviXISJUXYI4axXddiM2zS+EhEJ/4RtfRbT2h0DDthGwdD6GKXys/WiFzampCvvOyGuCv6UH0wGCfnO4+4bJzSt5xH6GO3vmOwmXQTQ7toK6KsMZAtGN884dHTMXFKCoEQCIEQCIEQCIEQCIF1JBCha4FWXVbo4jRyeDgtlq9wEjltHD3OC6ePc8JR5OwR0GpJWDnhykAg8duLWOZ/vzmhnBdOXL2IMt7rIzf6Ku9EoUtdsSO2cP4ILRxWyzM5curap2lCF2ebEyo6guNJDCA8EeZ8xonmQHKWCXZEF467v4mQvdClDbSfpUUieIgznFTtJi8v+WoL7cp5JXYSQs4555xDKnRhRcQTNSW6SrQcwaJee+98WmJF3JQNc6DVlf0SDxyvnnhx2okShAXiHoGl8sGBAy4fYhBmeIm2YfuEK+KD4+RLaPE/gUsEFSFmLHTJz+fy07+Ixp5wKD/2UGIGQUM5LYEjZhIstaX3veZJ+jG7kT/xQNn3bYhK6sNmXEt5qi8TIupafrOp3kYPltBlTCHwiIpiZ/o6kcuecPqM8WKc2CyOhE/tou3YPY5VtxqfcDQ+EZUINuyDvfscI+dh5NqWGBKvsHGe4/CWp/MIL/VkSJ8pg3PsOYixdmVXBEu2RRAlUjrfeCBqSVnZIyGZEOk6OLuOuvu7nkIrOswYqT9Wmbda6JIfW1R+Y4yxngBojFFeNqQ+BEfClb4zTuxIPniwL22mP2BOHCOsGvPUdZwidI2J5P8QCIEQCIEQCIEQCIHdQiBC1wItvRVCF4eF4ycahDNGIFk2cdSIAxxATqPN50VNcLDLiZt2DU4Uh2uZpYucMWIHsYizyZGzT47oHc7pJAduUnkIRRxzkRlED8KVqA1OuXpUcj0OOdGJ8KHOnD4RbDiMk3IRbzjauBCWOIxVLqKZzxzDMSUQcEglDqXlRRxxUWv2xrFfEQdTdM6ejSiXSlhqU2V3TXtPcWg5nKLDtI89geTpGCKQJUz2khLtw4El7EiEBgIKJ5kzLmKGOFNl7q9JKCEI4C4RAETgEAHUTTlEGYpoEWXHPjjYPVM2wDaVWyQOkYJjTRwQraWuffkIY/IVQaUumGkX5cNKW3hdvRGVQxDzN3FBexI7KhEpMMPdsiyChjJjxnYIKbXZvTKVqKQeRCpMetFIfspCpMF334YAJX/5lbAiakgbOJ9tES6JM4smzJTVddihaBsM2YH8iCrsA+9iTpQYp2ojoi0G7L6Eo0kCxvj8af+zYX3Kk1j1S32GmOQJl2y4b4dxHqKttLE+wQZxlB+O7EY9cNTWIrnUk1jTc2QP2BN0tZuXtmFXkshLoh82bEMkn3y1k+so+/XXX9+YYKz8yq3tSjgtIcvxIrvYpPFVW4jac44yyZf9Kq9XLYfu+wBxzvijnMYg/V6Umb5S/XLMadb/rq1NlUffYxsHmowf+oNoQJzsQca+etsf542JNsBQPzQ+6J8iyIxfFYk8Pi//h0AIhEAIhEAIhEAIhMBOJxCha4EWXFboKseDE0mc4BBzRLYiceY4xZxXTh2Hxv+94znpOlshdMmXU6denDliAweWI0Z44rjOk+TBmSaaEQCJURxMderrgaMXJ9r1fM5pVu/+uLqmcnkRJnDhMPblKgYiLrz6dnG8yCJ5Kx/nm3PpfY59LxYok3OV3fVwYDMSh5rwxGHV5pZ4EpQIUIQuSxcJLuVQEwPUzct5BJ2+zFU311QuAoLrScpFEMCC8+59Yoo81d015NWzUibHKrdjldv/jpGfF3sqYcDn2sqx6qsMkrbGqpj5HNP637V7e3BdzIq9NvK/pIyuqS6YuyYerjurHsoiYk6efX7yVB882UvZlmscSKqyu5Zy4es9bSIps7xdp5gXv/566qtO7FmZ2T07YVs9q/6cef5WlrJZ5VMufVL+yjErb2VyLntwLo7yq1T2rK29lHWS6CIf9leM5Fn5uL5zsCmb6fk4FtOyDeV3vL7HJtRFKjtmH67l+LLJaotxebW/8+pc+ThWO6ivMYjNYsVe+nI5dp4kv2rTso15zpt0jOvrD8rkpfxY9OWfdJ4yuHaNR5gTuDCUX1IIhEAIhEAIhEAIhEAIrCOBCF0LtCpHat9GZMOB7tG1wKW27VCOKCd2mYiubSvsGlyIk0+UspyS2CXawlIyyyA5oBzYpBAIgRAIgRAIgRAIgRAIgRAIgRAIgQMjEKFrAW4Rut42PP3pT2/L2A40ymEB3Gt5qCgVyxkvvPDCtieYSAsbSltOKVIjURZr2eypVAiEQAiEQAiEQAiEQAiEQAiEwDYRiNC1AOgIXRG6FjCXiYfaZ8qm76997WvbvmB7NvY2smfOU57ylCZyzVpONjHDvBkCIRACIRACIRACIRACIRACIRACIbCfQISu/Sg2/yNCV4SuaVZibx/7A4nQsi+OPYtEZ9lbx/8iuewbZJNsm13bpFpUnI3jbdpvQ+7N9tuZdu28HwIhEAIhEAIhEAIhEAIhEAIhEAIh8H8EInQtYAkRuiJ0TTOXj370o+3pcp72Z88zT4K0gbtNtm3q7glwH/7wh9ueXH4TuYhbli168p/N5pNCIARCIARCIARCIARCIARCIARCIASWIxChawF+EboidE0zl5tuumn4wAc+MFx55ZWD5Yk2lfdkM0/dswG9J7l5YiMbInI9/OEPb0LX4x//+PYEuQN98t+08uT9EAiBEAiBEAiBEAiBEAiBEAiBENiNBCJ0LdDqEboidE0zl1tvvXX4yEc+MlxxxRWDqK4bbrihLWW0ZFEieh1++OHDiSeeODz2sY9trwc84AFtiWOWLE6jmvdDIARCIARCIARCIARCIARCIARCYDECEboW4EXoErlzySWXtCfknXbaacNxxx3XBAzZ3HbbbW2D8Xe9610D4eOss84aHvzgBw93v/vdF7jK9h76+c9/vkUZXX755cN11103qNPxxx8/HHPMMYON0S3Du/nmm4drr712eOc73zmcccYZwxOf+MRWp2yc/oW2skfX7bffPtx4442t7f2Nrf25JHt1idqyRPHoo48ejjrqqOEe97hHe/8LueSvEAiBEAiBEAiBEAiBEAiBEAiBEAiBZQhE6FqAnuicW265ZXjrW9/aInROOumk4cgjj2yChWzuuOOOthfT9ddfP3zyk58cTj311OHYY49tgtECl9nWQ+0fpV5ErA9+8IODOtkz6j73uU/bHN1n9pf60Ic+1MQu0UiPfOQjW50SibStTZWLhUAIhEAIhEAIhEAIhEAIhEAIhEAIbEIgQtcmgPqPReeI6hK5JZrpnve85/4n6zmOaOTzT3/60y2ax2bkq773kjp5EeY8NVCd6omB6lR19pl9pu51r3u1DdYjcqGTFAIhEAIhEAIhEAIhEAIhEAIhEAIhsEoE/h+LtblxNLk3bQAAAABJRU5ErkJggg==)"
      ]
    },
    {
      "cell_type": "markdown",
      "metadata": {
        "id": "uTMUnr7Dfx0o"
      },
      "source": [
        "After top 3 we are showing answer from that passage which got the highest consine similarity score"
      ]
    },
    {
      "cell_type": "code",
      "execution_count": 26,
      "metadata": {
        "colab": {
          "base_uri": "https://localhost:8080/"
        },
        "id": "VPDtLXK2eD9h",
        "outputId": "929ab53f-52fe-4f92-cc81-745c3da991ca"
      },
      "outputs": [
        {
          "name": "stdout",
          "output_type": "stream",
          "text": [
            "Top 3 passages:\n",
            "-------------------------\n",
            "1112\n",
            "Most relevant passage:\n",
            "['apothem', 'apothem', 'regular', 'polygon', 'segment', 'drawn', 'center', 'polygon', 'center', 'circl', 'circumscrib', 'polygon', 'one', 'side', 'perpendicular', 'side', 'regular', 'polygon', 'area', 'squar', 'unit', 'perimet', 'p', 'unit', 'apothem', 'unit', 'area', 'onehalf', 'product', 'perimet', 'apothem', 'care', 'formula', 'though', 'given', 'apothem', 'one', 'possibl', 'valu', 'p', 'apothem', 'apothem', 'regular', 'polygon', 'distanc', 'center', 'midpoint', 'one', 'side', 'apothem', 'squar', 'equal', 'half', 'length', 'one', 'side', 'apothem', 'regular', 'polygon', 'definit', 'line', 'segment', 'center', 'regular', 'polygon', 'midpoint', 'side', 'tri', 'adjust', 'polygon', 'drag', 'orang', 'dot', 'alter', 'number', 'side', 'note', 'behavior', 'apothem', 'line', 'shown', 'blue', 'word', 'apothem', 'refer', 'line', 'length', 'line', 'correctli', 'say', 'draw', 'apothem', 'apothem', '4cm', 'formula', 'show', 'find', 'length', 'apothem', 'regular', 'polygon', 'use', 'formula', 'use', 'fact', 'given', 'start', 'distanc', 'center', 'regular', 'polygon', 'midpoint', 'side', 'circl', 'distanc', 'center', 'midpoint', 'chord', 'regular', 'polygonsproperti', 'apothem', 'also', 'radiu', 'incircl', 'polygon', 'polygon', 'n', 'side', 'n', 'possibl', 'apothem', 'length', 'cours', 'word', 'apothem', 'refer', 'line', 'length', 'line', 'correctli', 'say', 'draw', 'apothem', 'apothem', '4cm', 'formula', 'show', 'find', 'length', 'apothem', 'regular', 'polygon', 'use', 'formula', 'use', 'fact', 'given', 'start', 'apothem', 'hexagon', 'apothem', 'regular', 'polygon', 'line', 'segment', 'center', 'midpoint', 'one', 'side', 'equival', 'line', 'drawn', 'center', 'polygon', 'perpendicular', 'one', 'side', 'word', 'apothem', 'also', 'refer', 'length', 'line', 'segment', 'apothem', 'polygon', 'congruent', 'regular', 'pyramid', 'pyramid', 'whose', 'base', 'regular', 'polygon', 'apothem', 'slant', 'height', 'later', 'face', 'shortest', 'distanc', 'apex', 'base', 'given', 'face', 'equilater', 'triangl', 'apothem', 'equival', 'line', 'segment', 'midpoint', 'side', 'triangl', 'center', 'sinc', 'equilater', 'triangl', 'center', 'coincid', 'consequ', 'definit', 'apothem', 'polygon', 'congruent', 'regular', 'pyramid', 'pyramid', 'whose', 'base', 'regular', 'polygon', 'apothem', 'slant', 'height', 'later', 'face', 'shortest', 'distanc', 'apex', 'base', 'given', 'face', 'given', 'circl', 'apothem', 'perpendicular', 'distanc', 'midpoint', 'chord', 'circl', 'center', 'also', 'equal', 'radiu', 'minu', 'sagitta', 'regular', 'polygon', 'apothem', 'simpli', 'distanc', 'center', 'side', 'ie', 'inradiu', 'polygon', 'see', 'also', 'chord', 'circular', 'sector', 'circular', 'segment', 'inradiu', 'radiu', 'regular', 'polygon', 'sagitta', 'cite', 'weisstein', 'eric', 'w', 'apothem', 'mathworld', 'wolfram', 'web', 'resourc', 'apothem', 'line', 'segment', 'center', 'regular', 'polygon', 'midpoint', 'side', 'also', 'defin', 'radiu', 'incircl', 'polygon', 'regular', 'polygon', 'n', 'side', 'n', 'possibl', 'apothem', 'length', 'assum', 'right', 'angl', 'triangl', 'apothem', 'adjac', 'side', 'half', 'side', 'polygon', 'opposit', 'side', 'line', 'join', 'centr', 'polygon', 'vertex', 'polygon', 'hypotenus', 'let', 'assum', 'angl', 'form', 'adjac', 'side', 'hypotenus', 'theta']\n",
            "Answer: ['The apothem of a regular polygon is a line segment from the center to the midpoint of one of its sides.']\n"
          ]
        }
      ],
      "source": [
        "from sklearn.metrics.pairwise import cosine_similarity\n",
        "\n",
        "query = \"what is a apothem\"\n",
        "#query = \"what kind of organism is a black damsel\"\n",
        "preprocessed_query = preprocess_query(query)\n",
        "\n",
        "query_vector = vectorizer.transform([preprocessed_query])\n",
        "\n",
        "# Compute cosine similarity between the query vector and passage TF-IDF matrix\n",
        "similarity_scores = cosine_similarity(query_vector, tfidf_matrix).flatten()\n",
        "\n",
        "ranked_indices = similarity_scores.argsort()[::-1]\n",
        "\n",
        "top_k = 3\n",
        "top_indices = ranked_indices[:top_k]\n",
        "\n",
        "print(f\"Top {top_k} passages:\")\n",
        "for idx in top_indices:\n",
        "    passage = stemmed[idx]\n",
        "    answer = df['answers'][idx]\n",
        "    score = similarity_scores[idx]\n",
        "    #print(f\"Passage: {passage}\\nAnswer: {answer}\\nScore: {score}\\n\")\n",
        "\n",
        "most_relevant_idx = top_indices[0]\n",
        "best_passage = stemmed[most_relevant_idx]\n",
        "best_answer = df['passages'][most_relevant_idx].get('answer', 'No answer available')\n",
        "print(\"-------------------------\")\n",
        "\n",
        "print(most_relevant_idx)\n",
        "print(f\"Most relevant passage:\\n{best_passage}\\nAnswer: {df['answers'][most_relevant_idx]}\")\n"
      ]
    },
    {
      "cell_type": "markdown",
      "metadata": {
        "id": "K7IHA-O8f5sq"
      },
      "source": [
        "## Caculating the accuracy for all the queries\n",
        "\n",
        "accuracy = 80.83%"
      ]
    },
    {
      "cell_type": "code",
      "execution_count": 27,
      "metadata": {
        "colab": {
          "base_uri": "https://localhost:8080/"
        },
        "id": "ASq74m4Mf8n0",
        "outputId": "c635d796-04d5-4577-cb81-be80c3ae4c89"
      },
      "outputs": [
        {
          "name": "stdout",
          "output_type": "stream",
          "text": [
            "0.8083937823834196\n"
          ]
        }
      ],
      "source": [
        "final_score=0\n",
        "for i in range(0,len(df)):\n",
        "    query=df['query'][i]\n",
        "    query_id=df['query_id'][i]\n",
        "    preprocessed_query = preprocess_query(query)  # Use your preprocessing function\n",
        "\n",
        "    query_vector = vectorizer.transform([preprocessed_query])\n",
        "\n",
        "    similarity_scores = cosine_similarity(query_vector, tfidf_matrix).flatten()\n",
        "\n",
        "    ranked_indices = similarity_scores.argsort()[::-1]\n",
        "\n",
        "    top_k = 3\n",
        "    top_indices = ranked_indices[:top_k]\n",
        "    for idx in top_indices:\n",
        "        passage = stemmed[idx]\n",
        "        answer = df['answers'][idx]\n",
        "        score = similarity_scores[idx]\n",
        "\n",
        "\n",
        "    most_relevant_idx = top_indices[0]\n",
        "    best_passage = stemmed[idx]\n",
        "    best_answer = df['passages'][most_relevant_idx].get('answer', 'No answer available')\n",
        "    if df['query_id'][most_relevant_idx]==query_id:\n",
        "        final_score=final_score+1\n",
        "print(final_score/len(df))"
      ]
    },
    {
      "cell_type": "markdown",
      "metadata": {
        "id": "P2KxXlWOgGzh"
      },
      "source": [
        "## Major Insight\n",
        "\n",
        "There were few predicted answers which were not the same to actual answers but have same meaning so we are also finding the similarity score between predicted answers and actual answers. After that we are finding the final accuracy"
      ]
    },
    {
      "cell_type": "code",
      "execution_count": 28,
      "metadata": {
        "colab": {
          "base_uri": "https://localhost:8080/"
        },
        "id": "IzWzCOR9gJOW",
        "outputId": "e3812010-6253-45f9-fc2f-d1d159c7ab25"
      },
      "outputs": [
        {
          "name": "stdout",
          "output_type": "stream",
          "text": [
            "Accuracy: 80.89%\n"
          ]
        }
      ],
      "source": [
        "final_score = 0\n",
        "\n",
        "for i in range(len(df)):\n",
        "    query = df['query'][i]\n",
        "    query_id = df['query_id'][i]\n",
        "\n",
        "    # Preprocess the query\n",
        "    preprocessed_query = preprocess_query(query)\n",
        "\n",
        "    query_vector = vectorizer.transform([preprocessed_query])\n",
        "\n",
        "    similarity_scores = cosine_similarity(query_vector, tfidf_matrix).flatten()\n",
        "\n",
        "    ranked_indices = similarity_scores.argsort()[::-1]\n",
        "\n",
        "    top_k = 3\n",
        "    top_indices = ranked_indices[:top_k]\n",
        "\n",
        "    most_relevant_idx = top_indices[0]\n",
        "    best_answer = df['passages'][most_relevant_idx].get('answer', 'No answer available')\n",
        "\n",
        "    actual_answers = df['answers'][i]\n",
        "    if isinstance(actual_answers, list):\n",
        "        actual_answer = \" \".join(actual_answers)\n",
        "    else:\n",
        "        actual_answer = str(actual_answers)\n",
        "\n",
        "    # Preprocess both the actual and best answers\n",
        "    preprocessed_actual_answer = preprocess_query(actual_answer)\n",
        "    preprocessed_best_answer = preprocess_query(best_answer)\n",
        "\n",
        "    answer_vectors = vectorizer.transform([preprocessed_actual_answer, preprocessed_best_answer])\n",
        "    similarity = cosine_similarity(answer_vectors[0:1], answer_vectors[1:2]).flatten()[0]\n",
        "\n",
        "    if df['query_id'][most_relevant_idx] == query_id or similarity >= 0.1:\n",
        "        final_score += 1\n",
        "\n",
        "accuracy = final_score / len(df)\n",
        "print(f\"Accuracy: {accuracy * 100:.2f}%\")\n"
      ]
    },
    {
      "cell_type": "markdown",
      "metadata": {
        "id": "HwLjdkn4lCBL"
      },
      "source": [
        "# BERT"
      ]
    },
    {
      "cell_type": "markdown",
      "metadata": {
        "id": "XTwQhfO_CYaE"
      },
      "source": [
        "## Library Installations"
      ]
    },
    {
      "cell_type": "code",
      "execution_count": null,
      "metadata": {
        "colab": {
          "base_uri": "https://localhost:8080/"
        },
        "collapsed": true,
        "id": "eOn5ObCLBFhZ",
        "outputId": "a05ab087-5d9f-4af8-ada5-dbfe566209e2"
      },
      "outputs": [
        {
          "name": "stdout",
          "output_type": "stream",
          "text": [
            "Requirement already satisfied: keras in /usr/local/lib/python3.10/dist-packages (3.5.0)\n",
            "Requirement already satisfied: absl-py in /usr/local/lib/python3.10/dist-packages (from keras) (1.4.0)\n",
            "Requirement already satisfied: numpy in /usr/local/lib/python3.10/dist-packages (from keras) (1.26.4)\n",
            "Requirement already satisfied: rich in /usr/local/lib/python3.10/dist-packages (from keras) (13.9.4)\n",
            "Requirement already satisfied: namex in /usr/local/lib/python3.10/dist-packages (from keras) (0.0.8)\n",
            "Requirement already satisfied: h5py in /usr/local/lib/python3.10/dist-packages (from keras) (3.12.1)\n",
            "Requirement already satisfied: optree in /usr/local/lib/python3.10/dist-packages (from keras) (0.13.1)\n",
            "Requirement already satisfied: ml-dtypes in /usr/local/lib/python3.10/dist-packages (from keras) (0.4.1)\n",
            "Requirement already satisfied: packaging in /usr/local/lib/python3.10/dist-packages (from keras) (24.2)\n",
            "Requirement already satisfied: typing-extensions>=4.5.0 in /usr/local/lib/python3.10/dist-packages (from optree->keras) (4.12.2)\n",
            "Requirement already satisfied: markdown-it-py>=2.2.0 in /usr/local/lib/python3.10/dist-packages (from rich->keras) (3.0.0)\n",
            "Requirement already satisfied: pygments<3.0.0,>=2.13.0 in /usr/local/lib/python3.10/dist-packages (from rich->keras) (2.18.0)\n",
            "Requirement already satisfied: mdurl~=0.1 in /usr/local/lib/python3.10/dist-packages (from markdown-it-py>=2.2.0->rich->keras) (0.1.2)\n",
            "Requirement already satisfied: transformers in /usr/local/lib/python3.10/dist-packages (4.46.3)\n",
            "Requirement already satisfied: filelock in /usr/local/lib/python3.10/dist-packages (from transformers) (3.16.1)\n",
            "Requirement already satisfied: huggingface-hub<1.0,>=0.23.2 in /usr/local/lib/python3.10/dist-packages (from transformers) (0.26.3)\n",
            "Requirement already satisfied: numpy>=1.17 in /usr/local/lib/python3.10/dist-packages (from transformers) (1.26.4)\n",
            "Requirement already satisfied: packaging>=20.0 in /usr/local/lib/python3.10/dist-packages (from transformers) (24.2)\n",
            "Requirement already satisfied: pyyaml>=5.1 in /usr/local/lib/python3.10/dist-packages (from transformers) (6.0.2)\n",
            "Requirement already satisfied: regex!=2019.12.17 in /usr/local/lib/python3.10/dist-packages (from transformers) (2024.9.11)\n",
            "Requirement already satisfied: requests in /usr/local/lib/python3.10/dist-packages (from transformers) (2.32.3)\n",
            "Requirement already satisfied: tokenizers<0.21,>=0.20 in /usr/local/lib/python3.10/dist-packages (from transformers) (0.20.3)\n",
            "Requirement already satisfied: safetensors>=0.4.1 in /usr/local/lib/python3.10/dist-packages (from transformers) (0.4.5)\n",
            "Requirement already satisfied: tqdm>=4.27 in /usr/local/lib/python3.10/dist-packages (from transformers) (4.66.6)\n",
            "Requirement already satisfied: fsspec>=2023.5.0 in /usr/local/lib/python3.10/dist-packages (from huggingface-hub<1.0,>=0.23.2->transformers) (2024.9.0)\n",
            "Requirement already satisfied: typing-extensions>=3.7.4.3 in /usr/local/lib/python3.10/dist-packages (from huggingface-hub<1.0,>=0.23.2->transformers) (4.12.2)\n",
            "Requirement already satisfied: charset-normalizer<4,>=2 in /usr/local/lib/python3.10/dist-packages (from requests->transformers) (3.4.0)\n",
            "Requirement already satisfied: idna<4,>=2.5 in /usr/local/lib/python3.10/dist-packages (from requests->transformers) (3.10)\n",
            "Requirement already satisfied: urllib3<3,>=1.21.1 in /usr/local/lib/python3.10/dist-packages (from requests->transformers) (2.2.3)\n",
            "Requirement already satisfied: certifi>=2017.4.17 in /usr/local/lib/python3.10/dist-packages (from requests->transformers) (2024.8.30)\n",
            "Requirement already satisfied: sentence_transformers in /usr/local/lib/python3.10/dist-packages (3.2.1)\n",
            "Requirement already satisfied: transformers<5.0.0,>=4.41.0 in /usr/local/lib/python3.10/dist-packages (from sentence_transformers) (4.46.3)\n",
            "Requirement already satisfied: tqdm in /usr/local/lib/python3.10/dist-packages (from sentence_transformers) (4.66.6)\n",
            "Requirement already satisfied: torch>=1.11.0 in /usr/local/lib/python3.10/dist-packages (from sentence_transformers) (2.5.1+cu121)\n",
            "Requirement already satisfied: scikit-learn in /usr/local/lib/python3.10/dist-packages (from sentence_transformers) (1.5.2)\n",
            "Requirement already satisfied: scipy in /usr/local/lib/python3.10/dist-packages (from sentence_transformers) (1.13.1)\n",
            "Requirement already satisfied: huggingface-hub>=0.20.0 in /usr/local/lib/python3.10/dist-packages (from sentence_transformers) (0.26.3)\n",
            "Requirement already satisfied: Pillow in /usr/local/lib/python3.10/dist-packages (from sentence_transformers) (11.0.0)\n",
            "Requirement already satisfied: filelock in /usr/local/lib/python3.10/dist-packages (from huggingface-hub>=0.20.0->sentence_transformers) (3.16.1)\n",
            "Requirement already satisfied: fsspec>=2023.5.0 in /usr/local/lib/python3.10/dist-packages (from huggingface-hub>=0.20.0->sentence_transformers) (2024.9.0)\n",
            "Requirement already satisfied: packaging>=20.9 in /usr/local/lib/python3.10/dist-packages (from huggingface-hub>=0.20.0->sentence_transformers) (24.2)\n",
            "Requirement already satisfied: pyyaml>=5.1 in /usr/local/lib/python3.10/dist-packages (from huggingface-hub>=0.20.0->sentence_transformers) (6.0.2)\n",
            "Requirement already satisfied: requests in /usr/local/lib/python3.10/dist-packages (from huggingface-hub>=0.20.0->sentence_transformers) (2.32.3)\n",
            "Requirement already satisfied: typing-extensions>=3.7.4.3 in /usr/local/lib/python3.10/dist-packages (from huggingface-hub>=0.20.0->sentence_transformers) (4.12.2)\n",
            "Requirement already satisfied: networkx in /usr/local/lib/python3.10/dist-packages (from torch>=1.11.0->sentence_transformers) (3.4.2)\n",
            "Requirement already satisfied: jinja2 in /usr/local/lib/python3.10/dist-packages (from torch>=1.11.0->sentence_transformers) (3.1.4)\n",
            "Requirement already satisfied: sympy==1.13.1 in /usr/local/lib/python3.10/dist-packages (from torch>=1.11.0->sentence_transformers) (1.13.1)\n",
            "Requirement already satisfied: mpmath<1.4,>=1.1.0 in /usr/local/lib/python3.10/dist-packages (from sympy==1.13.1->torch>=1.11.0->sentence_transformers) (1.3.0)\n",
            "Requirement already satisfied: numpy>=1.17 in /usr/local/lib/python3.10/dist-packages (from transformers<5.0.0,>=4.41.0->sentence_transformers) (1.26.4)\n",
            "Requirement already satisfied: regex!=2019.12.17 in /usr/local/lib/python3.10/dist-packages (from transformers<5.0.0,>=4.41.0->sentence_transformers) (2024.9.11)\n",
            "Requirement already satisfied: tokenizers<0.21,>=0.20 in /usr/local/lib/python3.10/dist-packages (from transformers<5.0.0,>=4.41.0->sentence_transformers) (0.20.3)\n",
            "Requirement already satisfied: safetensors>=0.4.1 in /usr/local/lib/python3.10/dist-packages (from transformers<5.0.0,>=4.41.0->sentence_transformers) (0.4.5)\n",
            "Requirement already satisfied: joblib>=1.2.0 in /usr/local/lib/python3.10/dist-packages (from scikit-learn->sentence_transformers) (1.4.2)\n",
            "Requirement already satisfied: threadpoolctl>=3.1.0 in /usr/local/lib/python3.10/dist-packages (from scikit-learn->sentence_transformers) (3.5.0)\n",
            "Requirement already satisfied: MarkupSafe>=2.0 in /usr/local/lib/python3.10/dist-packages (from jinja2->torch>=1.11.0->sentence_transformers) (3.0.2)\n",
            "Requirement already satisfied: charset-normalizer<4,>=2 in /usr/local/lib/python3.10/dist-packages (from requests->huggingface-hub>=0.20.0->sentence_transformers) (3.4.0)\n",
            "Requirement already satisfied: idna<4,>=2.5 in /usr/local/lib/python3.10/dist-packages (from requests->huggingface-hub>=0.20.0->sentence_transformers) (3.10)\n",
            "Requirement already satisfied: urllib3<3,>=1.21.1 in /usr/local/lib/python3.10/dist-packages (from requests->huggingface-hub>=0.20.0->sentence_transformers) (2.2.3)\n",
            "Requirement already satisfied: certifi>=2017.4.17 in /usr/local/lib/python3.10/dist-packages (from requests->huggingface-hub>=0.20.0->sentence_transformers) (2024.8.30)\n",
            "Requirement already satisfied: tf_keras in /usr/local/lib/python3.10/dist-packages (2.17.0)\n",
            "Requirement already satisfied: tensorflow<2.18,>=2.17 in /usr/local/lib/python3.10/dist-packages (from tf_keras) (2.17.1)\n",
            "Requirement already satisfied: absl-py>=1.0.0 in /usr/local/lib/python3.10/dist-packages (from tensorflow<2.18,>=2.17->tf_keras) (1.4.0)\n",
            "Requirement already satisfied: astunparse>=1.6.0 in /usr/local/lib/python3.10/dist-packages (from tensorflow<2.18,>=2.17->tf_keras) (1.6.3)\n",
            "Requirement already satisfied: flatbuffers>=24.3.25 in /usr/local/lib/python3.10/dist-packages (from tensorflow<2.18,>=2.17->tf_keras) (24.3.25)\n",
            "Requirement already satisfied: gast!=0.5.0,!=0.5.1,!=0.5.2,>=0.2.1 in /usr/local/lib/python3.10/dist-packages (from tensorflow<2.18,>=2.17->tf_keras) (0.6.0)\n",
            "Requirement already satisfied: google-pasta>=0.1.1 in /usr/local/lib/python3.10/dist-packages (from tensorflow<2.18,>=2.17->tf_keras) (0.2.0)\n",
            "Requirement already satisfied: h5py>=3.10.0 in /usr/local/lib/python3.10/dist-packages (from tensorflow<2.18,>=2.17->tf_keras) (3.12.1)\n",
            "Requirement already satisfied: libclang>=13.0.0 in /usr/local/lib/python3.10/dist-packages (from tensorflow<2.18,>=2.17->tf_keras) (18.1.1)\n",
            "Requirement already satisfied: ml-dtypes<0.5.0,>=0.3.1 in /usr/local/lib/python3.10/dist-packages (from tensorflow<2.18,>=2.17->tf_keras) (0.4.1)\n",
            "Requirement already satisfied: opt-einsum>=2.3.2 in /usr/local/lib/python3.10/dist-packages (from tensorflow<2.18,>=2.17->tf_keras) (3.4.0)\n",
            "Requirement already satisfied: packaging in /usr/local/lib/python3.10/dist-packages (from tensorflow<2.18,>=2.17->tf_keras) (24.2)\n",
            "Requirement already satisfied: protobuf!=4.21.0,!=4.21.1,!=4.21.2,!=4.21.3,!=4.21.4,!=4.21.5,<5.0.0dev,>=3.20.3 in /usr/local/lib/python3.10/dist-packages (from tensorflow<2.18,>=2.17->tf_keras) (4.25.5)\n",
            "Requirement already satisfied: requests<3,>=2.21.0 in /usr/local/lib/python3.10/dist-packages (from tensorflow<2.18,>=2.17->tf_keras) (2.32.3)\n",
            "Requirement already satisfied: setuptools in /usr/local/lib/python3.10/dist-packages (from tensorflow<2.18,>=2.17->tf_keras) (75.1.0)\n",
            "Requirement already satisfied: six>=1.12.0 in /usr/local/lib/python3.10/dist-packages (from tensorflow<2.18,>=2.17->tf_keras) (1.16.0)\n",
            "Requirement already satisfied: termcolor>=1.1.0 in /usr/local/lib/python3.10/dist-packages (from tensorflow<2.18,>=2.17->tf_keras) (2.5.0)\n",
            "Requirement already satisfied: typing-extensions>=3.6.6 in /usr/local/lib/python3.10/dist-packages (from tensorflow<2.18,>=2.17->tf_keras) (4.12.2)\n",
            "Requirement already satisfied: wrapt>=1.11.0 in /usr/local/lib/python3.10/dist-packages (from tensorflow<2.18,>=2.17->tf_keras) (1.17.0)\n",
            "Requirement already satisfied: grpcio<2.0,>=1.24.3 in /usr/local/lib/python3.10/dist-packages (from tensorflow<2.18,>=2.17->tf_keras) (1.68.1)\n",
            "Requirement already satisfied: tensorboard<2.18,>=2.17 in /usr/local/lib/python3.10/dist-packages (from tensorflow<2.18,>=2.17->tf_keras) (2.17.1)\n",
            "Requirement already satisfied: keras>=3.2.0 in /usr/local/lib/python3.10/dist-packages (from tensorflow<2.18,>=2.17->tf_keras) (3.5.0)\n",
            "Requirement already satisfied: tensorflow-io-gcs-filesystem>=0.23.1 in /usr/local/lib/python3.10/dist-packages (from tensorflow<2.18,>=2.17->tf_keras) (0.37.1)\n",
            "Requirement already satisfied: numpy<2.0.0,>=1.23.5 in /usr/local/lib/python3.10/dist-packages (from tensorflow<2.18,>=2.17->tf_keras) (1.26.4)\n",
            "Requirement already satisfied: wheel<1.0,>=0.23.0 in /usr/local/lib/python3.10/dist-packages (from astunparse>=1.6.0->tensorflow<2.18,>=2.17->tf_keras) (0.45.1)\n",
            "Requirement already satisfied: rich in /usr/local/lib/python3.10/dist-packages (from keras>=3.2.0->tensorflow<2.18,>=2.17->tf_keras) (13.9.4)\n",
            "Requirement already satisfied: namex in /usr/local/lib/python3.10/dist-packages (from keras>=3.2.0->tensorflow<2.18,>=2.17->tf_keras) (0.0.8)\n",
            "Requirement already satisfied: optree in /usr/local/lib/python3.10/dist-packages (from keras>=3.2.0->tensorflow<2.18,>=2.17->tf_keras) (0.13.1)\n",
            "Requirement already satisfied: charset-normalizer<4,>=2 in /usr/local/lib/python3.10/dist-packages (from requests<3,>=2.21.0->tensorflow<2.18,>=2.17->tf_keras) (3.4.0)\n",
            "Requirement already satisfied: idna<4,>=2.5 in /usr/local/lib/python3.10/dist-packages (from requests<3,>=2.21.0->tensorflow<2.18,>=2.17->tf_keras) (3.10)\n",
            "Requirement already satisfied: urllib3<3,>=1.21.1 in /usr/local/lib/python3.10/dist-packages (from requests<3,>=2.21.0->tensorflow<2.18,>=2.17->tf_keras) (2.2.3)\n",
            "Requirement already satisfied: certifi>=2017.4.17 in /usr/local/lib/python3.10/dist-packages (from requests<3,>=2.21.0->tensorflow<2.18,>=2.17->tf_keras) (2024.8.30)\n",
            "Requirement already satisfied: markdown>=2.6.8 in /usr/local/lib/python3.10/dist-packages (from tensorboard<2.18,>=2.17->tensorflow<2.18,>=2.17->tf_keras) (3.7)\n",
            "Requirement already satisfied: tensorboard-data-server<0.8.0,>=0.7.0 in /usr/local/lib/python3.10/dist-packages (from tensorboard<2.18,>=2.17->tensorflow<2.18,>=2.17->tf_keras) (0.7.2)\n",
            "Requirement already satisfied: werkzeug>=1.0.1 in /usr/local/lib/python3.10/dist-packages (from tensorboard<2.18,>=2.17->tensorflow<2.18,>=2.17->tf_keras) (3.1.3)\n",
            "Requirement already satisfied: MarkupSafe>=2.1.1 in /usr/local/lib/python3.10/dist-packages (from werkzeug>=1.0.1->tensorboard<2.18,>=2.17->tensorflow<2.18,>=2.17->tf_keras) (3.0.2)\n",
            "Requirement already satisfied: markdown-it-py>=2.2.0 in /usr/local/lib/python3.10/dist-packages (from rich->keras>=3.2.0->tensorflow<2.18,>=2.17->tf_keras) (3.0.0)\n",
            "Requirement already satisfied: pygments<3.0.0,>=2.13.0 in /usr/local/lib/python3.10/dist-packages (from rich->keras>=3.2.0->tensorflow<2.18,>=2.17->tf_keras) (2.18.0)\n",
            "Requirement already satisfied: mdurl~=0.1 in /usr/local/lib/python3.10/dist-packages (from markdown-it-py>=2.2.0->rich->keras>=3.2.0->tensorflow<2.18,>=2.17->tf_keras) (0.1.2)\n",
            "Requirement already satisfied: datasets in /usr/local/lib/python3.10/dist-packages (3.1.0)\n",
            "Requirement already satisfied: filelock in /usr/local/lib/python3.10/dist-packages (from datasets) (3.16.1)\n",
            "Requirement already satisfied: numpy>=1.17 in /usr/local/lib/python3.10/dist-packages (from datasets) (1.26.4)\n",
            "Requirement already satisfied: pyarrow>=15.0.0 in /usr/local/lib/python3.10/dist-packages (from datasets) (17.0.0)\n",
            "Requirement already satisfied: dill<0.3.9,>=0.3.0 in /usr/local/lib/python3.10/dist-packages (from datasets) (0.3.8)\n",
            "Requirement already satisfied: pandas in /usr/local/lib/python3.10/dist-packages (from datasets) (2.2.2)\n",
            "Requirement already satisfied: requests>=2.32.2 in /usr/local/lib/python3.10/dist-packages (from datasets) (2.32.3)\n",
            "Requirement already satisfied: tqdm>=4.66.3 in /usr/local/lib/python3.10/dist-packages (from datasets) (4.66.6)\n",
            "Requirement already satisfied: xxhash in /usr/local/lib/python3.10/dist-packages (from datasets) (3.5.0)\n",
            "Requirement already satisfied: multiprocess<0.70.17 in /usr/local/lib/python3.10/dist-packages (from datasets) (0.70.16)\n",
            "Requirement already satisfied: fsspec<=2024.9.0,>=2023.1.0 in /usr/local/lib/python3.10/dist-packages (from fsspec[http]<=2024.9.0,>=2023.1.0->datasets) (2024.9.0)\n",
            "Requirement already satisfied: aiohttp in /usr/local/lib/python3.10/dist-packages (from datasets) (3.11.9)\n",
            "Requirement already satisfied: huggingface-hub>=0.23.0 in /usr/local/lib/python3.10/dist-packages (from datasets) (0.26.3)\n",
            "Requirement already satisfied: packaging in /usr/local/lib/python3.10/dist-packages (from datasets) (24.2)\n",
            "Requirement already satisfied: pyyaml>=5.1 in /usr/local/lib/python3.10/dist-packages (from datasets) (6.0.2)\n",
            "Requirement already satisfied: aiohappyeyeballs>=2.3.0 in /usr/local/lib/python3.10/dist-packages (from aiohttp->datasets) (2.4.4)\n",
            "Requirement already satisfied: aiosignal>=1.1.2 in /usr/local/lib/python3.10/dist-packages (from aiohttp->datasets) (1.3.1)\n",
            "Requirement already satisfied: async-timeout<6.0,>=4.0 in /usr/local/lib/python3.10/dist-packages (from aiohttp->datasets) (4.0.3)\n",
            "Requirement already satisfied: attrs>=17.3.0 in /usr/local/lib/python3.10/dist-packages (from aiohttp->datasets) (24.2.0)\n",
            "Requirement already satisfied: frozenlist>=1.1.1 in /usr/local/lib/python3.10/dist-packages (from aiohttp->datasets) (1.5.0)\n",
            "Requirement already satisfied: multidict<7.0,>=4.5 in /usr/local/lib/python3.10/dist-packages (from aiohttp->datasets) (6.1.0)\n",
            "Requirement already satisfied: propcache>=0.2.0 in /usr/local/lib/python3.10/dist-packages (from aiohttp->datasets) (0.2.1)\n",
            "Requirement already satisfied: yarl<2.0,>=1.17.0 in /usr/local/lib/python3.10/dist-packages (from aiohttp->datasets) (1.18.3)\n",
            "Requirement already satisfied: typing-extensions>=3.7.4.3 in /usr/local/lib/python3.10/dist-packages (from huggingface-hub>=0.23.0->datasets) (4.12.2)\n",
            "Requirement already satisfied: charset-normalizer<4,>=2 in /usr/local/lib/python3.10/dist-packages (from requests>=2.32.2->datasets) (3.4.0)\n",
            "Requirement already satisfied: idna<4,>=2.5 in /usr/local/lib/python3.10/dist-packages (from requests>=2.32.2->datasets) (3.10)\n",
            "Requirement already satisfied: urllib3<3,>=1.21.1 in /usr/local/lib/python3.10/dist-packages (from requests>=2.32.2->datasets) (2.2.3)\n",
            "Requirement already satisfied: certifi>=2017.4.17 in /usr/local/lib/python3.10/dist-packages (from requests>=2.32.2->datasets) (2024.8.30)\n",
            "Requirement already satisfied: python-dateutil>=2.8.2 in /usr/local/lib/python3.10/dist-packages (from pandas->datasets) (2.8.2)\n",
            "Requirement already satisfied: pytz>=2020.1 in /usr/local/lib/python3.10/dist-packages (from pandas->datasets) (2024.2)\n",
            "Requirement already satisfied: tzdata>=2022.7 in /usr/local/lib/python3.10/dist-packages (from pandas->datasets) (2024.2)\n",
            "Requirement already satisfied: six>=1.5 in /usr/local/lib/python3.10/dist-packages (from python-dateutil>=2.8.2->pandas->datasets) (1.16.0)\n"
          ]
        }
      ],
      "source": [
        "!pip install keras\n",
        "!pip install transformers\n",
        "!pip install sentence_transformers\n",
        "!pip install tf_keras\n",
        "!pip install datasets\n"
      ]
    },
    {
      "cell_type": "markdown",
      "metadata": {
        "id": "tiLEf2CXS8B8"
      },
      "source": [
        "## Model"
      ]
    },
    {
      "cell_type": "code",
      "execution_count": null,
      "metadata": {
        "colab": {
          "base_uri": "https://localhost:8080/"
        },
        "id": "dFflW6R6Qjfl",
        "outputId": "53ba20a8-2b8a-4495-c4ad-219626992a3b"
      },
      "outputs": [
        {
          "name": "stdout",
          "output_type": "stream",
          "text": [
            "Flattening passages...\n"
          ]
        },
        {
          "name": "stderr",
          "output_type": "stream",
          "text": [
            "Processing passages: 100%|██████████| 9650/9650 [00:00<00:00, 191492.64it/s]\n"
          ]
        }
      ],
      "source": [
        "from sentence_transformers import SentenceTransformer, util\n",
        "import pandas as pd\n",
        "from tqdm import tqdm\n",
        "from datasets import load_dataset\n",
        "\n",
        "# Load a general-purpose pre-trained model\n",
        "model = SentenceTransformer('sentence-transformers/all-mpnet-base-v2')\n",
        "# ds = load_dataset(\"microsoft/ms_marco\", \"v1.1\")\n",
        "# df = pd.DataFrame(ds['test'])\n",
        "\n",
        "print(\"Flattening passages...\")\n",
        "passage_texts = [\n",
        "    \" \".join(passage['passage_text']) if isinstance(passage['passage_text'], list) else passage['passage_text']\n",
        "    for passage in tqdm(df['passages'], desc=\"Processing passages\")\n",
        "] "
      ]
    },
    {
      "cell_type": "code",
      "execution_count": null,
      "metadata": {
        "colab": {
          "base_uri": "https://localhost:8080/",
          "height": 67,
          "referenced_widgets": [
            "c57e06bdd990433c9efb405efc998ea3",
            "4d8ed14a77c24ecf93a436eb4befe8d0",
            "3e6f2e1cfdeb4e259999137a5eede1e7",
            "fc66fb76b1de4d90b47c09c6bfd80030",
            "167a6b90670a49ada36ec3af1b0d427e",
            "9bded76afdff45bb91ec4b0d78658f92",
            "ce655887e4bb42ab9c527c66f478cf93",
            "74918ac2858a41dab80b3becd9777a06",
            "2d3f87a355f54e4f8ac4a65ed97750b0",
            "418810c0cb464419ad6749fe743338b2",
            "58134cbf911d48ca85144fa641c1679e"
          ]
        },
        "id": "i0_JMTiDCe5H",
        "outputId": "f6aa8af8-1077-441a-8d0d-860a84954baa"
      },
      "outputs": [
        {
          "name": "stdout",
          "output_type": "stream",
          "text": [
            "Generating embeddings for passages...\n"
          ]
        },
        {
          "data": {
            "application/vnd.jupyter.widget-view+json": {
              "model_id": "c57e06bdd990433c9efb405efc998ea3",
              "version_major": 2,
              "version_minor": 0
            },
            "text/plain": [
              "Batches:   0%|          | 0/76 [00:00<?, ?it/s]"
            ]
          },
          "metadata": {},
          "output_type": "display_data"
        }
      ],
      "source": [
        "print(\"Generating embeddings for passages...\")\n",
        "passage_embeddings = model.encode(passage_texts, batch_size=128, show_progress_bar=True)\n",
        "\n"
      ]
    },
    {
      "cell_type": "code",
      "execution_count": null,
      "metadata": {
        "colab": {
          "base_uri": "https://localhost:8080/"
        },
        "id": "lgOH2Ca3CtTu",
        "outputId": "f55e6f57-5f28-402d-d3d3-53202d14b3b8"
      },
      "outputs": [
        {
          "name": "stdout",
          "output_type": "stream",
          "text": [
            "\n",
            "Top 5 passages:\n",
            "Passage: Apothem. The apothem of a regular polygon is a segment drawn the center of the polygon (that is, the center of the circle which circumscribes the polygon) to one side, such that it is perpendicular to the side. If a regular polygon has an area of A square units, a perimeter of P units, an apothem of a units, then the area is one-half the product of the perimeter and the apothem. Be careful with this formula, though: for a given apothem, there is only ONE POSSIBLE value of P. Apothems. The apothem of a regular polygon is the distance from the center to the midpoint of one of its sides. The apothem of a square is equal to half of the length of one side.  Apothem of a Regular Polygon. Definition: A line segment from the center of a regular polygon to the midpoint of a side. Try this Adjust the polygon below by dragging any orange dot, or alter the number of sides. Note the behavior of the apothem line shown in blue. The word apothem can refer to the line itself, or the length of that line. So you can correctly say 'draw the apothem' and 'the apothem is 4cm'. Each formula below shows how to find the length of the apothem of a regular polygon. Use the formula that uses the facts you are given to start. more ... The distance from the center of a regular polygon to the midpoint of a side. (For a circle it is the distance from the center to the midpoint of a chord.). Regular Polygons-Properties. The apothem is also the radius of the incircle of the polygon. For a polygon of n sides, there are n possible apothems, all the same length of course. The word apothem can refer to the line itself, or the length of that line. So you can correctly say 'draw the apothem' and 'the apothem is 4cm'. Each formula below shows how to find the length of the apothem of a regular polygon. Use the formula that uses the facts you are given to start. Apothem of a hexagon. The apothem of a regular polygon is a line segment from the center to the midpoint of one of its sides. Equivalently, it is the line drawn from the center of the polygon that is perpendicular to one of its sides. The word apothem can also refer to the length of that line segment. Because of this, all the apothems in a polygon will be congruent. For a regular pyramid, which is a pyramid whose base is a regular polygon, the apothem is the slant height of a lateral face; that is, the shortest distance from apex to base on a given face. For an equilateral triangle, the apothem is equivalent to the line segment from the midpoint of a side to any of the triangle's centers, since an equilateral triangle's centers coincide as a consequence of the definition. Because of this, all the apothems in a polygon will be congruent. For a regular pyramid, which is a pyramid whose base is a regular polygon, the apothem is the slant height of a lateral face; that is, the shortest distance from apex to base on a given face. Given a circle, the apothem is the perpendicular distance from the midpoint of a chord to the circle 's center. It is also equal to the radius minus the sagitta, For a regular polygon, the apothem simply is the distance from the center to a side, i.e., the inradius of the polygon. SEE ALSO: Chord, Circular Sector, Circular Segment, Inradius, Radius, Regular Polygon, Sagitta CITE THIS AS: Weisstein, Eric W. Apothem.. From MathWorld --A Wolfram Web Resource. Apothem is a line segment from the center of a regular polygon to the midpoint of a side. Its also defined as radius of the incircle of the polygon. For a regular polygon of n sides, there are n possible apothems of same length. If we assume a right angled triangle where the apothem is the adjacent side, half the side of the polygon to be the opposite side and line joining the centre of the polygon and vertex of the polygon to be the hypotenuse. Lets assume the angle formed by adjacent side and hypotenuse to be $\\theta$.\n",
            "Score: 0.6057782173156738\n",
            "\n",
            "Passage: Save. An anemometer is a device used to measure the speed of the wind. As with many scientific inventions, it's hard to pinpoint the first person to invent an anemometer. Sometimes the first inventor doesn't produce the best instrument, and improvements made by later scientists significantly enhance accuracy and ease of use. Cup Anemometer. A more advanced anemometer design using four cups attached by spokes to a central rod was invented by John Thomas Romney Robinson in 1846. Robinson was the director of the Armagh Observatory in Ireland. With his design, cups caught the wind and spun around faster the stronger the wind velocity. Making the world better, one answer at a time. The anemometer has no precisely known inventor. The first recorded description of an anemometer was by Leon Battista Alberti in 1450. The cup anemometer was invented in 1846 by Dr. John Thomas Ronrey Robinson. An anemometer is a device used to measure wind speed. It is used by  atmospheric scientists or those gathering weather data.   Anemometer-An anemometer is a device for me … asuring wind  speed, and is one instrument used in a weather station. The term is  derived from the Greek word, anemos, meaning wind. Mechanical Anemometer. Credited with devising the first mechanical anemometer is Italian art architect and mathematician Leon Batista Alberti, in 1450. In his device, the wind pushed against a disk, and an accompanying scale gave a relative strength of the wind as shown by the angle of inclination of the disk. Cup Anemometer. A more advanced anemometer design using four cups attached by spokes to a central rod was invented by John Thomas Romney Robinson in 1846. Robinson was the director of the Armagh Observatory in Ireland. With his design, cups caught the wind and spun around faster the stronger the wind velocity. An anemometer is a device for measuring wind speed, and is a common weather station instrument. The term is derived from the Greek word anemos, meaning wind. The first known description of an anemometer was given by Leon Battista Alberti around 1450. 1 Cup anemometers: Simple type of anemometer is the cup anemometer, invented (1846) by Dr. John Thomas Romney Robinson, of Armagh Observatory. 2  It consisted of four hemispherical cups. By Arthur K Burditt on March 20, 2013. Wind speed is measured by a device called an anemometer, which comes from the Greek word for wind “anemos”. Italian art architect, mathematician and renaissance man Leon Battista Alberti invented the first mechanical anemometer in 1450. His instrument consisted of a disk placed perpendicular to the wind. Englishman Robert Hooke re-invented the anemometer in 1664 and often is mistakenly credited as its first inventor. In 1846, Irish researcher John Thomas Romney Robinson invented the hemispherical cup anemometer which is still used today. Geologist Dr. Andreas Pflitsch invented a sonic anemometer in 1994. In 1450, the Italian art architect Leon Battista Alberti invented the first mechanical anemometer; in 1664 it was re-invented by Robert Hooke (who is often mistakenly considered the inventor of the first anemometer). An anemometer is a device used for measuring wind speed, and is a common weather station instrument. The term is derived from the Greek word anemos ,which means wind, and is used to describe any wind speed measurement instrument used in meteorology. The first known description of an anemometer given by Leon Battista Alberti in 1450 In 1450, the Italian art architect Leon Battista Alberti invented the first mechanical anemometer; in 1664 it wasre-invented by Robert Hooke (who is often mistakenly considered the inventor of the first anemometer). An anemometer is a device for measuring wind speed, and is acommon weather station instrument. The term is derived from theGreek word anemos, meaning wind. The first known description of ananemometer was given by Leon Battista Alberti around 1450. The first mechanical anemometer to measure the speed of wind was invented by an Italian art architect, Leon Battista Alberti in the year 1450. In the year 1846, Dr. John Thomas Romney Robinson invented a simple hemispherical cup anemometer. In the year 1991, Australian Derek Weston modified the anemometer to measure both wind speed and the direction of wind.\n",
            "Score: 0.3043934106826782\n",
            "\n",
            "Passage: Axillary nerve. The axillary nerve or the circumflex nerve is a nerve of the human body, that originates from the brachial plexus (upper trunk, posterior division, posterior cord) at the level of the axilla (armpit) and carries nerve fibers from C5 and C6.  Medical Definition of AXILLA. : the cavity beneath the junction of the arm or anterior appendage and shoulder or pectoral girdle containing the axillary artery and vein, a part of the brachial plexus of nerves, many lymph nodes, and fat and areolar tissue; especially: armpit. : the cavity beneath the junction of a forelimb and the body; especially: armpit. See axilla defined for kids. The axilla is a pyramidal space, situated between the upper lateral part of the chest and the medial side of the arm.  The axilla (or underarm, or oxter) is the area on the human body directly under the joint where the arm connects to the shoulder. It also provides the under-arm sweat gland.  © 2014 WebMD, LLC. All rights reserved. The arrangement of the chest wall, shoulder bones and muscles, and the upper arm create a small hollow called the armpit. The armpit is the underside of the shoulder joint, and is among the warmest areas of the body. The armpit is also called the axilla. Blood and lymph vessels serving the arm travel through the armpit Fig 1.0 – Anterior view of the right axilla region. Note the pyramidal shape, with 6 borders (or sides). The axilla is the name given to an area that lies underneath the glenohumeral joint, at the junction of the upper limb and the thorax. This region is a passage by which structures such as vessels and nerves can enter and leave the upper limb.  Located in the axilla region are lymph nodes, which are important for drainage of lymph from the upper parts of the body including the neck, shoulder, and upper arms or extremities. These lymph nodes are parts of the body’s system to provide immunity from diseases. Another important structure that passes through the axilla is the brachial plexus. This brachial plexus is like a nerve pathway which supplies sensory signals to most parts of the upper arm. If this part is damaged, then one can expect a decrease or absence of normal sensation in the upper arm region. The axilla is the junction between the inner part of the upper arm and the shoulder. This part is commonly known as the armpit in which many anatomical structures pass through for support of the upper extremities. The axilla is pyramidal in shape. It has an apex which is directed towards the neck area. Another important structure that passes through the axilla is the brachial plexus. This brachial plexus is like a nerve pathway which supplies sensory signals to most parts of the upper arm. If this part is damaged, then one can expect a decrease or absence of normal sensation in the upper arm region.\n",
            "Score: 0.30171701312065125\n",
            "\n",
            "Passage: Etymology: L, alveolus, little hollow. 1 a small outpouching along the walls of the alveolar sacs through which gas exchange between alveolar air and pulmonary capillary blood takes place. Also called acinus, pulmonary alveolus. 2 a tooth socket. See also dental alveolus. alveolar, adj. A hollow cavity that is an outpouching of the respiratory bronchioles and the alveolar ducts; there are an estimated 150 million alveoli, which are the primary site of gas exchange between the blood and environment, covering a surface area of 75m2.  Deep within the lungs exists its constituent alveoli sacs, the sites responsible for the uptake of oxygen and excretion of carbon dioxide. There are three major alveolar cell types in the alveolar wall (pneumocytes): 1 Type I pneumocyte (Squamous Alveolar) cells that form the structure of an alveolar wall. 2  Type II pneumocyte (Great Alveolar) cells that secrete pulmonary surfactant to lower the surface tension of water and allows the membrane to separate, thereby increasing the capability to exchange gases. The alveolar epithelium comprises two main cell types: the alveolar type I and alveolar type II cell. The type I cell is a complex branched cell with multiple cytoplasmic plates that are greatly attenuated and relatively devoid of organelles; these plates represent the gas exchange surface in the alveolus. On the other hand, the type II cell acts as the caretaker of the alveolar compartment Respiratory System. The oxygen exchange in the lungs takes place across the membranes of small balloon-like structures called alveoli attached to the branches of the bronchial passages. These alveoli inflate and deflate with inhalation and exhalation. The behavior of the alveoli is largely dictated by LaPlace's law and surface tension. It takes some effort to breathe in because these tiny balloons must be inflated, but the elastic recoil of the tiny balloons assists us in the process of exhalation. This fluid, called a surfactant, lowers the surface tension of the balloon-like alveoli by about a factor of 15 compared to the normal mucous tissue fluid in which they are immersed. 76. alveolar sac. A cluster of alveoli located at the end of each alveolar duct in the lungs; each of the alveoli is a tiny, thin-walled, capillary-rich sac, lined by a simple squamous epithelium, where the exchange (diffusion) of oxygen and carbon dioxide (and other less important gases) takes place. The squamous epithelial cell forming the alveolar wall and through whose cell membranes and cytoplasm the exchange of oxygen and carbon dioxide (and other less important gases) takes place; collectively they cover 95% of the alveolar surface area. • External respiration occurs within the lungs, as carbon dioxide diffuses from the pulmonary. capillaries into the alveoli, and oxygen diffuses from the alveoli into the pulmonary. capillaries. • Oxygen-rich blood leaves the lungs and is transported through the pulmonary veins to the. left side of the heart. • Oxygen diffuses from the systemic capillaries into the cells. • Carbon dioxide diffuses from the cells into the systemic capillaries. • Factors affecting the exchange of oxygen and carbon dioxide during internal respiration: 1. The available surface area, which varies in different tissues throughout the body. 2 Introduction• Oxygen and carbon dioxide diffuse between the alveoli and pulmonary capillaries in the lungs, andbetween the systemic capillaries and cells throughout the body.• The diffusion of these gases, moving in opposite directions, is called gas exchange.Page 2. • Oxygen diffuses from the systemic capillaries into the cells. • Carbon dioxide diffuses from the cells into the systemic capillaries. • Factors affecting the exchange of oxygen and carbon dioxide during internal respiration: 1. The available surface area, which varies in different tissues throughout the body. An alveolar macrophage (or dust cell) is a type of macrophage found in the pulmonary alveolus, near the pneumocytes, but separated from the wall. Activity of the alveolar macrophage is relatively high, because they are located at one of the major boundaries between the body and the outside world. 1 Type I pneumocyte (Squamous Alveolar) cells that form the structure of an alveolar wall. 2  Type II pneumocyte (Great Alveolar) cells that secrete pulmonary surfactant to lower the surface tension of water and allows the membrane to separate, thereby increasing the capability to exchange gases. 1 Type II pneumocyte (Great Alveolar) cells that secrete pulmonary surfactant to lower the surface tension of water and allows the membrane to separate, thereby increasing the capability to exchange gases. 1 Type I pneumocyte (Squamous Alveolar) cells that form the structure of an alveolar wall. 2 \n",
            "Score: 0.29303601384162903\n",
            "\n",
            "Passage: One or more lymph nodes in one or both axilla (armpit) may become swollen commonly due to 1  : Injury to the armpit, arm or hand. 2  Localized infection in the armpit or of the arm, hand or breast, which drains into the axillary lymph nodes. Normally the lymph nodes are not palpable but may enlarge as a result of some disorder or disease. The lymph nodes of the axilla (armpit), inguinal region (groin), and neck tend to enlarge more frequently than other areas. Lymph nodes are small clumps of immune cells that act as filters for the lymphatic system. The lymphatic system runs throughout the body (like the circulatory (blood) system) and carries fluid and cells. The lymph nodes in the underarm (the axillary lymph nodes) are the first place breast cancer is likely to spread. Figure 4.4 shows the location of the axillary lymph nodes. Prognosis is poorer when cancer has spread to the lymph nodes (lymph node-positive). The more lymph nodes that contain cancer, the poorer prognosis tends to be [ 6 ]. For a summary of research studies on lymph node status and breast cancer survival, visit the Breast Cancer Research section. They carry lymph fluid, cells and other material. Lymph nodes are small clumps of immune cells that act as filters for the lymphatic system. They also store white blood cells that help fight illness. Lymph nodes in the underarm are called the axillary [AK-sil-air-e] nodes. It is important to know if these nodes have cancer. This helps determine breast cancer stage.  These lymph nodes are clinically significant in breast cancer, and metastases from the breast to the axillary lymph nodes are considered in the staging of the disease. About 75% of lymph from the breasts drains into the axillary lymph nodes, making them important in the diagnosis of breast cancer. A doctor will usually refer a patient to a surgeon to have an axillary lymph node dissection to see if the cancer cells have been trapped in the nodes. 1 Glands in the armpit (axillary lymph nodes) may swell from an injury or infection to the arm or hand. 2  A rare cause of axillary swelling may be breast cancer or lymphoma. 3  The lymph nodes in the groin (femoral or inguinal lymph nodes) may swell from an injury or infection in the foot, leg, groin, or genitals. Lymph nodes are small, bean-shaped glands throughout the body. They are part of the lymph system, which carries fluid (lymph fluid), nutrients, and waste material between the body tissues and the bloodstream. The lymph system is an important part of the immune system, the body's defense system against disease. Click to read more below. The axillary nodes are a group of lymph nodes located in the axillary (or armpit) region of the body. They perform the vital function of filtration and conduction of lymph from the upper limbs, pectoral region, and upper back. The axillary lymph nodes are a group of twenty to thirty large lymph nodes located in the deep tissues in and around the armpit. These nodes are arranged into five distinct groups: pectoral (anterior), lateral, subscapular (posterior), central (intermediate), and subclavicular (medial).... The axillary (arm pit) lymph nodes filter and/or trap lymph from the arm, chest wall and breast. It is often difficult to feel normal axillary lymph nodes. Not all enlarged axillary lymph nodes feel the same. It is also important to mention that enlarged axillary lymph nodes are not necessarily a sign of cancer.  Save as Favorite. There are three levels of axillary lymph nodes (the nodes in the underarm or axilla area): 1  Level I is the bottom level, below the lower edge of the pectoralis minor muscle. 2  Level II is lying underneath the pectoralis minor muscle. 3  Level III is above the pectoralis minor muscle. \n",
            "Score: 0.2915903329849243\n",
            "\n"
          ]
        }
      ],
      "source": [
        "# Example query\n",
        "query = \"what is a apothem\"\n",
        "\n",
        "# Generate embedding for query\n",
        "query_embedding = model.encode(query)\n",
        "\n",
        "similarity_scores = util.cos_sim(query_embedding, passage_embeddings).flatten()\n",
        "top_k = 5\n",
        "ranked_indices = similarity_scores.argsort(descending=True)[:top_k]\n",
        "\n",
        "print(f\"\\nTop {top_k} passages:\")\n",
        "for idx in ranked_indices:\n",
        "    passage = passage_texts[idx]\n",
        "    score = similarity_scores[idx].item()\n",
        "    print(f\"Passage: {passage}\\nScore: {score}\\n\")"
      ]
    },
    {
      "cell_type": "code",
      "execution_count": null,
      "metadata": {
        "id": "QkoDVuetRzsV"
      },
      "outputs": [],
      "source": [
        "def preprocess_query(query):\n",
        "    return query.lower()"
      ]
    },
    {
      "cell_type": "code",
      "execution_count": null,
      "metadata": {
        "colab": {
          "base_uri": "https://localhost:8080/"
        },
        "id": "we6_9mu3CvFZ",
        "outputId": "8973f8c3-db09-43c3-b3f8-31facc82169f"
      },
      "outputs": [
        {
          "name": "stdout",
          "output_type": "stream",
          "text": [
            "Top 5 passages with relevance scores:\n",
            "Passage: Apothem. The apothem of a regular polygon is a segment drawn the center of the polygon (that is, the center of the circle which circumscribes the polygon) to one side, such that it is perpendicular to the side. If a regular polygon has an area of A square units, a perimeter of P units, an apothem of a units, then the area is one-half the product of the perimeter and the apothem. Be careful with this formula, though: for a given apothem, there is only ONE POSSIBLE value of P. Apothems. The apothem of a regular polygon is the distance from the center to the midpoint of one of its sides. The apothem of a square is equal to half of the length of one side.  Apothem of a Regular Polygon. Definition: A line segment from the center of a regular polygon to the midpoint of a side. Try this Adjust the polygon below by dragging any orange dot, or alter the number of sides. Note the behavior of the apothem line shown in blue. The word apothem can refer to the line itself, or the length of that line. So you can correctly say 'draw the apothem' and 'the apothem is 4cm'. Each formula below shows how to find the length of the apothem of a regular polygon. Use the formula that uses the facts you are given to start. more ... The distance from the center of a regular polygon to the midpoint of a side. (For a circle it is the distance from the center to the midpoint of a chord.). Regular Polygons-Properties. The apothem is also the radius of the incircle of the polygon. For a polygon of n sides, there are n possible apothems, all the same length of course. The word apothem can refer to the line itself, or the length of that line. So you can correctly say 'draw the apothem' and 'the apothem is 4cm'. Each formula below shows how to find the length of the apothem of a regular polygon. Use the formula that uses the facts you are given to start. Apothem of a hexagon. The apothem of a regular polygon is a line segment from the center to the midpoint of one of its sides. Equivalently, it is the line drawn from the center of the polygon that is perpendicular to one of its sides. The word apothem can also refer to the length of that line segment. Because of this, all the apothems in a polygon will be congruent. For a regular pyramid, which is a pyramid whose base is a regular polygon, the apothem is the slant height of a lateral face; that is, the shortest distance from apex to base on a given face. For an equilateral triangle, the apothem is equivalent to the line segment from the midpoint of a side to any of the triangle's centers, since an equilateral triangle's centers coincide as a consequence of the definition. Because of this, all the apothems in a polygon will be congruent. For a regular pyramid, which is a pyramid whose base is a regular polygon, the apothem is the slant height of a lateral face; that is, the shortest distance from apex to base on a given face. Given a circle, the apothem is the perpendicular distance from the midpoint of a chord to the circle 's center. It is also equal to the radius minus the sagitta, For a regular polygon, the apothem simply is the distance from the center to a side, i.e., the inradius of the polygon. SEE ALSO: Chord, Circular Sector, Circular Segment, Inradius, Radius, Regular Polygon, Sagitta CITE THIS AS: Weisstein, Eric W. Apothem.. From MathWorld --A Wolfram Web Resource. Apothem is a line segment from the center of a regular polygon to the midpoint of a side. Its also defined as radius of the incircle of the polygon. For a regular polygon of n sides, there are n possible apothems of same length. If we assume a right angled triangle where the apothem is the adjacent side, half the side of the polygon to be the opposite side and line joining the centre of the polygon and vertex of the polygon to be the hypotenuse. Lets assume the angle formed by adjacent side and hypotenuse to be $\\theta$.\n",
            "Answer: ['The apothem of a regular polygon is a line segment from the center to the midpoint of one of its sides.']\n",
            "Score: 0.6057782173156738\n",
            "\n",
            "Passage: Save. An anemometer is a device used to measure the speed of the wind. As with many scientific inventions, it's hard to pinpoint the first person to invent an anemometer. Sometimes the first inventor doesn't produce the best instrument, and improvements made by later scientists significantly enhance accuracy and ease of use. Cup Anemometer. A more advanced anemometer design using four cups attached by spokes to a central rod was invented by John Thomas Romney Robinson in 1846. Robinson was the director of the Armagh Observatory in Ireland. With his design, cups caught the wind and spun around faster the stronger the wind velocity. Making the world better, one answer at a time. The anemometer has no precisely known inventor. The first recorded description of an anemometer was by Leon Battista Alberti in 1450. The cup anemometer was invented in 1846 by Dr. John Thomas Ronrey Robinson. An anemometer is a device used to measure wind speed. It is used by  atmospheric scientists or those gathering weather data.   Anemometer-An anemometer is a device for me … asuring wind  speed, and is one instrument used in a weather station. The term is  derived from the Greek word, anemos, meaning wind. Mechanical Anemometer. Credited with devising the first mechanical anemometer is Italian art architect and mathematician Leon Batista Alberti, in 1450. In his device, the wind pushed against a disk, and an accompanying scale gave a relative strength of the wind as shown by the angle of inclination of the disk. Cup Anemometer. A more advanced anemometer design using four cups attached by spokes to a central rod was invented by John Thomas Romney Robinson in 1846. Robinson was the director of the Armagh Observatory in Ireland. With his design, cups caught the wind and spun around faster the stronger the wind velocity. An anemometer is a device for measuring wind speed, and is a common weather station instrument. The term is derived from the Greek word anemos, meaning wind. The first known description of an anemometer was given by Leon Battista Alberti around 1450. 1 Cup anemometers: Simple type of anemometer is the cup anemometer, invented (1846) by Dr. John Thomas Romney Robinson, of Armagh Observatory. 2  It consisted of four hemispherical cups. By Arthur K Burditt on March 20, 2013. Wind speed is measured by a device called an anemometer, which comes from the Greek word for wind “anemos”. Italian art architect, mathematician and renaissance man Leon Battista Alberti invented the first mechanical anemometer in 1450. His instrument consisted of a disk placed perpendicular to the wind. Englishman Robert Hooke re-invented the anemometer in 1664 and often is mistakenly credited as its first inventor. In 1846, Irish researcher John Thomas Romney Robinson invented the hemispherical cup anemometer which is still used today. Geologist Dr. Andreas Pflitsch invented a sonic anemometer in 1994. In 1450, the Italian art architect Leon Battista Alberti invented the first mechanical anemometer; in 1664 it was re-invented by Robert Hooke (who is often mistakenly considered the inventor of the first anemometer). An anemometer is a device used for measuring wind speed, and is a common weather station instrument. The term is derived from the Greek word anemos ,which means wind, and is used to describe any wind speed measurement instrument used in meteorology. The first known description of an anemometer given by Leon Battista Alberti in 1450 In 1450, the Italian art architect Leon Battista Alberti invented the first mechanical anemometer; in 1664 it wasre-invented by Robert Hooke (who is often mistakenly considered the inventor of the first anemometer). An anemometer is a device for measuring wind speed, and is acommon weather station instrument. The term is derived from theGreek word anemos, meaning wind. The first known description of ananemometer was given by Leon Battista Alberti around 1450. The first mechanical anemometer to measure the speed of wind was invented by an Italian art architect, Leon Battista Alberti in the year 1450. In the year 1846, Dr. John Thomas Romney Robinson invented a simple hemispherical cup anemometer. In the year 1991, Australian Derek Weston modified the anemometer to measure both wind speed and the direction of wind.\n",
            "Answer: ['Leon Battista Alberti', 'Leon Battista Alberti']\n",
            "Score: 0.30439338088035583\n",
            "\n",
            "Passage: Axillary nerve. The axillary nerve or the circumflex nerve is a nerve of the human body, that originates from the brachial plexus (upper trunk, posterior division, posterior cord) at the level of the axilla (armpit) and carries nerve fibers from C5 and C6.  Medical Definition of AXILLA. : the cavity beneath the junction of the arm or anterior appendage and shoulder or pectoral girdle containing the axillary artery and vein, a part of the brachial plexus of nerves, many lymph nodes, and fat and areolar tissue; especially: armpit. : the cavity beneath the junction of a forelimb and the body; especially: armpit. See axilla defined for kids. The axilla is a pyramidal space, situated between the upper lateral part of the chest and the medial side of the arm.  The axilla (or underarm, or oxter) is the area on the human body directly under the joint where the arm connects to the shoulder. It also provides the under-arm sweat gland.  © 2014 WebMD, LLC. All rights reserved. The arrangement of the chest wall, shoulder bones and muscles, and the upper arm create a small hollow called the armpit. The armpit is the underside of the shoulder joint, and is among the warmest areas of the body. The armpit is also called the axilla. Blood and lymph vessels serving the arm travel through the armpit Fig 1.0 – Anterior view of the right axilla region. Note the pyramidal shape, with 6 borders (or sides). The axilla is the name given to an area that lies underneath the glenohumeral joint, at the junction of the upper limb and the thorax. This region is a passage by which structures such as vessels and nerves can enter and leave the upper limb.  Located in the axilla region are lymph nodes, which are important for drainage of lymph from the upper parts of the body including the neck, shoulder, and upper arms or extremities. These lymph nodes are parts of the body’s system to provide immunity from diseases. Another important structure that passes through the axilla is the brachial plexus. This brachial plexus is like a nerve pathway which supplies sensory signals to most parts of the upper arm. If this part is damaged, then one can expect a decrease or absence of normal sensation in the upper arm region. The axilla is the junction between the inner part of the upper arm and the shoulder. This part is commonly known as the armpit in which many anatomical structures pass through for support of the upper extremities. The axilla is pyramidal in shape. It has an apex which is directed towards the neck area. Another important structure that passes through the axilla is the brachial plexus. This brachial plexus is like a nerve pathway which supplies sensory signals to most parts of the upper arm. If this part is damaged, then one can expect a decrease or absence of normal sensation in the upper arm region.\n",
            "Answer: ['The axilla is a pyramidal space, situated between the upper lateral part of the chest and the medial side of the arm.']\n",
            "Score: 0.30171704292297363\n",
            "\n",
            "Passage: Etymology: L, alveolus, little hollow. 1 a small outpouching along the walls of the alveolar sacs through which gas exchange between alveolar air and pulmonary capillary blood takes place. Also called acinus, pulmonary alveolus. 2 a tooth socket. See also dental alveolus. alveolar, adj. A hollow cavity that is an outpouching of the respiratory bronchioles and the alveolar ducts; there are an estimated 150 million alveoli, which are the primary site of gas exchange between the blood and environment, covering a surface area of 75m2.  Deep within the lungs exists its constituent alveoli sacs, the sites responsible for the uptake of oxygen and excretion of carbon dioxide. There are three major alveolar cell types in the alveolar wall (pneumocytes): 1 Type I pneumocyte (Squamous Alveolar) cells that form the structure of an alveolar wall. 2  Type II pneumocyte (Great Alveolar) cells that secrete pulmonary surfactant to lower the surface tension of water and allows the membrane to separate, thereby increasing the capability to exchange gases. The alveolar epithelium comprises two main cell types: the alveolar type I and alveolar type II cell. The type I cell is a complex branched cell with multiple cytoplasmic plates that are greatly attenuated and relatively devoid of organelles; these plates represent the gas exchange surface in the alveolus. On the other hand, the type II cell acts as the caretaker of the alveolar compartment Respiratory System. The oxygen exchange in the lungs takes place across the membranes of small balloon-like structures called alveoli attached to the branches of the bronchial passages. These alveoli inflate and deflate with inhalation and exhalation. The behavior of the alveoli is largely dictated by LaPlace's law and surface tension. It takes some effort to breathe in because these tiny balloons must be inflated, but the elastic recoil of the tiny balloons assists us in the process of exhalation. This fluid, called a surfactant, lowers the surface tension of the balloon-like alveoli by about a factor of 15 compared to the normal mucous tissue fluid in which they are immersed. 76. alveolar sac. A cluster of alveoli located at the end of each alveolar duct in the lungs; each of the alveoli is a tiny, thin-walled, capillary-rich sac, lined by a simple squamous epithelium, where the exchange (diffusion) of oxygen and carbon dioxide (and other less important gases) takes place. The squamous epithelial cell forming the alveolar wall and through whose cell membranes and cytoplasm the exchange of oxygen and carbon dioxide (and other less important gases) takes place; collectively they cover 95% of the alveolar surface area. • External respiration occurs within the lungs, as carbon dioxide diffuses from the pulmonary. capillaries into the alveoli, and oxygen diffuses from the alveoli into the pulmonary. capillaries. • Oxygen-rich blood leaves the lungs and is transported through the pulmonary veins to the. left side of the heart. • Oxygen diffuses from the systemic capillaries into the cells. • Carbon dioxide diffuses from the cells into the systemic capillaries. • Factors affecting the exchange of oxygen and carbon dioxide during internal respiration: 1. The available surface area, which varies in different tissues throughout the body. 2 Introduction• Oxygen and carbon dioxide diffuse between the alveoli and pulmonary capillaries in the lungs, andbetween the systemic capillaries and cells throughout the body.• The diffusion of these gases, moving in opposite directions, is called gas exchange.Page 2. • Oxygen diffuses from the systemic capillaries into the cells. • Carbon dioxide diffuses from the cells into the systemic capillaries. • Factors affecting the exchange of oxygen and carbon dioxide during internal respiration: 1. The available surface area, which varies in different tissues throughout the body. An alveolar macrophage (or dust cell) is a type of macrophage found in the pulmonary alveolus, near the pneumocytes, but separated from the wall. Activity of the alveolar macrophage is relatively high, because they are located at one of the major boundaries between the body and the outside world. 1 Type I pneumocyte (Squamous Alveolar) cells that form the structure of an alveolar wall. 2  Type II pneumocyte (Great Alveolar) cells that secrete pulmonary surfactant to lower the surface tension of water and allows the membrane to separate, thereby increasing the capability to exchange gases. 1 Type II pneumocyte (Great Alveolar) cells that secrete pulmonary surfactant to lower the surface tension of water and allows the membrane to separate, thereby increasing the capability to exchange gases. 1 Type I pneumocyte (Squamous Alveolar) cells that form the structure of an alveolar wall. 2 \n",
            "Answer: ['attached to the branches of the bronchial passages.']\n",
            "Score: 0.2930360436439514\n",
            "\n",
            "Passage: One or more lymph nodes in one or both axilla (armpit) may become swollen commonly due to 1  : Injury to the armpit, arm or hand. 2  Localized infection in the armpit or of the arm, hand or breast, which drains into the axillary lymph nodes. Normally the lymph nodes are not palpable but may enlarge as a result of some disorder or disease. The lymph nodes of the axilla (armpit), inguinal region (groin), and neck tend to enlarge more frequently than other areas. Lymph nodes are small clumps of immune cells that act as filters for the lymphatic system. The lymphatic system runs throughout the body (like the circulatory (blood) system) and carries fluid and cells. The lymph nodes in the underarm (the axillary lymph nodes) are the first place breast cancer is likely to spread. Figure 4.4 shows the location of the axillary lymph nodes. Prognosis is poorer when cancer has spread to the lymph nodes (lymph node-positive). The more lymph nodes that contain cancer, the poorer prognosis tends to be [ 6 ]. For a summary of research studies on lymph node status and breast cancer survival, visit the Breast Cancer Research section. They carry lymph fluid, cells and other material. Lymph nodes are small clumps of immune cells that act as filters for the lymphatic system. They also store white blood cells that help fight illness. Lymph nodes in the underarm are called the axillary [AK-sil-air-e] nodes. It is important to know if these nodes have cancer. This helps determine breast cancer stage.  These lymph nodes are clinically significant in breast cancer, and metastases from the breast to the axillary lymph nodes are considered in the staging of the disease. About 75% of lymph from the breasts drains into the axillary lymph nodes, making them important in the diagnosis of breast cancer. A doctor will usually refer a patient to a surgeon to have an axillary lymph node dissection to see if the cancer cells have been trapped in the nodes. 1 Glands in the armpit (axillary lymph nodes) may swell from an injury or infection to the arm or hand. 2  A rare cause of axillary swelling may be breast cancer or lymphoma. 3  The lymph nodes in the groin (femoral or inguinal lymph nodes) may swell from an injury or infection in the foot, leg, groin, or genitals. Lymph nodes are small, bean-shaped glands throughout the body. They are part of the lymph system, which carries fluid (lymph fluid), nutrients, and waste material between the body tissues and the bloodstream. The lymph system is an important part of the immune system, the body's defense system against disease. Click to read more below. The axillary nodes are a group of lymph nodes located in the axillary (or armpit) region of the body. They perform the vital function of filtration and conduction of lymph from the upper limbs, pectoral region, and upper back. The axillary lymph nodes are a group of twenty to thirty large lymph nodes located in the deep tissues in and around the armpit. These nodes are arranged into five distinct groups: pectoral (anterior), lateral, subscapular (posterior), central (intermediate), and subclavicular (medial).... The axillary (arm pit) lymph nodes filter and/or trap lymph from the arm, chest wall and breast. It is often difficult to feel normal axillary lymph nodes. Not all enlarged axillary lymph nodes feel the same. It is also important to mention that enlarged axillary lymph nodes are not necessarily a sign of cancer.  Save as Favorite. There are three levels of axillary lymph nodes (the nodes in the underarm or axilla area): 1  Level I is the bottom level, below the lower edge of the pectoralis minor muscle. 2  Level II is lying underneath the pectoralis minor muscle. 3  Level III is above the pectoralis minor muscle. \n",
            "Answer: ['The axillary lymph nodes are a group of twenty to thirty large lymph nodes located in the deep tissues in and around the armpit. These nodes are arranged into five distinct groups: pectoral (anterior), lateral, subscapular (posterior), central (intermediate), and subclavicular (medial).']\n",
            "Score: 0.2915903627872467\n",
            "\n",
            "-------------------------\n",
            "Most relevant passage (Index 2):\n",
            "Apothem. The apothem of a regular polygon is a segment drawn the center of the polygon (that is, the center of the circle which circumscribes the polygon) to one side, such that it is perpendicular to the side. If a regular polygon has an area of A square units, a perimeter of P units, an apothem of a units, then the area is one-half the product of the perimeter and the apothem. Be careful with this formula, though: for a given apothem, there is only ONE POSSIBLE value of P. Apothems. The apothem of a regular polygon is the distance from the center to the midpoint of one of its sides. The apothem of a square is equal to half of the length of one side.  Apothem of a Regular Polygon. Definition: A line segment from the center of a regular polygon to the midpoint of a side. Try this Adjust the polygon below by dragging any orange dot, or alter the number of sides. Note the behavior of the apothem line shown in blue. The word apothem can refer to the line itself, or the length of that line. So you can correctly say 'draw the apothem' and 'the apothem is 4cm'. Each formula below shows how to find the length of the apothem of a regular polygon. Use the formula that uses the facts you are given to start. more ... The distance from the center of a regular polygon to the midpoint of a side. (For a circle it is the distance from the center to the midpoint of a chord.). Regular Polygons-Properties. The apothem is also the radius of the incircle of the polygon. For a polygon of n sides, there are n possible apothems, all the same length of course. The word apothem can refer to the line itself, or the length of that line. So you can correctly say 'draw the apothem' and 'the apothem is 4cm'. Each formula below shows how to find the length of the apothem of a regular polygon. Use the formula that uses the facts you are given to start. Apothem of a hexagon. The apothem of a regular polygon is a line segment from the center to the midpoint of one of its sides. Equivalently, it is the line drawn from the center of the polygon that is perpendicular to one of its sides. The word apothem can also refer to the length of that line segment. Because of this, all the apothems in a polygon will be congruent. For a regular pyramid, which is a pyramid whose base is a regular polygon, the apothem is the slant height of a lateral face; that is, the shortest distance from apex to base on a given face. For an equilateral triangle, the apothem is equivalent to the line segment from the midpoint of a side to any of the triangle's centers, since an equilateral triangle's centers coincide as a consequence of the definition. Because of this, all the apothems in a polygon will be congruent. For a regular pyramid, which is a pyramid whose base is a regular polygon, the apothem is the slant height of a lateral face; that is, the shortest distance from apex to base on a given face. Given a circle, the apothem is the perpendicular distance from the midpoint of a chord to the circle 's center. It is also equal to the radius minus the sagitta, For a regular polygon, the apothem simply is the distance from the center to a side, i.e., the inradius of the polygon. SEE ALSO: Chord, Circular Sector, Circular Segment, Inradius, Radius, Regular Polygon, Sagitta CITE THIS AS: Weisstein, Eric W. Apothem.. From MathWorld --A Wolfram Web Resource. Apothem is a line segment from the center of a regular polygon to the midpoint of a side. Its also defined as radius of the incircle of the polygon. For a regular polygon of n sides, there are n possible apothems of same length. If we assume a right angled triangle where the apothem is the adjacent side, half the side of the polygon to be the opposite side and line joining the centre of the polygon and vertex of the polygon to be the hypotenuse. Lets assume the angle formed by adjacent side and hypotenuse to be $\\theta$.\n",
            "Answer: ['The apothem of a regular polygon is a line segment from the center to the midpoint of one of its sides.']\n"
          ]
        }
      ],
      "source": [
        "from sklearn.metrics.pairwise import cosine_similarity\n",
        "\n",
        "answers = df['answers'].tolist()\n",
        "\n",
        "preprocessed_query = preprocess_query(query)\n",
        "\n",
        "query_vector = model.encode(preprocessed_query)\n",
        "\n",
        "# Compute cosine similarity between the query embedding and passage embeddings\n",
        "similarity_scores = cosine_similarity([query_vector], passage_embeddings).flatten()\n",
        "\n",
        "ranked_indices = similarity_scores.argsort()[::-1]\n",
        "\n",
        "# Select the top-k passages\n",
        "top_k = 5\n",
        "top_indices = ranked_indices[:top_k]\n",
        "\n",
        "print(f\"Top {top_k} passages with relevance scores:\")\n",
        "for idx in top_indices:\n",
        "    passage = passage_texts[idx]\n",
        "    answer = answers[idx]\n",
        "    score = similarity_scores[idx]\n",
        "    print(f\"Passage: {passage}\\nAnswer: {answer}\\nScore: {score}\\n\")\n",
        "\n",
        "# Select the most relevant passage\n",
        "most_relevant_idx = top_indices[0]\n",
        "best_passage = passage_texts[most_relevant_idx]\n",
        "best_answer = answers[most_relevant_idx]\n",
        "\n",
        "print(\"-------------------------\")\n",
        "print(f\"Most relevant passage (Index {most_relevant_idx}):\\n{best_passage}\")\n",
        "print(f\"Answer: {best_answer}\")"
      ]
    },
    {
      "cell_type": "code",
      "execution_count": null,
      "metadata": {
        "colab": {
          "base_uri": "https://localhost:8080/"
        },
        "id": "dlw3X40BCxbj",
        "outputId": "500c474c-5fd8-4444-cac0-5ae61c5eb3a4"
      },
      "outputs": [
        {
          "data": {
            "text/plain": [
              "(['The apothem of a regular polygon is a line segment from the center to the midpoint of one of its sides.'],\n",
              " ['The apothem of a regular polygon is a line segment from the center to the midpoint of one of its sides.'])"
            ]
          },
          "execution_count": 21,
          "metadata": {},
          "output_type": "execute_result"
        }
      ],
      "source": [
        "best_answer , df['answers'][most_relevant_idx]"
      ]
    },
    {
      "cell_type": "code",
      "execution_count": null,
      "metadata": {
        "colab": {
          "base_uri": "https://localhost:8080/"
        },
        "id": "AEyipM62C39R",
        "outputId": "1da75561-9ba1-43ce-ed92-bd1488cb3eeb"
      },
      "outputs": [
        {
          "name": "stdout",
          "output_type": "stream",
          "text": [
            "9650\n"
          ]
        },
        {
          "name": "stderr",
          "output_type": "stream",
          "text": [
            "Processing queries: 100%|██████████| 9650/9650 [09:58<00:00, 16.13it/s]"
          ]
        },
        {
          "name": "stdout",
          "output_type": "stream",
          "text": [
            "Model Accuracy: 85.53%\n"
          ]
        },
        {
          "name": "stderr",
          "output_type": "stream",
          "text": [
            "\n"
          ]
        }
      ],
      "source": [
        "threshold = 0.8\n",
        "correct_predictions = 0\n",
        "total_queries = len(df)\n",
        "print(total_queries)\n",
        "\n",
        "for i in tqdm(range(total_queries), desc=\"Processing queries\"):\n",
        "    query = df['query'][i]\n",
        "    actual_answer = df['answers'][i]\n",
        "\n",
        "    preprocessed_query = preprocess_query(query)\n",
        "\n",
        "    query_embedding = model.encode(preprocessed_query)\n",
        "\n",
        "    similarity_scores = util.cos_sim(query_embedding, passage_embeddings).flatten()\n",
        "\n",
        "\n",
        "    most_relevant_idx = similarity_scores.argmax().item()\n",
        "    best_answer = df['answers'][most_relevant_idx]\n",
        "\n",
        "    # Handle cases where the actual answer is a list\n",
        "    if isinstance(actual_answer, list):\n",
        "        actual_answer = \" \".join(actual_answer)\n",
        "\n",
        "    predicted_answer_embedding = model.encode(best_answer).reshape(1, -1)\n",
        "    actual_answer_embedding = model.encode(actual_answer).reshape(1, -1)\n",
        "\n",
        "    if predicted_answer_embedding.shape[1] != actual_answer_embedding.shape[1]:\n",
        "        if predicted_answer_embedding.shape[1] > actual_answer_embedding.shape[1]:\n",
        "            predicted_answer_embedding = predicted_answer_embedding[:, :actual_answer_embedding.shape[1]]\n",
        "        else:\n",
        "            actual_answer_embedding = actual_answer_embedding[:, :predicted_answer_embedding.shape[1]]\n",
        "\n",
        "    # Compute cosine similarity\n",
        "    if predicted_answer_embedding.shape[1] == 0:\n",
        "        continue\n",
        "    answer_similarity = cosine_similarity(predicted_answer_embedding, actual_answer_embedding).flatten()[0]\n",
        "\n",
        "    # Count as correct prediction if similarity exceeds the threshold\n",
        "    if answer_similarity > threshold:\n",
        "        correct_predictions += 1\n",
        "\n",
        "accuracy = correct_predictions / total_queries * 100\n",
        "print(f\"Model Accuracy: {accuracy:.2f}%\")\n"
      ]
    },
    {
      "cell_type": "markdown",
      "metadata": {
        "id": "e78pqFvXC9M_"
      },
      "source": [
        "This code evaluates a question-answering system by checking how well it can match queries to relevant passages and answers using a semantic similarity approach. First, we use the pre-trained `all-mpnet-base-v2` model from SentenceTransformers, which generates embeddings for text data. The dataset we work with is Microsoft’s MS MARCO test set, which includes queries, passages, and answers. The passages are processed to ensure they are all in text format, flattening them when they are stored as lists. Once processed, embeddings for all passages are generated using the model.\n",
        "\n",
        "For each query in the dataset, we preprocess it (e.g., converting to lowercase) and then generate its embedding. This query embedding is compared against all passage embeddings using cosine similarity, which measures how semantically similar two embeddings are. The passage with the highest similarity score is identified as the most relevant to the query. The predicted answer is then extracted from this passage and compared to the actual answer from the dataset. Both the predicted and actual answers are converted into embeddings for comparison. In cases where the dimensions of the embeddings don’t match, we align them by truncating the larger one to match the smaller one.\n",
        "\n",
        "We calculate the similarity between the predicted and actual answer embeddings using cosine similarity. If this similarity exceeds a threshold of 0.8, it is counted as a correct prediction. After processing all queries, the model’s accuracy is calculated as the percentage of correct predictions out of the total number of queries. This approach evaluates the system’s ability to both retrieve relevant passages and match answers effectively.\n",
        "\n",
        "you can look model details at [https://www.sbert.net/docs/sentence_transformer/pretrained_models.html]"
      ]
    }
  ],
  "metadata": {
    "colab": {
      "collapsed_sections": [
        "pDA5p-dLA9tm",
        "mWHlUtEMB-Ai",
        "Hnjf2vS_DbmU"
      ],
      "provenance": []
    },
    "kernelspec": {
      "display_name": "Python 3",
      "name": "python3"
    },
    "language_info": {
      "name": "python"
    },
    "widgets": {
      "application/vnd.jupyter.widget-state+json": {
        "01364dc394bd45878a8b4a4d53ab78a0": {
          "model_module": "@jupyter-widgets/base",
          "model_module_version": "1.2.0",
          "model_name": "LayoutModel",
          "state": {
            "_model_module": "@jupyter-widgets/base",
            "_model_module_version": "1.2.0",
            "_model_name": "LayoutModel",
            "_view_count": null,
            "_view_module": "@jupyter-widgets/base",
            "_view_module_version": "1.2.0",
            "_view_name": "LayoutView",
            "align_content": null,
            "align_items": null,
            "align_self": null,
            "border": null,
            "bottom": null,
            "display": null,
            "flex": null,
            "flex_flow": null,
            "grid_area": null,
            "grid_auto_columns": null,
            "grid_auto_flow": null,
            "grid_auto_rows": null,
            "grid_column": null,
            "grid_gap": null,
            "grid_row": null,
            "grid_template_areas": null,
            "grid_template_columns": null,
            "grid_template_rows": null,
            "height": null,
            "justify_content": null,
            "justify_items": null,
            "left": null,
            "margin": null,
            "max_height": null,
            "max_width": null,
            "min_height": null,
            "min_width": null,
            "object_fit": null,
            "object_position": null,
            "order": null,
            "overflow": null,
            "overflow_x": null,
            "overflow_y": null,
            "padding": null,
            "right": null,
            "top": null,
            "visibility": null,
            "width": null
          }
        },
        "032b698bed6243df9545f9f92ef83065": {
          "model_module": "@jupyter-widgets/controls",
          "model_module_version": "1.5.0",
          "model_name": "HTMLModel",
          "state": {
            "_dom_classes": [],
            "_model_module": "@jupyter-widgets/controls",
            "_model_module_version": "1.5.0",
            "_model_name": "HTMLModel",
            "_view_count": null,
            "_view_module": "@jupyter-widgets/controls",
            "_view_module_version": "1.5.0",
            "_view_name": "HTMLView",
            "description": "",
            "description_tooltip": null,
            "layout": "IPY_MODEL_99ad48db09f14e15b1becd3f17b31c15",
            "placeholder": "​",
            "style": "IPY_MODEL_243fec103ceb4b929272a9143bc9d635",
            "value": "Generating train split: 100%"
          }
        },
        "07122ea37d9744f09af3bb7665872cfb": {
          "model_module": "@jupyter-widgets/controls",
          "model_module_version": "1.5.0",
          "model_name": "DescriptionStyleModel",
          "state": {
            "_model_module": "@jupyter-widgets/controls",
            "_model_module_version": "1.5.0",
            "_model_name": "DescriptionStyleModel",
            "_view_count": null,
            "_view_module": "@jupyter-widgets/base",
            "_view_module_version": "1.2.0",
            "_view_name": "StyleView",
            "description_width": ""
          }
        },
        "0bd51c2d6b964d96937a947866166119": {
          "model_module": "@jupyter-widgets/controls",
          "model_module_version": "1.5.0",
          "model_name": "HTMLModel",
          "state": {
            "_dom_classes": [],
            "_model_module": "@jupyter-widgets/controls",
            "_model_module_version": "1.5.0",
            "_model_name": "HTMLModel",
            "_view_count": null,
            "_view_module": "@jupyter-widgets/controls",
            "_view_module_version": "1.5.0",
            "_view_name": "HTMLView",
            "description": "",
            "description_tooltip": null,
            "layout": "IPY_MODEL_2e245427e4064d9b99eb4e9b90f18259",
            "placeholder": "​",
            "style": "IPY_MODEL_a856a305c06a4bb4a4defce00d8ffcde",
            "value": " 21.4M/21.4M [00:00&lt;00:00, 31.1MB/s]"
          }
        },
        "0c4540d5b87a4d93a28e4ac27661c931": {
          "model_module": "@jupyter-widgets/controls",
          "model_module_version": "1.5.0",
          "model_name": "DescriptionStyleModel",
          "state": {
            "_model_module": "@jupyter-widgets/controls",
            "_model_module_version": "1.5.0",
            "_model_name": "DescriptionStyleModel",
            "_view_count": null,
            "_view_module": "@jupyter-widgets/base",
            "_view_module_version": "1.2.0",
            "_view_name": "StyleView",
            "description_width": ""
          }
        },
        "0c6c7deb4e6347069f650343d44c186a": {
          "model_module": "@jupyter-widgets/controls",
          "model_module_version": "1.5.0",
          "model_name": "FloatProgressModel",
          "state": {
            "_dom_classes": [],
            "_model_module": "@jupyter-widgets/controls",
            "_model_module_version": "1.5.0",
            "_model_name": "FloatProgressModel",
            "_view_count": null,
            "_view_module": "@jupyter-widgets/controls",
            "_view_module_version": "1.5.0",
            "_view_name": "ProgressView",
            "bar_style": "success",
            "description": "",
            "description_tooltip": null,
            "layout": "IPY_MODEL_bdcfc51ad4d2449186118e59b959e387",
            "max": 175452226,
            "min": 0,
            "orientation": "horizontal",
            "style": "IPY_MODEL_3513052522674f249a1dc81f0fec3ceb",
            "value": 175452226
          }
        },
        "111164dfbb3d45588ede9eed9c970e40": {
          "model_module": "@jupyter-widgets/controls",
          "model_module_version": "1.5.0",
          "model_name": "HBoxModel",
          "state": {
            "_dom_classes": [],
            "_model_module": "@jupyter-widgets/controls",
            "_model_module_version": "1.5.0",
            "_model_name": "HBoxModel",
            "_view_count": null,
            "_view_module": "@jupyter-widgets/controls",
            "_view_module_version": "1.5.0",
            "_view_name": "HBoxView",
            "box_style": "",
            "children": [
              "IPY_MODEL_d158d80933984329a66f6f5bb1dc870c",
              "IPY_MODEL_38ec543fd0704f16a0944f29a62a62c8",
              "IPY_MODEL_4d6771fa6cca400f84e59ee000699654"
            ],
            "layout": "IPY_MODEL_d3e1193a21fb4c8e881e6184c9a8728b"
          }
        },
        "114da209a6c1489a881428d1f8db07cd": {
          "model_module": "@jupyter-widgets/base",
          "model_module_version": "1.2.0",
          "model_name": "LayoutModel",
          "state": {
            "_model_module": "@jupyter-widgets/base",
            "_model_module_version": "1.2.0",
            "_model_name": "LayoutModel",
            "_view_count": null,
            "_view_module": "@jupyter-widgets/base",
            "_view_module_version": "1.2.0",
            "_view_name": "LayoutView",
            "align_content": null,
            "align_items": null,
            "align_self": null,
            "border": null,
            "bottom": null,
            "display": null,
            "flex": null,
            "flex_flow": null,
            "grid_area": null,
            "grid_auto_columns": null,
            "grid_auto_flow": null,
            "grid_auto_rows": null,
            "grid_column": null,
            "grid_gap": null,
            "grid_row": null,
            "grid_template_areas": null,
            "grid_template_columns": null,
            "grid_template_rows": null,
            "height": null,
            "justify_content": null,
            "justify_items": null,
            "left": null,
            "margin": null,
            "max_height": null,
            "max_width": null,
            "min_height": null,
            "min_width": null,
            "object_fit": null,
            "object_position": null,
            "order": null,
            "overflow": null,
            "overflow_x": null,
            "overflow_y": null,
            "padding": null,
            "right": null,
            "top": null,
            "visibility": null,
            "width": null
          }
        },
        "1377dfe8833f4569bcbd43c51e5bca53": {
          "model_module": "@jupyter-widgets/base",
          "model_module_version": "1.2.0",
          "model_name": "LayoutModel",
          "state": {
            "_model_module": "@jupyter-widgets/base",
            "_model_module_version": "1.2.0",
            "_model_name": "LayoutModel",
            "_view_count": null,
            "_view_module": "@jupyter-widgets/base",
            "_view_module_version": "1.2.0",
            "_view_name": "LayoutView",
            "align_content": null,
            "align_items": null,
            "align_self": null,
            "border": null,
            "bottom": null,
            "display": null,
            "flex": null,
            "flex_flow": null,
            "grid_area": null,
            "grid_auto_columns": null,
            "grid_auto_flow": null,
            "grid_auto_rows": null,
            "grid_column": null,
            "grid_gap": null,
            "grid_row": null,
            "grid_template_areas": null,
            "grid_template_columns": null,
            "grid_template_rows": null,
            "height": null,
            "justify_content": null,
            "justify_items": null,
            "left": null,
            "margin": null,
            "max_height": null,
            "max_width": null,
            "min_height": null,
            "min_width": null,
            "object_fit": null,
            "object_position": null,
            "order": null,
            "overflow": null,
            "overflow_x": null,
            "overflow_y": null,
            "padding": null,
            "right": null,
            "top": null,
            "visibility": null,
            "width": null
          }
        },
        "167a6b90670a49ada36ec3af1b0d427e": {
          "model_module": "@jupyter-widgets/base",
          "model_module_version": "1.2.0",
          "model_name": "LayoutModel",
          "state": {
            "_model_module": "@jupyter-widgets/base",
            "_model_module_version": "1.2.0",
            "_model_name": "LayoutModel",
            "_view_count": null,
            "_view_module": "@jupyter-widgets/base",
            "_view_module_version": "1.2.0",
            "_view_name": "LayoutView",
            "align_content": null,
            "align_items": null,
            "align_self": null,
            "border": null,
            "bottom": null,
            "display": null,
            "flex": null,
            "flex_flow": null,
            "grid_area": null,
            "grid_auto_columns": null,
            "grid_auto_flow": null,
            "grid_auto_rows": null,
            "grid_column": null,
            "grid_gap": null,
            "grid_row": null,
            "grid_template_areas": null,
            "grid_template_columns": null,
            "grid_template_rows": null,
            "height": null,
            "justify_content": null,
            "justify_items": null,
            "left": null,
            "margin": null,
            "max_height": null,
            "max_width": null,
            "min_height": null,
            "min_width": null,
            "object_fit": null,
            "object_position": null,
            "order": null,
            "overflow": null,
            "overflow_x": null,
            "overflow_y": null,
            "padding": null,
            "right": null,
            "top": null,
            "visibility": null,
            "width": null
          }
        },
        "16b19d2a98044701bd9ced60ca8c19b0": {
          "model_module": "@jupyter-widgets/base",
          "model_module_version": "1.2.0",
          "model_name": "LayoutModel",
          "state": {
            "_model_module": "@jupyter-widgets/base",
            "_model_module_version": "1.2.0",
            "_model_name": "LayoutModel",
            "_view_count": null,
            "_view_module": "@jupyter-widgets/base",
            "_view_module_version": "1.2.0",
            "_view_name": "LayoutView",
            "align_content": null,
            "align_items": null,
            "align_self": null,
            "border": null,
            "bottom": null,
            "display": null,
            "flex": null,
            "flex_flow": null,
            "grid_area": null,
            "grid_auto_columns": null,
            "grid_auto_flow": null,
            "grid_auto_rows": null,
            "grid_column": null,
            "grid_gap": null,
            "grid_row": null,
            "grid_template_areas": null,
            "grid_template_columns": null,
            "grid_template_rows": null,
            "height": null,
            "justify_content": null,
            "justify_items": null,
            "left": null,
            "margin": null,
            "max_height": null,
            "max_width": null,
            "min_height": null,
            "min_width": null,
            "object_fit": null,
            "object_position": null,
            "order": null,
            "overflow": null,
            "overflow_x": null,
            "overflow_y": null,
            "padding": null,
            "right": null,
            "top": null,
            "visibility": null,
            "width": null
          }
        },
        "1d4f86e8aabf4ea9ab3c07cd8da8f6be": {
          "model_module": "@jupyter-widgets/base",
          "model_module_version": "1.2.0",
          "model_name": "LayoutModel",
          "state": {
            "_model_module": "@jupyter-widgets/base",
            "_model_module_version": "1.2.0",
            "_model_name": "LayoutModel",
            "_view_count": null,
            "_view_module": "@jupyter-widgets/base",
            "_view_module_version": "1.2.0",
            "_view_name": "LayoutView",
            "align_content": null,
            "align_items": null,
            "align_self": null,
            "border": null,
            "bottom": null,
            "display": null,
            "flex": null,
            "flex_flow": null,
            "grid_area": null,
            "grid_auto_columns": null,
            "grid_auto_flow": null,
            "grid_auto_rows": null,
            "grid_column": null,
            "grid_gap": null,
            "grid_row": null,
            "grid_template_areas": null,
            "grid_template_columns": null,
            "grid_template_rows": null,
            "height": null,
            "justify_content": null,
            "justify_items": null,
            "left": null,
            "margin": null,
            "max_height": null,
            "max_width": null,
            "min_height": null,
            "min_width": null,
            "object_fit": null,
            "object_position": null,
            "order": null,
            "overflow": null,
            "overflow_x": null,
            "overflow_y": null,
            "padding": null,
            "right": null,
            "top": null,
            "visibility": null,
            "width": null
          }
        },
        "1d91f4cc73704e4ea0062a5cf8a1b948": {
          "model_module": "@jupyter-widgets/controls",
          "model_module_version": "1.5.0",
          "model_name": "HBoxModel",
          "state": {
            "_dom_classes": [],
            "_model_module": "@jupyter-widgets/controls",
            "_model_module_version": "1.5.0",
            "_model_name": "HBoxModel",
            "_view_count": null,
            "_view_module": "@jupyter-widgets/controls",
            "_view_module_version": "1.5.0",
            "_view_name": "HBoxView",
            "box_style": "",
            "children": [
              "IPY_MODEL_a120ded9f48d4f31b9a6e729d10bc1ff",
              "IPY_MODEL_e255ed21c1d6423696b0f964cd2e1dae",
              "IPY_MODEL_bc0f8fa4da784b7b87843a331f12bc94"
            ],
            "layout": "IPY_MODEL_3a8ee17f73b44e0ba175eea7d9d4ec87"
          }
        },
        "22d5e2ca7ea046ff8e602a45cc80afad": {
          "model_module": "@jupyter-widgets/controls",
          "model_module_version": "1.5.0",
          "model_name": "DescriptionStyleModel",
          "state": {
            "_model_module": "@jupyter-widgets/controls",
            "_model_module_version": "1.5.0",
            "_model_name": "DescriptionStyleModel",
            "_view_count": null,
            "_view_module": "@jupyter-widgets/base",
            "_view_module_version": "1.2.0",
            "_view_name": "StyleView",
            "description_width": ""
          }
        },
        "239197994bc740bc961b60354a0d3529": {
          "model_module": "@jupyter-widgets/base",
          "model_module_version": "1.2.0",
          "model_name": "LayoutModel",
          "state": {
            "_model_module": "@jupyter-widgets/base",
            "_model_module_version": "1.2.0",
            "_model_name": "LayoutModel",
            "_view_count": null,
            "_view_module": "@jupyter-widgets/base",
            "_view_module_version": "1.2.0",
            "_view_name": "LayoutView",
            "align_content": null,
            "align_items": null,
            "align_self": null,
            "border": null,
            "bottom": null,
            "display": null,
            "flex": null,
            "flex_flow": null,
            "grid_area": null,
            "grid_auto_columns": null,
            "grid_auto_flow": null,
            "grid_auto_rows": null,
            "grid_column": null,
            "grid_gap": null,
            "grid_row": null,
            "grid_template_areas": null,
            "grid_template_columns": null,
            "grid_template_rows": null,
            "height": null,
            "justify_content": null,
            "justify_items": null,
            "left": null,
            "margin": null,
            "max_height": null,
            "max_width": null,
            "min_height": null,
            "min_width": null,
            "object_fit": null,
            "object_position": null,
            "order": null,
            "overflow": null,
            "overflow_x": null,
            "overflow_y": null,
            "padding": null,
            "right": null,
            "top": null,
            "visibility": null,
            "width": null
          }
        },
        "243fec103ceb4b929272a9143bc9d635": {
          "model_module": "@jupyter-widgets/controls",
          "model_module_version": "1.5.0",
          "model_name": "DescriptionStyleModel",
          "state": {
            "_model_module": "@jupyter-widgets/controls",
            "_model_module_version": "1.5.0",
            "_model_name": "DescriptionStyleModel",
            "_view_count": null,
            "_view_module": "@jupyter-widgets/base",
            "_view_module_version": "1.2.0",
            "_view_name": "StyleView",
            "description_width": ""
          }
        },
        "2b3b39f7df264745b094d2f6a9925df0": {
          "model_module": "@jupyter-widgets/controls",
          "model_module_version": "1.5.0",
          "model_name": "ProgressStyleModel",
          "state": {
            "_model_module": "@jupyter-widgets/controls",
            "_model_module_version": "1.5.0",
            "_model_name": "ProgressStyleModel",
            "_view_count": null,
            "_view_module": "@jupyter-widgets/base",
            "_view_module_version": "1.2.0",
            "_view_name": "StyleView",
            "bar_color": null,
            "description_width": ""
          }
        },
        "2d3f87a355f54e4f8ac4a65ed97750b0": {
          "model_module": "@jupyter-widgets/controls",
          "model_module_version": "1.5.0",
          "model_name": "ProgressStyleModel",
          "state": {
            "_model_module": "@jupyter-widgets/controls",
            "_model_module_version": "1.5.0",
            "_model_name": "ProgressStyleModel",
            "_view_count": null,
            "_view_module": "@jupyter-widgets/base",
            "_view_module_version": "1.2.0",
            "_view_name": "StyleView",
            "bar_color": null,
            "description_width": ""
          }
        },
        "2d8046781095430c9dbc4a8772364fcd": {
          "model_module": "@jupyter-widgets/base",
          "model_module_version": "1.2.0",
          "model_name": "LayoutModel",
          "state": {
            "_model_module": "@jupyter-widgets/base",
            "_model_module_version": "1.2.0",
            "_model_name": "LayoutModel",
            "_view_count": null,
            "_view_module": "@jupyter-widgets/base",
            "_view_module_version": "1.2.0",
            "_view_name": "LayoutView",
            "align_content": null,
            "align_items": null,
            "align_self": null,
            "border": null,
            "bottom": null,
            "display": null,
            "flex": null,
            "flex_flow": null,
            "grid_area": null,
            "grid_auto_columns": null,
            "grid_auto_flow": null,
            "grid_auto_rows": null,
            "grid_column": null,
            "grid_gap": null,
            "grid_row": null,
            "grid_template_areas": null,
            "grid_template_columns": null,
            "grid_template_rows": null,
            "height": null,
            "justify_content": null,
            "justify_items": null,
            "left": null,
            "margin": null,
            "max_height": null,
            "max_width": null,
            "min_height": null,
            "min_width": null,
            "object_fit": null,
            "object_position": null,
            "order": null,
            "overflow": null,
            "overflow_x": null,
            "overflow_y": null,
            "padding": null,
            "right": null,
            "top": null,
            "visibility": null,
            "width": null
          }
        },
        "2e245427e4064d9b99eb4e9b90f18259": {
          "model_module": "@jupyter-widgets/base",
          "model_module_version": "1.2.0",
          "model_name": "LayoutModel",
          "state": {
            "_model_module": "@jupyter-widgets/base",
            "_model_module_version": "1.2.0",
            "_model_name": "LayoutModel",
            "_view_count": null,
            "_view_module": "@jupyter-widgets/base",
            "_view_module_version": "1.2.0",
            "_view_name": "LayoutView",
            "align_content": null,
            "align_items": null,
            "align_self": null,
            "border": null,
            "bottom": null,
            "display": null,
            "flex": null,
            "flex_flow": null,
            "grid_area": null,
            "grid_auto_columns": null,
            "grid_auto_flow": null,
            "grid_auto_rows": null,
            "grid_column": null,
            "grid_gap": null,
            "grid_row": null,
            "grid_template_areas": null,
            "grid_template_columns": null,
            "grid_template_rows": null,
            "height": null,
            "justify_content": null,
            "justify_items": null,
            "left": null,
            "margin": null,
            "max_height": null,
            "max_width": null,
            "min_height": null,
            "min_width": null,
            "object_fit": null,
            "object_position": null,
            "order": null,
            "overflow": null,
            "overflow_x": null,
            "overflow_y": null,
            "padding": null,
            "right": null,
            "top": null,
            "visibility": null,
            "width": null
          }
        },
        "3513052522674f249a1dc81f0fec3ceb": {
          "model_module": "@jupyter-widgets/controls",
          "model_module_version": "1.5.0",
          "model_name": "ProgressStyleModel",
          "state": {
            "_model_module": "@jupyter-widgets/controls",
            "_model_module_version": "1.5.0",
            "_model_name": "ProgressStyleModel",
            "_view_count": null,
            "_view_module": "@jupyter-widgets/base",
            "_view_module_version": "1.2.0",
            "_view_name": "StyleView",
            "bar_color": null,
            "description_width": ""
          }
        },
        "37787989613a481b8ea15133f4020880": {
          "model_module": "@jupyter-widgets/controls",
          "model_module_version": "1.5.0",
          "model_name": "ProgressStyleModel",
          "state": {
            "_model_module": "@jupyter-widgets/controls",
            "_model_module_version": "1.5.0",
            "_model_name": "ProgressStyleModel",
            "_view_count": null,
            "_view_module": "@jupyter-widgets/base",
            "_view_module_version": "1.2.0",
            "_view_name": "StyleView",
            "bar_color": null,
            "description_width": ""
          }
        },
        "38ec543fd0704f16a0944f29a62a62c8": {
          "model_module": "@jupyter-widgets/controls",
          "model_module_version": "1.5.0",
          "model_name": "FloatProgressModel",
          "state": {
            "_dom_classes": [],
            "_model_module": "@jupyter-widgets/controls",
            "_model_module_version": "1.5.0",
            "_model_name": "FloatProgressModel",
            "_view_count": null,
            "_view_module": "@jupyter-widgets/controls",
            "_view_module_version": "1.5.0",
            "_view_name": "ProgressView",
            "bar_style": "success",
            "description": "",
            "description_tooltip": null,
            "layout": "IPY_MODEL_01364dc394bd45878a8b4a4d53ab78a0",
            "max": 9650,
            "min": 0,
            "orientation": "horizontal",
            "style": "IPY_MODEL_f8507d059fb143a692f60cb439cf8ee6",
            "value": 9650
          }
        },
        "3a2d6d6da7f747f4a8f250c2a15e116f": {
          "model_module": "@jupyter-widgets/controls",
          "model_module_version": "1.5.0",
          "model_name": "ProgressStyleModel",
          "state": {
            "_model_module": "@jupyter-widgets/controls",
            "_model_module_version": "1.5.0",
            "_model_name": "ProgressStyleModel",
            "_view_count": null,
            "_view_module": "@jupyter-widgets/base",
            "_view_module_version": "1.2.0",
            "_view_name": "StyleView",
            "bar_color": null,
            "description_width": ""
          }
        },
        "3a8ee17f73b44e0ba175eea7d9d4ec87": {
          "model_module": "@jupyter-widgets/base",
          "model_module_version": "1.2.0",
          "model_name": "LayoutModel",
          "state": {
            "_model_module": "@jupyter-widgets/base",
            "_model_module_version": "1.2.0",
            "_model_name": "LayoutModel",
            "_view_count": null,
            "_view_module": "@jupyter-widgets/base",
            "_view_module_version": "1.2.0",
            "_view_name": "LayoutView",
            "align_content": null,
            "align_items": null,
            "align_self": null,
            "border": null,
            "bottom": null,
            "display": null,
            "flex": null,
            "flex_flow": null,
            "grid_area": null,
            "grid_auto_columns": null,
            "grid_auto_flow": null,
            "grid_auto_rows": null,
            "grid_column": null,
            "grid_gap": null,
            "grid_row": null,
            "grid_template_areas": null,
            "grid_template_columns": null,
            "grid_template_rows": null,
            "height": null,
            "justify_content": null,
            "justify_items": null,
            "left": null,
            "margin": null,
            "max_height": null,
            "max_width": null,
            "min_height": null,
            "min_width": null,
            "object_fit": null,
            "object_position": null,
            "order": null,
            "overflow": null,
            "overflow_x": null,
            "overflow_y": null,
            "padding": null,
            "right": null,
            "top": null,
            "visibility": null,
            "width": null
          }
        },
        "3e04b7f621f3434f9933def835cc54fb": {
          "model_module": "@jupyter-widgets/base",
          "model_module_version": "1.2.0",
          "model_name": "LayoutModel",
          "state": {
            "_model_module": "@jupyter-widgets/base",
            "_model_module_version": "1.2.0",
            "_model_name": "LayoutModel",
            "_view_count": null,
            "_view_module": "@jupyter-widgets/base",
            "_view_module_version": "1.2.0",
            "_view_name": "LayoutView",
            "align_content": null,
            "align_items": null,
            "align_self": null,
            "border": null,
            "bottom": null,
            "display": null,
            "flex": null,
            "flex_flow": null,
            "grid_area": null,
            "grid_auto_columns": null,
            "grid_auto_flow": null,
            "grid_auto_rows": null,
            "grid_column": null,
            "grid_gap": null,
            "grid_row": null,
            "grid_template_areas": null,
            "grid_template_columns": null,
            "grid_template_rows": null,
            "height": null,
            "justify_content": null,
            "justify_items": null,
            "left": null,
            "margin": null,
            "max_height": null,
            "max_width": null,
            "min_height": null,
            "min_width": null,
            "object_fit": null,
            "object_position": null,
            "order": null,
            "overflow": null,
            "overflow_x": null,
            "overflow_y": null,
            "padding": null,
            "right": null,
            "top": null,
            "visibility": null,
            "width": null
          }
        },
        "3e6f2e1cfdeb4e259999137a5eede1e7": {
          "model_module": "@jupyter-widgets/controls",
          "model_module_version": "1.5.0",
          "model_name": "FloatProgressModel",
          "state": {
            "_dom_classes": [],
            "_model_module": "@jupyter-widgets/controls",
            "_model_module_version": "1.5.0",
            "_model_name": "FloatProgressModel",
            "_view_count": null,
            "_view_module": "@jupyter-widgets/controls",
            "_view_module_version": "1.5.0",
            "_view_name": "ProgressView",
            "bar_style": "success",
            "description": "",
            "description_tooltip": null,
            "layout": "IPY_MODEL_74918ac2858a41dab80b3becd9777a06",
            "max": 76,
            "min": 0,
            "orientation": "horizontal",
            "style": "IPY_MODEL_2d3f87a355f54e4f8ac4a65ed97750b0",
            "value": 76
          }
        },
        "418810c0cb464419ad6749fe743338b2": {
          "model_module": "@jupyter-widgets/base",
          "model_module_version": "1.2.0",
          "model_name": "LayoutModel",
          "state": {
            "_model_module": "@jupyter-widgets/base",
            "_model_module_version": "1.2.0",
            "_model_name": "LayoutModel",
            "_view_count": null,
            "_view_module": "@jupyter-widgets/base",
            "_view_module_version": "1.2.0",
            "_view_name": "LayoutView",
            "align_content": null,
            "align_items": null,
            "align_self": null,
            "border": null,
            "bottom": null,
            "display": null,
            "flex": null,
            "flex_flow": null,
            "grid_area": null,
            "grid_auto_columns": null,
            "grid_auto_flow": null,
            "grid_auto_rows": null,
            "grid_column": null,
            "grid_gap": null,
            "grid_row": null,
            "grid_template_areas": null,
            "grid_template_columns": null,
            "grid_template_rows": null,
            "height": null,
            "justify_content": null,
            "justify_items": null,
            "left": null,
            "margin": null,
            "max_height": null,
            "max_width": null,
            "min_height": null,
            "min_width": null,
            "object_fit": null,
            "object_position": null,
            "order": null,
            "overflow": null,
            "overflow_x": null,
            "overflow_y": null,
            "padding": null,
            "right": null,
            "top": null,
            "visibility": null,
            "width": null
          }
        },
        "427fb689eb014b3a889772f5fb0778c2": {
          "model_module": "@jupyter-widgets/controls",
          "model_module_version": "1.5.0",
          "model_name": "DescriptionStyleModel",
          "state": {
            "_model_module": "@jupyter-widgets/controls",
            "_model_module_version": "1.5.0",
            "_model_name": "DescriptionStyleModel",
            "_view_count": null,
            "_view_module": "@jupyter-widgets/base",
            "_view_module_version": "1.2.0",
            "_view_name": "StyleView",
            "description_width": ""
          }
        },
        "4c22c8e3481346ce9d009d33be8e9692": {
          "model_module": "@jupyter-widgets/base",
          "model_module_version": "1.2.0",
          "model_name": "LayoutModel",
          "state": {
            "_model_module": "@jupyter-widgets/base",
            "_model_module_version": "1.2.0",
            "_model_name": "LayoutModel",
            "_view_count": null,
            "_view_module": "@jupyter-widgets/base",
            "_view_module_version": "1.2.0",
            "_view_name": "LayoutView",
            "align_content": null,
            "align_items": null,
            "align_self": null,
            "border": null,
            "bottom": null,
            "display": null,
            "flex": null,
            "flex_flow": null,
            "grid_area": null,
            "grid_auto_columns": null,
            "grid_auto_flow": null,
            "grid_auto_rows": null,
            "grid_column": null,
            "grid_gap": null,
            "grid_row": null,
            "grid_template_areas": null,
            "grid_template_columns": null,
            "grid_template_rows": null,
            "height": null,
            "justify_content": null,
            "justify_items": null,
            "left": null,
            "margin": null,
            "max_height": null,
            "max_width": null,
            "min_height": null,
            "min_width": null,
            "object_fit": null,
            "object_position": null,
            "order": null,
            "overflow": null,
            "overflow_x": null,
            "overflow_y": null,
            "padding": null,
            "right": null,
            "top": null,
            "visibility": null,
            "width": null
          }
        },
        "4d6771fa6cca400f84e59ee000699654": {
          "model_module": "@jupyter-widgets/controls",
          "model_module_version": "1.5.0",
          "model_name": "HTMLModel",
          "state": {
            "_dom_classes": [],
            "_model_module": "@jupyter-widgets/controls",
            "_model_module_version": "1.5.0",
            "_model_name": "HTMLModel",
            "_view_count": null,
            "_view_module": "@jupyter-widgets/controls",
            "_view_module_version": "1.5.0",
            "_view_name": "HTMLView",
            "description": "",
            "description_tooltip": null,
            "layout": "IPY_MODEL_239197994bc740bc961b60354a0d3529",
            "placeholder": "​",
            "style": "IPY_MODEL_6d87c78d771443e0a53841f486d6756e",
            "value": " 9650/9650 [00:00&lt;00:00, 18085.84 examples/s]"
          }
        },
        "4d8ed14a77c24ecf93a436eb4befe8d0": {
          "model_module": "@jupyter-widgets/controls",
          "model_module_version": "1.5.0",
          "model_name": "HTMLModel",
          "state": {
            "_dom_classes": [],
            "_model_module": "@jupyter-widgets/controls",
            "_model_module_version": "1.5.0",
            "_model_name": "HTMLModel",
            "_view_count": null,
            "_view_module": "@jupyter-widgets/controls",
            "_view_module_version": "1.5.0",
            "_view_name": "HTMLView",
            "description": "",
            "description_tooltip": null,
            "layout": "IPY_MODEL_9bded76afdff45bb91ec4b0d78658f92",
            "placeholder": "​",
            "style": "IPY_MODEL_ce655887e4bb42ab9c527c66f478cf93",
            "value": "Batches: 100%"
          }
        },
        "54881d3065f844119b1a7afbb3e5d3a0": {
          "model_module": "@jupyter-widgets/base",
          "model_module_version": "1.2.0",
          "model_name": "LayoutModel",
          "state": {
            "_model_module": "@jupyter-widgets/base",
            "_model_module_version": "1.2.0",
            "_model_name": "LayoutModel",
            "_view_count": null,
            "_view_module": "@jupyter-widgets/base",
            "_view_module_version": "1.2.0",
            "_view_name": "LayoutView",
            "align_content": null,
            "align_items": null,
            "align_self": null,
            "border": null,
            "bottom": null,
            "display": null,
            "flex": null,
            "flex_flow": null,
            "grid_area": null,
            "grid_auto_columns": null,
            "grid_auto_flow": null,
            "grid_auto_rows": null,
            "grid_column": null,
            "grid_gap": null,
            "grid_row": null,
            "grid_template_areas": null,
            "grid_template_columns": null,
            "grid_template_rows": null,
            "height": null,
            "justify_content": null,
            "justify_items": null,
            "left": null,
            "margin": null,
            "max_height": null,
            "max_width": null,
            "min_height": null,
            "min_width": null,
            "object_fit": null,
            "object_position": null,
            "order": null,
            "overflow": null,
            "overflow_x": null,
            "overflow_y": null,
            "padding": null,
            "right": null,
            "top": null,
            "visibility": null,
            "width": null
          }
        },
        "58134cbf911d48ca85144fa641c1679e": {
          "model_module": "@jupyter-widgets/controls",
          "model_module_version": "1.5.0",
          "model_name": "DescriptionStyleModel",
          "state": {
            "_model_module": "@jupyter-widgets/controls",
            "_model_module_version": "1.5.0",
            "_model_name": "DescriptionStyleModel",
            "_view_count": null,
            "_view_module": "@jupyter-widgets/base",
            "_view_module_version": "1.2.0",
            "_view_name": "StyleView",
            "description_width": ""
          }
        },
        "5aa5f2c592a14542a3280a370d59162c": {
          "model_module": "@jupyter-widgets/controls",
          "model_module_version": "1.5.0",
          "model_name": "HBoxModel",
          "state": {
            "_dom_classes": [],
            "_model_module": "@jupyter-widgets/controls",
            "_model_module_version": "1.5.0",
            "_model_name": "HBoxModel",
            "_view_count": null,
            "_view_module": "@jupyter-widgets/controls",
            "_view_module_version": "1.5.0",
            "_view_name": "HBoxView",
            "box_style": "",
            "children": [
              "IPY_MODEL_032b698bed6243df9545f9f92ef83065",
              "IPY_MODEL_7f4acfeb330f4f52bbd5cd479c7413c3",
              "IPY_MODEL_a1149b527b7f486b8dfbbeb465d2c1d7"
            ],
            "layout": "IPY_MODEL_1d4f86e8aabf4ea9ab3c07cd8da8f6be"
          }
        },
        "5f7c3e1a3c414bbfa0175462a2ae5316": {
          "model_module": "@jupyter-widgets/controls",
          "model_module_version": "1.5.0",
          "model_name": "HTMLModel",
          "state": {
            "_dom_classes": [],
            "_model_module": "@jupyter-widgets/controls",
            "_model_module_version": "1.5.0",
            "_model_name": "HTMLModel",
            "_view_count": null,
            "_view_module": "@jupyter-widgets/controls",
            "_view_module_version": "1.5.0",
            "_view_name": "HTMLView",
            "description": "",
            "description_tooltip": null,
            "layout": "IPY_MODEL_daaa09a3f508428daaccd7162bd58f70",
            "placeholder": "​",
            "style": "IPY_MODEL_0c4540d5b87a4d93a28e4ac27661c931",
            "value": "train-00000-of-00001.parquet: 100%"
          }
        },
        "60f03fa6406d4a9394526327f13ab601": {
          "model_module": "@jupyter-widgets/controls",
          "model_module_version": "1.5.0",
          "model_name": "DescriptionStyleModel",
          "state": {
            "_model_module": "@jupyter-widgets/controls",
            "_model_module_version": "1.5.0",
            "_model_name": "DescriptionStyleModel",
            "_view_count": null,
            "_view_module": "@jupyter-widgets/base",
            "_view_module_version": "1.2.0",
            "_view_name": "StyleView",
            "description_width": ""
          }
        },
        "66d2681210524b108188f639cc986608": {
          "model_module": "@jupyter-widgets/controls",
          "model_module_version": "1.5.0",
          "model_name": "HTMLModel",
          "state": {
            "_dom_classes": [],
            "_model_module": "@jupyter-widgets/controls",
            "_model_module_version": "1.5.0",
            "_model_name": "HTMLModel",
            "_view_count": null,
            "_view_module": "@jupyter-widgets/controls",
            "_view_module_version": "1.5.0",
            "_view_name": "HTMLView",
            "description": "",
            "description_tooltip": null,
            "layout": "IPY_MODEL_7c8a44db66ad448cafbcc4876abf1c62",
            "placeholder": "​",
            "style": "IPY_MODEL_07122ea37d9744f09af3bb7665872cfb",
            "value": " 175M/175M [00:02&lt;00:00, 85.4MB/s]"
          }
        },
        "677911db40424703b892becf49f51209": {
          "model_module": "@jupyter-widgets/controls",
          "model_module_version": "1.5.0",
          "model_name": "HTMLModel",
          "state": {
            "_dom_classes": [],
            "_model_module": "@jupyter-widgets/controls",
            "_model_module_version": "1.5.0",
            "_model_name": "HTMLModel",
            "_view_count": null,
            "_view_module": "@jupyter-widgets/controls",
            "_view_module_version": "1.5.0",
            "_view_name": "HTMLView",
            "description": "",
            "description_tooltip": null,
            "layout": "IPY_MODEL_c93f21339ff34c50b25e2b66720913af",
            "placeholder": "​",
            "style": "IPY_MODEL_e6c5d881cc4c435d8ee1bf12a7d627dd",
            "value": "validation-00000-of-00001.parquet: 100%"
          }
        },
        "6ae480ac8e6f4be6afc5b72e71db1f68": {
          "model_module": "@jupyter-widgets/controls",
          "model_module_version": "1.5.0",
          "model_name": "HTMLModel",
          "state": {
            "_dom_classes": [],
            "_model_module": "@jupyter-widgets/controls",
            "_model_module_version": "1.5.0",
            "_model_name": "HTMLModel",
            "_view_count": null,
            "_view_module": "@jupyter-widgets/controls",
            "_view_module_version": "1.5.0",
            "_view_name": "HTMLView",
            "description": "",
            "description_tooltip": null,
            "layout": "IPY_MODEL_3e04b7f621f3434f9933def835cc54fb",
            "placeholder": "​",
            "style": "IPY_MODEL_93f7c06864284cf9a62e78e5018afb96",
            "value": "README.md: 100%"
          }
        },
        "6d87c78d771443e0a53841f486d6756e": {
          "model_module": "@jupyter-widgets/controls",
          "model_module_version": "1.5.0",
          "model_name": "DescriptionStyleModel",
          "state": {
            "_model_module": "@jupyter-widgets/controls",
            "_model_module_version": "1.5.0",
            "_model_name": "DescriptionStyleModel",
            "_view_count": null,
            "_view_module": "@jupyter-widgets/base",
            "_view_module_version": "1.2.0",
            "_view_name": "StyleView",
            "description_width": ""
          }
        },
        "71001c39082248f7922a319402b8b19e": {
          "model_module": "@jupyter-widgets/controls",
          "model_module_version": "1.5.0",
          "model_name": "ProgressStyleModel",
          "state": {
            "_model_module": "@jupyter-widgets/controls",
            "_model_module_version": "1.5.0",
            "_model_name": "ProgressStyleModel",
            "_view_count": null,
            "_view_module": "@jupyter-widgets/base",
            "_view_module_version": "1.2.0",
            "_view_name": "StyleView",
            "bar_color": null,
            "description_width": ""
          }
        },
        "73a99c3fcfc04e1f822133f3234cb574": {
          "model_module": "@jupyter-widgets/base",
          "model_module_version": "1.2.0",
          "model_name": "LayoutModel",
          "state": {
            "_model_module": "@jupyter-widgets/base",
            "_model_module_version": "1.2.0",
            "_model_name": "LayoutModel",
            "_view_count": null,
            "_view_module": "@jupyter-widgets/base",
            "_view_module_version": "1.2.0",
            "_view_name": "LayoutView",
            "align_content": null,
            "align_items": null,
            "align_self": null,
            "border": null,
            "bottom": null,
            "display": null,
            "flex": null,
            "flex_flow": null,
            "grid_area": null,
            "grid_auto_columns": null,
            "grid_auto_flow": null,
            "grid_auto_rows": null,
            "grid_column": null,
            "grid_gap": null,
            "grid_row": null,
            "grid_template_areas": null,
            "grid_template_columns": null,
            "grid_template_rows": null,
            "height": null,
            "justify_content": null,
            "justify_items": null,
            "left": null,
            "margin": null,
            "max_height": null,
            "max_width": null,
            "min_height": null,
            "min_width": null,
            "object_fit": null,
            "object_position": null,
            "order": null,
            "overflow": null,
            "overflow_x": null,
            "overflow_y": null,
            "padding": null,
            "right": null,
            "top": null,
            "visibility": null,
            "width": null
          }
        },
        "7473844f3d3a437b9c86d5283a1c090c": {
          "model_module": "@jupyter-widgets/base",
          "model_module_version": "1.2.0",
          "model_name": "LayoutModel",
          "state": {
            "_model_module": "@jupyter-widgets/base",
            "_model_module_version": "1.2.0",
            "_model_name": "LayoutModel",
            "_view_count": null,
            "_view_module": "@jupyter-widgets/base",
            "_view_module_version": "1.2.0",
            "_view_name": "LayoutView",
            "align_content": null,
            "align_items": null,
            "align_self": null,
            "border": null,
            "bottom": null,
            "display": null,
            "flex": null,
            "flex_flow": null,
            "grid_area": null,
            "grid_auto_columns": null,
            "grid_auto_flow": null,
            "grid_auto_rows": null,
            "grid_column": null,
            "grid_gap": null,
            "grid_row": null,
            "grid_template_areas": null,
            "grid_template_columns": null,
            "grid_template_rows": null,
            "height": null,
            "justify_content": null,
            "justify_items": null,
            "left": null,
            "margin": null,
            "max_height": null,
            "max_width": null,
            "min_height": null,
            "min_width": null,
            "object_fit": null,
            "object_position": null,
            "order": null,
            "overflow": null,
            "overflow_x": null,
            "overflow_y": null,
            "padding": null,
            "right": null,
            "top": null,
            "visibility": null,
            "width": null
          }
        },
        "74918ac2858a41dab80b3becd9777a06": {
          "model_module": "@jupyter-widgets/base",
          "model_module_version": "1.2.0",
          "model_name": "LayoutModel",
          "state": {
            "_model_module": "@jupyter-widgets/base",
            "_model_module_version": "1.2.0",
            "_model_name": "LayoutModel",
            "_view_count": null,
            "_view_module": "@jupyter-widgets/base",
            "_view_module_version": "1.2.0",
            "_view_name": "LayoutView",
            "align_content": null,
            "align_items": null,
            "align_self": null,
            "border": null,
            "bottom": null,
            "display": null,
            "flex": null,
            "flex_flow": null,
            "grid_area": null,
            "grid_auto_columns": null,
            "grid_auto_flow": null,
            "grid_auto_rows": null,
            "grid_column": null,
            "grid_gap": null,
            "grid_row": null,
            "grid_template_areas": null,
            "grid_template_columns": null,
            "grid_template_rows": null,
            "height": null,
            "justify_content": null,
            "justify_items": null,
            "left": null,
            "margin": null,
            "max_height": null,
            "max_width": null,
            "min_height": null,
            "min_width": null,
            "object_fit": null,
            "object_position": null,
            "order": null,
            "overflow": null,
            "overflow_x": null,
            "overflow_y": null,
            "padding": null,
            "right": null,
            "top": null,
            "visibility": null,
            "width": null
          }
        },
        "7c8a44db66ad448cafbcc4876abf1c62": {
          "model_module": "@jupyter-widgets/base",
          "model_module_version": "1.2.0",
          "model_name": "LayoutModel",
          "state": {
            "_model_module": "@jupyter-widgets/base",
            "_model_module_version": "1.2.0",
            "_model_name": "LayoutModel",
            "_view_count": null,
            "_view_module": "@jupyter-widgets/base",
            "_view_module_version": "1.2.0",
            "_view_name": "LayoutView",
            "align_content": null,
            "align_items": null,
            "align_self": null,
            "border": null,
            "bottom": null,
            "display": null,
            "flex": null,
            "flex_flow": null,
            "grid_area": null,
            "grid_auto_columns": null,
            "grid_auto_flow": null,
            "grid_auto_rows": null,
            "grid_column": null,
            "grid_gap": null,
            "grid_row": null,
            "grid_template_areas": null,
            "grid_template_columns": null,
            "grid_template_rows": null,
            "height": null,
            "justify_content": null,
            "justify_items": null,
            "left": null,
            "margin": null,
            "max_height": null,
            "max_width": null,
            "min_height": null,
            "min_width": null,
            "object_fit": null,
            "object_position": null,
            "order": null,
            "overflow": null,
            "overflow_x": null,
            "overflow_y": null,
            "padding": null,
            "right": null,
            "top": null,
            "visibility": null,
            "width": null
          }
        },
        "7e23dfdf49874603b0e8cc8113710dc6": {
          "model_module": "@jupyter-widgets/controls",
          "model_module_version": "1.5.0",
          "model_name": "HTMLModel",
          "state": {
            "_dom_classes": [],
            "_model_module": "@jupyter-widgets/controls",
            "_model_module_version": "1.5.0",
            "_model_name": "HTMLModel",
            "_view_count": null,
            "_view_module": "@jupyter-widgets/controls",
            "_view_module_version": "1.5.0",
            "_view_name": "HTMLView",
            "description": "",
            "description_tooltip": null,
            "layout": "IPY_MODEL_114da209a6c1489a881428d1f8db07cd",
            "placeholder": "​",
            "style": "IPY_MODEL_427fb689eb014b3a889772f5fb0778c2",
            "value": "Generating validation split: 100%"
          }
        },
        "7eb6ab2fbc0c4da4b3b39dde64a6156a": {
          "model_module": "@jupyter-widgets/controls",
          "model_module_version": "1.5.0",
          "model_name": "HBoxModel",
          "state": {
            "_dom_classes": [],
            "_model_module": "@jupyter-widgets/controls",
            "_model_module_version": "1.5.0",
            "_model_name": "HBoxModel",
            "_view_count": null,
            "_view_module": "@jupyter-widgets/controls",
            "_view_module_version": "1.5.0",
            "_view_name": "HBoxView",
            "box_style": "",
            "children": [
              "IPY_MODEL_5f7c3e1a3c414bbfa0175462a2ae5316",
              "IPY_MODEL_0c6c7deb4e6347069f650343d44c186a",
              "IPY_MODEL_66d2681210524b108188f639cc986608"
            ],
            "layout": "IPY_MODEL_ee663bf06efd4d9fab83d6c1c2c8a6d5"
          }
        },
        "7f4acfeb330f4f52bbd5cd479c7413c3": {
          "model_module": "@jupyter-widgets/controls",
          "model_module_version": "1.5.0",
          "model_name": "FloatProgressModel",
          "state": {
            "_dom_classes": [],
            "_model_module": "@jupyter-widgets/controls",
            "_model_module_version": "1.5.0",
            "_model_name": "FloatProgressModel",
            "_view_count": null,
            "_view_module": "@jupyter-widgets/controls",
            "_view_module_version": "1.5.0",
            "_view_name": "ProgressView",
            "bar_style": "success",
            "description": "",
            "description_tooltip": null,
            "layout": "IPY_MODEL_4c22c8e3481346ce9d009d33be8e9692",
            "max": 82326,
            "min": 0,
            "orientation": "horizontal",
            "style": "IPY_MODEL_37787989613a481b8ea15133f4020880",
            "value": 82326
          }
        },
        "85c26192099944249dfafad7654ca907": {
          "model_module": "@jupyter-widgets/base",
          "model_module_version": "1.2.0",
          "model_name": "LayoutModel",
          "state": {
            "_model_module": "@jupyter-widgets/base",
            "_model_module_version": "1.2.0",
            "_model_name": "LayoutModel",
            "_view_count": null,
            "_view_module": "@jupyter-widgets/base",
            "_view_module_version": "1.2.0",
            "_view_name": "LayoutView",
            "align_content": null,
            "align_items": null,
            "align_self": null,
            "border": null,
            "bottom": null,
            "display": null,
            "flex": null,
            "flex_flow": null,
            "grid_area": null,
            "grid_auto_columns": null,
            "grid_auto_flow": null,
            "grid_auto_rows": null,
            "grid_column": null,
            "grid_gap": null,
            "grid_row": null,
            "grid_template_areas": null,
            "grid_template_columns": null,
            "grid_template_rows": null,
            "height": null,
            "justify_content": null,
            "justify_items": null,
            "left": null,
            "margin": null,
            "max_height": null,
            "max_width": null,
            "min_height": null,
            "min_width": null,
            "object_fit": null,
            "object_position": null,
            "order": null,
            "overflow": null,
            "overflow_x": null,
            "overflow_y": null,
            "padding": null,
            "right": null,
            "top": null,
            "visibility": null,
            "width": null
          }
        },
        "8b23cf882ab440c1b039da653ec2291a": {
          "model_module": "@jupyter-widgets/controls",
          "model_module_version": "1.5.0",
          "model_name": "HBoxModel",
          "state": {
            "_dom_classes": [],
            "_model_module": "@jupyter-widgets/controls",
            "_model_module_version": "1.5.0",
            "_model_name": "HBoxModel",
            "_view_count": null,
            "_view_module": "@jupyter-widgets/controls",
            "_view_module_version": "1.5.0",
            "_view_name": "HBoxView",
            "box_style": "",
            "children": [
              "IPY_MODEL_7e23dfdf49874603b0e8cc8113710dc6",
              "IPY_MODEL_bba66cc99d5b48b39ded780614fdb52b",
              "IPY_MODEL_f646897cd288402f9f4d9d3518dfea16"
            ],
            "layout": "IPY_MODEL_85c26192099944249dfafad7654ca907"
          }
        },
        "93f7c06864284cf9a62e78e5018afb96": {
          "model_module": "@jupyter-widgets/controls",
          "model_module_version": "1.5.0",
          "model_name": "DescriptionStyleModel",
          "state": {
            "_model_module": "@jupyter-widgets/controls",
            "_model_module_version": "1.5.0",
            "_model_name": "DescriptionStyleModel",
            "_view_count": null,
            "_view_module": "@jupyter-widgets/base",
            "_view_module_version": "1.2.0",
            "_view_name": "StyleView",
            "description_width": ""
          }
        },
        "99ad48db09f14e15b1becd3f17b31c15": {
          "model_module": "@jupyter-widgets/base",
          "model_module_version": "1.2.0",
          "model_name": "LayoutModel",
          "state": {
            "_model_module": "@jupyter-widgets/base",
            "_model_module_version": "1.2.0",
            "_model_name": "LayoutModel",
            "_view_count": null,
            "_view_module": "@jupyter-widgets/base",
            "_view_module_version": "1.2.0",
            "_view_name": "LayoutView",
            "align_content": null,
            "align_items": null,
            "align_self": null,
            "border": null,
            "bottom": null,
            "display": null,
            "flex": null,
            "flex_flow": null,
            "grid_area": null,
            "grid_auto_columns": null,
            "grid_auto_flow": null,
            "grid_auto_rows": null,
            "grid_column": null,
            "grid_gap": null,
            "grid_row": null,
            "grid_template_areas": null,
            "grid_template_columns": null,
            "grid_template_rows": null,
            "height": null,
            "justify_content": null,
            "justify_items": null,
            "left": null,
            "margin": null,
            "max_height": null,
            "max_width": null,
            "min_height": null,
            "min_width": null,
            "object_fit": null,
            "object_position": null,
            "order": null,
            "overflow": null,
            "overflow_x": null,
            "overflow_y": null,
            "padding": null,
            "right": null,
            "top": null,
            "visibility": null,
            "width": null
          }
        },
        "9baa31b6ff9b48d9b4492e7b393f2330": {
          "model_module": "@jupyter-widgets/base",
          "model_module_version": "1.2.0",
          "model_name": "LayoutModel",
          "state": {
            "_model_module": "@jupyter-widgets/base",
            "_model_module_version": "1.2.0",
            "_model_name": "LayoutModel",
            "_view_count": null,
            "_view_module": "@jupyter-widgets/base",
            "_view_module_version": "1.2.0",
            "_view_name": "LayoutView",
            "align_content": null,
            "align_items": null,
            "align_self": null,
            "border": null,
            "bottom": null,
            "display": null,
            "flex": null,
            "flex_flow": null,
            "grid_area": null,
            "grid_auto_columns": null,
            "grid_auto_flow": null,
            "grid_auto_rows": null,
            "grid_column": null,
            "grid_gap": null,
            "grid_row": null,
            "grid_template_areas": null,
            "grid_template_columns": null,
            "grid_template_rows": null,
            "height": null,
            "justify_content": null,
            "justify_items": null,
            "left": null,
            "margin": null,
            "max_height": null,
            "max_width": null,
            "min_height": null,
            "min_width": null,
            "object_fit": null,
            "object_position": null,
            "order": null,
            "overflow": null,
            "overflow_x": null,
            "overflow_y": null,
            "padding": null,
            "right": null,
            "top": null,
            "visibility": null,
            "width": null
          }
        },
        "9bded76afdff45bb91ec4b0d78658f92": {
          "model_module": "@jupyter-widgets/base",
          "model_module_version": "1.2.0",
          "model_name": "LayoutModel",
          "state": {
            "_model_module": "@jupyter-widgets/base",
            "_model_module_version": "1.2.0",
            "_model_name": "LayoutModel",
            "_view_count": null,
            "_view_module": "@jupyter-widgets/base",
            "_view_module_version": "1.2.0",
            "_view_name": "LayoutView",
            "align_content": null,
            "align_items": null,
            "align_self": null,
            "border": null,
            "bottom": null,
            "display": null,
            "flex": null,
            "flex_flow": null,
            "grid_area": null,
            "grid_auto_columns": null,
            "grid_auto_flow": null,
            "grid_auto_rows": null,
            "grid_column": null,
            "grid_gap": null,
            "grid_row": null,
            "grid_template_areas": null,
            "grid_template_columns": null,
            "grid_template_rows": null,
            "height": null,
            "justify_content": null,
            "justify_items": null,
            "left": null,
            "margin": null,
            "max_height": null,
            "max_width": null,
            "min_height": null,
            "min_width": null,
            "object_fit": null,
            "object_position": null,
            "order": null,
            "overflow": null,
            "overflow_x": null,
            "overflow_y": null,
            "padding": null,
            "right": null,
            "top": null,
            "visibility": null,
            "width": null
          }
        },
        "a03432db4d6b4a339f65a5ee76ff0fd7": {
          "model_module": "@jupyter-widgets/controls",
          "model_module_version": "1.5.0",
          "model_name": "DescriptionStyleModel",
          "state": {
            "_model_module": "@jupyter-widgets/controls",
            "_model_module_version": "1.5.0",
            "_model_name": "DescriptionStyleModel",
            "_view_count": null,
            "_view_module": "@jupyter-widgets/base",
            "_view_module_version": "1.2.0",
            "_view_name": "StyleView",
            "description_width": ""
          }
        },
        "a1149b527b7f486b8dfbbeb465d2c1d7": {
          "model_module": "@jupyter-widgets/controls",
          "model_module_version": "1.5.0",
          "model_name": "HTMLModel",
          "state": {
            "_dom_classes": [],
            "_model_module": "@jupyter-widgets/controls",
            "_model_module_version": "1.5.0",
            "_model_name": "HTMLModel",
            "_view_count": null,
            "_view_module": "@jupyter-widgets/controls",
            "_view_module_version": "1.5.0",
            "_view_name": "HTMLView",
            "description": "",
            "description_tooltip": null,
            "layout": "IPY_MODEL_e999ae58fb6f4a3ba61033cdbeed25e3",
            "placeholder": "​",
            "style": "IPY_MODEL_22d5e2ca7ea046ff8e602a45cc80afad",
            "value": " 82326/82326 [00:03&lt;00:00, 18912.20 examples/s]"
          }
        },
        "a120ded9f48d4f31b9a6e729d10bc1ff": {
          "model_module": "@jupyter-widgets/controls",
          "model_module_version": "1.5.0",
          "model_name": "HTMLModel",
          "state": {
            "_dom_classes": [],
            "_model_module": "@jupyter-widgets/controls",
            "_model_module_version": "1.5.0",
            "_model_name": "HTMLModel",
            "_view_count": null,
            "_view_module": "@jupyter-widgets/controls",
            "_view_module_version": "1.5.0",
            "_view_name": "HTMLView",
            "description": "",
            "description_tooltip": null,
            "layout": "IPY_MODEL_16b19d2a98044701bd9ced60ca8c19b0",
            "placeholder": "​",
            "style": "IPY_MODEL_60f03fa6406d4a9394526327f13ab601",
            "value": "test-00000-of-00001.parquet: 100%"
          }
        },
        "a856a305c06a4bb4a4defce00d8ffcde": {
          "model_module": "@jupyter-widgets/controls",
          "model_module_version": "1.5.0",
          "model_name": "DescriptionStyleModel",
          "state": {
            "_model_module": "@jupyter-widgets/controls",
            "_model_module_version": "1.5.0",
            "_model_name": "DescriptionStyleModel",
            "_view_count": null,
            "_view_module": "@jupyter-widgets/base",
            "_view_module_version": "1.2.0",
            "_view_name": "StyleView",
            "description_width": ""
          }
        },
        "ac5c6618420146819cb849041a59537e": {
          "model_module": "@jupyter-widgets/controls",
          "model_module_version": "1.5.0",
          "model_name": "FloatProgressModel",
          "state": {
            "_dom_classes": [],
            "_model_module": "@jupyter-widgets/controls",
            "_model_module_version": "1.5.0",
            "_model_name": "FloatProgressModel",
            "_view_count": null,
            "_view_module": "@jupyter-widgets/controls",
            "_view_module_version": "1.5.0",
            "_view_name": "ProgressView",
            "bar_style": "success",
            "description": "",
            "description_tooltip": null,
            "layout": "IPY_MODEL_2d8046781095430c9dbc4a8772364fcd",
            "max": 9480,
            "min": 0,
            "orientation": "horizontal",
            "style": "IPY_MODEL_2b3b39f7df264745b094d2f6a9925df0",
            "value": 9480
          }
        },
        "afb4c5e717494db1927711e49cf10be0": {
          "model_module": "@jupyter-widgets/controls",
          "model_module_version": "1.5.0",
          "model_name": "HTMLModel",
          "state": {
            "_dom_classes": [],
            "_model_module": "@jupyter-widgets/controls",
            "_model_module_version": "1.5.0",
            "_model_name": "HTMLModel",
            "_view_count": null,
            "_view_module": "@jupyter-widgets/controls",
            "_view_module_version": "1.5.0",
            "_view_name": "HTMLView",
            "description": "",
            "description_tooltip": null,
            "layout": "IPY_MODEL_9baa31b6ff9b48d9b4492e7b393f2330",
            "placeholder": "​",
            "style": "IPY_MODEL_cbc606fa2ba6479aab2c39554b7e9fed",
            "value": " 9.48k/9.48k [00:00&lt;00:00, 173kB/s]"
          }
        },
        "bba66cc99d5b48b39ded780614fdb52b": {
          "model_module": "@jupyter-widgets/controls",
          "model_module_version": "1.5.0",
          "model_name": "FloatProgressModel",
          "state": {
            "_dom_classes": [],
            "_model_module": "@jupyter-widgets/controls",
            "_model_module_version": "1.5.0",
            "_model_name": "FloatProgressModel",
            "_view_count": null,
            "_view_module": "@jupyter-widgets/controls",
            "_view_module_version": "1.5.0",
            "_view_name": "ProgressView",
            "bar_style": "success",
            "description": "",
            "description_tooltip": null,
            "layout": "IPY_MODEL_7473844f3d3a437b9c86d5283a1c090c",
            "max": 10047,
            "min": 0,
            "orientation": "horizontal",
            "style": "IPY_MODEL_3a2d6d6da7f747f4a8f250c2a15e116f",
            "value": 10047
          }
        },
        "bc0f8fa4da784b7b87843a331f12bc94": {
          "model_module": "@jupyter-widgets/controls",
          "model_module_version": "1.5.0",
          "model_name": "HTMLModel",
          "state": {
            "_dom_classes": [],
            "_model_module": "@jupyter-widgets/controls",
            "_model_module_version": "1.5.0",
            "_model_name": "HTMLModel",
            "_view_count": null,
            "_view_module": "@jupyter-widgets/controls",
            "_view_module_version": "1.5.0",
            "_view_name": "HTMLView",
            "description": "",
            "description_tooltip": null,
            "layout": "IPY_MODEL_fdb894c9bc6f4d81949bd11aa7ba5838",
            "placeholder": "​",
            "style": "IPY_MODEL_d9150a65ff9a4936af6bfa4bb79e70ea",
            "value": " 20.5M/20.5M [00:00&lt;00:00, 73.7MB/s]"
          }
        },
        "bdcfc51ad4d2449186118e59b959e387": {
          "model_module": "@jupyter-widgets/base",
          "model_module_version": "1.2.0",
          "model_name": "LayoutModel",
          "state": {
            "_model_module": "@jupyter-widgets/base",
            "_model_module_version": "1.2.0",
            "_model_name": "LayoutModel",
            "_view_count": null,
            "_view_module": "@jupyter-widgets/base",
            "_view_module_version": "1.2.0",
            "_view_name": "LayoutView",
            "align_content": null,
            "align_items": null,
            "align_self": null,
            "border": null,
            "bottom": null,
            "display": null,
            "flex": null,
            "flex_flow": null,
            "grid_area": null,
            "grid_auto_columns": null,
            "grid_auto_flow": null,
            "grid_auto_rows": null,
            "grid_column": null,
            "grid_gap": null,
            "grid_row": null,
            "grid_template_areas": null,
            "grid_template_columns": null,
            "grid_template_rows": null,
            "height": null,
            "justify_content": null,
            "justify_items": null,
            "left": null,
            "margin": null,
            "max_height": null,
            "max_width": null,
            "min_height": null,
            "min_width": null,
            "object_fit": null,
            "object_position": null,
            "order": null,
            "overflow": null,
            "overflow_x": null,
            "overflow_y": null,
            "padding": null,
            "right": null,
            "top": null,
            "visibility": null,
            "width": null
          }
        },
        "c36fe2befe124e0f8dfa4da9eb8c94d3": {
          "model_module": "@jupyter-widgets/base",
          "model_module_version": "1.2.0",
          "model_name": "LayoutModel",
          "state": {
            "_model_module": "@jupyter-widgets/base",
            "_model_module_version": "1.2.0",
            "_model_name": "LayoutModel",
            "_view_count": null,
            "_view_module": "@jupyter-widgets/base",
            "_view_module_version": "1.2.0",
            "_view_name": "LayoutView",
            "align_content": null,
            "align_items": null,
            "align_self": null,
            "border": null,
            "bottom": null,
            "display": null,
            "flex": null,
            "flex_flow": null,
            "grid_area": null,
            "grid_auto_columns": null,
            "grid_auto_flow": null,
            "grid_auto_rows": null,
            "grid_column": null,
            "grid_gap": null,
            "grid_row": null,
            "grid_template_areas": null,
            "grid_template_columns": null,
            "grid_template_rows": null,
            "height": null,
            "justify_content": null,
            "justify_items": null,
            "left": null,
            "margin": null,
            "max_height": null,
            "max_width": null,
            "min_height": null,
            "min_width": null,
            "object_fit": null,
            "object_position": null,
            "order": null,
            "overflow": null,
            "overflow_x": null,
            "overflow_y": null,
            "padding": null,
            "right": null,
            "top": null,
            "visibility": null,
            "width": null
          }
        },
        "c57e06bdd990433c9efb405efc998ea3": {
          "model_module": "@jupyter-widgets/controls",
          "model_module_version": "1.5.0",
          "model_name": "HBoxModel",
          "state": {
            "_dom_classes": [],
            "_model_module": "@jupyter-widgets/controls",
            "_model_module_version": "1.5.0",
            "_model_name": "HBoxModel",
            "_view_count": null,
            "_view_module": "@jupyter-widgets/controls",
            "_view_module_version": "1.5.0",
            "_view_name": "HBoxView",
            "box_style": "",
            "children": [
              "IPY_MODEL_4d8ed14a77c24ecf93a436eb4befe8d0",
              "IPY_MODEL_3e6f2e1cfdeb4e259999137a5eede1e7",
              "IPY_MODEL_fc66fb76b1de4d90b47c09c6bfd80030"
            ],
            "layout": "IPY_MODEL_167a6b90670a49ada36ec3af1b0d427e"
          }
        },
        "c6a274e1ea5a43efbc7ede815443a62c": {
          "model_module": "@jupyter-widgets/controls",
          "model_module_version": "1.5.0",
          "model_name": "ProgressStyleModel",
          "state": {
            "_model_module": "@jupyter-widgets/controls",
            "_model_module_version": "1.5.0",
            "_model_name": "ProgressStyleModel",
            "_view_count": null,
            "_view_module": "@jupyter-widgets/base",
            "_view_module_version": "1.2.0",
            "_view_name": "StyleView",
            "bar_color": null,
            "description_width": ""
          }
        },
        "c93f21339ff34c50b25e2b66720913af": {
          "model_module": "@jupyter-widgets/base",
          "model_module_version": "1.2.0",
          "model_name": "LayoutModel",
          "state": {
            "_model_module": "@jupyter-widgets/base",
            "_model_module_version": "1.2.0",
            "_model_name": "LayoutModel",
            "_view_count": null,
            "_view_module": "@jupyter-widgets/base",
            "_view_module_version": "1.2.0",
            "_view_name": "LayoutView",
            "align_content": null,
            "align_items": null,
            "align_self": null,
            "border": null,
            "bottom": null,
            "display": null,
            "flex": null,
            "flex_flow": null,
            "grid_area": null,
            "grid_auto_columns": null,
            "grid_auto_flow": null,
            "grid_auto_rows": null,
            "grid_column": null,
            "grid_gap": null,
            "grid_row": null,
            "grid_template_areas": null,
            "grid_template_columns": null,
            "grid_template_rows": null,
            "height": null,
            "justify_content": null,
            "justify_items": null,
            "left": null,
            "margin": null,
            "max_height": null,
            "max_width": null,
            "min_height": null,
            "min_width": null,
            "object_fit": null,
            "object_position": null,
            "order": null,
            "overflow": null,
            "overflow_x": null,
            "overflow_y": null,
            "padding": null,
            "right": null,
            "top": null,
            "visibility": null,
            "width": null
          }
        },
        "c998f0cd7aa14385b95b9edf022873e9": {
          "model_module": "@jupyter-widgets/controls",
          "model_module_version": "1.5.0",
          "model_name": "HBoxModel",
          "state": {
            "_dom_classes": [],
            "_model_module": "@jupyter-widgets/controls",
            "_model_module_version": "1.5.0",
            "_model_name": "HBoxModel",
            "_view_count": null,
            "_view_module": "@jupyter-widgets/controls",
            "_view_module_version": "1.5.0",
            "_view_name": "HBoxView",
            "box_style": "",
            "children": [
              "IPY_MODEL_6ae480ac8e6f4be6afc5b72e71db1f68",
              "IPY_MODEL_ac5c6618420146819cb849041a59537e",
              "IPY_MODEL_afb4c5e717494db1927711e49cf10be0"
            ],
            "layout": "IPY_MODEL_c36fe2befe124e0f8dfa4da9eb8c94d3"
          }
        },
        "cbc606fa2ba6479aab2c39554b7e9fed": {
          "model_module": "@jupyter-widgets/controls",
          "model_module_version": "1.5.0",
          "model_name": "DescriptionStyleModel",
          "state": {
            "_model_module": "@jupyter-widgets/controls",
            "_model_module_version": "1.5.0",
            "_model_name": "DescriptionStyleModel",
            "_view_count": null,
            "_view_module": "@jupyter-widgets/base",
            "_view_module_version": "1.2.0",
            "_view_name": "StyleView",
            "description_width": ""
          }
        },
        "ce655887e4bb42ab9c527c66f478cf93": {
          "model_module": "@jupyter-widgets/controls",
          "model_module_version": "1.5.0",
          "model_name": "DescriptionStyleModel",
          "state": {
            "_model_module": "@jupyter-widgets/controls",
            "_model_module_version": "1.5.0",
            "_model_name": "DescriptionStyleModel",
            "_view_count": null,
            "_view_module": "@jupyter-widgets/base",
            "_view_module_version": "1.2.0",
            "_view_name": "StyleView",
            "description_width": ""
          }
        },
        "d158d80933984329a66f6f5bb1dc870c": {
          "model_module": "@jupyter-widgets/controls",
          "model_module_version": "1.5.0",
          "model_name": "HTMLModel",
          "state": {
            "_dom_classes": [],
            "_model_module": "@jupyter-widgets/controls",
            "_model_module_version": "1.5.0",
            "_model_name": "HTMLModel",
            "_view_count": null,
            "_view_module": "@jupyter-widgets/controls",
            "_view_module_version": "1.5.0",
            "_view_name": "HTMLView",
            "description": "",
            "description_tooltip": null,
            "layout": "IPY_MODEL_73a99c3fcfc04e1f822133f3234cb574",
            "placeholder": "​",
            "style": "IPY_MODEL_db58b294698945f4810330cd8b7f78a3",
            "value": "Generating test split: 100%"
          }
        },
        "d3e1193a21fb4c8e881e6184c9a8728b": {
          "model_module": "@jupyter-widgets/base",
          "model_module_version": "1.2.0",
          "model_name": "LayoutModel",
          "state": {
            "_model_module": "@jupyter-widgets/base",
            "_model_module_version": "1.2.0",
            "_model_name": "LayoutModel",
            "_view_count": null,
            "_view_module": "@jupyter-widgets/base",
            "_view_module_version": "1.2.0",
            "_view_name": "LayoutView",
            "align_content": null,
            "align_items": null,
            "align_self": null,
            "border": null,
            "bottom": null,
            "display": null,
            "flex": null,
            "flex_flow": null,
            "grid_area": null,
            "grid_auto_columns": null,
            "grid_auto_flow": null,
            "grid_auto_rows": null,
            "grid_column": null,
            "grid_gap": null,
            "grid_row": null,
            "grid_template_areas": null,
            "grid_template_columns": null,
            "grid_template_rows": null,
            "height": null,
            "justify_content": null,
            "justify_items": null,
            "left": null,
            "margin": null,
            "max_height": null,
            "max_width": null,
            "min_height": null,
            "min_width": null,
            "object_fit": null,
            "object_position": null,
            "order": null,
            "overflow": null,
            "overflow_x": null,
            "overflow_y": null,
            "padding": null,
            "right": null,
            "top": null,
            "visibility": null,
            "width": null
          }
        },
        "d9150a65ff9a4936af6bfa4bb79e70ea": {
          "model_module": "@jupyter-widgets/controls",
          "model_module_version": "1.5.0",
          "model_name": "DescriptionStyleModel",
          "state": {
            "_model_module": "@jupyter-widgets/controls",
            "_model_module_version": "1.5.0",
            "_model_name": "DescriptionStyleModel",
            "_view_count": null,
            "_view_module": "@jupyter-widgets/base",
            "_view_module_version": "1.2.0",
            "_view_name": "StyleView",
            "description_width": ""
          }
        },
        "daaa09a3f508428daaccd7162bd58f70": {
          "model_module": "@jupyter-widgets/base",
          "model_module_version": "1.2.0",
          "model_name": "LayoutModel",
          "state": {
            "_model_module": "@jupyter-widgets/base",
            "_model_module_version": "1.2.0",
            "_model_name": "LayoutModel",
            "_view_count": null,
            "_view_module": "@jupyter-widgets/base",
            "_view_module_version": "1.2.0",
            "_view_name": "LayoutView",
            "align_content": null,
            "align_items": null,
            "align_self": null,
            "border": null,
            "bottom": null,
            "display": null,
            "flex": null,
            "flex_flow": null,
            "grid_area": null,
            "grid_auto_columns": null,
            "grid_auto_flow": null,
            "grid_auto_rows": null,
            "grid_column": null,
            "grid_gap": null,
            "grid_row": null,
            "grid_template_areas": null,
            "grid_template_columns": null,
            "grid_template_rows": null,
            "height": null,
            "justify_content": null,
            "justify_items": null,
            "left": null,
            "margin": null,
            "max_height": null,
            "max_width": null,
            "min_height": null,
            "min_width": null,
            "object_fit": null,
            "object_position": null,
            "order": null,
            "overflow": null,
            "overflow_x": null,
            "overflow_y": null,
            "padding": null,
            "right": null,
            "top": null,
            "visibility": null,
            "width": null
          }
        },
        "db58b294698945f4810330cd8b7f78a3": {
          "model_module": "@jupyter-widgets/controls",
          "model_module_version": "1.5.0",
          "model_name": "DescriptionStyleModel",
          "state": {
            "_model_module": "@jupyter-widgets/controls",
            "_model_module_version": "1.5.0",
            "_model_name": "DescriptionStyleModel",
            "_view_count": null,
            "_view_module": "@jupyter-widgets/base",
            "_view_module_version": "1.2.0",
            "_view_name": "StyleView",
            "description_width": ""
          }
        },
        "e255ed21c1d6423696b0f964cd2e1dae": {
          "model_module": "@jupyter-widgets/controls",
          "model_module_version": "1.5.0",
          "model_name": "FloatProgressModel",
          "state": {
            "_dom_classes": [],
            "_model_module": "@jupyter-widgets/controls",
            "_model_module_version": "1.5.0",
            "_model_name": "FloatProgressModel",
            "_view_count": null,
            "_view_module": "@jupyter-widgets/controls",
            "_view_module_version": "1.5.0",
            "_view_name": "ProgressView",
            "bar_style": "success",
            "description": "",
            "description_tooltip": null,
            "layout": "IPY_MODEL_1377dfe8833f4569bcbd43c51e5bca53",
            "max": 20484569,
            "min": 0,
            "orientation": "horizontal",
            "style": "IPY_MODEL_c6a274e1ea5a43efbc7ede815443a62c",
            "value": 20484569
          }
        },
        "e26d5eff73274fbab4a6c5b0ba2e31c2": {
          "model_module": "@jupyter-widgets/base",
          "model_module_version": "1.2.0",
          "model_name": "LayoutModel",
          "state": {
            "_model_module": "@jupyter-widgets/base",
            "_model_module_version": "1.2.0",
            "_model_name": "LayoutModel",
            "_view_count": null,
            "_view_module": "@jupyter-widgets/base",
            "_view_module_version": "1.2.0",
            "_view_name": "LayoutView",
            "align_content": null,
            "align_items": null,
            "align_self": null,
            "border": null,
            "bottom": null,
            "display": null,
            "flex": null,
            "flex_flow": null,
            "grid_area": null,
            "grid_auto_columns": null,
            "grid_auto_flow": null,
            "grid_auto_rows": null,
            "grid_column": null,
            "grid_gap": null,
            "grid_row": null,
            "grid_template_areas": null,
            "grid_template_columns": null,
            "grid_template_rows": null,
            "height": null,
            "justify_content": null,
            "justify_items": null,
            "left": null,
            "margin": null,
            "max_height": null,
            "max_width": null,
            "min_height": null,
            "min_width": null,
            "object_fit": null,
            "object_position": null,
            "order": null,
            "overflow": null,
            "overflow_x": null,
            "overflow_y": null,
            "padding": null,
            "right": null,
            "top": null,
            "visibility": null,
            "width": null
          }
        },
        "e6c5d881cc4c435d8ee1bf12a7d627dd": {
          "model_module": "@jupyter-widgets/controls",
          "model_module_version": "1.5.0",
          "model_name": "DescriptionStyleModel",
          "state": {
            "_model_module": "@jupyter-widgets/controls",
            "_model_module_version": "1.5.0",
            "_model_name": "DescriptionStyleModel",
            "_view_count": null,
            "_view_module": "@jupyter-widgets/base",
            "_view_module_version": "1.2.0",
            "_view_name": "StyleView",
            "description_width": ""
          }
        },
        "e999ae58fb6f4a3ba61033cdbeed25e3": {
          "model_module": "@jupyter-widgets/base",
          "model_module_version": "1.2.0",
          "model_name": "LayoutModel",
          "state": {
            "_model_module": "@jupyter-widgets/base",
            "_model_module_version": "1.2.0",
            "_model_name": "LayoutModel",
            "_view_count": null,
            "_view_module": "@jupyter-widgets/base",
            "_view_module_version": "1.2.0",
            "_view_name": "LayoutView",
            "align_content": null,
            "align_items": null,
            "align_self": null,
            "border": null,
            "bottom": null,
            "display": null,
            "flex": null,
            "flex_flow": null,
            "grid_area": null,
            "grid_auto_columns": null,
            "grid_auto_flow": null,
            "grid_auto_rows": null,
            "grid_column": null,
            "grid_gap": null,
            "grid_row": null,
            "grid_template_areas": null,
            "grid_template_columns": null,
            "grid_template_rows": null,
            "height": null,
            "justify_content": null,
            "justify_items": null,
            "left": null,
            "margin": null,
            "max_height": null,
            "max_width": null,
            "min_height": null,
            "min_width": null,
            "object_fit": null,
            "object_position": null,
            "order": null,
            "overflow": null,
            "overflow_x": null,
            "overflow_y": null,
            "padding": null,
            "right": null,
            "top": null,
            "visibility": null,
            "width": null
          }
        },
        "ee663bf06efd4d9fab83d6c1c2c8a6d5": {
          "model_module": "@jupyter-widgets/base",
          "model_module_version": "1.2.0",
          "model_name": "LayoutModel",
          "state": {
            "_model_module": "@jupyter-widgets/base",
            "_model_module_version": "1.2.0",
            "_model_name": "LayoutModel",
            "_view_count": null,
            "_view_module": "@jupyter-widgets/base",
            "_view_module_version": "1.2.0",
            "_view_name": "LayoutView",
            "align_content": null,
            "align_items": null,
            "align_self": null,
            "border": null,
            "bottom": null,
            "display": null,
            "flex": null,
            "flex_flow": null,
            "grid_area": null,
            "grid_auto_columns": null,
            "grid_auto_flow": null,
            "grid_auto_rows": null,
            "grid_column": null,
            "grid_gap": null,
            "grid_row": null,
            "grid_template_areas": null,
            "grid_template_columns": null,
            "grid_template_rows": null,
            "height": null,
            "justify_content": null,
            "justify_items": null,
            "left": null,
            "margin": null,
            "max_height": null,
            "max_width": null,
            "min_height": null,
            "min_width": null,
            "object_fit": null,
            "object_position": null,
            "order": null,
            "overflow": null,
            "overflow_x": null,
            "overflow_y": null,
            "padding": null,
            "right": null,
            "top": null,
            "visibility": null,
            "width": null
          }
        },
        "f2c41715a89044b5b8d657680a230088": {
          "model_module": "@jupyter-widgets/controls",
          "model_module_version": "1.5.0",
          "model_name": "FloatProgressModel",
          "state": {
            "_dom_classes": [],
            "_model_module": "@jupyter-widgets/controls",
            "_model_module_version": "1.5.0",
            "_model_name": "FloatProgressModel",
            "_view_count": null,
            "_view_module": "@jupyter-widgets/controls",
            "_view_module_version": "1.5.0",
            "_view_name": "ProgressView",
            "bar_style": "success",
            "description": "",
            "description_tooltip": null,
            "layout": "IPY_MODEL_54881d3065f844119b1a7afbb3e5d3a0",
            "max": 21391358,
            "min": 0,
            "orientation": "horizontal",
            "style": "IPY_MODEL_71001c39082248f7922a319402b8b19e",
            "value": 21391358
          }
        },
        "f646897cd288402f9f4d9d3518dfea16": {
          "model_module": "@jupyter-widgets/controls",
          "model_module_version": "1.5.0",
          "model_name": "HTMLModel",
          "state": {
            "_dom_classes": [],
            "_model_module": "@jupyter-widgets/controls",
            "_model_module_version": "1.5.0",
            "_model_name": "HTMLModel",
            "_view_count": null,
            "_view_module": "@jupyter-widgets/controls",
            "_view_module_version": "1.5.0",
            "_view_name": "HTMLView",
            "description": "",
            "description_tooltip": null,
            "layout": "IPY_MODEL_e26d5eff73274fbab4a6c5b0ba2e31c2",
            "placeholder": "​",
            "style": "IPY_MODEL_a03432db4d6b4a339f65a5ee76ff0fd7",
            "value": " 10047/10047 [00:01&lt;00:00, 10889.21 examples/s]"
          }
        },
        "f6de8d7c547b48698b5fd29fce2c0674": {
          "model_module": "@jupyter-widgets/base",
          "model_module_version": "1.2.0",
          "model_name": "LayoutModel",
          "state": {
            "_model_module": "@jupyter-widgets/base",
            "_model_module_version": "1.2.0",
            "_model_name": "LayoutModel",
            "_view_count": null,
            "_view_module": "@jupyter-widgets/base",
            "_view_module_version": "1.2.0",
            "_view_name": "LayoutView",
            "align_content": null,
            "align_items": null,
            "align_self": null,
            "border": null,
            "bottom": null,
            "display": null,
            "flex": null,
            "flex_flow": null,
            "grid_area": null,
            "grid_auto_columns": null,
            "grid_auto_flow": null,
            "grid_auto_rows": null,
            "grid_column": null,
            "grid_gap": null,
            "grid_row": null,
            "grid_template_areas": null,
            "grid_template_columns": null,
            "grid_template_rows": null,
            "height": null,
            "justify_content": null,
            "justify_items": null,
            "left": null,
            "margin": null,
            "max_height": null,
            "max_width": null,
            "min_height": null,
            "min_width": null,
            "object_fit": null,
            "object_position": null,
            "order": null,
            "overflow": null,
            "overflow_x": null,
            "overflow_y": null,
            "padding": null,
            "right": null,
            "top": null,
            "visibility": null,
            "width": null
          }
        },
        "f8507d059fb143a692f60cb439cf8ee6": {
          "model_module": "@jupyter-widgets/controls",
          "model_module_version": "1.5.0",
          "model_name": "ProgressStyleModel",
          "state": {
            "_model_module": "@jupyter-widgets/controls",
            "_model_module_version": "1.5.0",
            "_model_name": "ProgressStyleModel",
            "_view_count": null,
            "_view_module": "@jupyter-widgets/base",
            "_view_module_version": "1.2.0",
            "_view_name": "StyleView",
            "bar_color": null,
            "description_width": ""
          }
        },
        "fc66fb76b1de4d90b47c09c6bfd80030": {
          "model_module": "@jupyter-widgets/controls",
          "model_module_version": "1.5.0",
          "model_name": "HTMLModel",
          "state": {
            "_dom_classes": [],
            "_model_module": "@jupyter-widgets/controls",
            "_model_module_version": "1.5.0",
            "_model_name": "HTMLModel",
            "_view_count": null,
            "_view_module": "@jupyter-widgets/controls",
            "_view_module_version": "1.5.0",
            "_view_name": "HTMLView",
            "description": "",
            "description_tooltip": null,
            "layout": "IPY_MODEL_418810c0cb464419ad6749fe743338b2",
            "placeholder": "​",
            "style": "IPY_MODEL_58134cbf911d48ca85144fa641c1679e",
            "value": " 76/76 [04:11&lt;00:00,  2.54s/it]"
          }
        },
        "fda577058369407f9909d067796eaec6": {
          "model_module": "@jupyter-widgets/controls",
          "model_module_version": "1.5.0",
          "model_name": "HBoxModel",
          "state": {
            "_dom_classes": [],
            "_model_module": "@jupyter-widgets/controls",
            "_model_module_version": "1.5.0",
            "_model_name": "HBoxModel",
            "_view_count": null,
            "_view_module": "@jupyter-widgets/controls",
            "_view_module_version": "1.5.0",
            "_view_name": "HBoxView",
            "box_style": "",
            "children": [
              "IPY_MODEL_677911db40424703b892becf49f51209",
              "IPY_MODEL_f2c41715a89044b5b8d657680a230088",
              "IPY_MODEL_0bd51c2d6b964d96937a947866166119"
            ],
            "layout": "IPY_MODEL_f6de8d7c547b48698b5fd29fce2c0674"
          }
        },
        "fdb894c9bc6f4d81949bd11aa7ba5838": {
          "model_module": "@jupyter-widgets/base",
          "model_module_version": "1.2.0",
          "model_name": "LayoutModel",
          "state": {
            "_model_module": "@jupyter-widgets/base",
            "_model_module_version": "1.2.0",
            "_model_name": "LayoutModel",
            "_view_count": null,
            "_view_module": "@jupyter-widgets/base",
            "_view_module_version": "1.2.0",
            "_view_name": "LayoutView",
            "align_content": null,
            "align_items": null,
            "align_self": null,
            "border": null,
            "bottom": null,
            "display": null,
            "flex": null,
            "flex_flow": null,
            "grid_area": null,
            "grid_auto_columns": null,
            "grid_auto_flow": null,
            "grid_auto_rows": null,
            "grid_column": null,
            "grid_gap": null,
            "grid_row": null,
            "grid_template_areas": null,
            "grid_template_columns": null,
            "grid_template_rows": null,
            "height": null,
            "justify_content": null,
            "justify_items": null,
            "left": null,
            "margin": null,
            "max_height": null,
            "max_width": null,
            "min_height": null,
            "min_width": null,
            "object_fit": null,
            "object_position": null,
            "order": null,
            "overflow": null,
            "overflow_x": null,
            "overflow_y": null,
            "padding": null,
            "right": null,
            "top": null,
            "visibility": null,
            "width": null
          }
        }
      }
    }
  },
  "nbformat": 4,
  "nbformat_minor": 0
}
