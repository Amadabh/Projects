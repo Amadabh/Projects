{
  "nbformat": 4,
  "nbformat_minor": 0,
  "metadata": {
    "colab": {
      "provenance": [],
      "toc_visible": true
    },
    "kernelspec": {
      "name": "python3",
      "display_name": "Python 3"
    },
    "language_info": {
      "name": "python"
    }
  },
  "cells": [
    {
      "cell_type": "code",
      "execution_count": null,
      "metadata": {
        "colab": {
          "base_uri": "https://localhost:8080/"
        },
        "id": "kkmogvteYadw",
        "outputId": "d018f3c7-04fd-49ba-c7cd-81bd55918134"
      },
      "outputs": [
        {
          "output_type": "stream",
          "name": "stdout",
          "text": [
            "unzip:  cannot find or open /content/MC2_Actual.zip, /content/MC2_Actual.zip.zip or /content/MC2_Actual.zip.ZIP.\n"
          ]
        }
      ],
      "source": [
        "!unzip /content/MC2_Actual.zip"
      ]
    },
    {
      "cell_type": "code",
      "source": [
        "!unzip /content/gps_with_location2.csv.zip"
      ],
      "metadata": {
        "colab": {
          "base_uri": "https://localhost:8080/"
        },
        "id": "jDdXYWtubaEi",
        "outputId": "14438c9c-3c3a-46fd-eb06-4b44e09debea"
      },
      "execution_count": null,
      "outputs": [
        {
          "output_type": "stream",
          "name": "stdout",
          "text": [
            "Archive:  /content/gps_with_location2.csv.zip\n",
            "  inflating: gps_with_location2.csv  \n",
            "  inflating: __MACOSX/._gps_with_location2.csv  \n"
          ]
        }
      ]
    },
    {
      "cell_type": "code",
      "source": [
        "import pandas as pd\n",
        "import numpy as np\n",
        "import shapefile as shp\n",
        "import matplotlib.pyplot as plt\n",
        "import seaborn as sns\n",
        "sns.set(style=\"whitegrid\", palette=\"pastel\", color_codes=True)\n",
        "sns.mpl.rc(\"figure\", figsize=(10,6))"
      ],
      "metadata": {
        "id": "47trbvW7YtIk"
      },
      "execution_count": null,
      "outputs": []
    },
    {
      "cell_type": "code",
      "source": [
        "loyalty = pd.read_csv('/content/MC2/MC2/loyalty_data.csv',sep=',',encoding='cp1252')\n",
        "gps = pd.read_csv('/content/gps_with_location2.csv')\n",
        "cc = pd.read_csv('/content/MC2/MC2/cc_data.csv', sep=\",\", encoding='cp1252')\n",
        "ca = pd.read_csv('/content/MC2/MC2/car-assignments.csv')"
      ],
      "metadata": {
        "id": "neID2PLdbIHx"
      },
      "execution_count": null,
      "outputs": []
    },
    {
      "cell_type": "code",
      "source": [
        "ca = pd.read_csv('/content/MC2/MC2/car-assignments.csv')"
      ],
      "metadata": {
        "id": "g1b7vT9epwy4"
      },
      "execution_count": null,
      "outputs": []
    },
    {
      "cell_type": "code",
      "source": [
        "gps.columns,loyalty.columns,cc.columns"
      ],
      "metadata": {
        "colab": {
          "base_uri": "https://localhost:8080/"
        },
        "id": "brQO4InHb4av",
        "outputId": "183f8a91-ebcb-4916-b83c-9ee01761e58a"
      },
      "execution_count": null,
      "outputs": [
        {
          "output_type": "execute_result",
          "data": {
            "text/plain": [
              "(Index(['Unnamed: 0', 'Timestamp', 'id', 'lat', 'long', 'nearest_location',\n",
              "        'distance'],\n",
              "       dtype='object'),\n",
              " Index(['timestamp', 'location', 'price', 'loyaltynum'], dtype='object'),\n",
              " Index(['timestamp', 'location', 'price', 'last4ccnum'], dtype='object'))"
            ]
          },
          "metadata": {},
          "execution_count": 81
        }
      ]
    },
    {
      "cell_type": "code",
      "source": [
        "gps = gps.drop(columns=['Unnamed: 0'],axis=1)"
      ],
      "metadata": {
        "id": "lf1XdtOOb7iz"
      },
      "execution_count": null,
      "outputs": []
    },
    {
      "cell_type": "code",
      "source": [
        "gps.columns,cc.timestamp"
      ],
      "metadata": {
        "colab": {
          "base_uri": "https://localhost:8080/"
        },
        "id": "FnmAWbpub_c9",
        "outputId": "a2a28ecb-6241-4b41-cf65-c95a2a3cc3f4"
      },
      "execution_count": null,
      "outputs": [
        {
          "output_type": "execute_result",
          "data": {
            "text/plain": [
              "(Index(['Timestamp', 'id', 'lat', 'long', 'nearest_location', 'distance'], dtype='object'),\n",
              " 0       01/06/2014 07:28\n",
              " 1       01/06/2014 07:34\n",
              " 2       01/06/2014 07:35\n",
              " 3       01/06/2014 07:36\n",
              " 4       01/06/2014 07:37\n",
              "               ...       \n",
              " 1485    01/19/2014 20:16\n",
              " 1486    01/19/2014 20:22\n",
              " 1487    01/19/2014 20:25\n",
              " 1488    01/19/2014 20:30\n",
              " 1489    01/19/2014 20:51\n",
              " Name: timestamp, Length: 1490, dtype: object)"
            ]
          },
          "metadata": {},
          "execution_count": 83
        }
      ]
    },
    {
      "cell_type": "code",
      "source": [
        "loyalty.rename(columns={'timestamp': 'date'}, inplace=True)\n",
        "# cc['date'] = pd.to_datetime(gps['Timestamp'], format='%m/%d/%Y %H:%M:%S')\n",
        "\n",
        "cc['date']  =  pd.to_datetime(cc['timestamp']).dt.strftime('%m/%d/%Y')"
      ],
      "metadata": {
        "id": "V3poJvtjcTvO"
      },
      "execution_count": null,
      "outputs": []
    },
    {
      "cell_type": "code",
      "source": [
        "cc.columns"
      ],
      "metadata": {
        "colab": {
          "base_uri": "https://localhost:8080/"
        },
        "id": "9SZ1IWWDdWs_",
        "outputId": "e45f6b7a-a04c-45ce-9c4f-9e7d573b88c3"
      },
      "execution_count": null,
      "outputs": [
        {
          "output_type": "execute_result",
          "data": {
            "text/plain": [
              "Index(['timestamp', 'location', 'price', 'last4ccnum', 'date'], dtype='object')"
            ]
          },
          "metadata": {},
          "execution_count": 85
        }
      ]
    },
    {
      "cell_type": "code",
      "source": [
        "cc=cc.drop_duplicates()"
      ],
      "metadata": {
        "id": "1jo35602d74q"
      },
      "execution_count": null,
      "outputs": []
    },
    {
      "cell_type": "code",
      "source": [
        "cc.shape"
      ],
      "metadata": {
        "colab": {
          "base_uri": "https://localhost:8080/"
        },
        "id": "UQIWr0_4eE9a",
        "outputId": "23fdc81e-c7fc-467f-e448-95fbb64ba14b"
      },
      "execution_count": null,
      "outputs": [
        {
          "output_type": "execute_result",
          "data": {
            "text/plain": [
              "(1490, 5)"
            ]
          },
          "metadata": {},
          "execution_count": 87
        }
      ]
    },
    {
      "cell_type": "code",
      "source": [
        "lc= pd.merge(loyalty,cc,on=[\"price\",\"date\",\"location\"])"
      ],
      "metadata": {
        "id": "_FtBOfnXdZuz"
      },
      "execution_count": null,
      "outputs": []
    },
    {
      "cell_type": "code",
      "source": [
        "lc"
      ],
      "metadata": {
        "colab": {
          "base_uri": "https://localhost:8080/",
          "height": 424
        },
        "id": "T_h7gt2ydgzl",
        "outputId": "9a2ca8d2-af31-4cfc-d059-460992f33e36"
      },
      "execution_count": null,
      "outputs": [
        {
          "output_type": "execute_result",
          "data": {
            "text/plain": [
              "            date             location   price loyaltynum         timestamp  \\\n",
              "0     01/06/2014  Brew've Been Served    4.17      L2247  01/06/2014 07:38   \n",
              "1     01/06/2014  Brew've Been Served    9.60      L9406  01/06/2014 07:43   \n",
              "2     01/06/2014     Hallowed Grounds   16.53      L8328  01/06/2014 07:47   \n",
              "3     01/06/2014  Brew've Been Served    4.27      L4034  01/06/2014 08:00   \n",
              "4     01/06/2014  Brew've Been Served   11.20      L6110  01/06/2014 08:16   \n",
              "...          ...                  ...     ...        ...               ...   \n",
              "1082  01/19/2014      Katerina’s Café   70.22      L8566  01/19/2014 13:23   \n",
              "1083  01/19/2014          Guy's Gyros   18.08      L9254  01/19/2014 20:00   \n",
              "1084  01/19/2014      Katerina’s Café   35.01      L9254  01/19/2014 13:00   \n",
              "1085  01/19/2014  Desafio Golf Course  110.02      L6886  01/19/2014 15:15   \n",
              "1086  01/19/2014          Hippokampos   63.17      L6886  01/19/2014 19:56   \n",
              "\n",
              "      last4ccnum  \n",
              "0           5368  \n",
              "1           4948  \n",
              "2           8129  \n",
              "3           5407  \n",
              "4           8411  \n",
              "...          ...  \n",
              "1082        4795  \n",
              "1083        7354  \n",
              "1084        7354  \n",
              "1085        2463  \n",
              "1086        2463  \n",
              "\n",
              "[1087 rows x 6 columns]"
            ],
            "text/html": [
              "\n",
              "  <div id=\"df-c3d68d33-0038-4a8a-b843-8f4ad8ada570\" class=\"colab-df-container\">\n",
              "    <div>\n",
              "<style scoped>\n",
              "    .dataframe tbody tr th:only-of-type {\n",
              "        vertical-align: middle;\n",
              "    }\n",
              "\n",
              "    .dataframe tbody tr th {\n",
              "        vertical-align: top;\n",
              "    }\n",
              "\n",
              "    .dataframe thead th {\n",
              "        text-align: right;\n",
              "    }\n",
              "</style>\n",
              "<table border=\"1\" class=\"dataframe\">\n",
              "  <thead>\n",
              "    <tr style=\"text-align: right;\">\n",
              "      <th></th>\n",
              "      <th>date</th>\n",
              "      <th>location</th>\n",
              "      <th>price</th>\n",
              "      <th>loyaltynum</th>\n",
              "      <th>timestamp</th>\n",
              "      <th>last4ccnum</th>\n",
              "    </tr>\n",
              "  </thead>\n",
              "  <tbody>\n",
              "    <tr>\n",
              "      <th>0</th>\n",
              "      <td>01/06/2014</td>\n",
              "      <td>Brew've Been Served</td>\n",
              "      <td>4.17</td>\n",
              "      <td>L2247</td>\n",
              "      <td>01/06/2014 07:38</td>\n",
              "      <td>5368</td>\n",
              "    </tr>\n",
              "    <tr>\n",
              "      <th>1</th>\n",
              "      <td>01/06/2014</td>\n",
              "      <td>Brew've Been Served</td>\n",
              "      <td>9.60</td>\n",
              "      <td>L9406</td>\n",
              "      <td>01/06/2014 07:43</td>\n",
              "      <td>4948</td>\n",
              "    </tr>\n",
              "    <tr>\n",
              "      <th>2</th>\n",
              "      <td>01/06/2014</td>\n",
              "      <td>Hallowed Grounds</td>\n",
              "      <td>16.53</td>\n",
              "      <td>L8328</td>\n",
              "      <td>01/06/2014 07:47</td>\n",
              "      <td>8129</td>\n",
              "    </tr>\n",
              "    <tr>\n",
              "      <th>3</th>\n",
              "      <td>01/06/2014</td>\n",
              "      <td>Brew've Been Served</td>\n",
              "      <td>4.27</td>\n",
              "      <td>L4034</td>\n",
              "      <td>01/06/2014 08:00</td>\n",
              "      <td>5407</td>\n",
              "    </tr>\n",
              "    <tr>\n",
              "      <th>4</th>\n",
              "      <td>01/06/2014</td>\n",
              "      <td>Brew've Been Served</td>\n",
              "      <td>11.20</td>\n",
              "      <td>L6110</td>\n",
              "      <td>01/06/2014 08:16</td>\n",
              "      <td>8411</td>\n",
              "    </tr>\n",
              "    <tr>\n",
              "      <th>...</th>\n",
              "      <td>...</td>\n",
              "      <td>...</td>\n",
              "      <td>...</td>\n",
              "      <td>...</td>\n",
              "      <td>...</td>\n",
              "      <td>...</td>\n",
              "    </tr>\n",
              "    <tr>\n",
              "      <th>1082</th>\n",
              "      <td>01/19/2014</td>\n",
              "      <td>Katerina’s Café</td>\n",
              "      <td>70.22</td>\n",
              "      <td>L8566</td>\n",
              "      <td>01/19/2014 13:23</td>\n",
              "      <td>4795</td>\n",
              "    </tr>\n",
              "    <tr>\n",
              "      <th>1083</th>\n",
              "      <td>01/19/2014</td>\n",
              "      <td>Guy's Gyros</td>\n",
              "      <td>18.08</td>\n",
              "      <td>L9254</td>\n",
              "      <td>01/19/2014 20:00</td>\n",
              "      <td>7354</td>\n",
              "    </tr>\n",
              "    <tr>\n",
              "      <th>1084</th>\n",
              "      <td>01/19/2014</td>\n",
              "      <td>Katerina’s Café</td>\n",
              "      <td>35.01</td>\n",
              "      <td>L9254</td>\n",
              "      <td>01/19/2014 13:00</td>\n",
              "      <td>7354</td>\n",
              "    </tr>\n",
              "    <tr>\n",
              "      <th>1085</th>\n",
              "      <td>01/19/2014</td>\n",
              "      <td>Desafio Golf Course</td>\n",
              "      <td>110.02</td>\n",
              "      <td>L6886</td>\n",
              "      <td>01/19/2014 15:15</td>\n",
              "      <td>2463</td>\n",
              "    </tr>\n",
              "    <tr>\n",
              "      <th>1086</th>\n",
              "      <td>01/19/2014</td>\n",
              "      <td>Hippokampos</td>\n",
              "      <td>63.17</td>\n",
              "      <td>L6886</td>\n",
              "      <td>01/19/2014 19:56</td>\n",
              "      <td>2463</td>\n",
              "    </tr>\n",
              "  </tbody>\n",
              "</table>\n",
              "<p>1087 rows × 6 columns</p>\n",
              "</div>\n",
              "    <div class=\"colab-df-buttons\">\n",
              "\n",
              "  <div class=\"colab-df-container\">\n",
              "    <button class=\"colab-df-convert\" onclick=\"convertToInteractive('df-c3d68d33-0038-4a8a-b843-8f4ad8ada570')\"\n",
              "            title=\"Convert this dataframe to an interactive table.\"\n",
              "            style=\"display:none;\">\n",
              "\n",
              "  <svg xmlns=\"http://www.w3.org/2000/svg\" height=\"24px\" viewBox=\"0 -960 960 960\">\n",
              "    <path d=\"M120-120v-720h720v720H120Zm60-500h600v-160H180v160Zm220 220h160v-160H400v160Zm0 220h160v-160H400v160ZM180-400h160v-160H180v160Zm440 0h160v-160H620v160ZM180-180h160v-160H180v160Zm440 0h160v-160H620v160Z\"/>\n",
              "  </svg>\n",
              "    </button>\n",
              "\n",
              "  <style>\n",
              "    .colab-df-container {\n",
              "      display:flex;\n",
              "      gap: 12px;\n",
              "    }\n",
              "\n",
              "    .colab-df-convert {\n",
              "      background-color: #E8F0FE;\n",
              "      border: none;\n",
              "      border-radius: 50%;\n",
              "      cursor: pointer;\n",
              "      display: none;\n",
              "      fill: #1967D2;\n",
              "      height: 32px;\n",
              "      padding: 0 0 0 0;\n",
              "      width: 32px;\n",
              "    }\n",
              "\n",
              "    .colab-df-convert:hover {\n",
              "      background-color: #E2EBFA;\n",
              "      box-shadow: 0px 1px 2px rgba(60, 64, 67, 0.3), 0px 1px 3px 1px rgba(60, 64, 67, 0.15);\n",
              "      fill: #174EA6;\n",
              "    }\n",
              "\n",
              "    .colab-df-buttons div {\n",
              "      margin-bottom: 4px;\n",
              "    }\n",
              "\n",
              "    [theme=dark] .colab-df-convert {\n",
              "      background-color: #3B4455;\n",
              "      fill: #D2E3FC;\n",
              "    }\n",
              "\n",
              "    [theme=dark] .colab-df-convert:hover {\n",
              "      background-color: #434B5C;\n",
              "      box-shadow: 0px 1px 3px 1px rgba(0, 0, 0, 0.15);\n",
              "      filter: drop-shadow(0px 1px 2px rgba(0, 0, 0, 0.3));\n",
              "      fill: #FFFFFF;\n",
              "    }\n",
              "  </style>\n",
              "\n",
              "    <script>\n",
              "      const buttonEl =\n",
              "        document.querySelector('#df-c3d68d33-0038-4a8a-b843-8f4ad8ada570 button.colab-df-convert');\n",
              "      buttonEl.style.display =\n",
              "        google.colab.kernel.accessAllowed ? 'block' : 'none';\n",
              "\n",
              "      async function convertToInteractive(key) {\n",
              "        const element = document.querySelector('#df-c3d68d33-0038-4a8a-b843-8f4ad8ada570');\n",
              "        const dataTable =\n",
              "          await google.colab.kernel.invokeFunction('convertToInteractive',\n",
              "                                                    [key], {});\n",
              "        if (!dataTable) return;\n",
              "\n",
              "        const docLinkHtml = 'Like what you see? Visit the ' +\n",
              "          '<a target=\"_blank\" href=https://colab.research.google.com/notebooks/data_table.ipynb>data table notebook</a>'\n",
              "          + ' to learn more about interactive tables.';\n",
              "        element.innerHTML = '';\n",
              "        dataTable['output_type'] = 'display_data';\n",
              "        await google.colab.output.renderOutput(dataTable, element);\n",
              "        const docLink = document.createElement('div');\n",
              "        docLink.innerHTML = docLinkHtml;\n",
              "        element.appendChild(docLink);\n",
              "      }\n",
              "    </script>\n",
              "  </div>\n",
              "\n",
              "\n",
              "<div id=\"df-c1b0dd6f-9f6a-4f38-8520-1ce70a671f7d\">\n",
              "  <button class=\"colab-df-quickchart\" onclick=\"quickchart('df-c1b0dd6f-9f6a-4f38-8520-1ce70a671f7d')\"\n",
              "            title=\"Suggest charts.\"\n",
              "            style=\"display:none;\">\n",
              "\n",
              "<svg xmlns=\"http://www.w3.org/2000/svg\" height=\"24px\"viewBox=\"0 0 24 24\"\n",
              "     width=\"24px\">\n",
              "    <g>\n",
              "        <path d=\"M19 3H5c-1.1 0-2 .9-2 2v14c0 1.1.9 2 2 2h14c1.1 0 2-.9 2-2V5c0-1.1-.9-2-2-2zM9 17H7v-7h2v7zm4 0h-2V7h2v10zm4 0h-2v-4h2v4z\"/>\n",
              "    </g>\n",
              "</svg>\n",
              "  </button>\n",
              "\n",
              "<style>\n",
              "  .colab-df-quickchart {\n",
              "      --bg-color: #E8F0FE;\n",
              "      --fill-color: #1967D2;\n",
              "      --hover-bg-color: #E2EBFA;\n",
              "      --hover-fill-color: #174EA6;\n",
              "      --disabled-fill-color: #AAA;\n",
              "      --disabled-bg-color: #DDD;\n",
              "  }\n",
              "\n",
              "  [theme=dark] .colab-df-quickchart {\n",
              "      --bg-color: #3B4455;\n",
              "      --fill-color: #D2E3FC;\n",
              "      --hover-bg-color: #434B5C;\n",
              "      --hover-fill-color: #FFFFFF;\n",
              "      --disabled-bg-color: #3B4455;\n",
              "      --disabled-fill-color: #666;\n",
              "  }\n",
              "\n",
              "  .colab-df-quickchart {\n",
              "    background-color: var(--bg-color);\n",
              "    border: none;\n",
              "    border-radius: 50%;\n",
              "    cursor: pointer;\n",
              "    display: none;\n",
              "    fill: var(--fill-color);\n",
              "    height: 32px;\n",
              "    padding: 0;\n",
              "    width: 32px;\n",
              "  }\n",
              "\n",
              "  .colab-df-quickchart:hover {\n",
              "    background-color: var(--hover-bg-color);\n",
              "    box-shadow: 0 1px 2px rgba(60, 64, 67, 0.3), 0 1px 3px 1px rgba(60, 64, 67, 0.15);\n",
              "    fill: var(--button-hover-fill-color);\n",
              "  }\n",
              "\n",
              "  .colab-df-quickchart-complete:disabled,\n",
              "  .colab-df-quickchart-complete:disabled:hover {\n",
              "    background-color: var(--disabled-bg-color);\n",
              "    fill: var(--disabled-fill-color);\n",
              "    box-shadow: none;\n",
              "  }\n",
              "\n",
              "  .colab-df-spinner {\n",
              "    border: 2px solid var(--fill-color);\n",
              "    border-color: transparent;\n",
              "    border-bottom-color: var(--fill-color);\n",
              "    animation:\n",
              "      spin 1s steps(1) infinite;\n",
              "  }\n",
              "\n",
              "  @keyframes spin {\n",
              "    0% {\n",
              "      border-color: transparent;\n",
              "      border-bottom-color: var(--fill-color);\n",
              "      border-left-color: var(--fill-color);\n",
              "    }\n",
              "    20% {\n",
              "      border-color: transparent;\n",
              "      border-left-color: var(--fill-color);\n",
              "      border-top-color: var(--fill-color);\n",
              "    }\n",
              "    30% {\n",
              "      border-color: transparent;\n",
              "      border-left-color: var(--fill-color);\n",
              "      border-top-color: var(--fill-color);\n",
              "      border-right-color: var(--fill-color);\n",
              "    }\n",
              "    40% {\n",
              "      border-color: transparent;\n",
              "      border-right-color: var(--fill-color);\n",
              "      border-top-color: var(--fill-color);\n",
              "    }\n",
              "    60% {\n",
              "      border-color: transparent;\n",
              "      border-right-color: var(--fill-color);\n",
              "    }\n",
              "    80% {\n",
              "      border-color: transparent;\n",
              "      border-right-color: var(--fill-color);\n",
              "      border-bottom-color: var(--fill-color);\n",
              "    }\n",
              "    90% {\n",
              "      border-color: transparent;\n",
              "      border-bottom-color: var(--fill-color);\n",
              "    }\n",
              "  }\n",
              "</style>\n",
              "\n",
              "  <script>\n",
              "    async function quickchart(key) {\n",
              "      const quickchartButtonEl =\n",
              "        document.querySelector('#' + key + ' button');\n",
              "      quickchartButtonEl.disabled = true;  // To prevent multiple clicks.\n",
              "      quickchartButtonEl.classList.add('colab-df-spinner');\n",
              "      try {\n",
              "        const charts = await google.colab.kernel.invokeFunction(\n",
              "            'suggestCharts', [key], {});\n",
              "      } catch (error) {\n",
              "        console.error('Error during call to suggestCharts:', error);\n",
              "      }\n",
              "      quickchartButtonEl.classList.remove('colab-df-spinner');\n",
              "      quickchartButtonEl.classList.add('colab-df-quickchart-complete');\n",
              "    }\n",
              "    (() => {\n",
              "      let quickchartButtonEl =\n",
              "        document.querySelector('#df-c1b0dd6f-9f6a-4f38-8520-1ce70a671f7d button');\n",
              "      quickchartButtonEl.style.display =\n",
              "        google.colab.kernel.accessAllowed ? 'block' : 'none';\n",
              "    })();\n",
              "  </script>\n",
              "</div>\n",
              "    </div>\n",
              "  </div>\n"
            ]
          },
          "metadata": {},
          "execution_count": 89
        }
      ]
    },
    {
      "cell_type": "code",
      "source": [
        "lc = lc.drop_duplicates()"
      ],
      "metadata": {
        "id": "Bl4p46wkdmJf"
      },
      "execution_count": null,
      "outputs": []
    },
    {
      "cell_type": "code",
      "source": [
        "lc.shape"
      ],
      "metadata": {
        "colab": {
          "base_uri": "https://localhost:8080/"
        },
        "id": "kyIN3uFbeKnB",
        "outputId": "7f85e941-74b6-445d-c624-d3d9a19a51b8"
      },
      "execution_count": null,
      "outputs": [
        {
          "output_type": "execute_result",
          "data": {
            "text/plain": [
              "(1087, 6)"
            ]
          },
          "metadata": {},
          "execution_count": 91
        }
      ]
    },
    {
      "cell_type": "code",
      "source": [
        "lc[lc.loyaltynum==\"L2247\"].last4ccnum.unique()"
      ],
      "metadata": {
        "colab": {
          "base_uri": "https://localhost:8080/"
        },
        "id": "2mF-lHIPxaIM",
        "outputId": "e3741315-7f43-474c-af93-3f14d56a8e1d"
      },
      "execution_count": null,
      "outputs": [
        {
          "output_type": "execute_result",
          "data": {
            "text/plain": [
              "array([5368, 7889])"
            ]
          },
          "metadata": {},
          "execution_count": 154
        }
      ]
    },
    {
      "cell_type": "code",
      "source": [
        "print(lc)"
      ],
      "metadata": {
        "colab": {
          "base_uri": "https://localhost:8080/"
        },
        "id": "IqGd2L-EeL0Z",
        "outputId": "4db80a00-1580-4577-d107-6b55ab4683bb"
      },
      "execution_count": null,
      "outputs": [
        {
          "output_type": "stream",
          "name": "stdout",
          "text": [
            "            date             location   price loyaltynum         timestamp  \\\n",
            "0     01/06/2014  Brew've Been Served    4.17      L2247  01/06/2014 07:38   \n",
            "1     01/06/2014  Brew've Been Served    9.60      L9406  01/06/2014 07:43   \n",
            "2     01/06/2014     Hallowed Grounds   16.53      L8328  01/06/2014 07:47   \n",
            "3     01/06/2014  Brew've Been Served    4.27      L4034  01/06/2014 08:00   \n",
            "4     01/06/2014  Brew've Been Served   11.20      L6110  01/06/2014 08:16   \n",
            "...          ...                  ...     ...        ...               ...   \n",
            "1082  01/19/2014      Katerina’s Café   70.22      L8566  01/19/2014 13:23   \n",
            "1083  01/19/2014          Guy's Gyros   18.08      L9254  01/19/2014 20:00   \n",
            "1084  01/19/2014      Katerina’s Café   35.01      L9254  01/19/2014 13:00   \n",
            "1085  01/19/2014  Desafio Golf Course  110.02      L6886  01/19/2014 15:15   \n",
            "1086  01/19/2014          Hippokampos   63.17      L6886  01/19/2014 19:56   \n",
            "\n",
            "      last4ccnum  \n",
            "0           5368  \n",
            "1           4948  \n",
            "2           8129  \n",
            "3           5407  \n",
            "4           8411  \n",
            "...          ...  \n",
            "1082        4795  \n",
            "1083        7354  \n",
            "1084        7354  \n",
            "1085        2463  \n",
            "1086        2463  \n",
            "\n",
            "[1087 rows x 6 columns]\n"
          ]
        }
      ]
    },
    {
      "cell_type": "code",
      "source": [
        "gps['date']  =  pd.to_datetime(gps['Timestamp']).dt.strftime('%m/%d/%Y')\n"
      ],
      "metadata": {
        "id": "RAq49nxBf09T"
      },
      "execution_count": null,
      "outputs": []
    },
    {
      "cell_type": "code",
      "source": [
        "ca['FullName']= ca.FirstName +\" \"+ca.LastName"
      ],
      "metadata": {
        "id": "eFhTc6uznfkn"
      },
      "execution_count": null,
      "outputs": []
    },
    {
      "cell_type": "code",
      "source": [
        "ca= ca.drop(columns=['LastName', 'FirstName', 'CurrentEmploymentType',\n",
        "        'CurrentEmploymentTitle' ])\n",
        "gps= gps.drop(columns=[ 'lat', 'long', 'distance'])"
      ],
      "metadata": {
        "id": "zARDKKhHnrf2"
      },
      "execution_count": null,
      "outputs": []
    },
    {
      "cell_type": "code",
      "source": [
        "gps['timestamp']  =  pd.to_datetime(gps['Timestamp']).dt.strftime('%m/%d/%Y %H:%M')"
      ],
      "metadata": {
        "id": "qPvXEaMghi-h"
      },
      "execution_count": null,
      "outputs": []
    },
    {
      "cell_type": "code",
      "source": [
        "ca.columns,gps.columns"
      ],
      "metadata": {
        "colab": {
          "base_uri": "https://localhost:8080/"
        },
        "id": "SpT3tgFMnLm0",
        "outputId": "12432d84-78d4-40c0-a8ee-f18aa8bd19d0"
      },
      "execution_count": null,
      "outputs": [
        {
          "output_type": "execute_result",
          "data": {
            "text/plain": [
              "(Index(['CarID', 'FullName'], dtype='object'),\n",
              " Index(['Timestamp', 'id', 'nearest_location', 'date'], dtype='object'))"
            ]
          },
          "metadata": {},
          "execution_count": 107
        }
      ]
    },
    {
      "cell_type": "code",
      "source": [],
      "metadata": {
        "id": "7nogCDVNnmjK"
      },
      "execution_count": null,
      "outputs": []
    },
    {
      "cell_type": "code",
      "source": [
        "cg=pd.merge(ca,gps,left_on=\"CarID\",right_on=\"id\",how=\"inner\")"
      ],
      "metadata": {
        "id": "uGqL_1FnnGuN"
      },
      "execution_count": null,
      "outputs": []
    },
    {
      "cell_type": "code",
      "source": [
        "cg.id.unique(),cg.FullName.unique()"
      ],
      "metadata": {
        "colab": {
          "base_uri": "https://localhost:8080/"
        },
        "id": "ulWWvItVnG2P",
        "outputId": "2b334f56-44f8-408c-b1fc-398909ad3411"
      },
      "execution_count": null,
      "outputs": [
        {
          "output_type": "execute_result",
          "data": {
            "text/plain": [
              "(array([ 1,  2,  3,  4,  5,  6,  7,  8,  9, 10, 11, 12, 13, 14, 15, 16, 17,\n",
              "        18, 19, 20, 21, 22, 23, 24, 25, 26, 27, 28, 29, 30, 31, 32, 33, 34,\n",
              "        35]),\n",
              " array(['Nils Calixto', 'Lars Azada', 'Felix Balas', 'Ingrid Barranco',\n",
              "        'Isak Baza', 'Linnea Bergen', 'Elsa Orilla', 'Lucas Alcazar',\n",
              "        'Gustav Cazar', 'Ada Campo-Corrente', 'Axel Calzas',\n",
              "        'Hideki Cocinaro', 'Inga Ferro', 'Lidelse Dedos', 'Loreto Bodrogi',\n",
              "        'Isia Vann', 'Sven Flecha', 'Birgitta Frente', 'Vira Frente',\n",
              "        'Stenig Fusil', 'Hennie Osvaldo', 'Adra Nubarron', 'Varja Lagos',\n",
              "        'Minke Mies', 'Kanon Herrero', 'Marin Onda', 'Kare Orilla',\n",
              "        'Isande Borrasca', 'Bertrand Ovan', 'Felix Resumir',\n",
              "        'Sten Sanjorge Jr.', 'Orhan Strum', 'Brand Tempestad',\n",
              "        'Edvard Vann', 'Willem Vasco-Pais'], dtype=object))"
            ]
          },
          "metadata": {},
          "execution_count": 110
        }
      ]
    },
    {
      "cell_type": "code",
      "source": [
        "data = {'ID': cg_id_unique, 'FullName': cg_fullname_unique}\n",
        "df = pd.DataFrame(data)"
      ],
      "metadata": {
        "id": "_9pxur6KrE_I"
      },
      "execution_count": null,
      "outputs": []
    },
    {
      "cell_type": "markdown",
      "source": [
        " Every FullName has one  id"
      ],
      "metadata": {
        "id": "tFLvd6VSqiae"
      }
    },
    {
      "cell_type": "code",
      "source": [
        "for i in range(36):\n",
        " print(i,cg[cg.id==i].FullName.unique())"
      ],
      "metadata": {
        "colab": {
          "base_uri": "https://localhost:8080/"
        },
        "id": "x6X_pS13qEfB",
        "outputId": "a3bd2c63-8f3d-4059-abb0-0f9c845b3f86"
      },
      "execution_count": null,
      "outputs": [
        {
          "output_type": "stream",
          "name": "stdout",
          "text": [
            "0 []\n",
            "1 ['Nils Calixto']\n",
            "2 ['Lars Azada']\n",
            "3 ['Felix Balas']\n",
            "4 ['Ingrid Barranco']\n",
            "5 ['Isak Baza']\n",
            "6 ['Linnea Bergen']\n",
            "7 ['Elsa Orilla']\n",
            "8 ['Lucas Alcazar']\n",
            "9 ['Gustav Cazar']\n",
            "10 ['Ada Campo-Corrente']\n",
            "11 ['Axel Calzas']\n",
            "12 ['Hideki Cocinaro']\n",
            "13 ['Inga Ferro']\n",
            "14 ['Lidelse Dedos']\n",
            "15 ['Loreto Bodrogi']\n",
            "16 ['Isia Vann']\n",
            "17 ['Sven Flecha']\n",
            "18 ['Birgitta Frente']\n",
            "19 ['Vira Frente']\n",
            "20 ['Stenig Fusil']\n",
            "21 ['Hennie Osvaldo']\n",
            "22 ['Adra Nubarron']\n",
            "23 ['Varja Lagos']\n",
            "24 ['Minke Mies']\n",
            "25 ['Kanon Herrero']\n",
            "26 ['Marin Onda']\n",
            "27 ['Kare Orilla']\n",
            "28 ['Isande Borrasca']\n",
            "29 ['Bertrand Ovan']\n",
            "30 ['Felix Resumir']\n",
            "31 ['Sten Sanjorge Jr.']\n",
            "32 ['Orhan Strum']\n",
            "33 ['Brand Tempestad']\n",
            "34 ['Edvard Vann']\n",
            "35 ['Willem Vasco-Pais']\n"
          ]
        }
      ]
    },
    {
      "cell_type": "code",
      "source": [
        "cg[cg.id==1].FullName.unique()[0]"
      ],
      "metadata": {
        "colab": {
          "base_uri": "https://localhost:8080/",
          "height": 35
        },
        "id": "QY4Rla2askr5",
        "outputId": "a828cbfe-19df-47e2-a916-0abc9609f5d9"
      },
      "execution_count": null,
      "outputs": [
        {
          "output_type": "execute_result",
          "data": {
            "text/plain": [
              "'Nils Calixto'"
            ],
            "application/vnd.google.colaboratory.intrinsic+json": {
              "type": "string"
            }
          },
          "metadata": {},
          "execution_count": 130
        }
      ]
    },
    {
      "cell_type": "code",
      "source": [
        "unique_fullnames = []\n",
        "for i in range(1,36):\n",
        " unique_fullnames.append(cg[cg.id==i].FullName.unique()[0])\n",
        "\n",
        "data = {'ID': list(range(1,36)), 'FullName': unique_fullnames}\n",
        "df = pd.DataFrame(data)\n",
        "\n",
        "# Print the resulting DataFrame\n",
        "print(df)"
      ],
      "metadata": {
        "colab": {
          "base_uri": "https://localhost:8080/"
        },
        "id": "fKvJATCQsKlH",
        "outputId": "bf55be12-faa8-4bfa-9d3a-1dc343bc44ab"
      },
      "execution_count": null,
      "outputs": [
        {
          "output_type": "stream",
          "name": "stdout",
          "text": [
            "    ID            FullName\n",
            "0    1        Nils Calixto\n",
            "1    2          Lars Azada\n",
            "2    3         Felix Balas\n",
            "3    4     Ingrid Barranco\n",
            "4    5           Isak Baza\n",
            "5    6       Linnea Bergen\n",
            "6    7         Elsa Orilla\n",
            "7    8       Lucas Alcazar\n",
            "8    9        Gustav Cazar\n",
            "9   10  Ada Campo-Corrente\n",
            "10  11         Axel Calzas\n",
            "11  12     Hideki Cocinaro\n",
            "12  13          Inga Ferro\n",
            "13  14       Lidelse Dedos\n",
            "14  15      Loreto Bodrogi\n",
            "15  16           Isia Vann\n",
            "16  17         Sven Flecha\n",
            "17  18     Birgitta Frente\n",
            "18  19         Vira Frente\n",
            "19  20        Stenig Fusil\n",
            "20  21      Hennie Osvaldo\n",
            "21  22       Adra Nubarron\n",
            "22  23         Varja Lagos\n",
            "23  24          Minke Mies\n",
            "24  25       Kanon Herrero\n",
            "25  26          Marin Onda\n",
            "26  27         Kare Orilla\n",
            "27  28     Isande Borrasca\n",
            "28  29       Bertrand Ovan\n",
            "29  30       Felix Resumir\n",
            "30  31   Sten Sanjorge Jr.\n",
            "31  32         Orhan Strum\n",
            "32  33     Brand Tempestad\n",
            "33  34         Edvard Vann\n",
            "34  35   Willem Vasco-Pais\n"
          ]
        }
      ]
    },
    {
      "cell_type": "code",
      "source": [
        "df.to_csv(\"FullName_CarID_mapping.csv\")"
      ],
      "metadata": {
        "id": "9NHIn2W-sstR"
      },
      "execution_count": null,
      "outputs": []
    },
    {
      "cell_type": "code",
      "source": [
        "cg.Timestamp"
      ],
      "metadata": {
        "colab": {
          "base_uri": "https://localhost:8080/"
        },
        "id": "ZZ_xYAxptOiW",
        "outputId": "7a7e60fd-4731-4e59-f5b3-c0d95685aacd"
      },
      "execution_count": null,
      "outputs": [
        {
          "output_type": "execute_result",
          "data": {
            "text/plain": [
              "0         01/06/2014 07:20:01\n",
              "1         01/06/2014 07:20:03\n",
              "2         01/06/2014 07:20:06\n",
              "3         01/06/2014 07:20:07\n",
              "4         01/06/2014 07:20:10\n",
              "                 ...         \n",
              "613072    01/19/2014 20:07:11\n",
              "613073    01/19/2014 20:07:13\n",
              "613074    01/19/2014 20:07:15\n",
              "613075    01/19/2014 20:07:16\n",
              "613076    01/19/2014 20:07:17\n",
              "Name: Timestamp, Length: 613077, dtype: object"
            ]
          },
          "metadata": {},
          "execution_count": 134
        }
      ]
    },
    {
      "cell_type": "code",
      "source": [
        "cg['timestamp']  =  pd.to_datetime(cg['Timestamp']).dt.strftime('%m/%d/%Y %H:%M')"
      ],
      "metadata": {
        "id": "DAQTd0RgtRmN"
      },
      "execution_count": null,
      "outputs": []
    },
    {
      "cell_type": "code",
      "source": [
        "cg.columns,lc.columns"
      ],
      "metadata": {
        "colab": {
          "base_uri": "https://localhost:8080/"
        },
        "id": "qmibyEr4nG5C",
        "outputId": "f7370335-c0ef-4edc-a27f-466e7f98e8f7"
      },
      "execution_count": null,
      "outputs": [
        {
          "output_type": "execute_result",
          "data": {
            "text/plain": [
              "(Index(['CarID', 'FullName', 'Timestamp', 'id', 'nearest_location', 'date',\n",
              "        'timestamp'],\n",
              "       dtype='object'),\n",
              " Index(['date', 'location', 'price', 'loyaltynum', 'timestamp', 'last4ccnum'], dtype='object'))"
            ]
          },
          "metadata": {},
          "execution_count": 136
        }
      ]
    },
    {
      "cell_type": "code",
      "source": [
        "lcg= pd.merge(lc,cg,left_on=[\"timestamp\",\"date\",\"location\"], right_on=[\"timestamp\",\"date\",\"nearest_location\"])"
      ],
      "metadata": {
        "id": "ZPFIcuLKgrkU"
      },
      "execution_count": null,
      "outputs": []
    },
    {
      "cell_type": "code",
      "source": [
        "lcg"
      ],
      "metadata": {
        "colab": {
          "base_uri": "https://localhost:8080/",
          "height": 684
        },
        "id": "QFh6K2qmgx-j",
        "outputId": "1aa6e6fe-d885-40d4-fd6e-74fb6c8a5882"
      },
      "execution_count": null,
      "outputs": [
        {
          "output_type": "execute_result",
          "data": {
            "text/plain": [
              "            date             location  price loyaltynum         timestamp  \\\n",
              "0     01/06/2014  Brew've Been Served   9.60      L9406  01/06/2014 07:43   \n",
              "1     01/06/2014  Brew've Been Served   9.60      L9406  01/06/2014 07:43   \n",
              "2     01/06/2014  Brew've Been Served   9.60      L9406  01/06/2014 07:43   \n",
              "3     01/06/2014  Brew've Been Served   9.60      L9406  01/06/2014 07:43   \n",
              "4     01/06/2014  Brew've Been Served   9.60      L9406  01/06/2014 07:43   \n",
              "...          ...                  ...    ...        ...               ...   \n",
              "3740  01/18/2014         Ouzeri Elian  33.57      L3366  01/18/2014 13:18   \n",
              "3741  01/18/2014         Ouzeri Elian  33.57      L3366  01/18/2014 13:18   \n",
              "3742  01/18/2014         Ouzeri Elian  33.57      L3366  01/18/2014 13:18   \n",
              "3743  01/18/2014         Ouzeri Elian  33.57      L3366  01/18/2014 13:18   \n",
              "3744  01/18/2014         Ouzeri Elian  33.57      L3366  01/18/2014 13:18   \n",
              "\n",
              "      last4ccnum  CarID     FullName            Timestamp  id  \\\n",
              "0           4948   23.0  Varja Lagos  01/06/2014 07:43:18  23   \n",
              "1           4948   23.0  Varja Lagos  01/06/2014 07:43:20  23   \n",
              "2           4948   23.0  Varja Lagos  01/06/2014 07:43:23  23   \n",
              "3           4948   23.0  Varja Lagos  01/06/2014 07:43:25  23   \n",
              "4           4948   23.0  Varja Lagos  01/06/2014 07:43:27  23   \n",
              "...          ...    ...          ...                  ...  ..   \n",
              "3740        6895   34.0  Edvard Vann  01/18/2014 13:18:54  34   \n",
              "3741        6895   34.0  Edvard Vann  01/18/2014 13:18:56  34   \n",
              "3742        6895   34.0  Edvard Vann  01/18/2014 13:18:57  34   \n",
              "3743        6895   34.0  Edvard Vann  01/18/2014 13:18:58  34   \n",
              "3744        6895   34.0  Edvard Vann  01/18/2014 13:18:59  34   \n",
              "\n",
              "         nearest_location  \n",
              "0     Brew've Been Served  \n",
              "1     Brew've Been Served  \n",
              "2     Brew've Been Served  \n",
              "3     Brew've Been Served  \n",
              "4     Brew've Been Served  \n",
              "...                   ...  \n",
              "3740         Ouzeri Elian  \n",
              "3741         Ouzeri Elian  \n",
              "3742         Ouzeri Elian  \n",
              "3743         Ouzeri Elian  \n",
              "3744         Ouzeri Elian  \n",
              "\n",
              "[3745 rows x 11 columns]"
            ],
            "text/html": [
              "\n",
              "  <div id=\"df-bc45970a-df31-43a4-ac17-2dbbd62cffc3\" class=\"colab-df-container\">\n",
              "    <div>\n",
              "<style scoped>\n",
              "    .dataframe tbody tr th:only-of-type {\n",
              "        vertical-align: middle;\n",
              "    }\n",
              "\n",
              "    .dataframe tbody tr th {\n",
              "        vertical-align: top;\n",
              "    }\n",
              "\n",
              "    .dataframe thead th {\n",
              "        text-align: right;\n",
              "    }\n",
              "</style>\n",
              "<table border=\"1\" class=\"dataframe\">\n",
              "  <thead>\n",
              "    <tr style=\"text-align: right;\">\n",
              "      <th></th>\n",
              "      <th>date</th>\n",
              "      <th>location</th>\n",
              "      <th>price</th>\n",
              "      <th>loyaltynum</th>\n",
              "      <th>timestamp</th>\n",
              "      <th>last4ccnum</th>\n",
              "      <th>CarID</th>\n",
              "      <th>FullName</th>\n",
              "      <th>Timestamp</th>\n",
              "      <th>id</th>\n",
              "      <th>nearest_location</th>\n",
              "    </tr>\n",
              "  </thead>\n",
              "  <tbody>\n",
              "    <tr>\n",
              "      <th>0</th>\n",
              "      <td>01/06/2014</td>\n",
              "      <td>Brew've Been Served</td>\n",
              "      <td>9.60</td>\n",
              "      <td>L9406</td>\n",
              "      <td>01/06/2014 07:43</td>\n",
              "      <td>4948</td>\n",
              "      <td>23.0</td>\n",
              "      <td>Varja Lagos</td>\n",
              "      <td>01/06/2014 07:43:18</td>\n",
              "      <td>23</td>\n",
              "      <td>Brew've Been Served</td>\n",
              "    </tr>\n",
              "    <tr>\n",
              "      <th>1</th>\n",
              "      <td>01/06/2014</td>\n",
              "      <td>Brew've Been Served</td>\n",
              "      <td>9.60</td>\n",
              "      <td>L9406</td>\n",
              "      <td>01/06/2014 07:43</td>\n",
              "      <td>4948</td>\n",
              "      <td>23.0</td>\n",
              "      <td>Varja Lagos</td>\n",
              "      <td>01/06/2014 07:43:20</td>\n",
              "      <td>23</td>\n",
              "      <td>Brew've Been Served</td>\n",
              "    </tr>\n",
              "    <tr>\n",
              "      <th>2</th>\n",
              "      <td>01/06/2014</td>\n",
              "      <td>Brew've Been Served</td>\n",
              "      <td>9.60</td>\n",
              "      <td>L9406</td>\n",
              "      <td>01/06/2014 07:43</td>\n",
              "      <td>4948</td>\n",
              "      <td>23.0</td>\n",
              "      <td>Varja Lagos</td>\n",
              "      <td>01/06/2014 07:43:23</td>\n",
              "      <td>23</td>\n",
              "      <td>Brew've Been Served</td>\n",
              "    </tr>\n",
              "    <tr>\n",
              "      <th>3</th>\n",
              "      <td>01/06/2014</td>\n",
              "      <td>Brew've Been Served</td>\n",
              "      <td>9.60</td>\n",
              "      <td>L9406</td>\n",
              "      <td>01/06/2014 07:43</td>\n",
              "      <td>4948</td>\n",
              "      <td>23.0</td>\n",
              "      <td>Varja Lagos</td>\n",
              "      <td>01/06/2014 07:43:25</td>\n",
              "      <td>23</td>\n",
              "      <td>Brew've Been Served</td>\n",
              "    </tr>\n",
              "    <tr>\n",
              "      <th>4</th>\n",
              "      <td>01/06/2014</td>\n",
              "      <td>Brew've Been Served</td>\n",
              "      <td>9.60</td>\n",
              "      <td>L9406</td>\n",
              "      <td>01/06/2014 07:43</td>\n",
              "      <td>4948</td>\n",
              "      <td>23.0</td>\n",
              "      <td>Varja Lagos</td>\n",
              "      <td>01/06/2014 07:43:27</td>\n",
              "      <td>23</td>\n",
              "      <td>Brew've Been Served</td>\n",
              "    </tr>\n",
              "    <tr>\n",
              "      <th>...</th>\n",
              "      <td>...</td>\n",
              "      <td>...</td>\n",
              "      <td>...</td>\n",
              "      <td>...</td>\n",
              "      <td>...</td>\n",
              "      <td>...</td>\n",
              "      <td>...</td>\n",
              "      <td>...</td>\n",
              "      <td>...</td>\n",
              "      <td>...</td>\n",
              "      <td>...</td>\n",
              "    </tr>\n",
              "    <tr>\n",
              "      <th>3740</th>\n",
              "      <td>01/18/2014</td>\n",
              "      <td>Ouzeri Elian</td>\n",
              "      <td>33.57</td>\n",
              "      <td>L3366</td>\n",
              "      <td>01/18/2014 13:18</td>\n",
              "      <td>6895</td>\n",
              "      <td>34.0</td>\n",
              "      <td>Edvard Vann</td>\n",
              "      <td>01/18/2014 13:18:54</td>\n",
              "      <td>34</td>\n",
              "      <td>Ouzeri Elian</td>\n",
              "    </tr>\n",
              "    <tr>\n",
              "      <th>3741</th>\n",
              "      <td>01/18/2014</td>\n",
              "      <td>Ouzeri Elian</td>\n",
              "      <td>33.57</td>\n",
              "      <td>L3366</td>\n",
              "      <td>01/18/2014 13:18</td>\n",
              "      <td>6895</td>\n",
              "      <td>34.0</td>\n",
              "      <td>Edvard Vann</td>\n",
              "      <td>01/18/2014 13:18:56</td>\n",
              "      <td>34</td>\n",
              "      <td>Ouzeri Elian</td>\n",
              "    </tr>\n",
              "    <tr>\n",
              "      <th>3742</th>\n",
              "      <td>01/18/2014</td>\n",
              "      <td>Ouzeri Elian</td>\n",
              "      <td>33.57</td>\n",
              "      <td>L3366</td>\n",
              "      <td>01/18/2014 13:18</td>\n",
              "      <td>6895</td>\n",
              "      <td>34.0</td>\n",
              "      <td>Edvard Vann</td>\n",
              "      <td>01/18/2014 13:18:57</td>\n",
              "      <td>34</td>\n",
              "      <td>Ouzeri Elian</td>\n",
              "    </tr>\n",
              "    <tr>\n",
              "      <th>3743</th>\n",
              "      <td>01/18/2014</td>\n",
              "      <td>Ouzeri Elian</td>\n",
              "      <td>33.57</td>\n",
              "      <td>L3366</td>\n",
              "      <td>01/18/2014 13:18</td>\n",
              "      <td>6895</td>\n",
              "      <td>34.0</td>\n",
              "      <td>Edvard Vann</td>\n",
              "      <td>01/18/2014 13:18:58</td>\n",
              "      <td>34</td>\n",
              "      <td>Ouzeri Elian</td>\n",
              "    </tr>\n",
              "    <tr>\n",
              "      <th>3744</th>\n",
              "      <td>01/18/2014</td>\n",
              "      <td>Ouzeri Elian</td>\n",
              "      <td>33.57</td>\n",
              "      <td>L3366</td>\n",
              "      <td>01/18/2014 13:18</td>\n",
              "      <td>6895</td>\n",
              "      <td>34.0</td>\n",
              "      <td>Edvard Vann</td>\n",
              "      <td>01/18/2014 13:18:59</td>\n",
              "      <td>34</td>\n",
              "      <td>Ouzeri Elian</td>\n",
              "    </tr>\n",
              "  </tbody>\n",
              "</table>\n",
              "<p>3745 rows × 11 columns</p>\n",
              "</div>\n",
              "    <div class=\"colab-df-buttons\">\n",
              "\n",
              "  <div class=\"colab-df-container\">\n",
              "    <button class=\"colab-df-convert\" onclick=\"convertToInteractive('df-bc45970a-df31-43a4-ac17-2dbbd62cffc3')\"\n",
              "            title=\"Convert this dataframe to an interactive table.\"\n",
              "            style=\"display:none;\">\n",
              "\n",
              "  <svg xmlns=\"http://www.w3.org/2000/svg\" height=\"24px\" viewBox=\"0 -960 960 960\">\n",
              "    <path d=\"M120-120v-720h720v720H120Zm60-500h600v-160H180v160Zm220 220h160v-160H400v160Zm0 220h160v-160H400v160ZM180-400h160v-160H180v160Zm440 0h160v-160H620v160ZM180-180h160v-160H180v160Zm440 0h160v-160H620v160Z\"/>\n",
              "  </svg>\n",
              "    </button>\n",
              "\n",
              "  <style>\n",
              "    .colab-df-container {\n",
              "      display:flex;\n",
              "      gap: 12px;\n",
              "    }\n",
              "\n",
              "    .colab-df-convert {\n",
              "      background-color: #E8F0FE;\n",
              "      border: none;\n",
              "      border-radius: 50%;\n",
              "      cursor: pointer;\n",
              "      display: none;\n",
              "      fill: #1967D2;\n",
              "      height: 32px;\n",
              "      padding: 0 0 0 0;\n",
              "      width: 32px;\n",
              "    }\n",
              "\n",
              "    .colab-df-convert:hover {\n",
              "      background-color: #E2EBFA;\n",
              "      box-shadow: 0px 1px 2px rgba(60, 64, 67, 0.3), 0px 1px 3px 1px rgba(60, 64, 67, 0.15);\n",
              "      fill: #174EA6;\n",
              "    }\n",
              "\n",
              "    .colab-df-buttons div {\n",
              "      margin-bottom: 4px;\n",
              "    }\n",
              "\n",
              "    [theme=dark] .colab-df-convert {\n",
              "      background-color: #3B4455;\n",
              "      fill: #D2E3FC;\n",
              "    }\n",
              "\n",
              "    [theme=dark] .colab-df-convert:hover {\n",
              "      background-color: #434B5C;\n",
              "      box-shadow: 0px 1px 3px 1px rgba(0, 0, 0, 0.15);\n",
              "      filter: drop-shadow(0px 1px 2px rgba(0, 0, 0, 0.3));\n",
              "      fill: #FFFFFF;\n",
              "    }\n",
              "  </style>\n",
              "\n",
              "    <script>\n",
              "      const buttonEl =\n",
              "        document.querySelector('#df-bc45970a-df31-43a4-ac17-2dbbd62cffc3 button.colab-df-convert');\n",
              "      buttonEl.style.display =\n",
              "        google.colab.kernel.accessAllowed ? 'block' : 'none';\n",
              "\n",
              "      async function convertToInteractive(key) {\n",
              "        const element = document.querySelector('#df-bc45970a-df31-43a4-ac17-2dbbd62cffc3');\n",
              "        const dataTable =\n",
              "          await google.colab.kernel.invokeFunction('convertToInteractive',\n",
              "                                                    [key], {});\n",
              "        if (!dataTable) return;\n",
              "\n",
              "        const docLinkHtml = 'Like what you see? Visit the ' +\n",
              "          '<a target=\"_blank\" href=https://colab.research.google.com/notebooks/data_table.ipynb>data table notebook</a>'\n",
              "          + ' to learn more about interactive tables.';\n",
              "        element.innerHTML = '';\n",
              "        dataTable['output_type'] = 'display_data';\n",
              "        await google.colab.output.renderOutput(dataTable, element);\n",
              "        const docLink = document.createElement('div');\n",
              "        docLink.innerHTML = docLinkHtml;\n",
              "        element.appendChild(docLink);\n",
              "      }\n",
              "    </script>\n",
              "  </div>\n",
              "\n",
              "\n",
              "<div id=\"df-ae533935-8f68-487d-99d5-f2fe9b4f227e\">\n",
              "  <button class=\"colab-df-quickchart\" onclick=\"quickchart('df-ae533935-8f68-487d-99d5-f2fe9b4f227e')\"\n",
              "            title=\"Suggest charts.\"\n",
              "            style=\"display:none;\">\n",
              "\n",
              "<svg xmlns=\"http://www.w3.org/2000/svg\" height=\"24px\"viewBox=\"0 0 24 24\"\n",
              "     width=\"24px\">\n",
              "    <g>\n",
              "        <path d=\"M19 3H5c-1.1 0-2 .9-2 2v14c0 1.1.9 2 2 2h14c1.1 0 2-.9 2-2V5c0-1.1-.9-2-2-2zM9 17H7v-7h2v7zm4 0h-2V7h2v10zm4 0h-2v-4h2v4z\"/>\n",
              "    </g>\n",
              "</svg>\n",
              "  </button>\n",
              "\n",
              "<style>\n",
              "  .colab-df-quickchart {\n",
              "      --bg-color: #E8F0FE;\n",
              "      --fill-color: #1967D2;\n",
              "      --hover-bg-color: #E2EBFA;\n",
              "      --hover-fill-color: #174EA6;\n",
              "      --disabled-fill-color: #AAA;\n",
              "      --disabled-bg-color: #DDD;\n",
              "  }\n",
              "\n",
              "  [theme=dark] .colab-df-quickchart {\n",
              "      --bg-color: #3B4455;\n",
              "      --fill-color: #D2E3FC;\n",
              "      --hover-bg-color: #434B5C;\n",
              "      --hover-fill-color: #FFFFFF;\n",
              "      --disabled-bg-color: #3B4455;\n",
              "      --disabled-fill-color: #666;\n",
              "  }\n",
              "\n",
              "  .colab-df-quickchart {\n",
              "    background-color: var(--bg-color);\n",
              "    border: none;\n",
              "    border-radius: 50%;\n",
              "    cursor: pointer;\n",
              "    display: none;\n",
              "    fill: var(--fill-color);\n",
              "    height: 32px;\n",
              "    padding: 0;\n",
              "    width: 32px;\n",
              "  }\n",
              "\n",
              "  .colab-df-quickchart:hover {\n",
              "    background-color: var(--hover-bg-color);\n",
              "    box-shadow: 0 1px 2px rgba(60, 64, 67, 0.3), 0 1px 3px 1px rgba(60, 64, 67, 0.15);\n",
              "    fill: var(--button-hover-fill-color);\n",
              "  }\n",
              "\n",
              "  .colab-df-quickchart-complete:disabled,\n",
              "  .colab-df-quickchart-complete:disabled:hover {\n",
              "    background-color: var(--disabled-bg-color);\n",
              "    fill: var(--disabled-fill-color);\n",
              "    box-shadow: none;\n",
              "  }\n",
              "\n",
              "  .colab-df-spinner {\n",
              "    border: 2px solid var(--fill-color);\n",
              "    border-color: transparent;\n",
              "    border-bottom-color: var(--fill-color);\n",
              "    animation:\n",
              "      spin 1s steps(1) infinite;\n",
              "  }\n",
              "\n",
              "  @keyframes spin {\n",
              "    0% {\n",
              "      border-color: transparent;\n",
              "      border-bottom-color: var(--fill-color);\n",
              "      border-left-color: var(--fill-color);\n",
              "    }\n",
              "    20% {\n",
              "      border-color: transparent;\n",
              "      border-left-color: var(--fill-color);\n",
              "      border-top-color: var(--fill-color);\n",
              "    }\n",
              "    30% {\n",
              "      border-color: transparent;\n",
              "      border-left-color: var(--fill-color);\n",
              "      border-top-color: var(--fill-color);\n",
              "      border-right-color: var(--fill-color);\n",
              "    }\n",
              "    40% {\n",
              "      border-color: transparent;\n",
              "      border-right-color: var(--fill-color);\n",
              "      border-top-color: var(--fill-color);\n",
              "    }\n",
              "    60% {\n",
              "      border-color: transparent;\n",
              "      border-right-color: var(--fill-color);\n",
              "    }\n",
              "    80% {\n",
              "      border-color: transparent;\n",
              "      border-right-color: var(--fill-color);\n",
              "      border-bottom-color: var(--fill-color);\n",
              "    }\n",
              "    90% {\n",
              "      border-color: transparent;\n",
              "      border-bottom-color: var(--fill-color);\n",
              "    }\n",
              "  }\n",
              "</style>\n",
              "\n",
              "  <script>\n",
              "    async function quickchart(key) {\n",
              "      const quickchartButtonEl =\n",
              "        document.querySelector('#' + key + ' button');\n",
              "      quickchartButtonEl.disabled = true;  // To prevent multiple clicks.\n",
              "      quickchartButtonEl.classList.add('colab-df-spinner');\n",
              "      try {\n",
              "        const charts = await google.colab.kernel.invokeFunction(\n",
              "            'suggestCharts', [key], {});\n",
              "      } catch (error) {\n",
              "        console.error('Error during call to suggestCharts:', error);\n",
              "      }\n",
              "      quickchartButtonEl.classList.remove('colab-df-spinner');\n",
              "      quickchartButtonEl.classList.add('colab-df-quickchart-complete');\n",
              "    }\n",
              "    (() => {\n",
              "      let quickchartButtonEl =\n",
              "        document.querySelector('#df-ae533935-8f68-487d-99d5-f2fe9b4f227e button');\n",
              "      quickchartButtonEl.style.display =\n",
              "        google.colab.kernel.accessAllowed ? 'block' : 'none';\n",
              "    })();\n",
              "  </script>\n",
              "</div>\n",
              "    </div>\n",
              "  </div>\n"
            ]
          },
          "metadata": {},
          "execution_count": 138
        }
      ]
    },
    {
      "cell_type": "code",
      "source": [
        "len()"
      ],
      "metadata": {
        "id": "yjbv_ZM6zuJT"
      },
      "execution_count": null,
      "outputs": []
    },
    {
      "cell_type": "code",
      "source": [
        "cg.CarID.unique()"
      ],
      "metadata": {
        "colab": {
          "base_uri": "https://localhost:8080/"
        },
        "id": "PG2gA_5ozozi",
        "outputId": "dbaf4901-f0f0-4dfe-a2dc-c7acae76f075"
      },
      "execution_count": null,
      "outputs": [
        {
          "output_type": "execute_result",
          "data": {
            "text/plain": [
              "array([ 1.,  2.,  3.,  4.,  5.,  6.,  7.,  8.,  9., 10., 11., 12., 13.,\n",
              "       14., 15., 16., 17., 18., 19., 20., 21., 22., 23., 24., 25., 26.,\n",
              "       27., 28., 29., 30., 31., 32., 33., 34., 35.])"
            ]
          },
          "metadata": {},
          "execution_count": 168
        }
      ]
    },
    {
      "cell_type": "code",
      "source": [
        "import pandas as pd\n",
        "\n",
        "# Assuming you have a DataFrame named 'data' with columns: date, location, price, loyaltynum, timestamp, last4ccnum, CarID, FullName, Timestamp, id, nearest_location\n",
        "data=lcg\n",
        "# Create a new DataFrame with unique CarID, FullName, loyaltynum, and last4ccnum combinations\n",
        "unique_combinations = data.groupby(['FullName', 'loyaltynum']).size().reset_index(name='count')\n",
        "unique_combinations = unique_combinations[['FullName', 'loyaltynum']]\n",
        "\n",
        "# Print the DataFrame with unique combinations\n",
        "print(unique_combinations)\n"
      ],
      "metadata": {
        "colab": {
          "base_uri": "https://localhost:8080/"
        },
        "id": "dmjxd25ovDVU",
        "outputId": "3a0f5263-1d2b-477c-c290-bf088618cce0"
      },
      "execution_count": null,
      "outputs": [
        {
          "output_type": "stream",
          "name": "stdout",
          "text": [
            "               FullName loyaltynum\n",
            "0    Ada Campo-Corrente      L3288\n",
            "1    Ada Campo-Corrente      L3800\n",
            "2    Ada Campo-Corrente      L4149\n",
            "3    Ada Campo-Corrente      L5224\n",
            "4    Ada Campo-Corrente      L6267\n",
            "..                  ...        ...\n",
            "140         Vira Frente      L6110\n",
            "141         Vira Frente      L6886\n",
            "142         Vira Frente      L8328\n",
            "143   Willem Vasco-Pais      L3259\n",
            "144   Willem Vasco-Pais      L6110\n",
            "\n",
            "[145 rows x 2 columns]\n"
          ]
        }
      ]
    },
    {
      "cell_type": "code",
      "source": [
        "import pandas as pd\n",
        "\n",
        "# Assuming you have a DataFrame named 'data' with columns: date, location, price, loyaltynum, timestamp, last4ccnum, CarID, FullName, Timestamp, id, nearest_location\n",
        "\n",
        "# Find the most common last4ccnum for each FullName using majority voting\n",
        "majority_last4ccnum = data.groupby('FullName')['last4ccnum'].apply(lambda x: x.mode().iloc[0]).reset_index(name='majority_last4ccnum')\n",
        "\n",
        "# Assign unique numbers to each unique majority_last4ccnum\n",
        "unique_last4ccnum = {}\n",
        "counter = 1\n",
        "for index, row in majority_last4ccnum.iterrows():\n",
        "    full_name = row['FullName']\n",
        "    majority_num = row['majority_last4ccnum']\n",
        "    if majority_num not in unique_last4ccnum.values():\n",
        "        unique_last4ccnum[full_name] = majority_num\n",
        "    else:\n",
        "        while majority_num in unique_last4ccnum.values():\n",
        "            majority_num += counter\n",
        "        unique_last4ccnum[full_name] = majority_num\n",
        "\n",
        "# Create a DataFrame from the unique_last4ccnum dictionary\n",
        "unique_last4ccnum_df = pd.DataFrame(list(unique_last4ccnum.items()), columns=['FullName', 'Unique_last4ccnum'])\n",
        "\n",
        "# Print the resulting DataFrame\n",
        "print(unique_last4ccnum_df)\n"
      ],
      "metadata": {
        "colab": {
          "base_uri": "https://localhost:8080/"
        },
        "id": "Q6xyxPMtwNac",
        "outputId": "809c507d-d2dd-46c0-e985-488afaec24af"
      },
      "execution_count": null,
      "outputs": [
        {
          "output_type": "stream",
          "name": "stdout",
          "text": [
            "              FullName  Unique_last4ccnum\n",
            "0   Ada Campo-Corrente               9241\n",
            "1        Adra Nubarron               9683\n",
            "2        Bertrand Ovan               8156\n",
            "3      Birgitta Frente               6816\n",
            "4      Brand Tempestad               7253\n",
            "5          Edvard Vann               3853\n",
            "6          Elsa Orilla               9684\n",
            "7          Felix Balas               1310\n",
            "8        Felix Resumir               2142\n",
            "9       Hennie Osvaldo               1877\n",
            "10     Hideki Cocinaro               7117\n",
            "11          Inga Ferro               4795\n",
            "12     Ingrid Barranco               1415\n",
            "13           Isak Baza               2463\n",
            "14           Isia Vann               3484\n",
            "15       Kanon Herrero               2418\n",
            "16         Kare Orilla               7889\n",
            "17          Lars Azada               2143\n",
            "18       Lidelse Dedos               8202\n",
            "19       Linnea Bergen               3854\n",
            "20      Loreto Bodrogi               9551\n",
            "21       Lucas Alcazar               9405\n",
            "22          Marin Onda               8157\n",
            "23          Minke Mies               4948\n",
            "24        Nils Calixto               3492\n",
            "25   Sten Sanjorge Jr.               6691\n",
            "26        Stenig Fusil               2144\n",
            "27         Sven Flecha               2145\n",
            "28         Varja Lagos               2419\n",
            "29         Vira Frente               8129\n",
            "30   Willem Vasco-Pais               9406\n"
          ]
        }
      ]
    },
    {
      "cell_type": "code",
      "source": [
        "import pandas as pd\n",
        "from collections import defaultdict\n",
        "data =lcg\n",
        "# Assuming you have a DataFrame named 'data' with columns: date, location, price, loyaltynum, timestamp, last4ccnum, CarID, FullName, Timestamp, id, nearest_location\n",
        "\n",
        "# Group data by loyalty number and find the most common person using majority voting\n",
        "loyalty_num_assignments = data.groupby('loyaltynum')['FullName'].apply(lambda x: x.mode().iloc[0]).reset_index(name='AssignedFullName')\n",
        "\n",
        "# Ensure no two loyalty numbers are assigned to the same person\n",
        "assigned_people = set()\n",
        "assigned_loyalty_nums = {}\n",
        "\n",
        "for index, row in loyalty_num_assignments.iterrows():\n",
        "    loyaltynum = row['loyaltynum']\n",
        "    person = row['AssignedFullName']\n",
        "\n",
        "    # If the person is already assigned, find an alternative person\n",
        "    while person in assigned_people:\n",
        "        alternatives = data[data['loyaltynum'] == loyaltynum]['FullName'].unique()\n",
        "        for alt_person in alternatives:\n",
        "            if alt_person not in assigned_people:\n",
        "                person = alt_person\n",
        "                break\n",
        "\n",
        "    # Assign the loyalty number to the person\n",
        "    assigned_loyalty_nums[loyaltynum] = person\n",
        "    assigned_people.add(person)\n",
        "\n",
        "# Create a new column 'AssignedFullName' based on assigned loyalty numbers\n",
        "data['AssignedFullName'] = data['loyaltynum'].map(assigned_loyalty_nums)\n",
        "\n",
        "# Print the resulting DataFrame with assigned loyalty numbers\n",
        "print(data[['loyaltynum', 'AssignedFullName']])\n",
        "\n"
      ],
      "metadata": {
        "colab": {
          "base_uri": "https://localhost:8080/",
          "height": 399
        },
        "id": "jyaV3YtdzSJc",
        "outputId": "68a8c21d-cf62-4618-ff57-796f0d16aa61"
      },
      "execution_count": null,
      "outputs": [
        {
          "output_type": "error",
          "ename": "KeyboardInterrupt",
          "evalue": "ignored",
          "traceback": [
            "\u001b[0;31m---------------------------------------------------------------------------\u001b[0m",
            "\u001b[0;31mKeyboardInterrupt\u001b[0m                         Traceback (most recent call last)",
            "\u001b[0;32m<ipython-input-169-8b2a24ee8f42>\u001b[0m in \u001b[0;36m<cell line: 13>\u001b[0;34m()\u001b[0m\n\u001b[1;32m     17\u001b[0m     \u001b[0;31m# If the person is already assigned, find an alternative person\u001b[0m\u001b[0;34m\u001b[0m\u001b[0;34m\u001b[0m\u001b[0m\n\u001b[1;32m     18\u001b[0m     \u001b[0;32mwhile\u001b[0m \u001b[0mperson\u001b[0m \u001b[0;32min\u001b[0m \u001b[0massigned_people\u001b[0m\u001b[0;34m:\u001b[0m\u001b[0;34m\u001b[0m\u001b[0;34m\u001b[0m\u001b[0m\n\u001b[0;32m---> 19\u001b[0;31m         \u001b[0malternatives\u001b[0m \u001b[0;34m=\u001b[0m \u001b[0mdata\u001b[0m\u001b[0;34m[\u001b[0m\u001b[0mdata\u001b[0m\u001b[0;34m[\u001b[0m\u001b[0;34m'loyaltynum'\u001b[0m\u001b[0;34m]\u001b[0m \u001b[0;34m==\u001b[0m \u001b[0mloyaltynum\u001b[0m\u001b[0;34m]\u001b[0m\u001b[0;34m[\u001b[0m\u001b[0;34m'FullName'\u001b[0m\u001b[0;34m]\u001b[0m\u001b[0;34m.\u001b[0m\u001b[0munique\u001b[0m\u001b[0;34m(\u001b[0m\u001b[0;34m)\u001b[0m\u001b[0;34m\u001b[0m\u001b[0;34m\u001b[0m\u001b[0m\n\u001b[0m\u001b[1;32m     20\u001b[0m         \u001b[0;32mfor\u001b[0m \u001b[0malt_person\u001b[0m \u001b[0;32min\u001b[0m \u001b[0malternatives\u001b[0m\u001b[0;34m:\u001b[0m\u001b[0;34m\u001b[0m\u001b[0;34m\u001b[0m\u001b[0m\n\u001b[1;32m     21\u001b[0m             \u001b[0;32mif\u001b[0m \u001b[0malt_person\u001b[0m \u001b[0;32mnot\u001b[0m \u001b[0;32min\u001b[0m \u001b[0massigned_people\u001b[0m\u001b[0;34m:\u001b[0m\u001b[0;34m\u001b[0m\u001b[0;34m\u001b[0m\u001b[0m\n",
            "\u001b[0;32m/usr/local/lib/python3.10/dist-packages/pandas/core/series.py\u001b[0m in \u001b[0;36munique\u001b[0;34m(self)\u001b[0m\n\u001b[1;32m   2240\u001b[0m         \u001b[0mCategories\u001b[0m \u001b[0;34m(\u001b[0m\u001b[0;36m3\u001b[0m\u001b[0;34m,\u001b[0m \u001b[0mobject\u001b[0m\u001b[0;34m)\u001b[0m\u001b[0;34m:\u001b[0m \u001b[0;34m[\u001b[0m\u001b[0;34m'a'\u001b[0m \u001b[0;34m<\u001b[0m \u001b[0;34m'b'\u001b[0m \u001b[0;34m<\u001b[0m \u001b[0;34m'c'\u001b[0m\u001b[0;34m]\u001b[0m\u001b[0;34m\u001b[0m\u001b[0;34m\u001b[0m\u001b[0m\n\u001b[1;32m   2241\u001b[0m         \"\"\"\n\u001b[0;32m-> 2242\u001b[0;31m         \u001b[0;32mreturn\u001b[0m \u001b[0msuper\u001b[0m\u001b[0;34m(\u001b[0m\u001b[0;34m)\u001b[0m\u001b[0;34m.\u001b[0m\u001b[0munique\u001b[0m\u001b[0;34m(\u001b[0m\u001b[0;34m)\u001b[0m\u001b[0;34m\u001b[0m\u001b[0;34m\u001b[0m\u001b[0m\n\u001b[0m\u001b[1;32m   2243\u001b[0m \u001b[0;34m\u001b[0m\u001b[0m\n\u001b[1;32m   2244\u001b[0m     \u001b[0;34m@\u001b[0m\u001b[0moverload\u001b[0m\u001b[0;34m\u001b[0m\u001b[0;34m\u001b[0m\u001b[0m\n",
            "\u001b[0;32m/usr/local/lib/python3.10/dist-packages/pandas/core/base.py\u001b[0m in \u001b[0;36munique\u001b[0;34m(self)\u001b[0m\n\u001b[1;32m    999\u001b[0m                 \u001b[0mresult\u001b[0m \u001b[0;34m=\u001b[0m \u001b[0mnp\u001b[0m\u001b[0;34m.\u001b[0m\u001b[0masarray\u001b[0m\u001b[0;34m(\u001b[0m\u001b[0mresult\u001b[0m\u001b[0;34m)\u001b[0m\u001b[0;34m\u001b[0m\u001b[0;34m\u001b[0m\u001b[0m\n\u001b[1;32m   1000\u001b[0m         \u001b[0;32melse\u001b[0m\u001b[0;34m:\u001b[0m\u001b[0;34m\u001b[0m\u001b[0;34m\u001b[0m\u001b[0m\n\u001b[0;32m-> 1001\u001b[0;31m             \u001b[0mresult\u001b[0m \u001b[0;34m=\u001b[0m \u001b[0munique1d\u001b[0m\u001b[0;34m(\u001b[0m\u001b[0mvalues\u001b[0m\u001b[0;34m)\u001b[0m\u001b[0;34m\u001b[0m\u001b[0;34m\u001b[0m\u001b[0m\n\u001b[0m\u001b[1;32m   1002\u001b[0m \u001b[0;34m\u001b[0m\u001b[0m\n\u001b[1;32m   1003\u001b[0m         \u001b[0;32mreturn\u001b[0m \u001b[0mresult\u001b[0m\u001b[0;34m\u001b[0m\u001b[0;34m\u001b[0m\u001b[0m\n",
            "\u001b[0;32m/usr/local/lib/python3.10/dist-packages/pandas/core/algorithms.py\u001b[0m in \u001b[0;36munique\u001b[0;34m(values)\u001b[0m\n\u001b[1;32m    407\u001b[0m     \u001b[0marray\u001b[0m\u001b[0;34m(\u001b[0m\u001b[0;34m[\u001b[0m\u001b[0;34m(\u001b[0m\u001b[0;34m'a'\u001b[0m\u001b[0;34m,\u001b[0m \u001b[0;34m'b'\u001b[0m\u001b[0;34m)\u001b[0m\u001b[0;34m,\u001b[0m \u001b[0;34m(\u001b[0m\u001b[0;34m'b'\u001b[0m\u001b[0;34m,\u001b[0m \u001b[0;34m'a'\u001b[0m\u001b[0;34m)\u001b[0m\u001b[0;34m,\u001b[0m \u001b[0;34m(\u001b[0m\u001b[0;34m'a'\u001b[0m\u001b[0;34m,\u001b[0m \u001b[0;34m'c'\u001b[0m\u001b[0;34m)\u001b[0m\u001b[0;34m]\u001b[0m\u001b[0;34m,\u001b[0m \u001b[0mdtype\u001b[0m\u001b[0;34m=\u001b[0m\u001b[0mobject\u001b[0m\u001b[0;34m)\u001b[0m\u001b[0;34m\u001b[0m\u001b[0;34m\u001b[0m\u001b[0m\n\u001b[1;32m    408\u001b[0m     \"\"\"\n\u001b[0;32m--> 409\u001b[0;31m     \u001b[0;32mreturn\u001b[0m \u001b[0munique_with_mask\u001b[0m\u001b[0;34m(\u001b[0m\u001b[0mvalues\u001b[0m\u001b[0;34m)\u001b[0m\u001b[0;34m\u001b[0m\u001b[0;34m\u001b[0m\u001b[0m\n\u001b[0m\u001b[1;32m    410\u001b[0m \u001b[0;34m\u001b[0m\u001b[0m\n\u001b[1;32m    411\u001b[0m \u001b[0;34m\u001b[0m\u001b[0m\n",
            "\u001b[0;32m/usr/local/lib/python3.10/dist-packages/pandas/core/algorithms.py\u001b[0m in \u001b[0;36munique_with_mask\u001b[0;34m(values, mask)\u001b[0m\n\u001b[1;32m    419\u001b[0m \u001b[0;34m\u001b[0m\u001b[0m\n\u001b[1;32m    420\u001b[0m     \u001b[0moriginal\u001b[0m \u001b[0;34m=\u001b[0m \u001b[0mvalues\u001b[0m\u001b[0;34m\u001b[0m\u001b[0;34m\u001b[0m\u001b[0m\n\u001b[0;32m--> 421\u001b[0;31m     \u001b[0mhtable\u001b[0m\u001b[0;34m,\u001b[0m \u001b[0mvalues\u001b[0m \u001b[0;34m=\u001b[0m \u001b[0m_get_hashtable_algo\u001b[0m\u001b[0;34m(\u001b[0m\u001b[0mvalues\u001b[0m\u001b[0;34m)\u001b[0m\u001b[0;34m\u001b[0m\u001b[0;34m\u001b[0m\u001b[0m\n\u001b[0m\u001b[1;32m    422\u001b[0m \u001b[0;34m\u001b[0m\u001b[0m\n\u001b[1;32m    423\u001b[0m     \u001b[0mtable\u001b[0m \u001b[0;34m=\u001b[0m \u001b[0mhtable\u001b[0m\u001b[0;34m(\u001b[0m\u001b[0mlen\u001b[0m\u001b[0;34m(\u001b[0m\u001b[0mvalues\u001b[0m\u001b[0;34m)\u001b[0m\u001b[0;34m)\u001b[0m\u001b[0;34m\u001b[0m\u001b[0;34m\u001b[0m\u001b[0m\n",
            "\u001b[0;32m/usr/local/lib/python3.10/dist-packages/pandas/core/algorithms.py\u001b[0m in \u001b[0;36m_get_hashtable_algo\u001b[0;34m(values)\u001b[0m\n\u001b[1;32m    278\u001b[0m     \u001b[0mvalues\u001b[0m \u001b[0;34m:\u001b[0m \u001b[0mndarray\u001b[0m\u001b[0;34m\u001b[0m\u001b[0;34m\u001b[0m\u001b[0m\n\u001b[1;32m    279\u001b[0m     \"\"\"\n\u001b[0;32m--> 280\u001b[0;31m     \u001b[0mvalues\u001b[0m \u001b[0;34m=\u001b[0m \u001b[0m_ensure_data\u001b[0m\u001b[0;34m(\u001b[0m\u001b[0mvalues\u001b[0m\u001b[0;34m)\u001b[0m\u001b[0;34m\u001b[0m\u001b[0;34m\u001b[0m\u001b[0m\n\u001b[0m\u001b[1;32m    281\u001b[0m \u001b[0;34m\u001b[0m\u001b[0m\n\u001b[1;32m    282\u001b[0m     \u001b[0mndtype\u001b[0m \u001b[0;34m=\u001b[0m \u001b[0m_check_object_for_strings\u001b[0m\u001b[0;34m(\u001b[0m\u001b[0mvalues\u001b[0m\u001b[0;34m)\u001b[0m\u001b[0;34m\u001b[0m\u001b[0;34m\u001b[0m\u001b[0m\n",
            "\u001b[0;32m/usr/local/lib/python3.10/dist-packages/pandas/core/algorithms.py\u001b[0m in \u001b[0;36m_ensure_data\u001b[0;34m(values)\u001b[0m\n\u001b[1;32m    139\u001b[0m     \u001b[0;32mif\u001b[0m \u001b[0;32mnot\u001b[0m \u001b[0misinstance\u001b[0m\u001b[0;34m(\u001b[0m\u001b[0mvalues\u001b[0m\u001b[0;34m,\u001b[0m \u001b[0mABCMultiIndex\u001b[0m\u001b[0;34m)\u001b[0m\u001b[0;34m:\u001b[0m\u001b[0;34m\u001b[0m\u001b[0;34m\u001b[0m\u001b[0m\n\u001b[1;32m    140\u001b[0m         \u001b[0;31m# extract_array would raise\u001b[0m\u001b[0;34m\u001b[0m\u001b[0;34m\u001b[0m\u001b[0m\n\u001b[0;32m--> 141\u001b[0;31m         \u001b[0mvalues\u001b[0m \u001b[0;34m=\u001b[0m \u001b[0mextract_array\u001b[0m\u001b[0;34m(\u001b[0m\u001b[0mvalues\u001b[0m\u001b[0;34m,\u001b[0m \u001b[0mextract_numpy\u001b[0m\u001b[0;34m=\u001b[0m\u001b[0;32mTrue\u001b[0m\u001b[0;34m)\u001b[0m\u001b[0;34m\u001b[0m\u001b[0;34m\u001b[0m\u001b[0m\n\u001b[0m\u001b[1;32m    142\u001b[0m \u001b[0;34m\u001b[0m\u001b[0m\n\u001b[1;32m    143\u001b[0m     \u001b[0;32mif\u001b[0m \u001b[0mis_object_dtype\u001b[0m\u001b[0;34m(\u001b[0m\u001b[0mvalues\u001b[0m\u001b[0;34m.\u001b[0m\u001b[0mdtype\u001b[0m\u001b[0;34m)\u001b[0m\u001b[0;34m:\u001b[0m\u001b[0;34m\u001b[0m\u001b[0;34m\u001b[0m\u001b[0m\n",
            "\u001b[0;32m/usr/local/lib/python3.10/dist-packages/pandas/core/construction.py\u001b[0m in \u001b[0;36mextract_array\u001b[0;34m(obj, extract_numpy, extract_range)\u001b[0m\n\u001b[1;32m    442\u001b[0m     \u001b[0marray\u001b[0m\u001b[0;34m(\u001b[0m\u001b[0;34m[\u001b[0m\u001b[0;36m1\u001b[0m\u001b[0;34m,\u001b[0m \u001b[0;36m2\u001b[0m\u001b[0;34m,\u001b[0m \u001b[0;36m3\u001b[0m\u001b[0;34m]\u001b[0m\u001b[0;34m)\u001b[0m\u001b[0;34m\u001b[0m\u001b[0;34m\u001b[0m\u001b[0m\n\u001b[1;32m    443\u001b[0m     \"\"\"\n\u001b[0;32m--> 444\u001b[0;31m     \u001b[0;32mif\u001b[0m \u001b[0misinstance\u001b[0m\u001b[0;34m(\u001b[0m\u001b[0mobj\u001b[0m\u001b[0;34m,\u001b[0m \u001b[0;34m(\u001b[0m\u001b[0mABCIndex\u001b[0m\u001b[0;34m,\u001b[0m \u001b[0mABCSeries\u001b[0m\u001b[0;34m)\u001b[0m\u001b[0;34m)\u001b[0m\u001b[0;34m:\u001b[0m\u001b[0;34m\u001b[0m\u001b[0;34m\u001b[0m\u001b[0m\n\u001b[0m\u001b[1;32m    445\u001b[0m         \u001b[0;32mif\u001b[0m \u001b[0misinstance\u001b[0m\u001b[0;34m(\u001b[0m\u001b[0mobj\u001b[0m\u001b[0;34m,\u001b[0m \u001b[0mABCRangeIndex\u001b[0m\u001b[0;34m)\u001b[0m\u001b[0;34m:\u001b[0m\u001b[0;34m\u001b[0m\u001b[0;34m\u001b[0m\u001b[0m\n\u001b[1;32m    446\u001b[0m             \u001b[0;32mif\u001b[0m \u001b[0mextract_range\u001b[0m\u001b[0;34m:\u001b[0m\u001b[0;34m\u001b[0m\u001b[0;34m\u001b[0m\u001b[0m\n",
            "\u001b[0;32m/usr/local/lib/python3.10/dist-packages/pandas/core/dtypes/generic.py\u001b[0m in \u001b[0;36m_instancecheck\u001b[0;34m(cls, inst)\u001b[0m\n\u001b[1;32m     45\u001b[0m     \u001b[0;34m@\u001b[0m\u001b[0mclassmethod\u001b[0m  \u001b[0;31m# type: ignore[misc]\u001b[0m\u001b[0;34m\u001b[0m\u001b[0;34m\u001b[0m\u001b[0m\n\u001b[1;32m     46\u001b[0m     \u001b[0;32mdef\u001b[0m \u001b[0m_instancecheck\u001b[0m\u001b[0;34m(\u001b[0m\u001b[0mcls\u001b[0m\u001b[0;34m,\u001b[0m \u001b[0minst\u001b[0m\u001b[0;34m)\u001b[0m \u001b[0;34m->\u001b[0m \u001b[0mbool\u001b[0m\u001b[0;34m:\u001b[0m\u001b[0;34m\u001b[0m\u001b[0;34m\u001b[0m\u001b[0m\n\u001b[0;32m---> 47\u001b[0;31m         \u001b[0;32mreturn\u001b[0m \u001b[0m_check\u001b[0m\u001b[0;34m(\u001b[0m\u001b[0minst\u001b[0m\u001b[0;34m)\u001b[0m \u001b[0;32mand\u001b[0m \u001b[0;32mnot\u001b[0m \u001b[0misinstance\u001b[0m\u001b[0;34m(\u001b[0m\u001b[0minst\u001b[0m\u001b[0;34m,\u001b[0m \u001b[0mtype\u001b[0m\u001b[0;34m)\u001b[0m\u001b[0;34m\u001b[0m\u001b[0;34m\u001b[0m\u001b[0m\n\u001b[0m\u001b[1;32m     48\u001b[0m \u001b[0;34m\u001b[0m\u001b[0m\n\u001b[1;32m     49\u001b[0m     \u001b[0;34m@\u001b[0m\u001b[0mclassmethod\u001b[0m  \u001b[0;31m# type: ignore[misc]\u001b[0m\u001b[0;34m\u001b[0m\u001b[0;34m\u001b[0m\u001b[0m\n",
            "\u001b[0;32m/usr/local/lib/python3.10/dist-packages/pandas/core/dtypes/generic.py\u001b[0m in \u001b[0;36m_check\u001b[0;34m(inst)\u001b[0m\n\u001b[1;32m     39\u001b[0m \u001b[0;32mdef\u001b[0m \u001b[0mcreate_pandas_abc_type\u001b[0m\u001b[0;34m(\u001b[0m\u001b[0mname\u001b[0m\u001b[0;34m,\u001b[0m \u001b[0mattr\u001b[0m\u001b[0;34m,\u001b[0m \u001b[0mcomp\u001b[0m\u001b[0;34m)\u001b[0m\u001b[0;34m:\u001b[0m\u001b[0;34m\u001b[0m\u001b[0;34m\u001b[0m\u001b[0m\n\u001b[1;32m     40\u001b[0m     \u001b[0;32mdef\u001b[0m \u001b[0m_check\u001b[0m\u001b[0;34m(\u001b[0m\u001b[0minst\u001b[0m\u001b[0;34m)\u001b[0m\u001b[0;34m:\u001b[0m\u001b[0;34m\u001b[0m\u001b[0;34m\u001b[0m\u001b[0m\n\u001b[0;32m---> 41\u001b[0;31m         \u001b[0;32mreturn\u001b[0m \u001b[0mgetattr\u001b[0m\u001b[0;34m(\u001b[0m\u001b[0minst\u001b[0m\u001b[0;34m,\u001b[0m \u001b[0mattr\u001b[0m\u001b[0;34m,\u001b[0m \u001b[0;34m\"_typ\"\u001b[0m\u001b[0;34m)\u001b[0m \u001b[0;32min\u001b[0m \u001b[0mcomp\u001b[0m\u001b[0;34m\u001b[0m\u001b[0;34m\u001b[0m\u001b[0m\n\u001b[0m\u001b[1;32m     42\u001b[0m \u001b[0;34m\u001b[0m\u001b[0m\n\u001b[1;32m     43\u001b[0m     \u001b[0;31m# https://github.com/python/mypy/issues/1006\u001b[0m\u001b[0;34m\u001b[0m\u001b[0;34m\u001b[0m\u001b[0m\n",
            "\u001b[0;31mKeyboardInterrupt\u001b[0m: "
          ]
        }
      ]
    },
    {
      "cell_type": "code",
      "source": [
        "card_counts = df.groupby(['FullName', 'last4ccnum']).size().reset_index(name='Count')\n",
        "card_counts"
      ],
      "metadata": {
        "id": "0oiXhHbZH8OP"
      },
      "execution_count": null,
      "outputs": []
    },
    {
      "cell_type": "code",
      "source": [
        "import pandas as pd\n",
        "from collections import defaultdict\n",
        "\n",
        "# Assuming you have a DataFrame named 'data' with columns: date, location, price, loyaltynum, timestamp, last4ccnum, CarID, FullName, Timestamp, id, nearest_location\n",
        "data =lcg\n",
        "# Group data by loyaltynum and find the most common FullName using majority voting\n",
        "loyalty_num_assignments = data.groupby('loyaltynum')['FullName'].apply(lambda x: x.mode().iloc[0]).reset_index(name='AssignedFullName')\n",
        "\n",
        "# Create a dictionary to store assigned loyaltynum and FullName pairs\n",
        "assigned_loyalty_nums = defaultdict(str)\n",
        "assigned_full_names = defaultdict(str)\n",
        "\n",
        "# Assign loyaltynum to Full Names using majority vote\n",
        "for index, row in loyalty_num_assignments.iterrows():\n",
        "    loyaltynum = row['loyaltynum']\n",
        "    full_name = row['AssignedFullName']\n",
        "\n",
        "    # Check if the loyaltynum or FullName is already assigned\n",
        "    if loyaltynum not in assigned_loyalty_nums.values() and full_name not in assigned_full_names.values():\n",
        "        assigned_loyalty_nums[full_name] = loyaltynum\n",
        "        assigned_full_names[loyaltynum] = full_name\n",
        "\n",
        "# Create new columns 'AssignedLoyaltyNum' and 'AssignedFullName' based on assigned values\n",
        "data['AssignedLoyaltyNum'] = data['FullName'].map(assigned_loyalty_nums)\n",
        "data['AssignedFullName'] = data['loyaltynum'].map(assigned_full_names)\n",
        "\n",
        "# Print the resulting DataFrame with assigned loyaltynum and FullName\n",
        "print(data[['loyaltynum', 'FullName', 'AssignedLoyaltyNum', 'AssignedFullName']])\n"
      ],
      "metadata": {
        "colab": {
          "base_uri": "https://localhost:8080/"
        },
        "id": "D1hQry2U8Diy",
        "outputId": "37151328-ec4d-42fe-a030-4290a8956345"
      },
      "execution_count": null,
      "outputs": [
        {
          "output_type": "stream",
          "name": "stdout",
          "text": [
            "     loyaltynum     FullName AssignedLoyaltyNum AssignedFullName\n",
            "0         L9406  Varja Lagos              L7291                 \n",
            "1         L9406  Varja Lagos              L7291                 \n",
            "2         L9406  Varja Lagos              L7291                 \n",
            "3         L9406  Varja Lagos              L7291                 \n",
            "4         L9406  Varja Lagos              L7291                 \n",
            "...         ...          ...                ...              ...\n",
            "3740      L3366  Edvard Vann              L1485  Ingrid Barranco\n",
            "3741      L3366  Edvard Vann              L1485  Ingrid Barranco\n",
            "3742      L3366  Edvard Vann              L1485  Ingrid Barranco\n",
            "3743      L3366  Edvard Vann              L1485  Ingrid Barranco\n",
            "3744      L3366  Edvard Vann              L1485  Ingrid Barranco\n",
            "\n",
            "[3745 rows x 4 columns]\n"
          ]
        }
      ]
    },
    {
      "cell_type": "code",
      "source": [
        "import pandas as pd\n",
        "from collections import defaultdict\n",
        "\n",
        "# Assuming you have a DataFrame named 'data' with columns: date, location, price, loyaltynum, timestamp, last4ccnum, CarID, FullName, Timestamp, id, nearest_location\n",
        "\n",
        "# Drop rows where either loyaltynum or FullName is NaN\n",
        "data = data.dropna(subset=['loyaltynum', 'FullName'])\n",
        "\n",
        "# Group data by loyaltynum and find the most common FullName using majority voting\n",
        "loyalty_num_assignments = data.groupby('loyaltynum')['FullName'].apply(lambda x: x.mode().iloc[0] if not x.mode().empty else None).reset_index(name='AssignedFullName')\n",
        "\n",
        "# Create dictionaries to store assigned loyaltynum and FullName pairs\n",
        "assigned_loyalty_nums = {}\n",
        "assigned_full_names = {}\n",
        "\n",
        "# Assign loyaltynum to Full Names using majority vote\n",
        "for index, row in loyalty_num_assignments.iterrows():\n",
        "    loyaltynum = row['loyaltynum']\n",
        "    full_name = row['AssignedFullName']\n",
        "\n",
        "    # Check if the loyaltynum or full_name is already assigned and not None\n",
        "    if loyaltynum and full_name:\n",
        "        assigned_loyalty_nums[loyaltynum] = full_name\n",
        "        assigned_full_names[full_name] = loyaltynum\n",
        "\n",
        "# Create new columns 'AssignedLoyaltyNum' and 'AssignedFullName' based on assigned values\n",
        "data['AssignedLoyaltyNum'] = data['loyaltynum'].map(assigned_full_names)\n",
        "data['AssignedFullName'] = data['FullName'].map(assigned_loyalty_nums)\n",
        "\n",
        "# Print the resulting DataFrame with assigned loyaltynum and FullName\n",
        "print(data[['loyaltynum', 'FullName', 'AssignedLoyaltyNum', 'AssignedFullName']])\n"
      ],
      "metadata": {
        "colab": {
          "base_uri": "https://localhost:8080/"
        },
        "id": "_sXeHbIdBxW_",
        "outputId": "9228f9dc-bcc9-4815-abad-bdfd364f9d2d"
      },
      "execution_count": null,
      "outputs": [
        {
          "output_type": "stream",
          "name": "stdout",
          "text": [
            "     loyaltynum     FullName AssignedLoyaltyNum AssignedFullName\n",
            "0         L9406  Varja Lagos                NaN              NaN\n",
            "1         L9406  Varja Lagos                NaN              NaN\n",
            "2         L9406  Varja Lagos                NaN              NaN\n",
            "3         L9406  Varja Lagos                NaN              NaN\n",
            "4         L9406  Varja Lagos                NaN              NaN\n",
            "...         ...          ...                ...              ...\n",
            "3740      L3366  Edvard Vann                NaN              NaN\n",
            "3741      L3366  Edvard Vann                NaN              NaN\n",
            "3742      L3366  Edvard Vann                NaN              NaN\n",
            "3743      L3366  Edvard Vann                NaN              NaN\n",
            "3744      L3366  Edvard Vann                NaN              NaN\n",
            "\n",
            "[3745 rows x 4 columns]\n"
          ]
        }
      ]
    },
    {
      "cell_type": "code",
      "source": [
        "len(lcg.FullName.unique())"
      ],
      "metadata": {
        "colab": {
          "base_uri": "https://localhost:8080/"
        },
        "id": "YWOhVptmBDhV",
        "outputId": "8e50529f-160a-4042-c57b-66f246714aad"
      },
      "execution_count": null,
      "outputs": [
        {
          "output_type": "execute_result",
          "data": {
            "text/plain": [
              "31"
            ]
          },
          "metadata": {},
          "execution_count": 205
        }
      ]
    },
    {
      "cell_type": "code",
      "source": [
        "data[data.AssignedFullName==\"Edvard Vann\"].loyaltynum.unique()"
      ],
      "metadata": {
        "colab": {
          "base_uri": "https://localhost:8080/"
        },
        "id": "WoA1lsQp8HWx",
        "outputId": "b6eefb02-1f21-4513-8f15-b63562127ffe"
      },
      "execution_count": null,
      "outputs": [
        {
          "output_type": "execute_result",
          "data": {
            "text/plain": [
              "array(['L1485'], dtype=object)"
            ]
          },
          "metadata": {},
          "execution_count": 195
        }
      ]
    },
    {
      "cell_type": "code",
      "source": [
        "data.AssignedFullName.unique()"
      ],
      "metadata": {
        "colab": {
          "base_uri": "https://localhost:8080/"
        },
        "id": "y_LKTf5G-MBc",
        "outputId": "32d8b036-5676-4d60-ae9d-adcaaee56d75"
      },
      "execution_count": null,
      "outputs": [
        {
          "output_type": "execute_result",
          "data": {
            "text/plain": [
              "array(['', 'Varja Lagos', 'Hideki Cocinaro', 'Vira Frente',\n",
              "       'Adra Nubarron', 'Marin Onda', 'Kare Orilla', 'Isia Vann',\n",
              "       'Inga Ferro', 'Brand Tempestad', 'Nils Calixto',\n",
              "       'Willem Vasco-Pais', 'Ada Campo-Corrente', 'Bertrand Ovan',\n",
              "       'Lidelse Dedos', 'Loreto Bodrogi', 'Kanon Herrero', 'Edvard Vann',\n",
              "       'Hennie Osvaldo', 'Ingrid Barranco', 'Felix Balas',\n",
              "       'Lucas Alcazar', 'Sten Sanjorge Jr.', 'Sven Flecha'], dtype=object)"
            ]
          },
          "metadata": {},
          "execution_count": 196
        }
      ]
    },
    {
      "cell_type": "code",
      "source": [
        "data[data.AssignedFullName=='Varja Lagos'].loyaltynum.unique()[0]"
      ],
      "metadata": {
        "colab": {
          "base_uri": "https://localhost:8080/",
          "height": 35
        },
        "id": "EgN2PE66_qDO",
        "outputId": "e5c61d5e-1785-4834-8567-73fb932b8770"
      },
      "execution_count": null,
      "outputs": [
        {
          "output_type": "execute_result",
          "data": {
            "text/plain": [
              "'L7291'"
            ],
            "application/vnd.google.colaboratory.intrinsic+json": {
              "type": "string"
            }
          },
          "metadata": {},
          "execution_count": 197
        }
      ]
    },
    {
      "cell_type": "code",
      "source": [
        "unique_loyaltynum = []\n",
        "for i in data.AssignedFullName.unique():\n",
        " unique_loyaltynum.append(data[data.AssignedFullName==i].loyaltynum.unique()[0])\n",
        "print(unique_loyaltynum)\n",
        "# data = {'ID': list(data.AssignedFullName.unique())), 'FullName': unique_fullnames}\n",
        "# df = pd.DataFrame(data)\n",
        "\n",
        "# # Print the resulting DataFrame\n",
        "# print(df)"
      ],
      "metadata": {
        "colab": {
          "base_uri": "https://localhost:8080/"
        },
        "id": "GvNk-nxN-DFK",
        "outputId": "44276009-697c-4483-ec8b-c0df013da666"
      },
      "execution_count": null,
      "outputs": [
        {
          "output_type": "stream",
          "name": "stdout",
          "text": [
            "['L9406', 'L7291', 'L6417', 'L8328', 'L4034', 'L1107', 'L5553', 'L2490', 'L8566', 'L1682', 'L6544', 'L3259', 'L3288', 'L5224', 'L2169', 'L3295', 'L8148', 'L1485', 'L3014', 'L3366', 'L8012', 'L4149', 'L3191', 'L4424']\n"
          ]
        }
      ]
    },
    {
      "cell_type": "code",
      "source": [
        "len(data.AssignedFullName.unique())"
      ],
      "metadata": {
        "colab": {
          "base_uri": "https://localhost:8080/"
        },
        "id": "mEPxukzdA7zU",
        "outputId": "90dc7d0b-1a94-4e18-8360-e4a57292a826"
      },
      "execution_count": null,
      "outputs": [
        {
          "output_type": "execute_result",
          "data": {
            "text/plain": [
              "24"
            ]
          },
          "metadata": {},
          "execution_count": 202
        }
      ]
    },
    {
      "cell_type": "code",
      "source": [
        "dt = {'loyalty': data.AssignedFullName.unique(), 'FullName':unique_loyaltynum}\n",
        "df = pd.DataFrame(dt)\n",
        "\n",
        "# Print the resulting DataFrame\n",
        "print(df)"
      ],
      "metadata": {
        "colab": {
          "base_uri": "https://localhost:8080/"
        },
        "id": "-kj1-0oUATOa",
        "outputId": "4982a75b-cad3-46f6-f8dc-367f08fe36b9"
      },
      "execution_count": null,
      "outputs": [
        {
          "output_type": "stream",
          "name": "stdout",
          "text": [
            "               loyalty FullName\n",
            "0                         L9406\n",
            "1          Varja Lagos    L7291\n",
            "2      Hideki Cocinaro    L6417\n",
            "3          Vira Frente    L8328\n",
            "4        Adra Nubarron    L4034\n",
            "5           Marin Onda    L1107\n",
            "6          Kare Orilla    L5553\n",
            "7            Isia Vann    L2490\n",
            "8           Inga Ferro    L8566\n",
            "9      Brand Tempestad    L1682\n",
            "10        Nils Calixto    L6544\n",
            "11   Willem Vasco-Pais    L3259\n",
            "12  Ada Campo-Corrente    L3288\n",
            "13       Bertrand Ovan    L5224\n",
            "14       Lidelse Dedos    L2169\n",
            "15      Loreto Bodrogi    L3295\n",
            "16       Kanon Herrero    L8148\n",
            "17         Edvard Vann    L1485\n",
            "18      Hennie Osvaldo    L3014\n",
            "19     Ingrid Barranco    L3366\n",
            "20         Felix Balas    L8012\n",
            "21       Lucas Alcazar    L4149\n",
            "22   Sten Sanjorge Jr.    L3191\n",
            "23         Sven Flecha    L4424\n"
          ]
        }
      ]
    },
    {
      "cell_type": "code",
      "source": [
        "data = {'loyaltynum':[], 'FullName': unique_loyaltynum}\n",
        "data={}\n",
        "for i in data.AssignedFullName.unique():\n",
        "  data['loyaltynum'].append(i)\n",
        "\n"
      ],
      "metadata": {
        "colab": {
          "base_uri": "https://localhost:8080/",
          "height": 250
        },
        "id": "sWfgLhpo-2tT",
        "outputId": "e813a872-0056-45d8-f99b-8d9f98998c46"
      },
      "execution_count": null,
      "outputs": [
        {
          "output_type": "error",
          "ename": "AttributeError",
          "evalue": "ignored",
          "traceback": [
            "\u001b[0;31m---------------------------------------------------------------------------\u001b[0m",
            "\u001b[0;31mAttributeError\u001b[0m                            Traceback (most recent call last)",
            "\u001b[0;32m<ipython-input-182-07dbcb632394>\u001b[0m in \u001b[0;36m<cell line: 3>\u001b[0;34m()\u001b[0m\n\u001b[1;32m      1\u001b[0m \u001b[0mdata\u001b[0m \u001b[0;34m=\u001b[0m \u001b[0;34m{\u001b[0m\u001b[0;34m'loyaltynum'\u001b[0m\u001b[0;34m:\u001b[0m\u001b[0;34m[\u001b[0m\u001b[0;34m]\u001b[0m\u001b[0;34m,\u001b[0m \u001b[0;34m'FullName'\u001b[0m\u001b[0;34m:\u001b[0m \u001b[0munique_loyaltynum\u001b[0m\u001b[0;34m}\u001b[0m\u001b[0;34m\u001b[0m\u001b[0;34m\u001b[0m\u001b[0m\n\u001b[1;32m      2\u001b[0m \u001b[0mdata\u001b[0m\u001b[0;34m=\u001b[0m\u001b[0;34m{\u001b[0m\u001b[0;34m}\u001b[0m\u001b[0;34m\u001b[0m\u001b[0;34m\u001b[0m\u001b[0m\n\u001b[0;32m----> 3\u001b[0;31m \u001b[0;32mfor\u001b[0m \u001b[0mi\u001b[0m \u001b[0;32min\u001b[0m \u001b[0mdata\u001b[0m\u001b[0;34m.\u001b[0m\u001b[0mAssignedFullName\u001b[0m\u001b[0;34m.\u001b[0m\u001b[0munique\u001b[0m\u001b[0;34m(\u001b[0m\u001b[0;34m)\u001b[0m\u001b[0;34m:\u001b[0m\u001b[0;34m\u001b[0m\u001b[0;34m\u001b[0m\u001b[0m\n\u001b[0m\u001b[1;32m      4\u001b[0m   \u001b[0mdata\u001b[0m\u001b[0;34m[\u001b[0m\u001b[0;34m'loyaltynum'\u001b[0m\u001b[0;34m]\u001b[0m\u001b[0;34m.\u001b[0m\u001b[0mappend\u001b[0m\u001b[0;34m(\u001b[0m\u001b[0mi\u001b[0m\u001b[0;34m)\u001b[0m\u001b[0;34m\u001b[0m\u001b[0;34m\u001b[0m\u001b[0m\n\u001b[1;32m      5\u001b[0m \u001b[0;34m\u001b[0m\u001b[0m\n",
            "\u001b[0;31mAttributeError\u001b[0m: 'dict' object has no attribute 'AssignedFullName'"
          ]
        }
      ]
    },
    {
      "cell_type": "code",
      "source": [
        "majority_loyaltynum"
      ],
      "metadata": {
        "colab": {
          "base_uri": "https://localhost:8080/",
          "height": 1000
        },
        "id": "0Ty272vFzgJ_",
        "outputId": "cad17447-a582-4ce8-8a32-ce2d7f444404"
      },
      "execution_count": null,
      "outputs": [
        {
          "output_type": "execute_result",
          "data": {
            "text/plain": [
              "              FullName majority_loyaltynum\n",
              "0   Ada Campo-Corrente               L3288\n",
              "1        Adra Nubarron               L7291\n",
              "2        Bertrand Ovan               L5224\n",
              "3      Birgitta Frente               L8148\n",
              "4      Brand Tempestad               L1682\n",
              "5          Edvard Vann               L1485\n",
              "6          Elsa Orilla               L7291\n",
              "7          Felix Balas               L8012\n",
              "8        Felix Resumir               L9637\n",
              "9       Hennie Osvaldo               L3014\n",
              "10     Hideki Cocinaro               L6417\n",
              "11          Inga Ferro               L8566\n",
              "12     Ingrid Barranco               L7783\n",
              "13           Isak Baza               L6886\n",
              "14           Isia Vann               L2490\n",
              "15       Kanon Herrero               L9018\n",
              "16         Kare Orilla               L6119\n",
              "17          Lars Azada               L9637\n",
              "18       Lidelse Dedos               L2343\n",
              "19       Linnea Bergen               L1485\n",
              "20      Loreto Bodrogi               L5777\n",
              "21       Lucas Alcazar               L3259\n",
              "22          Marin Onda               L5224\n",
              "23          Minke Mies               L7291\n",
              "24        Nils Calixto               L7814\n",
              "25   Sten Sanjorge Jr.               L6267\n",
              "26        Stenig Fusil               L9637\n",
              "27         Sven Flecha               L9637\n",
              "28         Varja Lagos               L9018\n",
              "29         Vira Frente               L8328\n",
              "30   Willem Vasco-Pais               L3259"
            ],
            "text/html": [
              "\n",
              "  <div id=\"df-1084ee41-316f-4243-ba1e-0417002e2874\" class=\"colab-df-container\">\n",
              "    <div>\n",
              "<style scoped>\n",
              "    .dataframe tbody tr th:only-of-type {\n",
              "        vertical-align: middle;\n",
              "    }\n",
              "\n",
              "    .dataframe tbody tr th {\n",
              "        vertical-align: top;\n",
              "    }\n",
              "\n",
              "    .dataframe thead th {\n",
              "        text-align: right;\n",
              "    }\n",
              "</style>\n",
              "<table border=\"1\" class=\"dataframe\">\n",
              "  <thead>\n",
              "    <tr style=\"text-align: right;\">\n",
              "      <th></th>\n",
              "      <th>FullName</th>\n",
              "      <th>majority_loyaltynum</th>\n",
              "    </tr>\n",
              "  </thead>\n",
              "  <tbody>\n",
              "    <tr>\n",
              "      <th>0</th>\n",
              "      <td>Ada Campo-Corrente</td>\n",
              "      <td>L3288</td>\n",
              "    </tr>\n",
              "    <tr>\n",
              "      <th>1</th>\n",
              "      <td>Adra Nubarron</td>\n",
              "      <td>L7291</td>\n",
              "    </tr>\n",
              "    <tr>\n",
              "      <th>2</th>\n",
              "      <td>Bertrand Ovan</td>\n",
              "      <td>L5224</td>\n",
              "    </tr>\n",
              "    <tr>\n",
              "      <th>3</th>\n",
              "      <td>Birgitta Frente</td>\n",
              "      <td>L8148</td>\n",
              "    </tr>\n",
              "    <tr>\n",
              "      <th>4</th>\n",
              "      <td>Brand Tempestad</td>\n",
              "      <td>L1682</td>\n",
              "    </tr>\n",
              "    <tr>\n",
              "      <th>5</th>\n",
              "      <td>Edvard Vann</td>\n",
              "      <td>L1485</td>\n",
              "    </tr>\n",
              "    <tr>\n",
              "      <th>6</th>\n",
              "      <td>Elsa Orilla</td>\n",
              "      <td>L7291</td>\n",
              "    </tr>\n",
              "    <tr>\n",
              "      <th>7</th>\n",
              "      <td>Felix Balas</td>\n",
              "      <td>L8012</td>\n",
              "    </tr>\n",
              "    <tr>\n",
              "      <th>8</th>\n",
              "      <td>Felix Resumir</td>\n",
              "      <td>L9637</td>\n",
              "    </tr>\n",
              "    <tr>\n",
              "      <th>9</th>\n",
              "      <td>Hennie Osvaldo</td>\n",
              "      <td>L3014</td>\n",
              "    </tr>\n",
              "    <tr>\n",
              "      <th>10</th>\n",
              "      <td>Hideki Cocinaro</td>\n",
              "      <td>L6417</td>\n",
              "    </tr>\n",
              "    <tr>\n",
              "      <th>11</th>\n",
              "      <td>Inga Ferro</td>\n",
              "      <td>L8566</td>\n",
              "    </tr>\n",
              "    <tr>\n",
              "      <th>12</th>\n",
              "      <td>Ingrid Barranco</td>\n",
              "      <td>L7783</td>\n",
              "    </tr>\n",
              "    <tr>\n",
              "      <th>13</th>\n",
              "      <td>Isak Baza</td>\n",
              "      <td>L6886</td>\n",
              "    </tr>\n",
              "    <tr>\n",
              "      <th>14</th>\n",
              "      <td>Isia Vann</td>\n",
              "      <td>L2490</td>\n",
              "    </tr>\n",
              "    <tr>\n",
              "      <th>15</th>\n",
              "      <td>Kanon Herrero</td>\n",
              "      <td>L9018</td>\n",
              "    </tr>\n",
              "    <tr>\n",
              "      <th>16</th>\n",
              "      <td>Kare Orilla</td>\n",
              "      <td>L6119</td>\n",
              "    </tr>\n",
              "    <tr>\n",
              "      <th>17</th>\n",
              "      <td>Lars Azada</td>\n",
              "      <td>L9637</td>\n",
              "    </tr>\n",
              "    <tr>\n",
              "      <th>18</th>\n",
              "      <td>Lidelse Dedos</td>\n",
              "      <td>L2343</td>\n",
              "    </tr>\n",
              "    <tr>\n",
              "      <th>19</th>\n",
              "      <td>Linnea Bergen</td>\n",
              "      <td>L1485</td>\n",
              "    </tr>\n",
              "    <tr>\n",
              "      <th>20</th>\n",
              "      <td>Loreto Bodrogi</td>\n",
              "      <td>L5777</td>\n",
              "    </tr>\n",
              "    <tr>\n",
              "      <th>21</th>\n",
              "      <td>Lucas Alcazar</td>\n",
              "      <td>L3259</td>\n",
              "    </tr>\n",
              "    <tr>\n",
              "      <th>22</th>\n",
              "      <td>Marin Onda</td>\n",
              "      <td>L5224</td>\n",
              "    </tr>\n",
              "    <tr>\n",
              "      <th>23</th>\n",
              "      <td>Minke Mies</td>\n",
              "      <td>L7291</td>\n",
              "    </tr>\n",
              "    <tr>\n",
              "      <th>24</th>\n",
              "      <td>Nils Calixto</td>\n",
              "      <td>L7814</td>\n",
              "    </tr>\n",
              "    <tr>\n",
              "      <th>25</th>\n",
              "      <td>Sten Sanjorge Jr.</td>\n",
              "      <td>L6267</td>\n",
              "    </tr>\n",
              "    <tr>\n",
              "      <th>26</th>\n",
              "      <td>Stenig Fusil</td>\n",
              "      <td>L9637</td>\n",
              "    </tr>\n",
              "    <tr>\n",
              "      <th>27</th>\n",
              "      <td>Sven Flecha</td>\n",
              "      <td>L9637</td>\n",
              "    </tr>\n",
              "    <tr>\n",
              "      <th>28</th>\n",
              "      <td>Varja Lagos</td>\n",
              "      <td>L9018</td>\n",
              "    </tr>\n",
              "    <tr>\n",
              "      <th>29</th>\n",
              "      <td>Vira Frente</td>\n",
              "      <td>L8328</td>\n",
              "    </tr>\n",
              "    <tr>\n",
              "      <th>30</th>\n",
              "      <td>Willem Vasco-Pais</td>\n",
              "      <td>L3259</td>\n",
              "    </tr>\n",
              "  </tbody>\n",
              "</table>\n",
              "</div>\n",
              "    <div class=\"colab-df-buttons\">\n",
              "\n",
              "  <div class=\"colab-df-container\">\n",
              "    <button class=\"colab-df-convert\" onclick=\"convertToInteractive('df-1084ee41-316f-4243-ba1e-0417002e2874')\"\n",
              "            title=\"Convert this dataframe to an interactive table.\"\n",
              "            style=\"display:none;\">\n",
              "\n",
              "  <svg xmlns=\"http://www.w3.org/2000/svg\" height=\"24px\" viewBox=\"0 -960 960 960\">\n",
              "    <path d=\"M120-120v-720h720v720H120Zm60-500h600v-160H180v160Zm220 220h160v-160H400v160Zm0 220h160v-160H400v160ZM180-400h160v-160H180v160Zm440 0h160v-160H620v160ZM180-180h160v-160H180v160Zm440 0h160v-160H620v160Z\"/>\n",
              "  </svg>\n",
              "    </button>\n",
              "\n",
              "  <style>\n",
              "    .colab-df-container {\n",
              "      display:flex;\n",
              "      gap: 12px;\n",
              "    }\n",
              "\n",
              "    .colab-df-convert {\n",
              "      background-color: #E8F0FE;\n",
              "      border: none;\n",
              "      border-radius: 50%;\n",
              "      cursor: pointer;\n",
              "      display: none;\n",
              "      fill: #1967D2;\n",
              "      height: 32px;\n",
              "      padding: 0 0 0 0;\n",
              "      width: 32px;\n",
              "    }\n",
              "\n",
              "    .colab-df-convert:hover {\n",
              "      background-color: #E2EBFA;\n",
              "      box-shadow: 0px 1px 2px rgba(60, 64, 67, 0.3), 0px 1px 3px 1px rgba(60, 64, 67, 0.15);\n",
              "      fill: #174EA6;\n",
              "    }\n",
              "\n",
              "    .colab-df-buttons div {\n",
              "      margin-bottom: 4px;\n",
              "    }\n",
              "\n",
              "    [theme=dark] .colab-df-convert {\n",
              "      background-color: #3B4455;\n",
              "      fill: #D2E3FC;\n",
              "    }\n",
              "\n",
              "    [theme=dark] .colab-df-convert:hover {\n",
              "      background-color: #434B5C;\n",
              "      box-shadow: 0px 1px 3px 1px rgba(0, 0, 0, 0.15);\n",
              "      filter: drop-shadow(0px 1px 2px rgba(0, 0, 0, 0.3));\n",
              "      fill: #FFFFFF;\n",
              "    }\n",
              "  </style>\n",
              "\n",
              "    <script>\n",
              "      const buttonEl =\n",
              "        document.querySelector('#df-1084ee41-316f-4243-ba1e-0417002e2874 button.colab-df-convert');\n",
              "      buttonEl.style.display =\n",
              "        google.colab.kernel.accessAllowed ? 'block' : 'none';\n",
              "\n",
              "      async function convertToInteractive(key) {\n",
              "        const element = document.querySelector('#df-1084ee41-316f-4243-ba1e-0417002e2874');\n",
              "        const dataTable =\n",
              "          await google.colab.kernel.invokeFunction('convertToInteractive',\n",
              "                                                    [key], {});\n",
              "        if (!dataTable) return;\n",
              "\n",
              "        const docLinkHtml = 'Like what you see? Visit the ' +\n",
              "          '<a target=\"_blank\" href=https://colab.research.google.com/notebooks/data_table.ipynb>data table notebook</a>'\n",
              "          + ' to learn more about interactive tables.';\n",
              "        element.innerHTML = '';\n",
              "        dataTable['output_type'] = 'display_data';\n",
              "        await google.colab.output.renderOutput(dataTable, element);\n",
              "        const docLink = document.createElement('div');\n",
              "        docLink.innerHTML = docLinkHtml;\n",
              "        element.appendChild(docLink);\n",
              "      }\n",
              "    </script>\n",
              "  </div>\n",
              "\n",
              "\n",
              "<div id=\"df-e594a07b-5b0d-4254-99b9-a862e92ae5a2\">\n",
              "  <button class=\"colab-df-quickchart\" onclick=\"quickchart('df-e594a07b-5b0d-4254-99b9-a862e92ae5a2')\"\n",
              "            title=\"Suggest charts.\"\n",
              "            style=\"display:none;\">\n",
              "\n",
              "<svg xmlns=\"http://www.w3.org/2000/svg\" height=\"24px\"viewBox=\"0 0 24 24\"\n",
              "     width=\"24px\">\n",
              "    <g>\n",
              "        <path d=\"M19 3H5c-1.1 0-2 .9-2 2v14c0 1.1.9 2 2 2h14c1.1 0 2-.9 2-2V5c0-1.1-.9-2-2-2zM9 17H7v-7h2v7zm4 0h-2V7h2v10zm4 0h-2v-4h2v4z\"/>\n",
              "    </g>\n",
              "</svg>\n",
              "  </button>\n",
              "\n",
              "<style>\n",
              "  .colab-df-quickchart {\n",
              "      --bg-color: #E8F0FE;\n",
              "      --fill-color: #1967D2;\n",
              "      --hover-bg-color: #E2EBFA;\n",
              "      --hover-fill-color: #174EA6;\n",
              "      --disabled-fill-color: #AAA;\n",
              "      --disabled-bg-color: #DDD;\n",
              "  }\n",
              "\n",
              "  [theme=dark] .colab-df-quickchart {\n",
              "      --bg-color: #3B4455;\n",
              "      --fill-color: #D2E3FC;\n",
              "      --hover-bg-color: #434B5C;\n",
              "      --hover-fill-color: #FFFFFF;\n",
              "      --disabled-bg-color: #3B4455;\n",
              "      --disabled-fill-color: #666;\n",
              "  }\n",
              "\n",
              "  .colab-df-quickchart {\n",
              "    background-color: var(--bg-color);\n",
              "    border: none;\n",
              "    border-radius: 50%;\n",
              "    cursor: pointer;\n",
              "    display: none;\n",
              "    fill: var(--fill-color);\n",
              "    height: 32px;\n",
              "    padding: 0;\n",
              "    width: 32px;\n",
              "  }\n",
              "\n",
              "  .colab-df-quickchart:hover {\n",
              "    background-color: var(--hover-bg-color);\n",
              "    box-shadow: 0 1px 2px rgba(60, 64, 67, 0.3), 0 1px 3px 1px rgba(60, 64, 67, 0.15);\n",
              "    fill: var(--button-hover-fill-color);\n",
              "  }\n",
              "\n",
              "  .colab-df-quickchart-complete:disabled,\n",
              "  .colab-df-quickchart-complete:disabled:hover {\n",
              "    background-color: var(--disabled-bg-color);\n",
              "    fill: var(--disabled-fill-color);\n",
              "    box-shadow: none;\n",
              "  }\n",
              "\n",
              "  .colab-df-spinner {\n",
              "    border: 2px solid var(--fill-color);\n",
              "    border-color: transparent;\n",
              "    border-bottom-color: var(--fill-color);\n",
              "    animation:\n",
              "      spin 1s steps(1) infinite;\n",
              "  }\n",
              "\n",
              "  @keyframes spin {\n",
              "    0% {\n",
              "      border-color: transparent;\n",
              "      border-bottom-color: var(--fill-color);\n",
              "      border-left-color: var(--fill-color);\n",
              "    }\n",
              "    20% {\n",
              "      border-color: transparent;\n",
              "      border-left-color: var(--fill-color);\n",
              "      border-top-color: var(--fill-color);\n",
              "    }\n",
              "    30% {\n",
              "      border-color: transparent;\n",
              "      border-left-color: var(--fill-color);\n",
              "      border-top-color: var(--fill-color);\n",
              "      border-right-color: var(--fill-color);\n",
              "    }\n",
              "    40% {\n",
              "      border-color: transparent;\n",
              "      border-right-color: var(--fill-color);\n",
              "      border-top-color: var(--fill-color);\n",
              "    }\n",
              "    60% {\n",
              "      border-color: transparent;\n",
              "      border-right-color: var(--fill-color);\n",
              "    }\n",
              "    80% {\n",
              "      border-color: transparent;\n",
              "      border-right-color: var(--fill-color);\n",
              "      border-bottom-color: var(--fill-color);\n",
              "    }\n",
              "    90% {\n",
              "      border-color: transparent;\n",
              "      border-bottom-color: var(--fill-color);\n",
              "    }\n",
              "  }\n",
              "</style>\n",
              "\n",
              "  <script>\n",
              "    async function quickchart(key) {\n",
              "      const quickchartButtonEl =\n",
              "        document.querySelector('#' + key + ' button');\n",
              "      quickchartButtonEl.disabled = true;  // To prevent multiple clicks.\n",
              "      quickchartButtonEl.classList.add('colab-df-spinner');\n",
              "      try {\n",
              "        const charts = await google.colab.kernel.invokeFunction(\n",
              "            'suggestCharts', [key], {});\n",
              "      } catch (error) {\n",
              "        console.error('Error during call to suggestCharts:', error);\n",
              "      }\n",
              "      quickchartButtonEl.classList.remove('colab-df-spinner');\n",
              "      quickchartButtonEl.classList.add('colab-df-quickchart-complete');\n",
              "    }\n",
              "    (() => {\n",
              "      let quickchartButtonEl =\n",
              "        document.querySelector('#df-e594a07b-5b0d-4254-99b9-a862e92ae5a2 button');\n",
              "      quickchartButtonEl.style.display =\n",
              "        google.colab.kernel.accessAllowed ? 'block' : 'none';\n",
              "    })();\n",
              "  </script>\n",
              "</div>\n",
              "    </div>\n",
              "  </div>\n"
            ]
          },
          "metadata": {},
          "execution_count": 162
        }
      ]
    },
    {
      "cell_type": "code",
      "source": [
        "unique_last4ccnum_df.to_csv('fullName_last4cnum.csv')"
      ],
      "metadata": {
        "id": "gMYJOb96w6yM"
      },
      "execution_count": null,
      "outputs": []
    },
    {
      "cell_type": "code",
      "source": [
        "lcg[lcg.loyaltynum==\"L9406\"].last4ccnum.unique()"
      ],
      "metadata": {
        "colab": {
          "base_uri": "https://localhost:8080/"
        },
        "id": "PIde29y0t-J5",
        "outputId": "52707b10-2535-4e94-e2d6-be33d6f3fff2"
      },
      "execution_count": null,
      "outputs": [
        {
          "output_type": "execute_result",
          "data": {
            "text/plain": [
              "array([4948])"
            ]
          },
          "metadata": {},
          "execution_count": 146
        }
      ]
    },
    {
      "cell_type": "code",
      "source": [
        "unique_assoc = lcg.groupby('id').apply(lambda x: x['last4ccnum'].nunique() == 1 and x['loyaltynum'].nunique() == 1)\n",
        "\n",
        "# Check if all groups have the same last4ccnum and loyaltynum\n",
        "all_same_assoc = unique_assoc.all()"
      ],
      "metadata": {
        "id": "cHWWq1e3h-mA"
      },
      "execution_count": null,
      "outputs": []
    },
    {
      "cell_type": "code",
      "source": [
        "all_same_assoc"
      ],
      "metadata": {
        "colab": {
          "base_uri": "https://localhost:8080/"
        },
        "id": "pzMVa0GyiuZG",
        "outputId": "b681f55a-aa16-4ed6-8130-0f8124c47580"
      },
      "execution_count": null,
      "outputs": [
        {
          "output_type": "execute_result",
          "data": {
            "text/plain": [
              "False"
            ]
          },
          "metadata": {},
          "execution_count": 49
        }
      ]
    },
    {
      "cell_type": "code",
      "source": [
        "# Find the most common last4ccnum and loyaltynum for each id\n",
        "most_common_values = lcg.groupby('id').agg({\n",
        "    'last4ccnum': lambda x: x.mode().iloc[0],\n",
        "    'loyaltynum': lambda x: x.mode().iloc[0]\n",
        "}).reset_index()\n",
        "\n",
        "# Ensure that the most common values are unique and not associated with any other id\n",
        "for index, row in most_common_values.iterrows():\n",
        "    if ((lcg['last4ccnum'] == row['last4ccnum']) | (lcg['loyaltynum'] == row['loyaltynum'])).any():\n",
        "        # If the values are associated with other ids, find the next most common values\n",
        "        other_ids = lcg[(lcg['last4ccnum'] == row['last4ccnum']) | (lcg['loyaltynum'] == row['loyaltynum'])]['id'].unique()\n",
        "        filtered_df = lcg[~lcg['id'].isin(other_ids)]\n",
        "        most_common_values.at[index, 'last4ccnum'] = filtered_df['last4ccnum'].mode().iloc[0]\n",
        "        most_common_values.at[index, 'loyaltynum'] = filtered_df['loyaltynum'].mode().iloc[0]\n",
        "\n",
        "\n",
        "\n",
        "\n",
        "\n",
        "# Output the result\n",
        "print(most_common_last4ccnum_loyaltynum)"
      ],
      "metadata": {
        "colab": {
          "base_uri": "https://localhost:8080/"
        },
        "id": "UM7PsxdLi5se",
        "outputId": "f0417b65-c160-44ed-c68c-789a63b4268f"
      },
      "execution_count": null,
      "outputs": [
        {
          "output_type": "stream",
          "name": "stdout",
          "text": [
            "     id  last4ccnum loyaltynum\n",
            "0     1        3492      L7814\n",
            "1     2        2142      L9637\n",
            "2     3        1310      L8012\n",
            "3     4        1415      L7783\n",
            "4     5        2463      L6886\n",
            "5     6        3853      L1485\n",
            "6     7        9683      L7291\n",
            "7     8        9405      L3259\n",
            "8    10        9241      L3288\n",
            "9    12        7117      L6417\n",
            "10   13        4795      L8566\n",
            "11   14        8202      L2343\n",
            "12   15        9551      L5777\n",
            "13   16        3484      L2490\n",
            "14   17        2142      L9637\n",
            "15   18        6816      L8148\n",
            "16   19        8129      L8328\n",
            "17   20        2142      L9637\n",
            "18   21        1877      L3014\n",
            "19   22        9683      L7291\n",
            "20   23        2418      L9018\n",
            "21   24        4948      L7291\n",
            "22   25        2418      L9018\n",
            "23   26        8156      L5224\n",
            "24   27        7889      L6119\n",
            "25   29        8156      L5224\n",
            "26   30        2142      L9637\n",
            "27   31        6691      L6267\n",
            "28   33        7253      L1682\n",
            "29   34        3853      L1485\n",
            "30   35        9405      L3259\n",
            "31  101        9220      L4063\n",
            "32  104        5368      L2247\n",
            "33  105        7792      L5756\n",
            "34  107        8411      L6110\n"
          ]
        }
      ]
    },
    {
      "cell_type": "code",
      "source": [
        "print(most_common_values)\n"
      ],
      "metadata": {
        "colab": {
          "base_uri": "https://localhost:8080/"
        },
        "id": "8nE25idDmCcq",
        "outputId": "91a97c41-521f-4d59-a982-2adb6a82ee34"
      },
      "execution_count": null,
      "outputs": [
        {
          "output_type": "stream",
          "name": "stdout",
          "text": [
            "     id  last4ccnum loyaltynum\n",
            "0     1        2142      L9637\n",
            "1     2        9405      L3259\n",
            "2     3        9405      L3259\n",
            "3     4        9405      L3259\n",
            "4     5        9405      L3259\n",
            "5     6        9405      L3259\n",
            "6     7        9405      L3259\n",
            "7     8        2142      L9637\n",
            "8    10        9405      L3259\n",
            "9    12        9405      L3259\n",
            "10   13        9405      L3259\n",
            "11   14        9405      L3259\n",
            "12   15        2142      L9637\n",
            "13   16        9405      L3259\n",
            "14   17        9405      L3259\n",
            "15   18        9405      L3259\n",
            "16   19        2142      L9018\n",
            "17   20        9405      L3259\n",
            "18   21        9405      L3259\n",
            "19   22        9405      L3259\n",
            "20   23        9405      L3259\n",
            "21   24        9405      L3259\n",
            "22   25        9405      L3259\n",
            "23   26        2142      L9637\n",
            "24   27        9405      L3259\n",
            "25   29        2142      L9637\n",
            "26   30        9405      L3259\n",
            "27   31        2142      L9637\n",
            "28   33        9405      L3259\n",
            "29   34        9405      L3259\n",
            "30   35        2142      L9637\n",
            "31  101        9405      L3259\n",
            "32  104        9405      L3259\n",
            "33  105        9405      L3259\n",
            "34  107        2142      L9637\n"
          ]
        }
      ]
    },
    {
      "cell_type": "code",
      "source": [
        "gps.id.unique()"
      ],
      "metadata": {
        "colab": {
          "base_uri": "https://localhost:8080/"
        },
        "id": "njaUfASPmgdN",
        "outputId": "8f6df048-3fc4-4a33-b701-bd2126b084ad"
      },
      "execution_count": null,
      "outputs": [
        {
          "output_type": "execute_result",
          "data": {
            "text/plain": [
              "array([ 35,   4,  19,  10,   7,  11,  32,  34,  17,  12,  18,  20,  16,\n",
              "         6,   3,  26,   1,  29,  21,  14,  33,  13,   2,  27,   8, 101,\n",
              "        24,  23,  25,  30,  15,  28,   5,  22,   9, 107, 104, 105, 106,\n",
              "        31])"
            ]
          },
          "metadata": {},
          "execution_count": 61
        }
      ]
    },
    {
      "cell_type": "code",
      "source": [
        "\n"
      ],
      "metadata": {
        "colab": {
          "base_uri": "https://localhost:8080/"
        },
        "id": "GjZUlZ5PmbkL",
        "outputId": "7648fac1-e0fe-4c0b-958c-82072703776e"
      },
      "execution_count": null,
      "outputs": [
        {
          "output_type": "stream",
          "name": "stdout",
          "text": [
            "     id  last4ccnum loyaltynum\n",
            "0     1        3492      L7814\n",
            "1     2        2142      L9637\n",
            "2     3        1310      L8012\n",
            "3     4        1415      L7783\n",
            "4     5        2463      L6886\n",
            "5     6        3853      L1485\n",
            "6     7        9683      L7291\n",
            "7     8        9405      L3259\n",
            "8    10        9241      L3288\n",
            "9    12        7117      L6417\n",
            "10   13        4795      L8566\n",
            "11   14        8202      L2343\n",
            "12   15        9551      L5777\n",
            "13   16        3484      L2490\n",
            "14   17        2142      L9637\n",
            "15   18        6816      L8148\n",
            "16   19        8129      L8328\n",
            "17   20        2142      L9637\n",
            "18   21        1877      L3014\n",
            "19   22        9683      L7291\n",
            "20   23        2418      L9018\n",
            "21   24        4948      L7291\n",
            "22   25        2418      L9018\n",
            "23   26        8156      L5224\n",
            "24   27        7889      L6119\n",
            "25   29        8156      L5224\n",
            "26   30        2142      L9637\n",
            "27   31        6691      L6267\n",
            "28   33        7253      L1682\n",
            "29   34        3853      L1485\n",
            "30   35        9405      L3259\n",
            "31  101        9220      L4063\n",
            "32  104        5368      L2247\n",
            "33  105        7792      L5756\n",
            "34  107        8411      L6110\n"
          ]
        }
      ]
    },
    {
      "cell_type": "code",
      "source": [
        "ca = pd.read_csv('/content/MC2/MC2/car-assignments.csv')"
      ],
      "metadata": {
        "id": "sxdP-xWOjIBx"
      },
      "execution_count": null,
      "outputs": []
    },
    {
      "cell_type": "code",
      "source": [
        "ca"
      ],
      "metadata": {
        "colab": {
          "base_uri": "https://localhost:8080/",
          "height": 1000
        },
        "id": "RTIumRR7kESs",
        "outputId": "dabf81d6-d382-413a-ada8-11ba0de121a5"
      },
      "execution_count": null,
      "outputs": [
        {
          "output_type": "execute_result",
          "data": {
            "text/plain": [
              "          LastName FirstName  CarID   CurrentEmploymentType  \\\n",
              "0          Calixto      Nils    1.0  Information Technology   \n",
              "1            Azada      Lars    2.0             Engineering   \n",
              "2            Balas     Felix    3.0             Engineering   \n",
              "3         Barranco    Ingrid    4.0               Executive   \n",
              "4             Baza      Isak    5.0  Information Technology   \n",
              "5           Bergen    Linnea    6.0  Information Technology   \n",
              "6           Orilla      Elsa    7.0             Engineering   \n",
              "7          Alcazar     Lucas    8.0  Information Technology   \n",
              "8            Cazar    Gustav    9.0             Engineering   \n",
              "9   Campo-Corrente       Ada   10.0               Executive   \n",
              "10          Calzas      Axel   11.0             Engineering   \n",
              "11        Cocinaro    Hideki   12.0                Security   \n",
              "12           Ferro      Inga   13.0                Security   \n",
              "13           Dedos   Lidelse   14.0             Engineering   \n",
              "14         Bodrogi    Loreto   15.0                Security   \n",
              "15            Vann      Isia   16.0                Security   \n",
              "16          Flecha      Sven   17.0  Information Technology   \n",
              "17          Frente  Birgitta   18.0             Engineering   \n",
              "18          Frente      Vira   19.0             Engineering   \n",
              "19           Fusil    Stenig   20.0                Security   \n",
              "20         Osvaldo    Hennie   21.0                Security   \n",
              "21        Nubarron      Adra   22.0                Security   \n",
              "22           Lagos     Varja   23.0                Security   \n",
              "23            Mies     Minke   24.0                Security   \n",
              "24         Herrero     Kanon   25.0             Engineering   \n",
              "25            Onda     Marin   26.0             Engineering   \n",
              "26          Orilla      Kare   27.0             Engineering   \n",
              "27        Borrasca    Isande   28.0             Engineering   \n",
              "28            Ovan  Bertrand   29.0              Facilities   \n",
              "29         Resumir     Felix   30.0                Security   \n",
              "30    Sanjorge Jr.      Sten   31.0               Executive   \n",
              "31           Strum     Orhan   32.0               Executive   \n",
              "32       Tempestad     Brand   33.0             Engineering   \n",
              "33            Vann    Edvard   34.0                Security   \n",
              "34      Vasco-Pais    Willem   35.0               Executive   \n",
              "35           Hafon    Albina    NaN              Facilities   \n",
              "36         Hawelon    Benito    NaN              Facilities   \n",
              "37         Hawelon   Claudio    NaN              Facilities   \n",
              "38            Mies      Henk    NaN              Facilities   \n",
              "39          Morlun   Valeria    NaN              Facilities   \n",
              "40          Morlun      Adan    NaN              Facilities   \n",
              "41       Morluniau   Cecilia    NaN              Facilities   \n",
              "42            Nant     Irene    NaN              Facilities   \n",
              "43        Scozzese     Dylan    NaN              Facilities   \n",
              "\n",
              "          CurrentEmploymentTitle  \n",
              "0                    IT Helpdesk  \n",
              "1                       Engineer  \n",
              "2                       Engineer  \n",
              "3                        SVP/CFO  \n",
              "4                  IT Technician  \n",
              "5               IT Group Manager  \n",
              "6               Drill Technician  \n",
              "7                  IT Technician  \n",
              "8               Drill Technician  \n",
              "9                        SVP/CIO  \n",
              "10          Hydraulic Technician  \n",
              "11                  Site Control  \n",
              "12                  Site Control  \n",
              "13     Engineering Group Manager  \n",
              "14                  Site Control  \n",
              "15             Perimeter Control  \n",
              "16                 IT Technician  \n",
              "17                     Geologist  \n",
              "18          Hydraulic Technician  \n",
              "19              Building Control  \n",
              "20             Perimeter Control  \n",
              "21                Badging Office  \n",
              "22                Badging Office  \n",
              "23             Perimeter Control  \n",
              "24                     Geologist  \n",
              "25            Drill Site Manager  \n",
              "26              Drill Technician  \n",
              "27              Drill Technician  \n",
              "28      Facilities Group Manager  \n",
              "29        Security Group Manager  \n",
              "30                 President/CEO  \n",
              "31                       SVP/COO  \n",
              "32              Drill Technician  \n",
              "33             Perimeter Control  \n",
              "34  Environmental Safety Advisor  \n",
              "35                  Truck Driver  \n",
              "36                  Truck Driver  \n",
              "37                  Truck Driver  \n",
              "38                  Truck Driver  \n",
              "39                  Truck Driver  \n",
              "40                  Truck Driver  \n",
              "41                  Truck Driver  \n",
              "42                  Truck Driver  \n",
              "43                  Truck Driver  "
            ],
            "text/html": [
              "\n",
              "  <div id=\"df-ac4432cc-0bfa-421e-843c-d000dfa33444\" class=\"colab-df-container\">\n",
              "    <div>\n",
              "<style scoped>\n",
              "    .dataframe tbody tr th:only-of-type {\n",
              "        vertical-align: middle;\n",
              "    }\n",
              "\n",
              "    .dataframe tbody tr th {\n",
              "        vertical-align: top;\n",
              "    }\n",
              "\n",
              "    .dataframe thead th {\n",
              "        text-align: right;\n",
              "    }\n",
              "</style>\n",
              "<table border=\"1\" class=\"dataframe\">\n",
              "  <thead>\n",
              "    <tr style=\"text-align: right;\">\n",
              "      <th></th>\n",
              "      <th>LastName</th>\n",
              "      <th>FirstName</th>\n",
              "      <th>CarID</th>\n",
              "      <th>CurrentEmploymentType</th>\n",
              "      <th>CurrentEmploymentTitle</th>\n",
              "    </tr>\n",
              "  </thead>\n",
              "  <tbody>\n",
              "    <tr>\n",
              "      <th>0</th>\n",
              "      <td>Calixto</td>\n",
              "      <td>Nils</td>\n",
              "      <td>1.0</td>\n",
              "      <td>Information Technology</td>\n",
              "      <td>IT Helpdesk</td>\n",
              "    </tr>\n",
              "    <tr>\n",
              "      <th>1</th>\n",
              "      <td>Azada</td>\n",
              "      <td>Lars</td>\n",
              "      <td>2.0</td>\n",
              "      <td>Engineering</td>\n",
              "      <td>Engineer</td>\n",
              "    </tr>\n",
              "    <tr>\n",
              "      <th>2</th>\n",
              "      <td>Balas</td>\n",
              "      <td>Felix</td>\n",
              "      <td>3.0</td>\n",
              "      <td>Engineering</td>\n",
              "      <td>Engineer</td>\n",
              "    </tr>\n",
              "    <tr>\n",
              "      <th>3</th>\n",
              "      <td>Barranco</td>\n",
              "      <td>Ingrid</td>\n",
              "      <td>4.0</td>\n",
              "      <td>Executive</td>\n",
              "      <td>SVP/CFO</td>\n",
              "    </tr>\n",
              "    <tr>\n",
              "      <th>4</th>\n",
              "      <td>Baza</td>\n",
              "      <td>Isak</td>\n",
              "      <td>5.0</td>\n",
              "      <td>Information Technology</td>\n",
              "      <td>IT Technician</td>\n",
              "    </tr>\n",
              "    <tr>\n",
              "      <th>5</th>\n",
              "      <td>Bergen</td>\n",
              "      <td>Linnea</td>\n",
              "      <td>6.0</td>\n",
              "      <td>Information Technology</td>\n",
              "      <td>IT Group Manager</td>\n",
              "    </tr>\n",
              "    <tr>\n",
              "      <th>6</th>\n",
              "      <td>Orilla</td>\n",
              "      <td>Elsa</td>\n",
              "      <td>7.0</td>\n",
              "      <td>Engineering</td>\n",
              "      <td>Drill Technician</td>\n",
              "    </tr>\n",
              "    <tr>\n",
              "      <th>7</th>\n",
              "      <td>Alcazar</td>\n",
              "      <td>Lucas</td>\n",
              "      <td>8.0</td>\n",
              "      <td>Information Technology</td>\n",
              "      <td>IT Technician</td>\n",
              "    </tr>\n",
              "    <tr>\n",
              "      <th>8</th>\n",
              "      <td>Cazar</td>\n",
              "      <td>Gustav</td>\n",
              "      <td>9.0</td>\n",
              "      <td>Engineering</td>\n",
              "      <td>Drill Technician</td>\n",
              "    </tr>\n",
              "    <tr>\n",
              "      <th>9</th>\n",
              "      <td>Campo-Corrente</td>\n",
              "      <td>Ada</td>\n",
              "      <td>10.0</td>\n",
              "      <td>Executive</td>\n",
              "      <td>SVP/CIO</td>\n",
              "    </tr>\n",
              "    <tr>\n",
              "      <th>10</th>\n",
              "      <td>Calzas</td>\n",
              "      <td>Axel</td>\n",
              "      <td>11.0</td>\n",
              "      <td>Engineering</td>\n",
              "      <td>Hydraulic Technician</td>\n",
              "    </tr>\n",
              "    <tr>\n",
              "      <th>11</th>\n",
              "      <td>Cocinaro</td>\n",
              "      <td>Hideki</td>\n",
              "      <td>12.0</td>\n",
              "      <td>Security</td>\n",
              "      <td>Site Control</td>\n",
              "    </tr>\n",
              "    <tr>\n",
              "      <th>12</th>\n",
              "      <td>Ferro</td>\n",
              "      <td>Inga</td>\n",
              "      <td>13.0</td>\n",
              "      <td>Security</td>\n",
              "      <td>Site Control</td>\n",
              "    </tr>\n",
              "    <tr>\n",
              "      <th>13</th>\n",
              "      <td>Dedos</td>\n",
              "      <td>Lidelse</td>\n",
              "      <td>14.0</td>\n",
              "      <td>Engineering</td>\n",
              "      <td>Engineering Group Manager</td>\n",
              "    </tr>\n",
              "    <tr>\n",
              "      <th>14</th>\n",
              "      <td>Bodrogi</td>\n",
              "      <td>Loreto</td>\n",
              "      <td>15.0</td>\n",
              "      <td>Security</td>\n",
              "      <td>Site Control</td>\n",
              "    </tr>\n",
              "    <tr>\n",
              "      <th>15</th>\n",
              "      <td>Vann</td>\n",
              "      <td>Isia</td>\n",
              "      <td>16.0</td>\n",
              "      <td>Security</td>\n",
              "      <td>Perimeter Control</td>\n",
              "    </tr>\n",
              "    <tr>\n",
              "      <th>16</th>\n",
              "      <td>Flecha</td>\n",
              "      <td>Sven</td>\n",
              "      <td>17.0</td>\n",
              "      <td>Information Technology</td>\n",
              "      <td>IT Technician</td>\n",
              "    </tr>\n",
              "    <tr>\n",
              "      <th>17</th>\n",
              "      <td>Frente</td>\n",
              "      <td>Birgitta</td>\n",
              "      <td>18.0</td>\n",
              "      <td>Engineering</td>\n",
              "      <td>Geologist</td>\n",
              "    </tr>\n",
              "    <tr>\n",
              "      <th>18</th>\n",
              "      <td>Frente</td>\n",
              "      <td>Vira</td>\n",
              "      <td>19.0</td>\n",
              "      <td>Engineering</td>\n",
              "      <td>Hydraulic Technician</td>\n",
              "    </tr>\n",
              "    <tr>\n",
              "      <th>19</th>\n",
              "      <td>Fusil</td>\n",
              "      <td>Stenig</td>\n",
              "      <td>20.0</td>\n",
              "      <td>Security</td>\n",
              "      <td>Building Control</td>\n",
              "    </tr>\n",
              "    <tr>\n",
              "      <th>20</th>\n",
              "      <td>Osvaldo</td>\n",
              "      <td>Hennie</td>\n",
              "      <td>21.0</td>\n",
              "      <td>Security</td>\n",
              "      <td>Perimeter Control</td>\n",
              "    </tr>\n",
              "    <tr>\n",
              "      <th>21</th>\n",
              "      <td>Nubarron</td>\n",
              "      <td>Adra</td>\n",
              "      <td>22.0</td>\n",
              "      <td>Security</td>\n",
              "      <td>Badging Office</td>\n",
              "    </tr>\n",
              "    <tr>\n",
              "      <th>22</th>\n",
              "      <td>Lagos</td>\n",
              "      <td>Varja</td>\n",
              "      <td>23.0</td>\n",
              "      <td>Security</td>\n",
              "      <td>Badging Office</td>\n",
              "    </tr>\n",
              "    <tr>\n",
              "      <th>23</th>\n",
              "      <td>Mies</td>\n",
              "      <td>Minke</td>\n",
              "      <td>24.0</td>\n",
              "      <td>Security</td>\n",
              "      <td>Perimeter Control</td>\n",
              "    </tr>\n",
              "    <tr>\n",
              "      <th>24</th>\n",
              "      <td>Herrero</td>\n",
              "      <td>Kanon</td>\n",
              "      <td>25.0</td>\n",
              "      <td>Engineering</td>\n",
              "      <td>Geologist</td>\n",
              "    </tr>\n",
              "    <tr>\n",
              "      <th>25</th>\n",
              "      <td>Onda</td>\n",
              "      <td>Marin</td>\n",
              "      <td>26.0</td>\n",
              "      <td>Engineering</td>\n",
              "      <td>Drill Site Manager</td>\n",
              "    </tr>\n",
              "    <tr>\n",
              "      <th>26</th>\n",
              "      <td>Orilla</td>\n",
              "      <td>Kare</td>\n",
              "      <td>27.0</td>\n",
              "      <td>Engineering</td>\n",
              "      <td>Drill Technician</td>\n",
              "    </tr>\n",
              "    <tr>\n",
              "      <th>27</th>\n",
              "      <td>Borrasca</td>\n",
              "      <td>Isande</td>\n",
              "      <td>28.0</td>\n",
              "      <td>Engineering</td>\n",
              "      <td>Drill Technician</td>\n",
              "    </tr>\n",
              "    <tr>\n",
              "      <th>28</th>\n",
              "      <td>Ovan</td>\n",
              "      <td>Bertrand</td>\n",
              "      <td>29.0</td>\n",
              "      <td>Facilities</td>\n",
              "      <td>Facilities Group Manager</td>\n",
              "    </tr>\n",
              "    <tr>\n",
              "      <th>29</th>\n",
              "      <td>Resumir</td>\n",
              "      <td>Felix</td>\n",
              "      <td>30.0</td>\n",
              "      <td>Security</td>\n",
              "      <td>Security Group Manager</td>\n",
              "    </tr>\n",
              "    <tr>\n",
              "      <th>30</th>\n",
              "      <td>Sanjorge Jr.</td>\n",
              "      <td>Sten</td>\n",
              "      <td>31.0</td>\n",
              "      <td>Executive</td>\n",
              "      <td>President/CEO</td>\n",
              "    </tr>\n",
              "    <tr>\n",
              "      <th>31</th>\n",
              "      <td>Strum</td>\n",
              "      <td>Orhan</td>\n",
              "      <td>32.0</td>\n",
              "      <td>Executive</td>\n",
              "      <td>SVP/COO</td>\n",
              "    </tr>\n",
              "    <tr>\n",
              "      <th>32</th>\n",
              "      <td>Tempestad</td>\n",
              "      <td>Brand</td>\n",
              "      <td>33.0</td>\n",
              "      <td>Engineering</td>\n",
              "      <td>Drill Technician</td>\n",
              "    </tr>\n",
              "    <tr>\n",
              "      <th>33</th>\n",
              "      <td>Vann</td>\n",
              "      <td>Edvard</td>\n",
              "      <td>34.0</td>\n",
              "      <td>Security</td>\n",
              "      <td>Perimeter Control</td>\n",
              "    </tr>\n",
              "    <tr>\n",
              "      <th>34</th>\n",
              "      <td>Vasco-Pais</td>\n",
              "      <td>Willem</td>\n",
              "      <td>35.0</td>\n",
              "      <td>Executive</td>\n",
              "      <td>Environmental Safety Advisor</td>\n",
              "    </tr>\n",
              "    <tr>\n",
              "      <th>35</th>\n",
              "      <td>Hafon</td>\n",
              "      <td>Albina</td>\n",
              "      <td>NaN</td>\n",
              "      <td>Facilities</td>\n",
              "      <td>Truck Driver</td>\n",
              "    </tr>\n",
              "    <tr>\n",
              "      <th>36</th>\n",
              "      <td>Hawelon</td>\n",
              "      <td>Benito</td>\n",
              "      <td>NaN</td>\n",
              "      <td>Facilities</td>\n",
              "      <td>Truck Driver</td>\n",
              "    </tr>\n",
              "    <tr>\n",
              "      <th>37</th>\n",
              "      <td>Hawelon</td>\n",
              "      <td>Claudio</td>\n",
              "      <td>NaN</td>\n",
              "      <td>Facilities</td>\n",
              "      <td>Truck Driver</td>\n",
              "    </tr>\n",
              "    <tr>\n",
              "      <th>38</th>\n",
              "      <td>Mies</td>\n",
              "      <td>Henk</td>\n",
              "      <td>NaN</td>\n",
              "      <td>Facilities</td>\n",
              "      <td>Truck Driver</td>\n",
              "    </tr>\n",
              "    <tr>\n",
              "      <th>39</th>\n",
              "      <td>Morlun</td>\n",
              "      <td>Valeria</td>\n",
              "      <td>NaN</td>\n",
              "      <td>Facilities</td>\n",
              "      <td>Truck Driver</td>\n",
              "    </tr>\n",
              "    <tr>\n",
              "      <th>40</th>\n",
              "      <td>Morlun</td>\n",
              "      <td>Adan</td>\n",
              "      <td>NaN</td>\n",
              "      <td>Facilities</td>\n",
              "      <td>Truck Driver</td>\n",
              "    </tr>\n",
              "    <tr>\n",
              "      <th>41</th>\n",
              "      <td>Morluniau</td>\n",
              "      <td>Cecilia</td>\n",
              "      <td>NaN</td>\n",
              "      <td>Facilities</td>\n",
              "      <td>Truck Driver</td>\n",
              "    </tr>\n",
              "    <tr>\n",
              "      <th>42</th>\n",
              "      <td>Nant</td>\n",
              "      <td>Irene</td>\n",
              "      <td>NaN</td>\n",
              "      <td>Facilities</td>\n",
              "      <td>Truck Driver</td>\n",
              "    </tr>\n",
              "    <tr>\n",
              "      <th>43</th>\n",
              "      <td>Scozzese</td>\n",
              "      <td>Dylan</td>\n",
              "      <td>NaN</td>\n",
              "      <td>Facilities</td>\n",
              "      <td>Truck Driver</td>\n",
              "    </tr>\n",
              "  </tbody>\n",
              "</table>\n",
              "</div>\n",
              "    <div class=\"colab-df-buttons\">\n",
              "\n",
              "  <div class=\"colab-df-container\">\n",
              "    <button class=\"colab-df-convert\" onclick=\"convertToInteractive('df-ac4432cc-0bfa-421e-843c-d000dfa33444')\"\n",
              "            title=\"Convert this dataframe to an interactive table.\"\n",
              "            style=\"display:none;\">\n",
              "\n",
              "  <svg xmlns=\"http://www.w3.org/2000/svg\" height=\"24px\" viewBox=\"0 -960 960 960\">\n",
              "    <path d=\"M120-120v-720h720v720H120Zm60-500h600v-160H180v160Zm220 220h160v-160H400v160Zm0 220h160v-160H400v160ZM180-400h160v-160H180v160Zm440 0h160v-160H620v160ZM180-180h160v-160H180v160Zm440 0h160v-160H620v160Z\"/>\n",
              "  </svg>\n",
              "    </button>\n",
              "\n",
              "  <style>\n",
              "    .colab-df-container {\n",
              "      display:flex;\n",
              "      gap: 12px;\n",
              "    }\n",
              "\n",
              "    .colab-df-convert {\n",
              "      background-color: #E8F0FE;\n",
              "      border: none;\n",
              "      border-radius: 50%;\n",
              "      cursor: pointer;\n",
              "      display: none;\n",
              "      fill: #1967D2;\n",
              "      height: 32px;\n",
              "      padding: 0 0 0 0;\n",
              "      width: 32px;\n",
              "    }\n",
              "\n",
              "    .colab-df-convert:hover {\n",
              "      background-color: #E2EBFA;\n",
              "      box-shadow: 0px 1px 2px rgba(60, 64, 67, 0.3), 0px 1px 3px 1px rgba(60, 64, 67, 0.15);\n",
              "      fill: #174EA6;\n",
              "    }\n",
              "\n",
              "    .colab-df-buttons div {\n",
              "      margin-bottom: 4px;\n",
              "    }\n",
              "\n",
              "    [theme=dark] .colab-df-convert {\n",
              "      background-color: #3B4455;\n",
              "      fill: #D2E3FC;\n",
              "    }\n",
              "\n",
              "    [theme=dark] .colab-df-convert:hover {\n",
              "      background-color: #434B5C;\n",
              "      box-shadow: 0px 1px 3px 1px rgba(0, 0, 0, 0.15);\n",
              "      filter: drop-shadow(0px 1px 2px rgba(0, 0, 0, 0.3));\n",
              "      fill: #FFFFFF;\n",
              "    }\n",
              "  </style>\n",
              "\n",
              "    <script>\n",
              "      const buttonEl =\n",
              "        document.querySelector('#df-ac4432cc-0bfa-421e-843c-d000dfa33444 button.colab-df-convert');\n",
              "      buttonEl.style.display =\n",
              "        google.colab.kernel.accessAllowed ? 'block' : 'none';\n",
              "\n",
              "      async function convertToInteractive(key) {\n",
              "        const element = document.querySelector('#df-ac4432cc-0bfa-421e-843c-d000dfa33444');\n",
              "        const dataTable =\n",
              "          await google.colab.kernel.invokeFunction('convertToInteractive',\n",
              "                                                    [key], {});\n",
              "        if (!dataTable) return;\n",
              "\n",
              "        const docLinkHtml = 'Like what you see? Visit the ' +\n",
              "          '<a target=\"_blank\" href=https://colab.research.google.com/notebooks/data_table.ipynb>data table notebook</a>'\n",
              "          + ' to learn more about interactive tables.';\n",
              "        element.innerHTML = '';\n",
              "        dataTable['output_type'] = 'display_data';\n",
              "        await google.colab.output.renderOutput(dataTable, element);\n",
              "        const docLink = document.createElement('div');\n",
              "        docLink.innerHTML = docLinkHtml;\n",
              "        element.appendChild(docLink);\n",
              "      }\n",
              "    </script>\n",
              "  </div>\n",
              "\n",
              "\n",
              "<div id=\"df-e06a497b-2d19-4369-8e5d-a01145a4b950\">\n",
              "  <button class=\"colab-df-quickchart\" onclick=\"quickchart('df-e06a497b-2d19-4369-8e5d-a01145a4b950')\"\n",
              "            title=\"Suggest charts.\"\n",
              "            style=\"display:none;\">\n",
              "\n",
              "<svg xmlns=\"http://www.w3.org/2000/svg\" height=\"24px\"viewBox=\"0 0 24 24\"\n",
              "     width=\"24px\">\n",
              "    <g>\n",
              "        <path d=\"M19 3H5c-1.1 0-2 .9-2 2v14c0 1.1.9 2 2 2h14c1.1 0 2-.9 2-2V5c0-1.1-.9-2-2-2zM9 17H7v-7h2v7zm4 0h-2V7h2v10zm4 0h-2v-4h2v4z\"/>\n",
              "    </g>\n",
              "</svg>\n",
              "  </button>\n",
              "\n",
              "<style>\n",
              "  .colab-df-quickchart {\n",
              "      --bg-color: #E8F0FE;\n",
              "      --fill-color: #1967D2;\n",
              "      --hover-bg-color: #E2EBFA;\n",
              "      --hover-fill-color: #174EA6;\n",
              "      --disabled-fill-color: #AAA;\n",
              "      --disabled-bg-color: #DDD;\n",
              "  }\n",
              "\n",
              "  [theme=dark] .colab-df-quickchart {\n",
              "      --bg-color: #3B4455;\n",
              "      --fill-color: #D2E3FC;\n",
              "      --hover-bg-color: #434B5C;\n",
              "      --hover-fill-color: #FFFFFF;\n",
              "      --disabled-bg-color: #3B4455;\n",
              "      --disabled-fill-color: #666;\n",
              "  }\n",
              "\n",
              "  .colab-df-quickchart {\n",
              "    background-color: var(--bg-color);\n",
              "    border: none;\n",
              "    border-radius: 50%;\n",
              "    cursor: pointer;\n",
              "    display: none;\n",
              "    fill: var(--fill-color);\n",
              "    height: 32px;\n",
              "    padding: 0;\n",
              "    width: 32px;\n",
              "  }\n",
              "\n",
              "  .colab-df-quickchart:hover {\n",
              "    background-color: var(--hover-bg-color);\n",
              "    box-shadow: 0 1px 2px rgba(60, 64, 67, 0.3), 0 1px 3px 1px rgba(60, 64, 67, 0.15);\n",
              "    fill: var(--button-hover-fill-color);\n",
              "  }\n",
              "\n",
              "  .colab-df-quickchart-complete:disabled,\n",
              "  .colab-df-quickchart-complete:disabled:hover {\n",
              "    background-color: var(--disabled-bg-color);\n",
              "    fill: var(--disabled-fill-color);\n",
              "    box-shadow: none;\n",
              "  }\n",
              "\n",
              "  .colab-df-spinner {\n",
              "    border: 2px solid var(--fill-color);\n",
              "    border-color: transparent;\n",
              "    border-bottom-color: var(--fill-color);\n",
              "    animation:\n",
              "      spin 1s steps(1) infinite;\n",
              "  }\n",
              "\n",
              "  @keyframes spin {\n",
              "    0% {\n",
              "      border-color: transparent;\n",
              "      border-bottom-color: var(--fill-color);\n",
              "      border-left-color: var(--fill-color);\n",
              "    }\n",
              "    20% {\n",
              "      border-color: transparent;\n",
              "      border-left-color: var(--fill-color);\n",
              "      border-top-color: var(--fill-color);\n",
              "    }\n",
              "    30% {\n",
              "      border-color: transparent;\n",
              "      border-left-color: var(--fill-color);\n",
              "      border-top-color: var(--fill-color);\n",
              "      border-right-color: var(--fill-color);\n",
              "    }\n",
              "    40% {\n",
              "      border-color: transparent;\n",
              "      border-right-color: var(--fill-color);\n",
              "      border-top-color: var(--fill-color);\n",
              "    }\n",
              "    60% {\n",
              "      border-color: transparent;\n",
              "      border-right-color: var(--fill-color);\n",
              "    }\n",
              "    80% {\n",
              "      border-color: transparent;\n",
              "      border-right-color: var(--fill-color);\n",
              "      border-bottom-color: var(--fill-color);\n",
              "    }\n",
              "    90% {\n",
              "      border-color: transparent;\n",
              "      border-bottom-color: var(--fill-color);\n",
              "    }\n",
              "  }\n",
              "</style>\n",
              "\n",
              "  <script>\n",
              "    async function quickchart(key) {\n",
              "      const quickchartButtonEl =\n",
              "        document.querySelector('#' + key + ' button');\n",
              "      quickchartButtonEl.disabled = true;  // To prevent multiple clicks.\n",
              "      quickchartButtonEl.classList.add('colab-df-spinner');\n",
              "      try {\n",
              "        const charts = await google.colab.kernel.invokeFunction(\n",
              "            'suggestCharts', [key], {});\n",
              "      } catch (error) {\n",
              "        console.error('Error during call to suggestCharts:', error);\n",
              "      }\n",
              "      quickchartButtonEl.classList.remove('colab-df-spinner');\n",
              "      quickchartButtonEl.classList.add('colab-df-quickchart-complete');\n",
              "    }\n",
              "    (() => {\n",
              "      let quickchartButtonEl =\n",
              "        document.querySelector('#df-e06a497b-2d19-4369-8e5d-a01145a4b950 button');\n",
              "      quickchartButtonEl.style.display =\n",
              "        google.colab.kernel.accessAllowed ? 'block' : 'none';\n",
              "    })();\n",
              "  </script>\n",
              "</div>\n",
              "    </div>\n",
              "  </div>\n"
            ]
          },
          "metadata": {},
          "execution_count": 55
        }
      ]
    },
    {
      "cell_type": "code",
      "source": [],
      "metadata": {
        "id": "mQI4QS4bkE0k"
      },
      "execution_count": null,
      "outputs": []
    }
  ]
}